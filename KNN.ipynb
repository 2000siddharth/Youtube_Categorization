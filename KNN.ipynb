{
  "nbformat": 4,
  "nbformat_minor": 0,
  "metadata": {
    "colab": {
      "name": "KNN.ipynb",
      "provenance": [],
      "collapsed_sections": [],
      "mount_file_id": "1-TpZV1CTqhuy4z5eQmMSiT9BFAE9i5W2",
      "authorship_tag": "ABX9TyNOzyJ61KiGrcrvXr77n8Ev"
    },
    "kernelspec": {
      "name": "python3",
      "display_name": "Python 3"
    },
    "accelerator": "GPU"
  },
  "cells": [
    {
      "cell_type": "code",
      "metadata": {
        "id": "tg7K-nXKGQ44",
        "colab_type": "code",
        "colab": {}
      },
      "source": [
        "import pandas as pd\n",
        "import numpy as np\n",
        "import matplotlib.pyplot as plt\n",
        "import seaborn as sns\n",
        "%matplotlib inline"
      ],
      "execution_count": 0,
      "outputs": []
    },
    {
      "cell_type": "code",
      "metadata": {
        "id": "cOuEb1qIG1cq",
        "colab_type": "code",
        "outputId": "3534a8fa-9365-47bb-8581-19d14b993ba5",
        "colab": {
          "base_uri": "https://localhost:8080/",
          "height": 70
        }
      },
      "source": [
        "import numpy as np\n",
        "import pandas as pd\n",
        "import seaborn as sn\n",
        "from gensim.models import Word2Vec\n",
        "from gensim.models import KeyedVectors\n",
        "from tqdm import tqdm\n",
        "from sklearn.neighbors import KNeighborsClassifier\n",
        "from sklearn.preprocessing import StandardScaler\n",
        "import sqlite3\n",
        "from sklearn.feature_extraction.text import CountVectorizer\n",
        "from sklearn.feature_extraction.text import TfidfVectorizer\n",
        "from sklearn.externals import joblib\n",
        "from sklearn.metrics import roc_auc_score\n",
        "import matplotlib.pyplot as plt\n",
        "from sklearn.metrics import confusion_matrix\n",
        "from sklearn.metrics import roc_curve, auc\n",
        "from sklearn.metrics import classification_report\n",
        "from prettytable import PrettyTable"
      ],
      "execution_count": 0,
      "outputs": [
        {
          "output_type": "stream",
          "text": [
            "/usr/local/lib/python3.6/dist-packages/sklearn/externals/joblib/__init__.py:15: FutureWarning: sklearn.externals.joblib is deprecated in 0.21 and will be removed in 0.23. Please import this functionality directly from joblib, which can be installed with: pip install joblib. If this warning is raised when loading pickled models, you may need to re-serialize those models with scikit-learn 0.21+.\n",
            "  warnings.warn(msg, category=FutureWarning)\n"
          ],
          "name": "stderr"
        }
      ]
    },
    {
      "cell_type": "code",
      "metadata": {
        "id": "4c_tldkoHUJw",
        "colab_type": "code",
        "colab": {}
      },
      "source": [
        "df = pd.read_csv('combined_youtube4.csv')"
      ],
      "execution_count": 0,
      "outputs": []
    },
    {
      "cell_type": "code",
      "metadata": {
        "id": "k_rUXix_JTyH",
        "colab_type": "code",
        "outputId": "c146dff9-25c7-4156-ba11-816ce63bac69",
        "colab": {
          "base_uri": "https://localhost:8080/",
          "height": 195
        }
      },
      "source": [
        "df.head()"
      ],
      "execution_count": 0,
      "outputs": [
        {
          "output_type": "execute_result",
          "data": {
            "text/html": [
              "<div>\n",
              "<style scoped>\n",
              "    .dataframe tbody tr th:only-of-type {\n",
              "        vertical-align: middle;\n",
              "    }\n",
              "\n",
              "    .dataframe tbody tr th {\n",
              "        vertical-align: top;\n",
              "    }\n",
              "\n",
              "    .dataframe thead th {\n",
              "        text-align: right;\n",
              "    }\n",
              "</style>\n",
              "<table border=\"1\" class=\"dataframe\">\n",
              "  <thead>\n",
              "    <tr style=\"text-align: right;\">\n",
              "      <th></th>\n",
              "      <th>video_id</th>\n",
              "      <th>title</th>\n",
              "      <th>description</th>\n",
              "      <th>category</th>\n",
              "    </tr>\n",
              "  </thead>\n",
              "  <tbody>\n",
              "    <tr>\n",
              "      <th>0</th>\n",
              "      <td>https://www.youtube.com/watch?v=J8XJjkA5NuQ</td>\n",
              "      <td>Dr. A. P. J. Abdul Kalam, Lecture Series, Tech...</td>\n",
              "      <td>Techfest, IIT Bombay presents Dr. A. P. J. Abd...</td>\n",
              "      <td>tutorial</td>\n",
              "    </tr>\n",
              "    <tr>\n",
              "      <th>1</th>\n",
              "      <td>https://www.youtube.com/watch?v=C31hcftHBIk</td>\n",
              "      <td>Lecture Laa Ke | Nachhatar Gill | Full Video S...</td>\n",
              "      <td>Angel Records Presents New Punjabi Song Lectur...</td>\n",
              "      <td>tutorial</td>\n",
              "    </tr>\n",
              "    <tr>\n",
              "      <th>2</th>\n",
              "      <td>https://www.youtube.com/watch?v=Xn7KWR9EOGQ</td>\n",
              "      <td>Basics of Stock Market For Beginners Lecture 1...</td>\n",
              "      <td>You can get my lectures from my new website ht...</td>\n",
              "      <td>tutorial</td>\n",
              "    </tr>\n",
              "    <tr>\n",
              "      <th>3</th>\n",
              "      <td>https://www.youtube.com/watch?v=FPaByTt1Yws</td>\n",
              "      <td>Musique classique pour la lecture de Mozart, C...</td>\n",
              "      <td>Musique classique pour la lecture de Mozart, C...</td>\n",
              "      <td>tutorial</td>\n",
              "    </tr>\n",
              "    <tr>\n",
              "      <th>4</th>\n",
              "      <td>https://www.youtube.com/watch?v=ViyG77Bca4I</td>\n",
              "      <td>2020 PTE - RETELL LECTURE (PART-1) | 27TH JANU...</td>\n",
              "      <td>This practice session covers the PTE: Retell l...</td>\n",
              "      <td>tutorial</td>\n",
              "    </tr>\n",
              "  </tbody>\n",
              "</table>\n",
              "</div>"
            ],
            "text/plain": [
              "                                      video_id  ...  category\n",
              "0  https://www.youtube.com/watch?v=J8XJjkA5NuQ  ...  tutorial\n",
              "1  https://www.youtube.com/watch?v=C31hcftHBIk  ...  tutorial\n",
              "2  https://www.youtube.com/watch?v=Xn7KWR9EOGQ  ...  tutorial\n",
              "3  https://www.youtube.com/watch?v=FPaByTt1Yws  ...  tutorial\n",
              "4  https://www.youtube.com/watch?v=ViyG77Bca4I  ...  tutorial\n",
              "\n",
              "[5 rows x 4 columns]"
            ]
          },
          "metadata": {
            "tags": []
          },
          "execution_count": 3
        }
      ]
    },
    {
      "cell_type": "code",
      "metadata": {
        "id": "iTFLhihDJVjr",
        "colab_type": "code",
        "outputId": "2fa1b872-914e-448f-8f40-b4d1d73a2cbc",
        "colab": {
          "base_uri": "https://localhost:8080/",
          "height": 34
        }
      },
      "source": [
        "df.shape"
      ],
      "execution_count": 0,
      "outputs": [
        {
          "output_type": "execute_result",
          "data": {
            "text/plain": [
              "(10042, 4)"
            ]
          },
          "metadata": {
            "tags": []
          },
          "execution_count": 4
        }
      ]
    },
    {
      "cell_type": "code",
      "metadata": {
        "id": "cIDQ5rXgJYwJ",
        "colab_type": "code",
        "outputId": "ff790312-5281-4590-832d-9cfcf5f833e6",
        "colab": {
          "base_uri": "https://localhost:8080/",
          "height": 202
        }
      },
      "source": [
        "df.category.value_counts()"
      ],
      "execution_count": 0,
      "outputs": [
        {
          "output_type": "execute_result",
          "data": {
            "text/plain": [
              "art         1339\n",
              "music       1132\n",
              "fashion     1032\n",
              "travel      1021\n",
              "vlog         997\n",
              "science      959\n",
              "history      942\n",
              "food         908\n",
              "tutorial     880\n",
              "movies       832\n",
              "Name: category, dtype: int64"
            ]
          },
          "metadata": {
            "tags": []
          },
          "execution_count": 5
        }
      ]
    },
    {
      "cell_type": "code",
      "metadata": {
        "id": "MtCNCaUDJguA",
        "colab_type": "code",
        "colab": {}
      },
      "source": [
        "def cleaner(phrase):\n",
        "    phrase = re.sub(r\"won't\", \"will not\", phrase)\n",
        "    phrase = re.sub(r\"can't\", 'can not', phrase)\n",
        "  \n",
        "  # general\n",
        "    phrase = re.sub(r\"n\\'t\",\" not\", phrase)\n",
        "    phrase = re.sub(r\"\\'re'\",\" are\", phrase)\n",
        "    phrase = re.sub(r\"\\'s\",\" is\", phrase)\n",
        "    phrase = re.sub(r\"\\'ll\",\" will\", phrase)\n",
        "    phrase = re.sub(r\"\\'d\",\" would\", phrase)\n",
        "    phrase = re.sub(r\"\\'t\",\" not\", phrase)\n",
        "    phrase = re.sub(r\"\\'ve\",\" have\", phrase)\n",
        "    phrase = re.sub(r\"\\'m\",\" am\", phrase)\n",
        "    \n",
        "    return phrase"
      ],
      "execution_count": 0,
      "outputs": []
    },
    {
      "cell_type": "code",
      "metadata": {
        "id": "mc5bSb_3JlCz",
        "colab_type": "code",
        "colab": {}
      },
      "source": [
        "from bs4 import BeautifulSoup\n",
        "from tqdm import tqdm\n",
        "import re\n",
        "from nltk.corpus import stopwords"
      ],
      "execution_count": 0,
      "outputs": []
    },
    {
      "cell_type": "code",
      "metadata": {
        "id": "hVMvK0JPJoQG",
        "colab_type": "code",
        "outputId": "559958d9-c371-466d-a714-388420ee335b",
        "colab": {
          "base_uri": "https://localhost:8080/",
          "height": 67
        }
      },
      "source": [
        "import nltk\n",
        "nltk.download('stopwords')"
      ],
      "execution_count": 0,
      "outputs": [
        {
          "output_type": "stream",
          "text": [
            "[nltk_data] Downloading package stopwords to /root/nltk_data...\n",
            "[nltk_data]   Unzipping corpora/stopwords.zip.\n"
          ],
          "name": "stdout"
        },
        {
          "output_type": "execute_result",
          "data": {
            "text/plain": [
              "True"
            ]
          },
          "metadata": {
            "tags": []
          },
          "execution_count": 8
        }
      ]
    },
    {
      "cell_type": "code",
      "metadata": {
        "id": "GwO5I9REJrSm",
        "colab_type": "code",
        "colab": {}
      },
      "source": [
        "from nltk.corpus import stopwords"
      ],
      "execution_count": 0,
      "outputs": []
    },
    {
      "cell_type": "code",
      "metadata": {
        "id": "d73baynNJ98Y",
        "colab_type": "code",
        "outputId": "234516a7-82fb-434f-a6b4-91f666bbc9e2",
        "colab": {
          "base_uri": "https://localhost:8080/",
          "height": 34
        }
      },
      "source": [
        "stop = set(stopwords.words('english'))\n",
        "len(stop)"
      ],
      "execution_count": 0,
      "outputs": [
        {
          "output_type": "execute_result",
          "data": {
            "text/plain": [
              "179"
            ]
          },
          "metadata": {
            "tags": []
          },
          "execution_count": 10
        }
      ]
    },
    {
      "cell_type": "code",
      "metadata": {
        "id": "R2Re8K_qKCfy",
        "colab_type": "code",
        "outputId": "84b907b3-a27c-4161-f6ad-c3a1ebd4b0dd",
        "colab": {
          "base_uri": "https://localhost:8080/",
          "height": 34
        }
      },
      "source": [
        "cleaned_title = []\n",
        "\n",
        "for sentance in tqdm(df['title'].values):\n",
        "    sentance = str(sentance)\n",
        "    sentance = re.sub(r\"http\\S+\", \"\", sentance)\n",
        "    sentance = BeautifulSoup(sentance, 'lxml').get_text()\n",
        "    sentance = cleaner(sentance)\n",
        "    sentance = re.sub(r'[?|!|\\'|\"|#|+]', r'', sentance)\n",
        "    sentance = re.sub(\"\\S*\\d\\S*\", \"\", sentance).strip()\n",
        "    sentance = re.sub('[^A-Za-z]+', ' ', sentance)\n",
        "    sentance = ' '.join(e.lower() for e in sentance.split() if e.lower() not in stop)\n",
        "    cleaned_title.append(sentance.strip())"
      ],
      "execution_count": 0,
      "outputs": [
        {
          "output_type": "stream",
          "text": [
            "100%|██████████| 10042/10042 [00:03<00:00, 3229.73it/s]\n"
          ],
          "name": "stderr"
        }
      ]
    },
    {
      "cell_type": "code",
      "metadata": {
        "id": "mCcgISqqKMWu",
        "colab_type": "code",
        "outputId": "d71cd600-25bc-48d8-96f0-3f23d3b4c28a",
        "colab": {
          "base_uri": "https://localhost:8080/",
          "height": 195
        }
      },
      "source": [
        "df['title'] = cleaned_title\n",
        "df.head()"
      ],
      "execution_count": 0,
      "outputs": [
        {
          "output_type": "execute_result",
          "data": {
            "text/html": [
              "<div>\n",
              "<style scoped>\n",
              "    .dataframe tbody tr th:only-of-type {\n",
              "        vertical-align: middle;\n",
              "    }\n",
              "\n",
              "    .dataframe tbody tr th {\n",
              "        vertical-align: top;\n",
              "    }\n",
              "\n",
              "    .dataframe thead th {\n",
              "        text-align: right;\n",
              "    }\n",
              "</style>\n",
              "<table border=\"1\" class=\"dataframe\">\n",
              "  <thead>\n",
              "    <tr style=\"text-align: right;\">\n",
              "      <th></th>\n",
              "      <th>video_id</th>\n",
              "      <th>title</th>\n",
              "      <th>description</th>\n",
              "      <th>category</th>\n",
              "    </tr>\n",
              "  </thead>\n",
              "  <tbody>\n",
              "    <tr>\n",
              "      <th>0</th>\n",
              "      <td>https://www.youtube.com/watch?v=J8XJjkA5NuQ</td>\n",
              "      <td>dr p j abdul kalam lecture series iit bombay</td>\n",
              "      <td>Techfest, IIT Bombay presents Dr. A. P. J. Abd...</td>\n",
              "      <td>tutorial</td>\n",
              "    </tr>\n",
              "    <tr>\n",
              "      <th>1</th>\n",
              "      <td>https://www.youtube.com/watch?v=C31hcftHBIk</td>\n",
              "      <td>lecture laa ke nachhatar gill full video song ...</td>\n",
              "      <td>Angel Records Presents New Punjabi Song Lectur...</td>\n",
              "      <td>tutorial</td>\n",
              "    </tr>\n",
              "    <tr>\n",
              "      <th>2</th>\n",
              "      <td>https://www.youtube.com/watch?v=Xn7KWR9EOGQ</td>\n",
              "      <td>basics stock market beginners lecture ca racha...</td>\n",
              "      <td>You can get my lectures from my new website ht...</td>\n",
              "      <td>tutorial</td>\n",
              "    </tr>\n",
              "    <tr>\n",
              "      <th>3</th>\n",
              "      <td>https://www.youtube.com/watch?v=FPaByTt1Yws</td>\n",
              "      <td>musique classique pour la lecture de mozart ch...</td>\n",
              "      <td>Musique classique pour la lecture de Mozart, C...</td>\n",
              "      <td>tutorial</td>\n",
              "    </tr>\n",
              "    <tr>\n",
              "      <th>4</th>\n",
              "      <td>https://www.youtube.com/watch?v=ViyG77Bca4I</td>\n",
              "      <td>pte retell lecture january february predicted ...</td>\n",
              "      <td>This practice session covers the PTE: Retell l...</td>\n",
              "      <td>tutorial</td>\n",
              "    </tr>\n",
              "  </tbody>\n",
              "</table>\n",
              "</div>"
            ],
            "text/plain": [
              "                                      video_id  ...  category\n",
              "0  https://www.youtube.com/watch?v=J8XJjkA5NuQ  ...  tutorial\n",
              "1  https://www.youtube.com/watch?v=C31hcftHBIk  ...  tutorial\n",
              "2  https://www.youtube.com/watch?v=Xn7KWR9EOGQ  ...  tutorial\n",
              "3  https://www.youtube.com/watch?v=FPaByTt1Yws  ...  tutorial\n",
              "4  https://www.youtube.com/watch?v=ViyG77Bca4I  ...  tutorial\n",
              "\n",
              "[5 rows x 4 columns]"
            ]
          },
          "metadata": {
            "tags": []
          },
          "execution_count": 12
        }
      ]
    },
    {
      "cell_type": "code",
      "metadata": {
        "id": "5cCLJ9rGKQKK",
        "colab_type": "code",
        "colab": {}
      },
      "source": [
        "from sklearn import metrics, neighbors\n",
        "from sklearn.model_selection import train_test_split, cross_val_score, cross_val_predict"
      ],
      "execution_count": 0,
      "outputs": []
    },
    {
      "cell_type": "code",
      "metadata": {
        "id": "JHmRtOdxKTfW",
        "colab_type": "code",
        "colab": {}
      },
      "source": [
        "from sklearn.preprocessing import LabelEncoder\n",
        "from sklearn.preprocessing import OneHotEncoder\n",
        "from sklearn import preprocessing\n",
        "\n",
        "labels = LabelEncoder()\n",
        "df['categoryid'] = labels.fit_transform(df['category'])\n",
        "\n",
        "X = df['title']\n",
        "y = df['categoryid']"
      ],
      "execution_count": 0,
      "outputs": []
    },
    {
      "cell_type": "code",
      "metadata": {
        "id": "STa63XpZWwbN",
        "colab_type": "code",
        "outputId": "751e213c-a7ff-4f19-c81b-29adcc7e41ef",
        "colab": {
          "base_uri": "https://localhost:8080/",
          "height": 34
        }
      },
      "source": [
        "from sklearn.feature_extraction.text import TfidfVectorizer\n",
        "tfidf = TfidfVectorizer(sublinear_tf=True, min_df=5, norm='l2', encoding='latin-1', ngram_range=(1, 2), stop_words='english')\n",
        "features = tfidf.fit_transform(df.title).toarray()\n",
        "labels = df.categoryid\n",
        "features.shape"
      ],
      "execution_count": 0,
      "outputs": [
        {
          "output_type": "execute_result",
          "data": {
            "text/plain": [
              "(10042, 2994)"
            ]
          },
          "metadata": {
            "tags": []
          },
          "execution_count": 15
        }
      ]
    },
    {
      "cell_type": "code",
      "metadata": {
        "id": "bxWUxfXFvf8x",
        "colab_type": "code",
        "colab": {}
      },
      "source": [
        "from sklearn.model_selection import train_test_split\n",
        "from sklearn.feature_extraction.text import CountVectorizer\n",
        "from sklearn.feature_extraction.text import TfidfTransformer\n",
        "from sklearn.naive_bayes import MultinomialNB\n",
        "\n",
        "\n",
        "X_Train, X_test, y_Train, y_test = train_test_split(df['title'], df['categoryid'], random_state = 0)\n",
        "X_train, X_cross, y_train, y_cross = train_test_split(X_Train, y_Train, random_state = 0)\n"
      ],
      "execution_count": 0,
      "outputs": []
    },
    {
      "cell_type": "code",
      "metadata": {
        "id": "Vw67YLbvwaI0",
        "colab_type": "code",
        "colab": {}
      },
      "source": [
        "count_vect = CountVectorizer()\n",
        "count_vect.fit(X_train)\n",
        "X_train_counts = count_vect.transform(X_train)\n",
        "tfidf_transformer = TfidfTransformer()\n",
        "X_train_tfidf = tfidf_transformer.fit_transform(X_train_counts)"
      ],
      "execution_count": 0,
      "outputs": []
    },
    {
      "cell_type": "code",
      "metadata": {
        "id": "89RxwcCmLfRd",
        "colab_type": "code",
        "colab": {}
      },
      "source": [
        "X_cross_counts = count_vect.transform(X_cross)\n",
        "X_test_counts = count_vect.transform(X_test)"
      ],
      "execution_count": 0,
      "outputs": []
    },
    {
      "cell_type": "code",
      "metadata": {
        "id": "wn5Ox1d5Lg7x",
        "colab_type": "code",
        "colab": {}
      },
      "source": [
        ""
      ],
      "execution_count": 0,
      "outputs": []
    },
    {
      "cell_type": "code",
      "metadata": {
        "id": "U-R96dLqLg-_",
        "colab_type": "code",
        "colab": {}
      },
      "source": [
        "from sklearn.neighbors import KNeighborsClassifier\n",
        "\n",
        "#import metrics model to check the accuracy \n",
        "from sklearn import metrics\n",
        "Mylist=list(range(50))\n",
        "neighbour=list(filter(lambda x: x%2 != 0 , Mylist))\n",
        "Train_AUC_BOW = []\n",
        "CrossVal_AUC_BOW = []\n",
        "\n",
        "for k in neighbour:\n",
        "        knn = KNeighborsClassifier(n_neighbors=k)\n",
        "        knn.fit(X_train_counts, y_train)\n",
        "        y_train_pred=knn.predict_proba(X_train_counts)[0:,]\n",
        "        Train_AUC_BOW.append(roc_auc_score(y_train,y_train_pred, multi_class='ovr'))\n",
        "        CrossVal_y_pred = knn.predict_proba(X_cross_counts)[0:,]\n",
        "        CrossVal_AUC_BOW.append(roc_auc_score(y_cross,CrossVal_y_pred,  multi_class='ovr'))"
      ],
      "execution_count": 0,
      "outputs": []
    },
    {
      "cell_type": "code",
      "metadata": {
        "id": "6qqQV4czLhCH",
        "colab_type": "code",
        "colab": {}
      },
      "source": [
        "from sklearn.metrics import roc_auc_score\n",
        "import matplotlib.pyplot as plt\n",
        "from sklearn.metrics import confusion_matrix\n",
        "from sklearn.metrics import roc_curve, auc\n",
        "from sklearn.metrics import classification_report"
      ],
      "execution_count": 0,
      "outputs": []
    },
    {
      "cell_type": "code",
      "metadata": {
        "id": "gM5MRjwmLhFJ",
        "colab_type": "code",
        "outputId": "70615769-9c3b-4359-cfb2-21fcf523a763",
        "colab": {
          "base_uri": "https://localhost:8080/",
          "height": 295
        }
      },
      "source": [
        "plt.plot(neighbour, CrossVal_AUC_BOW, label='CrossVal AUC')\n",
        "plt.plot(neighbour, Train_AUC_BOW, label='Train AUC')\n",
        "plt.legend()\n",
        "plt.xlabel(\"K: hyperparameter\")\n",
        "plt.ylabel(\"AUC\")\n",
        "plt.title(\"ERROR PLOTS\")\n",
        "plt.show()"
      ],
      "execution_count": 0,
      "outputs": [
        {
          "output_type": "display_data",
          "data": {
            "image/png": "[encoded data removed]",
            "text/plain": [
              "<Figure size 432x288 with 1 Axes>"
            ]
          },
          "metadata": {
            "tags": []
          }
        }
      ]
    },
    {
      "cell_type": "code",
      "metadata": {
        "id": "l0h3rcWWLg2j",
        "colab_type": "code",
        "outputId": "45d413ba-4899-42de-8bff-cd60901f7144",
        "colab": {
          "base_uri": "https://localhost:8080/",
          "height": 34
        }
      },
      "source": [
        "optimal_k=neighbour[CrossVal_AUC_BOW.index(max(CrossVal_AUC_BOW))]\n",
        "print(optimal_k)"
      ],
      "execution_count": 0,
      "outputs": [
        {
          "output_type": "stream",
          "text": [
            "43\n"
          ],
          "name": "stdout"
        }
      ]
    },
    {
      "cell_type": "code",
      "metadata": {
        "id": "Y2fOXXlPLgvO",
        "colab_type": "code",
        "outputId": "75344c19-b13e-4e29-c271-425dc36166d1",
        "colab": {
          "base_uri": "https://localhost:8080/",
          "height": 67
        }
      },
      "source": [
        "Classifier=KNeighborsClassifier(n_neighbors=optimal_k)\n",
        "Classifier.fit(X_train_counts, y_train)"
      ],
      "execution_count": 0,
      "outputs": [
        {
          "output_type": "execute_result",
          "data": {
            "text/plain": [
              "KNeighborsClassifier(algorithm='auto', leaf_size=30, metric='minkowski',\n",
              "                     metric_params=None, n_jobs=None, n_neighbors=43, p=2,\n",
              "                     weights='uniform')"
            ]
          },
          "metadata": {
            "tags": []
          },
          "execution_count": 26
        }
      ]
    },
    {
      "cell_type": "code",
      "metadata": {
        "id": "-kxU0v-xc5Hu",
        "colab_type": "code",
        "outputId": "1314d5f4-1bd3-4eaa-82ef-d9f9b0d1c946",
        "colab": {
          "base_uri": "https://localhost:8080/",
          "height": 202
        }
      },
      "source": [
        "print('Confusion Matrix of Train Data')\n",
        "Train_mat=confusion_matrix(y_train,Classifier.predict(X_train_counts))\n",
        "print (Train_mat)"
      ],
      "execution_count": 0,
      "outputs": [
        {
          "output_type": "stream",
          "text": [
            "Confusion Matrix of Train Data\n",
            "[[577   3   6  32  18   2   7   0  18  86]\n",
            " [  2 317   0  18   0   0   1   0 196  24]\n",
            " [  3   2 437  17   3   0   3   0   3  43]\n",
            " [  1   1   0 544   5   3   1   0   0   6]\n",
            " [  0   1   0  16 404   0   1   3   3  20]\n",
            " [  1   0   0  18  26 518   2   0   1  71]\n",
            " [  6   1   0  20   6   0 491   0   1  23]\n",
            " [  0   5   9  18   0   0   0 485   0  62]\n",
            " [  5  27   0  19   4   3   1   0 387  38]\n",
            " [  0   1   1  11  13   0   0   2   0 545]]\n"
          ],
          "name": "stdout"
        }
      ]
    },
    {
      "cell_type": "code",
      "metadata": {
        "id": "Us7umdLCuidi",
        "colab_type": "code",
        "outputId": "82432f82-6319-4ce0-d0e8-5a07e71efc07",
        "colab": {
          "base_uri": "https://localhost:8080/",
          "height": 302
        }
      },
      "source": [
        "from sklearn import metrics\n",
        "print(metrics.classification_report(y_train,Classifier.predict(X_train_counts), target_names=df['category'].unique()))"
      ],
      "execution_count": 0,
      "outputs": [
        {
          "output_type": "stream",
          "text": [
            "              precision    recall  f1-score   support\n",
            "\n",
            "    tutorial       0.97      0.77      0.86       749\n",
            "     science       0.89      0.57      0.69       558\n",
            "        vlog       0.96      0.86      0.91       511\n",
            "        food       0.76      0.97      0.85       561\n",
            "     fashion       0.84      0.90      0.87       448\n",
            "      travel       0.98      0.81      0.89       637\n",
            "       music       0.97      0.90      0.93       548\n",
            "      movies       0.99      0.84      0.91       579\n",
            "     history       0.64      0.80      0.71       484\n",
            "         art       0.59      0.95      0.73       573\n",
            "\n",
            "    accuracy                           0.83      5648\n",
            "   macro avg       0.86      0.84      0.84      5648\n",
            "weighted avg       0.87      0.83      0.84      5648\n",
            "\n"
          ],
          "name": "stdout"
        }
      ]
    },
    {
      "cell_type": "code",
      "metadata": {
        "id": "IZYqViITc91D",
        "colab_type": "code",
        "outputId": "e694f040-44a2-4f00-eacc-28b1986f5f31",
        "colab": {
          "base_uri": "https://localhost:8080/",
          "height": 202
        }
      },
      "source": [
        "print('Confusion Matrix of Test Data')\n",
        "Test_mat=confusion_matrix(y_test,Classifier.predict(X_test_counts))\n",
        "print (Test_mat)"
      ],
      "execution_count": 0,
      "outputs": [
        {
          "output_type": "stream",
          "text": [
            "Confusion Matrix of Test Data\n",
            "[[264   2   1  25  15   1   1   0  12  36]\n",
            " [  1 142   1   7   1   3   1   0 110   7]\n",
            " [  2   0 188  10   1   0   0   0   3  19]\n",
            " [  0   0   2 195   7   0   0   1   2   1]\n",
            " [  2   0   0   3 200   0   1   1   0   5]\n",
            " [  1   2   0  13  17 221   1   0   0  23]\n",
            " [  2   0   0  11   3   0 194   0   0   9]\n",
            " [  0   2   5   9   1   0   0 208   0  32]\n",
            " [  1   9   0  12   0   1   1   1 192  15]\n",
            " [  0   0   2  12   6   0   1   1   1 229]]\n"
          ],
          "name": "stdout"
        }
      ]
    },
    {
      "cell_type": "code",
      "metadata": {
        "id": "PAFQpgPuubm8",
        "colab_type": "code",
        "outputId": "53db011d-7ae1-43ac-b218-140c059dd116",
        "colab": {
          "base_uri": "https://localhost:8080/",
          "height": 302
        }
      },
      "source": [
        "from sklearn import metrics\n",
        "print(metrics.classification_report(y_test,Classifier.predict(X_test_counts), target_names=df['category'].unique()))"
      ],
      "execution_count": 0,
      "outputs": [
        {
          "output_type": "stream",
          "text": [
            "              precision    recall  f1-score   support\n",
            "\n",
            "    tutorial       0.97      0.74      0.84       357\n",
            "     science       0.90      0.52      0.66       273\n",
            "        vlog       0.94      0.84      0.89       223\n",
            "        food       0.66      0.94      0.77       208\n",
            "     fashion       0.80      0.94      0.86       212\n",
            "      travel       0.98      0.79      0.88       278\n",
            "       music       0.97      0.89      0.93       219\n",
            "      movies       0.98      0.81      0.89       257\n",
            "     history       0.60      0.83      0.70       232\n",
            "         art       0.61      0.91      0.73       252\n",
            "\n",
            "    accuracy                           0.81      2511\n",
            "   macro avg       0.84      0.82      0.81      2511\n",
            "weighted avg       0.85      0.81      0.81      2511\n",
            "\n"
          ],
          "name": "stdout"
        }
      ]
    },
    {
      "cell_type": "code",
      "metadata": {
        "id": "hifMuSAhurTX",
        "colab_type": "code",
        "outputId": "b16de56b-f2a0-4059-8b8e-5d8a06db382d",
        "colab": {
          "base_uri": "https://localhost:8080/",
          "height": 609
        }
      },
      "source": [
        "plt.figure(figsize=(10,10))\n",
        "sns.heatmap(Test_mat, annot=True, cbar=False, fmt='g',cmap='Blues', xticklabels=ticks, yticklabels=ticks)"
      ],
      "execution_count": 0,
      "outputs": [
        {
          "output_type": "execute_result",
          "data": {
            "text/plain": [
              "<matplotlib.axes._subplots.AxesSubplot at 0x7fb77456f080>"
            ]
          },
          "metadata": {
            "tags": []
          },
          "execution_count": 32
        },
        {
          "output_type": "display_data",
          "data": {
            "image/png": "[encoded data removed]",
            "text/plain": [
              "<Figure size 720x720 with 1 Axes>"
            ]
          },
          "metadata": {
            "tags": []
          }
        }
      ]
    },
    {
      "cell_type": "code",
      "metadata": {
        "id": "jlRB84SVuy9l",
        "colab_type": "code",
        "colab": {}
      },
      "source": [
        "ticks = df['category'].unique()"
      ],
      "execution_count": 0,
      "outputs": []
    },
    {
      "cell_type": "code",
      "metadata": {
        "id": "kWCd7-2Qu2zq",
        "colab_type": "code",
        "colab": {}
      },
      "source": [
        "recall = np.diag(Test_mat) / np.sum(Test_mat, axis = 1)\n",
        "precision = np.diag(Test_mat) / np.sum(Test_mat, axis = 0)"
      ],
      "execution_count": 0,
      "outputs": []
    },
    {
      "cell_type": "code",
      "metadata": {
        "id": "OT5Dl__hu-5W",
        "colab_type": "code",
        "colab": {}
      },
      "source": [
        "from sklearn.metrics import precision_recall_curve"
      ],
      "execution_count": 0,
      "outputs": []
    },
    {
      "cell_type": "code",
      "metadata": {
        "id": "IMaI265JP7n2",
        "colab_type": "code",
        "colab": {}
      },
      "source": [
        ""
      ],
      "execution_count": 0,
      "outputs": []
    },
    {
      "cell_type": "code",
      "metadata": {
        "id": "mKDzLwRnvBM6",
        "colab_type": "code",
        "colab": {}
      },
      "source": [
        "plt.figure(figsize=(10,10))\n",
        "plt.plot(c,precision, label='precision')\n",
        "plt.scatter(c,precision)\n",
        "plt.plot(c,recall, label='recall')\n",
        "plt.scatter(c,recall)\n",
        "plt.plot(c,2*(precision * recall) / (precision + recall) , label='F1 score')\n",
        "plt.scatter(c,2*(precision * recall) / (precision + recall))\n",
        "plt.legend()\n",
        "plt.xlabel(\"Categories \")\n",
        "plt.ylabel(\"Scores\")\n",
        "plt.title(\"PLOTS\")\n",
        "\n",
        "plt.show()"
      ],
      "execution_count": 0,
      "outputs": []
    },
    {
      "cell_type": "code",
      "metadata": {
        "id": "NOAelIAaWgZW",
        "colab_type": "code",
        "colab": {}
      },
      "source": [
        ""
      ],
      "execution_count": 0,
      "outputs": []
    },
    {
      "cell_type": "markdown",
      "metadata": {
        "id": "LxNZInxWWhTC",
        "colab_type": "text"
      },
      "source": [
        "Weighted KNN \n",
        "implementation on same dataset"
      ]
    },
    {
      "cell_type": "code",
      "metadata": {
        "id": "0hUS0TbEWgVN",
        "colab_type": "code",
        "colab": {}
      },
      "source": [
        "from sklearn.neighbors import KNeighborsClassifier\n",
        "\n",
        "#import metrics model to check the accuracy \n",
        "from sklearn import metrics\n",
        "Mylist=list(range(50))\n",
        "neighbour=list(filter(lambda x: x%2 != 0 , Mylist))\n",
        "Train_AUC_BOW = []\n",
        "CrossVal_AUC_BOW = []\n",
        "\n",
        "for k in neighbour:\n",
        "        knn = KNeighborsClassifier(n_neighbors=k,  weights='distance')\n",
        "        knn.fit(X_train_counts, y_train)\n",
        "        y_train_pred=knn.predict_proba(X_train_counts)[0:,]\n",
        "        Train_AUC_BOW.append(roc_auc_score(y_train,y_train_pred, multi_class='ovr'))\n",
        "        CrossVal_y_pred = knn.predict_proba(X_cross_counts)[0:,]\n",
        "        CrossVal_AUC_BOW.append(roc_auc_score(y_cross,CrossVal_y_pred,  multi_class='ovr'))"
      ],
      "execution_count": 0,
      "outputs": []
    },
    {
      "cell_type": "code",
      "metadata": {
        "id": "2CNl9ZhGWgTr",
        "colab_type": "code",
        "outputId": "72dc40e1-7d1d-4930-9d75-b8b4e96a9def",
        "colab": {
          "base_uri": "https://localhost:8080/",
          "height": 295
        }
      },
      "source": [
        "plt.plot(neighbour, CrossVal_AUC_BOW, label='CrossVal AUC')\n",
        "plt.plot(neighbour, Train_AUC_BOW, label='Train AUC')\n",
        "plt.legend()\n",
        "plt.xlabel(\"K: hyperparameter\")\n",
        "plt.ylabel(\"AUC\")\n",
        "plt.title(\"ERROR PLOTS\")\n",
        "plt.show()"
      ],
      "execution_count": 0,
      "outputs": [
        {
          "output_type": "display_data",
          "data": {
            "image/png": "[encoded data removed]",
            "text/plain": [
              "<Figure size 432x288 with 1 Axes>"
            ]
          },
          "metadata": {
            "tags": []
          }
        }
      ]
    },
    {
      "cell_type": "code",
      "metadata": {
        "id": "uqtF_DmiWgRz",
        "colab_type": "code",
        "outputId": "169351ea-a61d-4ab1-d6bf-a8067e947d2b",
        "colab": {
          "base_uri": "https://localhost:8080/",
          "height": 34
        }
      },
      "source": [
        "optimal_k=neighbour[CrossVal_AUC_BOW.index(max(CrossVal_AUC_BOW))]\n",
        "print(optimal_k)"
      ],
      "execution_count": 0,
      "outputs": [
        {
          "output_type": "stream",
          "text": [
            "37\n"
          ],
          "name": "stdout"
        }
      ]
    },
    {
      "cell_type": "code",
      "metadata": {
        "id": "R7iUrf7QWgMX",
        "colab_type": "code",
        "outputId": "d21edd7c-d96f-46d5-b025-d91c61db56a0",
        "colab": {
          "base_uri": "https://localhost:8080/",
          "height": 67
        }
      },
      "source": [
        "Classifier=KNeighborsClassifier(n_neighbors=optimal_k)\n",
        "Classifier.fit(X_train_counts, y_train)"
      ],
      "execution_count": 0,
      "outputs": [
        {
          "output_type": "execute_result",
          "data": {
            "text/plain": [
              "KNeighborsClassifier(algorithm='auto', leaf_size=30, metric='minkowski',\n",
              "                     metric_params=None, n_jobs=None, n_neighbors=37, p=2,\n",
              "                     weights='uniform')"
            ]
          },
          "metadata": {
            "tags": []
          },
          "execution_count": 40
        }
      ]
    },
    {
      "cell_type": "code",
      "metadata": {
        "id": "RrOJuNpWWgKz",
        "colab_type": "code",
        "outputId": "3e66d934-3184-4734-a2cc-3ab4cf6d6a34",
        "colab": {
          "base_uri": "https://localhost:8080/",
          "height": 202
        }
      },
      "source": [
        "print('Confusion Matrix of Train Data')\n",
        "Train_mat=confusion_matrix(y_train,Classifier.predict(X_train_counts))\n",
        "print (Train_mat)"
      ],
      "execution_count": 0,
      "outputs": [
        {
          "output_type": "stream",
          "text": [
            "Confusion Matrix of Train Data\n",
            "[[582   5   6  26  18   2   8   0  17  85]\n",
            " [  3 331   0  16   0   0   1   0 190  17]\n",
            " [  3   2 443  12   2   0   3   0   4  42]\n",
            " [  1   1   0 543   6   3   1   0   0   6]\n",
            " [  0   2   0  12 411   0   0   1   1  21]\n",
            " [  0   1   0  15  25 527   0   0   0  69]\n",
            " [  6   1   0  17   5   0 493   0   1  25]\n",
            " [  0   5  10  11   0   0   0 485   0  68]\n",
            " [  3  30   0  19   4   3   1   0 389  35]\n",
            " [  0   1   1  11  10   0   0   1   0 549]]\n"
          ],
          "name": "stdout"
        }
      ]
    },
    {
      "cell_type": "code",
      "metadata": {
        "id": "W7WXAeV5WgGP",
        "colab_type": "code",
        "outputId": "cd121597-1330-478e-88ef-0f27b6de1f25",
        "colab": {
          "base_uri": "https://localhost:8080/",
          "height": 302
        }
      },
      "source": [
        "from sklearn import metrics\n",
        "print(metrics.classification_report(y_train,Classifier.predict(X_train_counts), target_names=df['category'].unique()))"
      ],
      "execution_count": 0,
      "outputs": [
        {
          "output_type": "stream",
          "text": [
            "              precision    recall  f1-score   support\n",
            "\n",
            "    tutorial       0.97      0.78      0.86       749\n",
            "     science       0.87      0.59      0.71       558\n",
            "        vlog       0.96      0.87      0.91       511\n",
            "        food       0.80      0.97      0.87       561\n",
            "     fashion       0.85      0.92      0.88       448\n",
            "      travel       0.99      0.83      0.90       637\n",
            "       music       0.97      0.90      0.93       548\n",
            "      movies       1.00      0.84      0.91       579\n",
            "     history       0.65      0.80      0.72       484\n",
            "         art       0.60      0.96      0.74       573\n",
            "\n",
            "    accuracy                           0.84      5648\n",
            "   macro avg       0.87      0.84      0.84      5648\n",
            "weighted avg       0.87      0.84      0.85      5648\n",
            "\n"
          ],
          "name": "stdout"
        }
      ]
    },
    {
      "cell_type": "code",
      "metadata": {
        "id": "lx6qfy4DWgEE",
        "colab_type": "code",
        "outputId": "2ac99f2e-3348-412f-8e7b-a46571b2ded5",
        "colab": {
          "base_uri": "https://localhost:8080/",
          "height": 202
        }
      },
      "source": [
        "print('Confusion Matrix of Test Data')\n",
        "Test_mat=confusion_matrix(y_test,Classifier.predict(X_test_counts))\n",
        "print (Test_mat)"
      ],
      "execution_count": 0,
      "outputs": [
        {
          "output_type": "stream",
          "text": [
            "Confusion Matrix of Test Data\n",
            "[[264   1   1  19  14   1   2   0   9  46]\n",
            " [  1 136   0   8   1   3   1   0 115   8]\n",
            " [  1   1 192   8   0   0   0   0   3  18]\n",
            " [  0   1   2 194   7   0   0   1   0   3]\n",
            " [  1   0   0   3 200   0   0   1   0   7]\n",
            " [  0   0   0   5  17 220   1   0   0  35]\n",
            " [  0   1   0   9   3   0 195   0   0  11]\n",
            " [  0   2   5   7   1   0   0 206   0  36]\n",
            " [  1  12   0  10   0   1   1   1 189  17]\n",
            " [  0   1   3  11   4   0   1   0   1 231]]\n"
          ],
          "name": "stdout"
        }
      ]
    },
    {
      "cell_type": "code",
      "metadata": {
        "id": "nBnQCbEKWf_3",
        "colab_type": "code",
        "outputId": "f9430fe4-ef4d-4f6c-f1d4-0d5e05854b09",
        "colab": {
          "base_uri": "https://localhost:8080/",
          "height": 302
        }
      },
      "source": [
        "from sklearn import metrics\n",
        "print(metrics.classification_report(y_test,Classifier.predict(X_test_counts), target_names=df['category'].unique()))"
      ],
      "execution_count": 0,
      "outputs": [
        {
          "output_type": "stream",
          "text": [
            "              precision    recall  f1-score   support\n",
            "\n",
            "    tutorial       0.99      0.74      0.84       357\n",
            "     science       0.88      0.50      0.64       273\n",
            "        vlog       0.95      0.86      0.90       223\n",
            "        food       0.71      0.93      0.80       208\n",
            "     fashion       0.81      0.94      0.87       212\n",
            "      travel       0.98      0.79      0.87       278\n",
            "       music       0.97      0.89      0.93       219\n",
            "      movies       0.99      0.80      0.88       257\n",
            "     history       0.60      0.81      0.69       232\n",
            "         art       0.56      0.92      0.70       252\n",
            "\n",
            "    accuracy                           0.81      2511\n",
            "   macro avg       0.84      0.82      0.81      2511\n",
            "weighted avg       0.85      0.81      0.81      2511\n",
            "\n"
          ],
          "name": "stdout"
        }
      ]
    },
    {
      "cell_type": "code",
      "metadata": {
        "id": "clpGW-MbWf80",
        "colab_type": "code",
        "outputId": "00d890ab-c42a-4e6e-d94d-cd2e6f227a0c",
        "colab": {
          "base_uri": "https://localhost:8080/",
          "height": 609
        }
      },
      "source": [
        "plt.figure(figsize=(10,10))\n",
        "sns.heatmap(Test_mat, annot=True, cbar=False, fmt='g',cmap='Blues', xticklabels=ticks, yticklabels=ticks)"
      ],
      "execution_count": 0,
      "outputs": [
        {
          "output_type": "execute_result",
          "data": {
            "text/plain": [
              "<matplotlib.axes._subplots.AxesSubplot at 0x7fb773788c50>"
            ]
          },
          "metadata": {
            "tags": []
          },
          "execution_count": 45
        },
        {
          "output_type": "display_data",
          "data": {
            "image/png": "[encoded data removed]",
            "text/plain": [
              "<Figure size 720x720 with 1 Axes>"
            ]
          },
          "metadata": {
            "tags": []
          }
        }
      ]
    },
    {
      "cell_type": "code",
      "metadata": {
        "id": "7kFNgIC-Wf5z",
        "colab_type": "code",
        "outputId": "c428a134-9f4b-43a0-cdb9-8b3b374a5224",
        "colab": {
          "base_uri": "https://localhost:8080/",
          "height": 609
        }
      },
      "source": [
        "plt.figure(figsize=(10,10))\n",
        "sns.heatmap(Train_mat, annot=True, cbar=False, fmt='g',cmap='Blues', xticklabels=ticks, yticklabels=ticks)"
      ],
      "execution_count": 0,
      "outputs": [
        {
          "output_type": "execute_result",
          "data": {
            "text/plain": [
              "<matplotlib.axes._subplots.AxesSubplot at 0x7fb77376e550>"
            ]
          },
          "metadata": {
            "tags": []
          },
          "execution_count": 46
        },
        {
          "output_type": "display_data",
          "data": {
            "image/png": "[encoded data removed]",
            "text/plain": [
              "<Figure size 720x720 with 1 Axes>"
            ]
          },
          "metadata": {
            "tags": []
          }
        }
      ]
    },
    {
      "cell_type": "code",
      "metadata": {
        "id": "dDLZrja2WfzY",
        "colab_type": "code",
        "colab": {}
      },
      "source": [
        ""
      ],
      "execution_count": 0,
      "outputs": []
    },
    {
      "cell_type": "markdown",
      "metadata": {
        "id": "CMfuNwh8dNTZ",
        "colab_type": "text"
      },
      "source": [
        "***KD-Tree implementation of KNN***"
      ]
    },
    {
      "cell_type": "code",
      "metadata": {
        "id": "Uu2KHhGTdbtQ",
        "colab_type": "code",
        "colab": {}
      },
      "source": [
        "X_train_counts_arr=X_train_counts.toarray()\n",
        "X_cross_counts_arr=X_cross_counts.toarray()\n",
        "X_test_counts_arr=X_test_counts.toarray()"
      ],
      "execution_count": 0,
      "outputs": []
    },
    {
      "cell_type": "code",
      "metadata": {
        "id": "4Sva1Nm-dbv7",
        "colab_type": "code",
        "outputId": "1523e52f-03f1-4e50-fe87-29fa0cc41724",
        "colab": {
          "base_uri": "https://localhost:8080/",
          "height": 34
        }
      },
      "source": [
        "standardized_vec = StandardScaler(with_mean=False)\n",
        "standardized_vec.fit(X_train_counts_arr)"
      ],
      "execution_count": 0,
      "outputs": [
        {
          "output_type": "execute_result",
          "data": {
            "text/plain": [
              "StandardScaler(copy=True, with_mean=False, with_std=True)"
            ]
          },
          "metadata": {
            "tags": []
          },
          "execution_count": 20
        }
      ]
    },
    {
      "cell_type": "code",
      "metadata": {
        "id": "zVc6tBxkdbpE",
        "colab_type": "code",
        "colab": {}
      },
      "source": [
        "X_train_counts_std=standardized_vec.transform(X_train_counts_arr)\n",
        "X_cross_counts_std=standardized_vec.transform(X_cross_counts_arr)\n",
        "X_test_counts_std=standardized_vec.transform(X_test_counts_arr)"
      ],
      "execution_count": 0,
      "outputs": []
    },
    {
      "cell_type": "code",
      "metadata": {
        "id": "uD0VmVTqdbgh",
        "colab_type": "code",
        "colab": {}
      },
      "source": [
        "Mylist=list(range(30, 50))\n",
        "neighbour=list(filter(lambda x: x%2 != 0 , Mylist))\n",
        "Train_AUC_BOW = []\n",
        "CrossVal_AUC_BOW = []\n",
        "for i in neighbour:\n",
        "  neigh = KNeighborsClassifier(n_neighbors=i,algorithm='kd_tree')\n",
        "  neigh.fit(X_train_counts_std, y_train)\n",
        "  print(i)\n",
        "  Train_y_pred =  neigh.predict_proba(X_train_counts_std)[0:,]\n",
        "  Train_AUC_BOW.append(roc_auc_score(y_train, Train_y_pred, multi_class='ovr'))\n",
        "  print(i)\n",
        "  CrossVal_y_pred =  neigh.predict_proba(X_cross_counts_std)[0:,]\n",
        "  CrossVal_AUC_BOW.append(roc_auc_score(y_cross, CrossVal_y_pred, multi_class='ovr'))"
      ],
      "execution_count": 0,
      "outputs": []
    },
    {
      "cell_type": "code",
      "metadata": {
        "id": "0c77qdbTdbfJ",
        "colab_type": "code",
        "outputId": "9b5f19ec-2e19-4a8c-8266-d20c495ade02",
        "colab": {
          "base_uri": "https://localhost:8080/",
          "height": 295
        }
      },
      "source": [
        "plt.plot(neighbour, CrossVal_AUC_BOW, label='CrossVal AUC')\n",
        "plt.plot(neighbour, Train_AUC_BOW, label='Train AUC')\n",
        "plt.legend()\n",
        "plt.xlabel(\"K: hyperparameter\")\n",
        "plt.ylabel(\"AUC\")\n",
        "plt.title(\"ERROR PLOTS\")\n",
        "plt.show()"
      ],
      "execution_count": 0,
      "outputs": [
        {
          "output_type": "display_data",
          "data": {
            "image/png": "[encoded data removed]",
            "text/plain": [
              "<Figure size 432x288 with 1 Axes>"
            ]
          },
          "metadata": {
            "tags": []
          }
        }
      ]
    },
    {
      "cell_type": "code",
      "metadata": {
        "id": "ofech29mdbcj",
        "colab_type": "code",
        "outputId": "6df4c8d3-8a3f-4a67-b926-b7bd6f1fffbe",
        "colab": {
          "base_uri": "https://localhost:8080/",
          "height": 34
        }
      },
      "source": [
        "optimal_k=neighbour[CrossVal_AUC_BOW.index(max(CrossVal_AUC_BOW))]\n",
        "print(optimal_k)"
      ],
      "execution_count": 0,
      "outputs": [
        {
          "output_type": "stream",
          "text": [
            "47\n"
          ],
          "name": "stdout"
        }
      ]
    },
    {
      "cell_type": "code",
      "metadata": {
        "id": "jnHmY4ZZdbWi",
        "colab_type": "code",
        "outputId": "568c38ed-a329-42f0-f4a5-587eea76fedb",
        "colab": {
          "base_uri": "https://localhost:8080/",
          "height": 67
        }
      },
      "source": [
        "Classifier=KNeighborsClassifier(n_neighbors=optimal_k, algorithm='kd_tree')\n",
        "Classifier.fit(X_train_counts_std, y_train)"
      ],
      "execution_count": 0,
      "outputs": [
        {
          "output_type": "execute_result",
          "data": {
            "text/plain": [
              "KNeighborsClassifier(algorithm='kd_tree', leaf_size=30, metric='minkowski',\n",
              "                     metric_params=None, n_jobs=None, n_neighbors=47, p=2,\n",
              "                     weights='uniform')"
            ]
          },
          "metadata": {
            "tags": []
          },
          "execution_count": 41
        }
      ]
    },
    {
      "cell_type": "code",
      "metadata": {
        "id": "42n6hUFMdbVG",
        "colab_type": "code",
        "outputId": "5cfa019c-1aad-424d-edc5-4a1313da4c64",
        "colab": {
          "base_uri": "https://localhost:8080/",
          "height": 202
        }
      },
      "source": [
        "print('Confusion Matrix of Train Data')\n",
        "Train_mat=confusion_matrix(y_train,Classifier.predict(X_train_counts_std))\n",
        "print (Train_mat)"
      ],
      "execution_count": 0,
      "outputs": [
        {
          "output_type": "stream",
          "text": [
            "Confusion Matrix of Train Data\n",
            "[[  1   0   3   0   6   0  47   0   0 692]\n",
            " [  0  24   1   0   1   0   4   0   0 528]\n",
            " [  0   0 275   0   1   0   4   0   0 231]\n",
            " [  0   0   2  12   2   0   2   0   0 543]\n",
            " [  0   0   0   0 112   0   1   0   0 335]\n",
            " [  0   0   0   0   3   0   0   0   0 634]\n",
            " [  0   0   2   0   1   0 469   0   0  76]\n",
            " [  0   0  16   0   0   0   5   4   0 554]\n",
            " [  1   0   1   0   0   0   6   0   0 476]\n",
            " [  0   0   3   0   0   0   2   0   0 568]]\n"
          ],
          "name": "stdout"
        }
      ]
    },
    {
      "cell_type": "code",
      "metadata": {
        "id": "dIAH2lQBdaGF",
        "colab_type": "code",
        "colab": {}
      },
      "source": [
        "y_pred = Classifier.predict_proba(X_test_counts_std)[0:,]\n",
        "def multiclass_roc_auc_score(y_test, y_pred, average=\"macro\"):\n",
        "  lb = LabelBinarizer()\n",
        "  lb.fit(y_test)\n",
        "  y_test = lb.transform(y_test)\n",
        "  y_pred = lb.transform(y_pred)\n",
        "  return roc_auc_score(y_test, y_pred, average=average)"
      ],
      "execution_count": 0,
      "outputs": []
    },
    {
      "cell_type": "code",
      "metadata": {
        "id": "rj_2Gr0zjaFF",
        "colab_type": "code",
        "colab": {}
      },
      "source": [
        "from sklearn.preprocessing import LabelBinarizer\n",
        "multiclass_roc_auc_score(y_test,y_pred)"
      ],
      "execution_count": 0,
      "outputs": []
    },
    {
      "cell_type": "code",
      "metadata": {
        "id": "GVJcUkqvlZgb",
        "colab_type": "code",
        "colab": {}
      },
      "source": [
        "train_mat = confusion_matrix(y_test, y_pred)\n",
        "plt.figure(figsize=(10,10))\n",
        "sns.heatmap(train_mat, annot=True, cbar=False, fmt='g',cmap='Blues', xticklabels=ticks, yticklabels=ticks)"
      ],
      "execution_count": 0,
      "outputs": []
    },
    {
      "cell_type": "code",
      "metadata": {
        "id": "veU1dMjUlw2i",
        "colab_type": "code",
        "colab": {}
      },
      "source": [
        ""
      ],
      "execution_count": 0,
      "outputs": []
    }
  ]
}