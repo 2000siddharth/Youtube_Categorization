{
  "nbformat": 4,
  "nbformat_minor": 0,
  "metadata": {
    "colab": {
      "name": "naivebayes.ipynb",
      "provenance": [],
      "collapsed_sections": [],
      "authorship_tag": "ABX9TyMC9qMWRMUhJg42kHk/P0jN",
      "include_colab_link": true
    },
    "kernelspec": {
      "name": "python3",
      "display_name": "Python 3"
    },
    "accelerator": "GPU"
  },
  "cells": [
    {
      "cell_type": "markdown",
      "metadata": {
        "id": "view-in-github",
        "colab_type": "text"
      },
      "source": [
        "<a href=\"https://colab.research.google.com/github/2000siddharth/web_scraping_classification/blob/master/naivebayes.ipynb\" target=\"_parent\"><img src=\"https://colab.research.google.com/assets/colab-badge.svg\" alt=\"Open In Colab\"/></a>"
      ]
    },
    {
      "cell_type": "markdown",
      "metadata": {
        "id": "SiI38t-AjB6z",
        "colab_type": "text"
      },
      "source": [
        "**OBJECTIVE :**\n",
        "\n",
        "**Classifying videos (based on description) in following 10** categories  \n",
        "\n",
        "\n",
        "\n",
        "*   Travel Blogs\n",
        "*   Science and Technology\n",
        "*   Movies\n",
        "*   Food\n",
        "*   Arts\n",
        "*   Tutorial\n",
        "*   History\n",
        "*   Music\n",
        "*   Fashion\n",
        "*   Vlog\n",
        "\n",
        "Here we use the **Naive Bayes** Approach for classification."
      ]
    },
    {
      "cell_type": "markdown",
      "metadata": {
        "id": "Pt889tOuk4fo",
        "colab_type": "text"
      },
      "source": [
        "Importing all necessary libraries"
      ]
    },
    {
      "cell_type": "code",
      "metadata": {
        "id": "-s9i9DV-HLbv",
        "colab_type": "code",
        "outputId": "e57b178c-972d-4e18-f9a0-070a34b4bc68",
        "colab": {
          "base_uri": "https://localhost:8080/",
          "height": 70
        }
      },
      "source": [
        "import pandas as pd\n",
        "import numpy as np\n",
        "import matplotlib.pyplot as plt\n",
        "import seaborn as sns\n",
        "%matplotlib inline"
      ],
      "execution_count": 2,
      "outputs": [
        {
          "output_type": "stream",
          "text": [
            "/usr/local/lib/python3.6/dist-packages/statsmodels/tools/_testing.py:19: FutureWarning: pandas.util.testing is deprecated. Use the functions in the public API at pandas.testing instead.\n",
            "  import pandas.util.testing as tm\n"
          ],
          "name": "stderr"
        }
      ]
    },
    {
      "cell_type": "code",
      "metadata": {
        "id": "N9EmRSh_HSb_",
        "colab_type": "code",
        "outputId": "9786d4e4-6bb2-4d19-dc02-d72eb5000532",
        "colab": {
          "base_uri": "https://localhost:8080/",
          "height": 70
        }
      },
      "source": [
        "from gensim.models import Word2Vec\n",
        "from gensim.models import KeyedVectors\n",
        "from tqdm import tqdm\n",
        "from sklearn.neighbors import KNeighborsClassifier\n",
        "from sklearn.preprocessing import StandardScaler\n",
        "import sqlite3\n",
        "from sklearn.feature_extraction.text import CountVectorizer\n",
        "from sklearn.feature_extraction.text import TfidfVectorizer\n",
        "from sklearn.externals import joblib\n",
        "from sklearn.metrics import roc_auc_score\n",
        "import matplotlib.pyplot as plt\n",
        "from sklearn.metrics import confusion_matrix\n",
        "from sklearn.metrics import roc_curve, auc\n",
        "from sklearn.metrics import classification_report\n",
        "from prettytable import PrettyTable"
      ],
      "execution_count": 3,
      "outputs": [
        {
          "output_type": "stream",
          "text": [
            "/usr/local/lib/python3.6/dist-packages/sklearn/externals/joblib/__init__.py:15: FutureWarning: sklearn.externals.joblib is deprecated in 0.21 and will be removed in 0.23. Please import this functionality directly from joblib, which can be installed with: pip install joblib. If this warning is raised when loading pickled models, you may need to re-serialize those models with scikit-learn 0.21+.\n",
            "  warnings.warn(msg, category=FutureWarning)\n"
          ],
          "name": "stderr"
        }
      ]
    },
    {
      "cell_type": "code",
      "metadata": {
        "id": "DEDCxqu_HSfd",
        "colab_type": "code",
        "colab": {}
      },
      "source": [
        "from sklearn.naive_bayes import MultinomialNB\n",
        "from scipy.sparse import hstack"
      ],
      "execution_count": 0,
      "outputs": []
    },
    {
      "cell_type": "code",
      "metadata": {
        "id": "UD61_mluHSiY",
        "colab_type": "code",
        "colab": {}
      },
      "source": [
        "df = pd.read_csv('combined_youtube4.csv')"
      ],
      "execution_count": 0,
      "outputs": []
    },
    {
      "cell_type": "markdown",
      "metadata": {
        "id": "KdHaOYMzlKOx",
        "colab_type": "text"
      },
      "source": [
        "**Data Preprocessing**"
      ]
    },
    {
      "cell_type": "code",
      "metadata": {
        "id": "Ffsm6mLSHSlj",
        "colab_type": "code",
        "colab": {}
      },
      "source": [
        "def cleaner(phrase):\n",
        "    phrase = re.sub(r\"won't\", \"will not\", phrase)\n",
        "    phrase = re.sub(r\"can't\", 'can not', phrase)\n",
        "  \n",
        "  # general\n",
        "    phrase = re.sub(r\"n\\'t\",\" not\", phrase)\n",
        "    phrase = re.sub(r\"\\'re'\",\" are\", phrase)\n",
        "    phrase = re.sub(r\"\\'s\",\" is\", phrase)\n",
        "    phrase = re.sub(r\"\\'ll\",\" will\", phrase)\n",
        "    phrase = re.sub(r\"\\'d\",\" would\", phrase)\n",
        "    phrase = re.sub(r\"\\'t\",\" not\", phrase)\n",
        "    phrase = re.sub(r\"\\'ve\",\" have\", phrase)\n",
        "    phrase = re.sub(r\"\\'m\",\" am\", phrase)\n",
        "    \n",
        "    return phrase"
      ],
      "execution_count": 0,
      "outputs": []
    },
    {
      "cell_type": "code",
      "metadata": {
        "id": "2gHkWt0THSop",
        "colab_type": "code",
        "outputId": "a961c1fa-f7f5-4a2c-c7a1-450f896c4b1c",
        "colab": {
          "base_uri": "https://localhost:8080/",
          "height": 50
        }
      },
      "source": [
        "from bs4 import BeautifulSoup\n",
        "from tqdm import tqdm\n",
        "import re\n",
        "\n",
        "import nltk\n",
        "nltk.download('stopwords')\n",
        "\n",
        "from nltk.corpus import stopwords"
      ],
      "execution_count": 7,
      "outputs": [
        {
          "output_type": "stream",
          "text": [
            "[nltk_data] Downloading package stopwords to /root/nltk_data...\n",
            "[nltk_data]   Unzipping corpora/stopwords.zip.\n"
          ],
          "name": "stdout"
        }
      ]
    },
    {
      "cell_type": "code",
      "metadata": {
        "id": "DhSelDxCIO1M",
        "colab_type": "code",
        "outputId": "aae25d02-e83e-4d44-d935-51dfcebfbb88",
        "colab": {
          "base_uri": "https://localhost:8080/",
          "height": 34
        }
      },
      "source": [
        "stop = set(stopwords.words('english'))\n",
        "len(stop)"
      ],
      "execution_count": 8,
      "outputs": [
        {
          "output_type": "execute_result",
          "data": {
            "text/plain": [
              "179"
            ]
          },
          "metadata": {
            "tags": []
          },
          "execution_count": 8
        }
      ]
    },
    {
      "cell_type": "code",
      "metadata": {
        "id": "mNx7tp3lHSsT",
        "colab_type": "code",
        "outputId": "68cb05b9-cb78-4e53-bae8-60aebd716151",
        "colab": {
          "base_uri": "https://localhost:8080/",
          "height": 34
        }
      },
      "source": [
        "cleaned_title = []\n",
        "\n",
        "for sentance in tqdm(df['title'].values):\n",
        "    sentance = str(sentance)\n",
        "    sentance = re.sub(r\"http\\S+\", \"\", sentance)\n",
        "    sentance = BeautifulSoup(sentance, 'lxml').get_text()\n",
        "    sentance = cleaner(sentance)\n",
        "    sentance = re.sub(r'[?|!|\\'|\"|#|+]', r'', sentance)\n",
        "    sentance = re.sub(\"\\S*\\d\\S*\", \"\", sentance).strip()\n",
        "    sentance = re.sub('[^A-Za-z]+', ' ', sentance)\n",
        "    sentance = ' '.join(e.lower() for e in sentance.split() if e.lower() not in stop)\n",
        "    cleaned_title.append(sentance.strip())"
      ],
      "execution_count": 9,
      "outputs": [
        {
          "output_type": "stream",
          "text": [
            "100%|██████████| 10275/10275 [00:03<00:00, 3312.74it/s]\n"
          ],
          "name": "stderr"
        }
      ]
    },
    {
      "cell_type": "code",
      "metadata": {
        "id": "SIbeuUvVHSve",
        "colab_type": "code",
        "outputId": "b71fed5f-4802-4362-f31a-8c95edde499f",
        "colab": {
          "base_uri": "https://localhost:8080/",
          "height": 87
        }
      },
      "source": [
        "cleaned_description = []\n",
        "\n",
        "for sentance in tqdm(df['description'].values):\n",
        "    sentance = str(sentance)\n",
        "    sentance = re.sub(r\"http\\S+\", \"\", sentance)\n",
        "    sentance = BeautifulSoup(sentance, 'lxml').get_text()\n",
        "    sentance = cleaner(sentance)\n",
        "    sentance = re.sub(r'[?|!|\\'|\"|#|+]', r'', sentance)\n",
        "    sentance = re.sub(\"\\S*\\d\\S*\", \"\", sentance).strip()\n",
        "    sentance = re.sub('[^A-Za-z]+', ' ', sentance)\n",
        "    sentance = ' '.join(e.lower() for e in sentance.split() if e.lower() not in stop)\n",
        "    cleaned_description.append(sentance.strip())"
      ],
      "execution_count": 10,
      "outputs": [
        {
          "output_type": "stream",
          "text": [
            " 31%|███       | 3192/10275 [00:01<00:02, 3195.34it/s]/usr/local/lib/python3.6/dist-packages/bs4/__init__.py:273: UserWarning: \"b'.'\" looks like a filename, not markup. You should probably open this file and pass the filehandle into Beautiful Soup.\n",
            "  ' Beautiful Soup.' % markup)\n",
            "100%|██████████| 10275/10275 [00:03<00:00, 3129.90it/s]\n"
          ],
          "name": "stderr"
        }
      ]
    },
    {
      "cell_type": "code",
      "metadata": {
        "id": "krUf6ClXHSyz",
        "colab_type": "code",
        "outputId": "10507797-a0c5-4ecc-afd3-246c07c24ac0",
        "colab": {
          "base_uri": "https://localhost:8080/",
          "height": 195
        }
      },
      "source": [
        "df['title'] = cleaned_title\n",
        "\n",
        "df['description'] = cleaned_description\n",
        "df.head()"
      ],
      "execution_count": 11,
      "outputs": [
        {
          "output_type": "execute_result",
          "data": {
            "text/html": [
              "<div>\n",
              "<style scoped>\n",
              "    .dataframe tbody tr th:only-of-type {\n",
              "        vertical-align: middle;\n",
              "    }\n",
              "\n",
              "    .dataframe tbody tr th {\n",
              "        vertical-align: top;\n",
              "    }\n",
              "\n",
              "    .dataframe thead th {\n",
              "        text-align: right;\n",
              "    }\n",
              "</style>\n",
              "<table border=\"1\" class=\"dataframe\">\n",
              "  <thead>\n",
              "    <tr style=\"text-align: right;\">\n",
              "      <th></th>\n",
              "      <th>video_id</th>\n",
              "      <th>title</th>\n",
              "      <th>description</th>\n",
              "      <th>category</th>\n",
              "    </tr>\n",
              "  </thead>\n",
              "  <tbody>\n",
              "    <tr>\n",
              "      <th>0</th>\n",
              "      <td>https://www.youtube.com/watch?v=J8XJjkA5NuQ</td>\n",
              "      <td>dr p j abdul kalam lecture series iit bombay</td>\n",
              "      <td>techfest iit bombay presents dr p j abdul kala...</td>\n",
              "      <td>tutorial</td>\n",
              "    </tr>\n",
              "    <tr>\n",
              "      <th>1</th>\n",
              "      <td>https://www.youtube.com/watch?v=C31hcftHBIk</td>\n",
              "      <td>lecture laa ke nachhatar gill full video song ...</td>\n",
              "      <td>angel records presents new punjabi song lectur...</td>\n",
              "      <td>tutorial</td>\n",
              "    </tr>\n",
              "    <tr>\n",
              "      <th>2</th>\n",
              "      <td>https://www.youtube.com/watch?v=Xn7KWR9EOGQ</td>\n",
              "      <td>basics stock market beginners lecture ca racha...</td>\n",
              "      <td>get lectures new website opportunity learn con...</td>\n",
              "      <td>tutorial</td>\n",
              "    </tr>\n",
              "    <tr>\n",
              "      <th>3</th>\n",
              "      <td>https://www.youtube.com/watch?v=FPaByTt1Yws</td>\n",
              "      <td>musique classique pour la lecture de mozart ch...</td>\n",
              "      <td>musique classique pour la lecture de mozart ch...</td>\n",
              "      <td>tutorial</td>\n",
              "    </tr>\n",
              "    <tr>\n",
              "      <th>4</th>\n",
              "      <td>https://www.youtube.com/watch?v=ViyG77Bca4I</td>\n",
              "      <td>pte retell lecture january february predicted ...</td>\n",
              "      <td>practice session covers pte retell lecture rea...</td>\n",
              "      <td>tutorial</td>\n",
              "    </tr>\n",
              "  </tbody>\n",
              "</table>\n",
              "</div>"
            ],
            "text/plain": [
              "                                      video_id  ...  category\n",
              "0  https://www.youtube.com/watch?v=J8XJjkA5NuQ  ...  tutorial\n",
              "1  https://www.youtube.com/watch?v=C31hcftHBIk  ...  tutorial\n",
              "2  https://www.youtube.com/watch?v=Xn7KWR9EOGQ  ...  tutorial\n",
              "3  https://www.youtube.com/watch?v=FPaByTt1Yws  ...  tutorial\n",
              "4  https://www.youtube.com/watch?v=ViyG77Bca4I  ...  tutorial\n",
              "\n",
              "[5 rows x 4 columns]"
            ]
          },
          "metadata": {
            "tags": []
          },
          "execution_count": 11
        }
      ]
    },
    {
      "cell_type": "markdown",
      "metadata": {
        "id": "vwO9vWnmlgpN",
        "colab_type": "text"
      },
      "source": [
        "Here we **Label Encode the category values.**\n",
        "\n",
        "First we shall use the **title** for prediction"
      ]
    },
    {
      "cell_type": "code",
      "metadata": {
        "id": "-Cz3BNFPHS1r",
        "colab_type": "code",
        "colab": {}
      },
      "source": [
        "from sklearn.preprocessing import LabelEncoder\n",
        "from sklearn.preprocessing import OneHotEncoder\n",
        "from sklearn import preprocessing\n",
        "\n",
        "labels = LabelEncoder()\n",
        "df['categoryid'] = labels.fit_transform(df['category'])\n",
        "\n",
        "X = df['title']\n",
        "y = df['categoryid']"
      ],
      "execution_count": 0,
      "outputs": []
    },
    {
      "cell_type": "markdown",
      "metadata": {
        "id": "187x3dmcl3Ml",
        "colab_type": "text"
      },
      "source": [
        "Using Stratified Shuffle Split to ensure equal representation of classes in train and test sets"
      ]
    },
    {
      "cell_type": "code",
      "metadata": {
        "id": "WicdcrDAHS5C",
        "colab_type": "code",
        "colab": {}
      },
      "source": [
        "from sklearn.model_selection import StratifiedShuffleSplit"
      ],
      "execution_count": 0,
      "outputs": []
    },
    {
      "cell_type": "code",
      "metadata": {
        "id": "p7aT5VfEHS8b",
        "colab_type": "code",
        "outputId": "30a48543-2ed8-4ab7-9ccb-d353e514cd12",
        "colab": {
          "base_uri": "https://localhost:8080/",
          "height": 34
        }
      },
      "source": [
        "sss = StratifiedShuffleSplit(n_splits=10, test_size=0.2, random_state=0)\n",
        "sss.get_n_splits(X, y)"
      ],
      "execution_count": 14,
      "outputs": [
        {
          "output_type": "execute_result",
          "data": {
            "text/plain": [
              "10"
            ]
          },
          "metadata": {
            "tags": []
          },
          "execution_count": 14
        }
      ]
    },
    {
      "cell_type": "code",
      "metadata": {
        "id": "_8VXPvASHS_V",
        "colab_type": "code",
        "colab": {}
      },
      "source": [
        "for train_index, test_index in sss.split(X, y):\n",
        "#    print(\"TRAIN:\", train_index, \"TEST:\", test_index)\n",
        "    X_Train, X_test = X[train_index], X[test_index]\n",
        "    y_Train, y_test = y[train_index], y[test_index]  "
      ],
      "execution_count": 0,
      "outputs": []
    },
    {
      "cell_type": "code",
      "metadata": {
        "id": "cvtuKUHyHTFt",
        "colab_type": "code",
        "colab": {}
      },
      "source": [
        "from sklearn.model_selection import train_test_split\n",
        "X_train, X_cross, y_train, y_cross = train_test_split(X_Train, y_Train, random_state=0, stratify=y_Train, test_size=0.1)"
      ],
      "execution_count": 0,
      "outputs": []
    },
    {
      "cell_type": "code",
      "metadata": {
        "id": "gU1F1OP1HTIm",
        "colab_type": "code",
        "colab": {}
      },
      "source": [
        "from sklearn.model_selection import train_test_split\n",
        "from sklearn.feature_extraction.text import CountVectorizer\n",
        "from sklearn.feature_extraction.text import TfidfTransformer\n",
        "from sklearn.naive_bayes import MultinomialNB"
      ],
      "execution_count": 0,
      "outputs": []
    },
    {
      "cell_type": "markdown",
      "metadata": {
        "id": "L6hljImAmEl3",
        "colab_type": "text"
      },
      "source": [
        "**Using the Count vectorizer**"
      ]
    },
    {
      "cell_type": "code",
      "metadata": {
        "id": "WU5Mw967HTLu",
        "colab_type": "code",
        "colab": {}
      },
      "source": [
        "count_vect = CountVectorizer()\n",
        "count_vect.fit(X_train)\n",
        "X_train_counts = count_vect.transform(X_train)\n",
        "X_cross_counts = count_vect.transform(X_cross)\n",
        "X_test_counts = count_vect.transform(X_test)"
      ],
      "execution_count": 0,
      "outputs": []
    },
    {
      "cell_type": "code",
      "metadata": {
        "id": "TL15x5bJHTO6",
        "colab_type": "code",
        "colab": {}
      },
      "source": [
        ""
      ],
      "execution_count": 0,
      "outputs": []
    },
    {
      "cell_type": "markdown",
      "metadata": {
        "id": "WzR8m4kWLOWO",
        "colab_type": "text"
      },
      "source": [
        "**Naive Bayes using BOW**"
      ]
    },
    {
      "cell_type": "markdown",
      "metadata": {
        "id": "TLUweDc9mNIO",
        "colab_type": "text"
      },
      "source": [
        "**Hyperparameter Tuning (alpha)**"
      ]
    },
    {
      "cell_type": "code",
      "metadata": {
        "id": "q5xjJbmUzkcY",
        "colab_type": "code",
        "colab": {}
      },
      "source": [
        "alpha_set=[0.00001,0.0001,0.001,0.01,0.1,1,10,100,1000,10000]\n",
        "Train_AUC_BOW = []\n",
        "CrossVal_AUC_BOW = []\n",
        "for i in alpha_set:\n",
        "  naive_b=MultinomialNB(alpha=i)\n",
        "  naive_b.fit(X_train_counts, y_train)\n",
        "  Train_y_pred =  naive_b.predict_proba(X_train_counts)[0:,]\n",
        "  Train_AUC_BOW.append(roc_auc_score(y_train,Train_y_pred, multi_class='ovr'))\n",
        "  CrossVal_y_pred =  naive_b.predict_proba(X_cross_counts)[0:,]\n",
        "  CrossVal_AUC_BOW.append(roc_auc_score(y_cross,CrossVal_y_pred, multi_class='ovr'))"
      ],
      "execution_count": 0,
      "outputs": []
    },
    {
      "cell_type": "code",
      "metadata": {
        "id": "nloSXX7PHTVN",
        "colab_type": "code",
        "colab": {}
      },
      "source": [
        "from numpy import math\n",
        "Alpha_set=[]\n",
        "for i in range(len(alpha_set)):\n",
        "  Alpha_set.append(math.log(alpha_set[i]))"
      ],
      "execution_count": 0,
      "outputs": []
    },
    {
      "cell_type": "code",
      "metadata": {
        "id": "3oGmaWuaHTYf",
        "colab_type": "code",
        "outputId": "32d6cd88-b6b0-4b35-ad04-af44bdb35c54",
        "colab": {
          "base_uri": "https://localhost:8080/",
          "height": 295
        }
      },
      "source": [
        "plt.plot(Alpha_set, Train_AUC_BOW, label='Train AUC')\n",
        "plt.scatter(Alpha_set, Train_AUC_BOW)\n",
        "plt.plot(Alpha_set, CrossVal_AUC_BOW, label='CrossVal AUC')\n",
        "plt.scatter(Alpha_set, CrossVal_AUC_BOW)\n",
        "plt.legend()\n",
        "plt.xlabel(\"alpha : hyperparameter\")\n",
        "plt.ylabel(\"AUC\")\n",
        "plt.title(\"ERROR PLOTS\")\n",
        "plt.show()"
      ],
      "execution_count": 0,
      "outputs": [
        {
          "output_type": "display_data",
          "data": {
            "image/png": "[encoded data removed]",
            "text/plain": [
              "<Figure size 432x288 with 1 Axes>"
            ]
          },
          "metadata": {
            "tags": []
          }
        }
      ]
    },
    {
      "cell_type": "code",
      "metadata": {
        "id": "rTmk1s_EHTbI",
        "colab_type": "code",
        "outputId": "85de2edc-dda5-4524-b3e1-71aeeebf0feb",
        "colab": {
          "base_uri": "https://localhost:8080/",
          "height": 34
        }
      },
      "source": [
        "optimal_alpha=alpha_set[CrossVal_AUC_BOW.index(max(CrossVal_AUC_BOW))]\n",
        "print(optimal_alpha)"
      ],
      "execution_count": 0,
      "outputs": [
        {
          "output_type": "stream",
          "text": [
            "10\n"
          ],
          "name": "stdout"
        }
      ]
    },
    {
      "cell_type": "code",
      "metadata": {
        "id": "wqzv6c6oHTeT",
        "colab_type": "code",
        "outputId": "992e7db9-6ad0-421c-9f6b-4c514f36b93e",
        "colab": {
          "base_uri": "https://localhost:8080/",
          "height": 34
        }
      },
      "source": [
        "Classifier1=MultinomialNB(alpha=optimal_alpha)\n",
        "Classifier1.fit(X_train_counts, y_train)"
      ],
      "execution_count": 0,
      "outputs": [
        {
          "output_type": "execute_result",
          "data": {
            "text/plain": [
              "MultinomialNB(alpha=10, class_prior=None, fit_prior=True)"
            ]
          },
          "metadata": {
            "tags": []
          },
          "execution_count": 28
        }
      ]
    },
    {
      "cell_type": "code",
      "metadata": {
        "id": "XggiXUETHThX",
        "colab_type": "code",
        "outputId": "85d7fe3a-47c7-407c-d548-75d866f67fb8",
        "colab": {
          "base_uri": "https://localhost:8080/",
          "height": 50
        }
      },
      "source": [
        "auc_train_bow = roc_auc_score(y_train,Classifier1.predict_proba(X_train_counts)[0:,], multi_class='ovr')\n",
        "print (\"AUC for Train set\", auc_train_bow)\n",
        "\n",
        "auc_test_bow = roc_auc_score(y_test,Classifier1.predict_proba(X_test_counts)[0:,], multi_class='ovr')\n",
        "print (\"AUC for Test set\",auc_test_bow)"
      ],
      "execution_count": 0,
      "outputs": [
        {
          "output_type": "stream",
          "text": [
            "AUC for Train set 0.9918285852858425\n",
            "AUC for Test set 0.9865310385955693\n"
          ],
          "name": "stdout"
        }
      ]
    },
    {
      "cell_type": "markdown",
      "metadata": {
        "id": "Uakq0jzLmjlA",
        "colab_type": "text"
      },
      "source": [
        "**Confusion Matrix**"
      ]
    },
    {
      "cell_type": "code",
      "metadata": {
        "id": "g6gv0FzVHTkP",
        "colab_type": "code",
        "outputId": "79c7d488-8c59-4cc7-a24b-3c765ea8aa30",
        "colab": {
          "base_uri": "https://localhost:8080/",
          "height": 202
        }
      },
      "source": [
        "print('Confusion Matrix of Train Data')\n",
        "Train_mat=confusion_matrix(y_train,Classifier1.predict(X_train_counts))\n",
        "print (Train_mat)"
      ],
      "execution_count": 0,
      "outputs": [
        {
          "output_type": "stream",
          "text": [
            "Confusion Matrix of Train Data\n",
            "[[675   1   5   2  33  10   9   2  10   7]\n",
            " [  4 565   2   3   1   2   5   2 158   2]\n",
            " [  1   1 722   0   4   1   1   4   2  12]\n",
            " [  3   2   3 640  13   6   1   5   4   2]\n",
            " [  1   0   1   1 736   3   2   4   0   0]\n",
            " [  1   2   2   2  12 759   1   1   1   2]\n",
            " [  7   2   0   1  10   4 658   0   5   3]\n",
            " [  0   0   8   2   0   0   0 717   1   7]\n",
            " [  8  71   3   3   7  11   8   6 672  10]\n",
            " [  0   1   8   1  20   3   1  14   7 663]]\n"
          ],
          "name": "stdout"
        }
      ]
    },
    {
      "cell_type": "code",
      "metadata": {
        "id": "JKjCxj1xHTnl",
        "colab_type": "code",
        "outputId": "dfbc4e7a-b149-4539-8f1c-4dd8dee9484c",
        "colab": {
          "base_uri": "https://localhost:8080/",
          "height": 202
        }
      },
      "source": [
        "print('Confusion Matrix of Test Data')\n",
        "Test_mat=confusion_matrix(y_test,Classifier1.predict(X_test_counts))\n",
        "print (Test_mat)"
      ],
      "execution_count": 0,
      "outputs": [
        {
          "output_type": "stream",
          "text": [
            "Confusion Matrix of Test Data\n",
            "[[171   3   3   6   9   3   2   5   1   7]\n",
            " [  1 115   0   1   2   2   2   1  79   3]\n",
            " [  0   0 198   0   3   2   0   2   1   2]\n",
            " [  0   3   1 173   6   2   0   2   1   0]\n",
            " [  1   0   0   0 204   1   0   2   0   0]\n",
            " [  0   0   2   2   4 203   1   2   1   3]\n",
            " [  4   0   1   1   2   0 184   0   0   0]\n",
            " [  0   1   3   0   0   0   0 197   0   3]\n",
            " [  1  48   2   3   0   5   4   3 152   4]\n",
            " [  0   1   2   1   6   1   1   4   3 180]]\n"
          ],
          "name": "stdout"
        }
      ]
    },
    {
      "cell_type": "code",
      "metadata": {
        "id": "9nxK6-6082sZ",
        "colab_type": "code",
        "outputId": "cee792aa-0d39-4ffe-f53a-23b8c750da11",
        "colab": {
          "base_uri": "https://localhost:8080/",
          "height": 50
        }
      },
      "source": [
        "from sklearn.metrics import accuracy_score, log_loss, f1_score\n",
        "\n",
        "preds = Classifier1.predict(X_test_counts)\n",
        "\n",
        "acc = accuracy_score(y_test, preds)\n",
        "\n",
        "f1 = f1_score(y_test, preds, average='macro')\n",
        "\n",
        "print ('Accuracy is : ', acc)\n",
        "print ('F1 Score is :', f1)"
      ],
      "execution_count": 0,
      "outputs": [
        {
          "output_type": "stream",
          "text": [
            "Accuracy is :  0.864720194647202\n",
            "F1 Score is : 0.8650669728842797\n"
          ],
          "name": "stdout"
        }
      ]
    },
    {
      "cell_type": "code",
      "metadata": {
        "id": "ZHz9fCSsnGyw",
        "colab_type": "code",
        "colab": {}
      },
      "source": [
        "c = np.unique(df['category'])"
      ],
      "execution_count": 0,
      "outputs": []
    },
    {
      "cell_type": "code",
      "metadata": {
        "id": "pPkn70X9nGwf",
        "colab_type": "code",
        "colab": {}
      },
      "source": [
        "recall = np.diag(Test_mat) / np.sum(Test_mat, axis = 1)\n",
        "precision = np.diag(Test_mat) / np.sum(Test_mat, axis = 0)"
      ],
      "execution_count": 0,
      "outputs": []
    },
    {
      "cell_type": "code",
      "metadata": {
        "id": "M6xHCx7dnGtu",
        "colab_type": "code",
        "outputId": "84286d47-ee85-4e3f-f101-8543e9cb8ee2",
        "colab": {
          "base_uri": "https://localhost:8080/",
          "height": 295
        }
      },
      "source": [
        "plt.plot(c,precision, label='precision')\n",
        "plt.scatter(c,precision)\n",
        "plt.plot(c,recall, label='recall')\n",
        "plt.scatter(c,recall)\n",
        "plt.plot(c,2*(precision * recall) / (precision + recall) , label='F1 score')\n",
        "plt.scatter(c,2*(precision * recall) / (precision + recall))\n",
        "plt.legend()\n",
        "plt.xlabel(\"Categories \")\n",
        "plt.ylabel(\"Scores\")\n",
        "plt.title(\"PLOTS\")\n",
        "\n",
        "plt.show()"
      ],
      "execution_count": 0,
      "outputs": [
        {
          "output_type": "display_data",
          "data": {
            "image/png": "[encoded data removed]",
            "text/plain": [
              "<Figure size 432x288 with 1 Axes>"
            ]
          },
          "metadata": {
            "tags": []
          }
        }
      ]
    },
    {
      "cell_type": "markdown",
      "metadata": {
        "id": "3xP5-7OunoBO",
        "colab_type": "text"
      },
      "source": [
        "**Observations**\n",
        "  1. Optimal value of alpha is 10\n",
        "  2. Classifier works well with accuracy of 0.86472019\n"
      ]
    },
    {
      "cell_type": "code",
      "metadata": {
        "id": "YtXNASihnGoG",
        "colab_type": "code",
        "colab": {}
      },
      "source": [
        ""
      ],
      "execution_count": 0,
      "outputs": []
    },
    {
      "cell_type": "markdown",
      "metadata": {
        "id": "UAfUcnZnoO23",
        "colab_type": "text"
      },
      "source": [
        "**Now we shall try to perform the same operation by using sampling methods to ensure equal class-representation**"
      ]
    },
    {
      "cell_type": "code",
      "metadata": {
        "id": "7bbIb3EePeWU",
        "colab_type": "code",
        "colab": {
          "base_uri": "https://localhost:8080/",
          "height": 104
        },
        "outputId": "59f0c680-347a-441e-b597-fddc24271da6"
      },
      "source": [
        "from imblearn.over_sampling import SMOTE"
      ],
      "execution_count": 18,
      "outputs": [
        {
          "output_type": "stream",
          "text": [
            "/usr/local/lib/python3.6/dist-packages/sklearn/externals/six.py:31: FutureWarning: The module is deprecated in version 0.21 and will be removed in version 0.23 since we've dropped support for Python 2.7. Please rely on the official version of six (https://pypi.org/project/six/).\n",
            "  \"(https://pypi.org/project/six/).\", FutureWarning)\n",
            "/usr/local/lib/python3.6/dist-packages/sklearn/utils/deprecation.py:144: FutureWarning: The sklearn.neighbors.base module is  deprecated in version 0.22 and will be removed in version 0.24. The corresponding classes / functions should instead be imported from sklearn.neighbors. Anything that cannot be imported from sklearn.neighbors is now part of the private API.\n",
            "  warnings.warn(message, FutureWarning)\n"
          ],
          "name": "stderr"
        }
      ]
    },
    {
      "cell_type": "code",
      "metadata": {
        "id": "yKb_A-wHP2CX",
        "colab_type": "code",
        "colab": {
          "base_uri": "https://localhost:8080/",
          "height": 87
        },
        "outputId": "d79d76a5-98c2-4183-a023-ddf0a6b6996a"
      },
      "source": [
        "smote = SMOTE('minority')\n",
        "X_sm, y_sm = smote.fit_sample(X_train_counts,y_train)\n",
        "X_sm.shape, y_sm.shape"
      ],
      "execution_count": 21,
      "outputs": [
        {
          "output_type": "stream",
          "text": [
            "/usr/local/lib/python3.6/dist-packages/sklearn/utils/deprecation.py:87: FutureWarning: Function safe_indexing is deprecated; safe_indexing is deprecated in version 0.22 and will be removed in version 0.24.\n",
            "  warnings.warn(msg, category=FutureWarning)\n"
          ],
          "name": "stderr"
        },
        {
          "output_type": "execute_result",
          "data": {
            "text/plain": [
              "((7518, 11539), (7518,))"
            ]
          },
          "metadata": {
            "tags": []
          },
          "execution_count": 21
        }
      ]
    },
    {
      "cell_type": "code",
      "metadata": {
        "id": "NtNyH0z2QcCk",
        "colab_type": "code",
        "colab": {
          "base_uri": "https://localhost:8080/",
          "height": 87
        },
        "outputId": "1881e133-84e4-4b1b-aee5-248db3a2c5d9"
      },
      "source": [
        "smote = SMOTE('minority')\n",
        "\n",
        "X_test_sm, y_test_sm = smote.fit_sample(X_test_counts,y_test)\n",
        "X_test_sm.shape, y_test_sm.shape"
      ],
      "execution_count": 22,
      "outputs": [
        {
          "output_type": "stream",
          "text": [
            "/usr/local/lib/python3.6/dist-packages/sklearn/utils/deprecation.py:87: FutureWarning: Function safe_indexing is deprecated; safe_indexing is deprecated in version 0.22 and will be removed in version 0.24.\n",
            "  warnings.warn(msg, category=FutureWarning)\n"
          ],
          "name": "stderr"
        },
        {
          "output_type": "execute_result",
          "data": {
            "text/plain": [
              "((2089, 11539), (2089,))"
            ]
          },
          "metadata": {
            "tags": []
          },
          "execution_count": 22
        }
      ]
    },
    {
      "cell_type": "markdown",
      "metadata": {
        "id": "LVObzUu1oV5h",
        "colab_type": "text"
      },
      "source": [
        "**MNB on balanced dataset using SMOTE**"
      ]
    },
    {
      "cell_type": "code",
      "metadata": {
        "id": "ys0asU6RQxyA",
        "colab_type": "code",
        "colab": {}
      },
      "source": [
        "alpha_set=[0.00001,0.0001,0.001,0.01,0.1,1,10,100,1000,10000]\n",
        "Train_AUC_BOW = []\n",
        "CrossVal_AUC_BOW = []\n",
        "for i in alpha_set:\n",
        "  naive_b=MultinomialNB(alpha=i)\n",
        "  naive_b.fit(X_sm, y_sm)\n",
        "  Train_y_pred =  naive_b.predict_proba(X_sm)[0:,]\n",
        "  Train_AUC_BOW.append(roc_auc_score(y_sm,Train_y_pred, multi_class='ovr'))\n",
        "  CrossVal_y_pred =  naive_b.predict_proba(X_cross_counts)[0:,]\n",
        "  CrossVal_AUC_BOW.append(roc_auc_score(y_cross,CrossVal_y_pred, multi_class='ovr'))"
      ],
      "execution_count": 0,
      "outputs": []
    },
    {
      "cell_type": "code",
      "metadata": {
        "id": "lHLSExCkRMbv",
        "colab_type": "code",
        "colab": {}
      },
      "source": [
        "from numpy import math\n",
        "Alpha_set=[]\n",
        "for i in range(len(alpha_set)):\n",
        "  Alpha_set.append(math.log(alpha_set[i]))"
      ],
      "execution_count": 0,
      "outputs": []
    },
    {
      "cell_type": "code",
      "metadata": {
        "id": "XKW0DgszRRE2",
        "colab_type": "code",
        "outputId": "b576eead-98a8-480d-c7ec-6b41b56d1d09",
        "colab": {
          "base_uri": "https://localhost:8080/",
          "height": 295
        }
      },
      "source": [
        "plt.plot(Alpha_set, Train_AUC_BOW, label='Train AUC')\n",
        "plt.scatter(Alpha_set, Train_AUC_BOW)\n",
        "plt.plot(Alpha_set, CrossVal_AUC_BOW, label='CrossVal AUC')\n",
        "plt.scatter(Alpha_set, CrossVal_AUC_BOW)\n",
        "plt.legend()\n",
        "plt.xlabel(\"alpha : hyperparameter\")\n",
        "plt.ylabel(\"AUC\")\n",
        "plt.title(\"ERROR PLOTS\")\n",
        "plt.show()"
      ],
      "execution_count": 0,
      "outputs": [
        {
          "output_type": "display_data",
          "data": {
            "image/png": "[encoded data removed]",
            "text/plain": [
              "<Figure size 432x288 with 1 Axes>"
            ]
          },
          "metadata": {
            "tags": []
          }
        }
      ]
    },
    {
      "cell_type": "code",
      "metadata": {
        "id": "rdKEukANRUaV",
        "colab_type": "code",
        "outputId": "ddedab52-55e6-4a70-ed76-424b9585f558",
        "colab": {
          "base_uri": "https://localhost:8080/",
          "height": 34
        }
      },
      "source": [
        "optimal_alpha=alpha_set[CrossVal_AUC_BOW.index(max(CrossVal_AUC_BOW))]\n",
        "print(optimal_alpha)"
      ],
      "execution_count": 0,
      "outputs": [
        {
          "output_type": "stream",
          "text": [
            "10\n"
          ],
          "name": "stdout"
        }
      ]
    },
    {
      "cell_type": "code",
      "metadata": {
        "id": "ysRZF0cpRdAv",
        "colab_type": "code",
        "outputId": "9a80a6e2-b54c-499e-f6c7-a87b3ec68b32",
        "colab": {
          "base_uri": "https://localhost:8080/",
          "height": 34
        }
      },
      "source": [
        "Classifier2=MultinomialNB(alpha=optimal_alpha)\n",
        "Classifier2.fit(X_sm, y_sm)"
      ],
      "execution_count": 0,
      "outputs": [
        {
          "output_type": "execute_result",
          "data": {
            "text/plain": [
              "MultinomialNB(alpha=10, class_prior=None, fit_prior=True)"
            ]
          },
          "metadata": {
            "tags": []
          },
          "execution_count": 47
        }
      ]
    },
    {
      "cell_type": "code",
      "metadata": {
        "id": "BpTRpM2cRgjF",
        "colab_type": "code",
        "outputId": "bee818be-1172-4bfc-8e63-e960c4cb42b3",
        "colab": {
          "base_uri": "https://localhost:8080/",
          "height": 50
        }
      },
      "source": [
        "auc_train_bow = roc_auc_score(y_sm,Classifier2.predict_proba(X_sm)[0:,], multi_class='ovr')\n",
        "print (\"AUC for Train set\", auc_train_bow)\n",
        "\n",
        "auc_test_bow = roc_auc_score(y_test_sm,Classifier2.predict_proba(X_test_sm)[0:,], multi_class='ovr')\n",
        "print (\"AUC for Test set\",auc_test_bow)"
      ],
      "execution_count": 0,
      "outputs": [
        {
          "output_type": "stream",
          "text": [
            "AUC for Train set 0.9919531387311531\n",
            "AUC for Test set 0.9867716253665293\n"
          ],
          "name": "stdout"
        }
      ]
    },
    {
      "cell_type": "markdown",
      "metadata": {
        "id": "sfgUCuxoo5kW",
        "colab_type": "text"
      },
      "source": [
        "**Confusion Matrix**"
      ]
    },
    {
      "cell_type": "code",
      "metadata": {
        "id": "tPhWRB7tR5S-",
        "colab_type": "code",
        "outputId": "683a08d4-d585-4d45-cc63-09e03e81918c",
        "colab": {
          "base_uri": "https://localhost:8080/",
          "height": 202
        }
      },
      "source": [
        "print('Confusion Matrix of Train Data')\n",
        "Train_mat=confusion_matrix(y_sm,Classifier2.predict(X_sm))\n",
        "print (Train_mat)"
      ],
      "execution_count": 0,
      "outputs": [
        {
          "output_type": "stream",
          "text": [
            "Confusion Matrix of Train Data\n",
            "[[673   1   5   7  33  10   9   2   7   7]\n",
            " [  4 564   2   5   1   2   5   2 157   2]\n",
            " [  1   1 722   1   4   1   1   4   1  12]\n",
            " [  3   2   3 764  13   4   1   5   2   2]\n",
            " [  1   0   1   1 736   3   2   4   0   0]\n",
            " [  1   2   2   3  12 759   1   1   0   2]\n",
            " [  7   2   0   1  10   4 658   0   5   3]\n",
            " [  0   0   8   2   0   0   0 717   1   7]\n",
            " [  8  70   3   8   7  11   8   6 668  10]\n",
            " [  0   1   8   5  20   3   1  14   3 663]]\n"
          ],
          "name": "stdout"
        }
      ]
    },
    {
      "cell_type": "code",
      "metadata": {
        "id": "QsEyyE5XSE9d",
        "colab_type": "code",
        "outputId": "1672241d-5b41-4c3c-de9f-3bbe5f524b55",
        "colab": {
          "base_uri": "https://localhost:8080/",
          "height": 202
        }
      },
      "source": [
        "print('Confusion Matrix of Test Data')\n",
        "Test_mat=confusion_matrix(y_test_sm,Classifier2.predict(X_test_sm))\n",
        "print (Test_mat)"
      ],
      "execution_count": 0,
      "outputs": [
        {
          "output_type": "stream",
          "text": [
            "Confusion Matrix of Test Data\n",
            "[[171   3   3   6   9   3   2   5   1   7]\n",
            " [  1 114   0   4   2   2   1   1  78   3]\n",
            " [  0   0 198   1   3   2   0   2   0   2]\n",
            " [  0   2   1 209   6   2   0   1   1   0]\n",
            " [  1   0   0   0 204   1   0   2   0   0]\n",
            " [  0   0   2   3   4 202   1   2   1   3]\n",
            " [  4   0   1   1   2   0 184   0   0   0]\n",
            " [  0   1   3   1   0   0   0 196   0   3]\n",
            " [  1  46   2   7   0   5   4   3 150   4]\n",
            " [  0   1   2   5   6   0   1   4   0 180]]\n"
          ],
          "name": "stdout"
        }
      ]
    },
    {
      "cell_type": "code",
      "metadata": {
        "id": "3xuVU7Du9g9f",
        "colab_type": "code",
        "outputId": "34b9f162-1a60-485e-fc76-54d8bcce9365",
        "colab": {
          "base_uri": "https://localhost:8080/",
          "height": 302
        }
      },
      "source": [
        "from sklearn import metrics\n",
        "print(metrics.classification_report(y_test_sm,Classifier2.predict(X_test_sm), target_names=df['category'].unique()))"
      ],
      "execution_count": 0,
      "outputs": [
        {
          "output_type": "stream",
          "text": [
            "              precision    recall  f1-score   support\n",
            "\n",
            "    tutorial       0.96      0.81      0.88       210\n",
            "     science       0.68      0.55      0.61       206\n",
            "        vlog       0.93      0.95      0.94       208\n",
            "        food       0.88      0.94      0.91       222\n",
            "     fashion       0.86      0.98      0.92       208\n",
            "      travel       0.93      0.93      0.93       218\n",
            "       music       0.95      0.96      0.96       192\n",
            "      movies       0.91      0.96      0.93       204\n",
            "     history       0.65      0.68      0.66       222\n",
            "         art       0.89      0.90      0.90       199\n",
            "\n",
            "    accuracy                           0.87      2089\n",
            "   macro avg       0.87      0.87      0.86      2089\n",
            "weighted avg       0.86      0.87      0.86      2089\n",
            "\n"
          ],
          "name": "stdout"
        }
      ]
    },
    {
      "cell_type": "code",
      "metadata": {
        "id": "V8eJWU6K9g4y",
        "colab_type": "code",
        "outputId": "df1bbe80-7893-4f3d-da22-f05682af5608",
        "colab": {
          "base_uri": "https://localhost:8080/",
          "height": 302
        }
      },
      "source": [
        "from sklearn import metrics\n",
        "print(metrics.classification_report(y_test,Classifier2.predict(X_test_counts), target_names=df['category'].unique()))"
      ],
      "execution_count": 0,
      "outputs": [
        {
          "output_type": "stream",
          "text": [
            "              precision    recall  f1-score   support\n",
            "\n",
            "    tutorial       0.96      0.81      0.88       210\n",
            "     science       0.68      0.55      0.61       206\n",
            "        vlog       0.93      0.95      0.94       208\n",
            "        food       0.86      0.93      0.90       188\n",
            "     fashion       0.86      0.98      0.92       208\n",
            "      travel       0.93      0.93      0.93       218\n",
            "       music       0.95      0.96      0.96       192\n",
            "      movies       0.91      0.96      0.93       204\n",
            "     history       0.65      0.68      0.66       222\n",
            "         art       0.89      0.90      0.90       199\n",
            "\n",
            "    accuracy                           0.86      2055\n",
            "   macro avg       0.86      0.87      0.86      2055\n",
            "weighted avg       0.86      0.86      0.86      2055\n",
            "\n"
          ],
          "name": "stdout"
        }
      ]
    },
    {
      "cell_type": "code",
      "metadata": {
        "id": "qqxJ2XPipGIK",
        "colab_type": "code",
        "outputId": "f04af5cd-b4a4-4c40-8a72-26ad2d58901e",
        "colab": {
          "base_uri": "https://localhost:8080/",
          "height": 50
        }
      },
      "source": [
        "preds = Classifier2.predict(X_test_counts)\n",
        "\n",
        "acc = accuracy_score(y_test, preds)\n",
        "\n",
        "f1 = f1_score(y_test, preds, average='macro')\n",
        "\n",
        "print ('Accuracy is : ', acc)\n",
        "print ('F1 Score is :', f1)"
      ],
      "execution_count": 0,
      "outputs": [
        {
          "output_type": "stream",
          "text": [
            "Accuracy is :  0.8632603406326034\n",
            "F1 Score is : 0.862754046728918\n"
          ],
          "name": "stdout"
        }
      ]
    },
    {
      "cell_type": "code",
      "metadata": {
        "id": "yexCMJdvpMUt",
        "colab_type": "code",
        "colab": {}
      },
      "source": [
        "recall = np.diag(Test_mat) / np.sum(Test_mat, axis = 1)\n",
        "precision = np.diag(Test_mat) / np.sum(Test_mat, axis = 0)"
      ],
      "execution_count": 0,
      "outputs": []
    },
    {
      "cell_type": "markdown",
      "metadata": {
        "id": "lTC0tXP510lk",
        "colab_type": "text"
      },
      "source": [
        "**Bernoulli Naive Bayes on Sampled Data**"
      ]
    },
    {
      "cell_type": "code",
      "metadata": {
        "id": "Am24dp3wSf8k",
        "colab_type": "code",
        "colab": {}
      },
      "source": [
        "from sklearn.naive_bayes import BernoulliNB\n"
      ],
      "execution_count": 0,
      "outputs": []
    },
    {
      "cell_type": "code",
      "metadata": {
        "id": "51oyEmVcXu4I",
        "colab_type": "code",
        "colab": {}
      },
      "source": [
        "alpha_set=[0.00001,0.0001,0.001,0.01,0.1,1,10,100,1000,10000]\n",
        "Train_AUC_BOW = []\n",
        "CrossVal_AUC_BOW = []\n",
        "for i in alpha_set:\n",
        "  bernouli_b=BernoulliNB(alpha=i)\n",
        "  bernouli_b.fit(X_sm, y_sm)\n",
        "  Train_y_pred =  bernouli_b.predict_proba(X_sm)[0:,]\n",
        "  Train_AUC_BOW.append(roc_auc_score(y_sm,Train_y_pred, multi_class='ovr'))\n",
        "  CrossVal_y_pred =  bernouli_b.predict_proba(X_cross_counts)[0:,]\n",
        "  CrossVal_AUC_BOW.append(roc_auc_score(y_cross,CrossVal_y_pred, multi_class='ovr'))"
      ],
      "execution_count": 0,
      "outputs": []
    },
    {
      "cell_type": "code",
      "metadata": {
        "id": "Vj5AYnQIXu2X",
        "colab_type": "code",
        "colab": {}
      },
      "source": [
        "from numpy import math\n",
        "Alpha_set=[]\n",
        "for i in range(len(alpha_set)):\n",
        "  Alpha_set.append(math.log(alpha_set[i]))"
      ],
      "execution_count": 0,
      "outputs": []
    },
    {
      "cell_type": "code",
      "metadata": {
        "id": "O6VhD0b-Xux1",
        "colab_type": "code",
        "outputId": "17342dc4-cc03-4c72-db8e-b4806e5da948",
        "colab": {
          "base_uri": "https://localhost:8080/",
          "height": 295
        }
      },
      "source": [
        "plt.plot(Alpha_set, Train_AUC_BOW, label='Train AUC')\n",
        "plt.scatter(Alpha_set, Train_AUC_BOW)\n",
        "plt.plot(Alpha_set, CrossVal_AUC_BOW, label='CrossVal AUC')\n",
        "plt.scatter(Alpha_set, CrossVal_AUC_BOW)\n",
        "plt.legend()\n",
        "plt.xlabel(\"alpha : hyperparameter\")\n",
        "plt.ylabel(\"AUC\")\n",
        "plt.title(\"ERROR PLOTS\")\n",
        "plt.show()"
      ],
      "execution_count": 0,
      "outputs": [
        {
          "output_type": "display_data",
          "data": {
            "image/png": "[encoded data removed]",
            "text/plain": [
              "<Figure size 432x288 with 1 Axes>"
            ]
          },
          "metadata": {
            "tags": []
          }
        }
      ]
    },
    {
      "cell_type": "code",
      "metadata": {
        "id": "RhzJ_KSFXuuw",
        "colab_type": "code",
        "outputId": "24d21b5c-8b1e-43a8-f530-63da917a8bd0",
        "colab": {
          "base_uri": "https://localhost:8080/",
          "height": 34
        }
      },
      "source": [
        "optimal_alpha=alpha_set[CrossVal_AUC_BOW.index(max(CrossVal_AUC_BOW))]\n",
        "print(optimal_alpha)"
      ],
      "execution_count": 0,
      "outputs": [
        {
          "output_type": "stream",
          "text": [
            "1\n"
          ],
          "name": "stdout"
        }
      ]
    },
    {
      "cell_type": "code",
      "metadata": {
        "id": "ikLD6Dr9Xur0",
        "colab_type": "code",
        "outputId": "4b74db6e-ce18-48f5-dc9f-e047e266c955",
        "colab": {
          "base_uri": "https://localhost:8080/",
          "height": 34
        }
      },
      "source": [
        "Classifier=BernoulliNB(alpha=optimal_alpha)\n",
        "Classifier.fit(X_sm, y_sm)"
      ],
      "execution_count": 0,
      "outputs": [
        {
          "output_type": "execute_result",
          "data": {
            "text/plain": [
              "BernoulliNB(alpha=1, binarize=0.0, class_prior=None, fit_prior=True)"
            ]
          },
          "metadata": {
            "tags": []
          },
          "execution_count": 46
        }
      ]
    },
    {
      "cell_type": "code",
      "metadata": {
        "id": "fTRJPOumXup1",
        "colab_type": "code",
        "outputId": "7eaadfff-6ba0-4215-9077-90e2b4d98273",
        "colab": {
          "base_uri": "https://localhost:8080/",
          "height": 50
        }
      },
      "source": [
        "auc_train_bow = roc_auc_score(y_sm,Classifier.predict_proba(X_sm)[0:,], multi_class='ovr')\n",
        "print (\"AUC for Train set\", auc_train_bow)\n",
        "\n",
        "auc_test_bow = roc_auc_score(y_test_sm,Classifier.predict_proba(X_test_sm)[0:,], multi_class='ovr')\n",
        "print (\"AUc for Test set\",auc_test_bow)"
      ],
      "execution_count": 0,
      "outputs": [
        {
          "output_type": "stream",
          "text": [
            "AUC for Train set 0.997365367404932\n",
            "AUc for Test set 0.98644371687207\n"
          ],
          "name": "stdout"
        }
      ]
    },
    {
      "cell_type": "code",
      "metadata": {
        "id": "vmx48cH_Xulv",
        "colab_type": "code",
        "outputId": "60c42cb4-670c-41a0-80b1-fd9ee960f838",
        "colab": {
          "base_uri": "https://localhost:8080/",
          "height": 202
        }
      },
      "source": [
        "print('Confusion Matrix of Train Data')\n",
        "Train_mat=confusion_matrix(y_sm,Classifier.predict(X_sm))\n",
        "print (Train_mat)"
      ],
      "execution_count": 0,
      "outputs": [
        {
          "output_type": "stream",
          "text": [
            "Confusion Matrix of Train Data\n",
            "[[730   0   2   6   8   2   2   0   4   0]\n",
            " [  3 541   0   6   1   1   0   0 192   0]\n",
            " [  2   1 725   5   3   1   0   3   1   7]\n",
            " [  0   0   0 791   6   0   0   0   2   0]\n",
            " [  3   0   0   4 736   4   0   1   0   0]\n",
            " [  1   1   0   9   4 766   1   1   0   0]\n",
            " [  8   2   0   6   4   1 663   0   5   1]\n",
            " [  0   1   6   9   0   0   0 709   1   9]\n",
            " [  7  34   0   7   3   5   0   1 737   5]\n",
            " [  0   1   1  15  17   0   1   8   2 673]]\n"
          ],
          "name": "stdout"
        }
      ]
    },
    {
      "cell_type": "code",
      "metadata": {
        "id": "ASISCDm8Xuj9",
        "colab_type": "code",
        "outputId": "60a7c752-9d7e-425f-900f-ba61881516b3",
        "colab": {
          "base_uri": "https://localhost:8080/",
          "height": 302
        }
      },
      "source": [
        "from sklearn import metrics\n",
        "print(metrics.classification_report(y_test_sm,Classifier.predict(X_test_sm), target_names=df['category'].unique()))"
      ],
      "execution_count": 0,
      "outputs": [
        {
          "output_type": "stream",
          "text": [
            "              precision    recall  f1-score   support\n",
            "\n",
            "    tutorial       0.94      0.82      0.88       210\n",
            "     science       0.66      0.51      0.57       206\n",
            "        vlog       0.94      0.96      0.95       208\n",
            "        food       0.77      0.97      0.86       222\n",
            "     fashion       0.91      0.97      0.93       208\n",
            "      travel       0.95      0.91      0.93       218\n",
            "       music       0.98      0.92      0.95       192\n",
            "      movies       0.95      0.94      0.95       204\n",
            "     history       0.61      0.69      0.65       222\n",
            "         art       0.94      0.88      0.91       199\n",
            "\n",
            "    accuracy                           0.86      2089\n",
            "   macro avg       0.86      0.86      0.86      2089\n",
            "weighted avg       0.86      0.86      0.86      2089\n",
            "\n"
          ],
          "name": "stdout"
        }
      ]
    },
    {
      "cell_type": "code",
      "metadata": {
        "id": "3CPexPGQZLFm",
        "colab_type": "code",
        "colab": {}
      },
      "source": [
        "preds = Classifier.predict(X_test_sm)"
      ],
      "execution_count": 0,
      "outputs": []
    },
    {
      "cell_type": "code",
      "metadata": {
        "id": "bwmtgywMXuf_",
        "colab_type": "code",
        "outputId": "a8964b21-4230-4c39-e500-99eef678dab1",
        "colab": {
          "base_uri": "https://localhost:8080/",
          "height": 50
        }
      },
      "source": [
        "from sklearn.metrics import accuracy_score, log_loss, f1_score\n",
        "acc = accuracy_score(y_test_sm, preds)\n",
        "\n",
        "f1 = f1_score(y_test_sm, preds, average='macro')\n",
        "\n",
        "print ('Accuracy is : ', acc)\n",
        "print ('F1 Score is :', f1)"
      ],
      "execution_count": 0,
      "outputs": [
        {
          "output_type": "stream",
          "text": [
            "Accuracy is :  0.8573480134035424\n",
            "F1 Score is : 0.8581174733861634\n"
          ],
          "name": "stdout"
        }
      ]
    },
    {
      "cell_type": "code",
      "metadata": {
        "id": "O6hi703fpczH",
        "colab_type": "code",
        "colab": {}
      },
      "source": [
        ""
      ],
      "execution_count": 0,
      "outputs": []
    },
    {
      "cell_type": "code",
      "metadata": {
        "id": "V_Kgu3OwXuee",
        "colab_type": "code",
        "colab": {}
      },
      "source": [
        "plt.plot(c,precision, label='precision')\n",
        "plt.scatter(c,precision)\n",
        "plt.plot(c,recall, label='recall')\n",
        "plt.scatter(c,recall)\n",
        "plt.plot(c,2*(precision * recall) / (precision + recall) , label='F1 score')\n",
        "plt.scatter(c,2*(precision * recall) / (precision + recall))\n",
        "plt.legend()\n",
        "plt.xlabel(\"Categories \")\n",
        "plt.ylabel(\"Scores\")\n",
        "plt.title(\"PLOTS\")\n",
        "\n",
        "plt.show()"
      ],
      "execution_count": 0,
      "outputs": []
    },
    {
      "cell_type": "markdown",
      "metadata": {
        "id": "FLreczg5UCqO",
        "colab_type": "text"
      },
      "source": [
        "**TFIDF Vectorizer**"
      ]
    },
    {
      "cell_type": "code",
      "metadata": {
        "id": "Lhy_npPXUA2i",
        "colab_type": "code",
        "colab": {}
      },
      "source": [
        "tf_idf = TfidfVectorizer(ngram_range=(1,2))"
      ],
      "execution_count": 0,
      "outputs": []
    },
    {
      "cell_type": "code",
      "metadata": {
        "id": "-FdaqQugUAzK",
        "colab_type": "code",
        "colab": {}
      },
      "source": [
        "tf_idf.fit(X_train)\n",
        "Train_TFIDF = tf_idf.transform(X_train)\n",
        "CrossVal_TFIDF = tf_idf.transform(X_cross)\n",
        "Test_TFIDF= tf_idf.transform(X_test)"
      ],
      "execution_count": 0,
      "outputs": []
    },
    {
      "cell_type": "code",
      "metadata": {
        "id": "VYy02AslUAwM",
        "colab_type": "code",
        "colab": {}
      },
      "source": [
        "alpha_set=[0.00001,0.0001,0.001,0.01,0.1,1.0,10.0,100.0,1000.0,10000.0]\n",
        "Train_AUC_TFIDF = []\n",
        "CrossVal_AUC_TFIDF = []\n",
        "for i in alpha_set:\n",
        "  naive_b=MultinomialNB(alpha=i)\n",
        "  naive_b.fit(Train_TFIDF, y_train)\n",
        "  Train_y_pred =  naive_b.predict_proba(Train_TFIDF)[0:,]\n",
        "  Train_AUC_TFIDF.append(roc_auc_score(y_train,Train_y_pred, multi_class='ovr'))\n",
        "  CrossVal_y_pred =  naive_b.predict_proba(CrossVal_TFIDF)[0:,]\n",
        "  CrossVal_AUC_TFIDF.append(roc_auc_score(y_cross,CrossVal_y_pred, multi_class='ovr'))"
      ],
      "execution_count": 0,
      "outputs": []
    },
    {
      "cell_type": "code",
      "metadata": {
        "id": "JdTt0TkrUAty",
        "colab_type": "code",
        "colab": {}
      },
      "source": [
        "Alpha_set=[]\n",
        "for i in range(len(alpha_set)):\n",
        "  Alpha_set.append(np.math.log(alpha_set[i]))"
      ],
      "execution_count": 0,
      "outputs": []
    },
    {
      "cell_type": "code",
      "metadata": {
        "id": "SPc_pme8UArB",
        "colab_type": "code",
        "outputId": "1fdad6db-bdb0-4dbf-eb46-39e47a51986b",
        "colab": {
          "base_uri": "https://localhost:8080/",
          "height": 295
        }
      },
      "source": [
        "plt.plot(Alpha_set, Train_AUC_TFIDF, label='Train AUC')\n",
        "plt.scatter(Alpha_set, Train_AUC_TFIDF)\n",
        "plt.plot(Alpha_set, CrossVal_AUC_TFIDF, label='CrossVal AUC')\n",
        "plt.scatter(Alpha_set, CrossVal_AUC_TFIDF)\n",
        "plt.legend()\n",
        "plt.xlabel(\"alpha : hyperparameter\")\n",
        "plt.ylabel(\"AUC\")\n",
        "plt.title(\"ERROR PLOTS\")\n",
        "plt.show()"
      ],
      "execution_count": 29,
      "outputs": [
        {
          "output_type": "display_data",
          "data": {
            "image/png": "[encoded data removed]",
            "text/plain": [
              "<Figure size 432x288 with 1 Axes>"
            ]
          },
          "metadata": {
            "tags": []
          }
        }
      ]
    },
    {
      "cell_type": "code",
      "metadata": {
        "id": "-dk6csXdUAnr",
        "colab_type": "code",
        "outputId": "a202c64c-2d16-4cd9-ea26-2e47ac7ca747",
        "colab": {
          "base_uri": "https://localhost:8080/",
          "height": 34
        }
      },
      "source": [
        "optimal_alpha=alpha_set[CrossVal_AUC_TFIDF.index(max(CrossVal_AUC_TFIDF))]\n",
        "print(optimal_alpha)"
      ],
      "execution_count": 30,
      "outputs": [
        {
          "output_type": "stream",
          "text": [
            "10.0\n"
          ],
          "name": "stdout"
        }
      ]
    },
    {
      "cell_type": "code",
      "metadata": {
        "id": "kI2zgETuUAlc",
        "colab_type": "code",
        "outputId": "21bf928a-bd94-4f4d-8998-2d18457d65dc",
        "colab": {
          "base_uri": "https://localhost:8080/",
          "height": 34
        }
      },
      "source": [
        "Classifier=MultinomialNB(alpha=optimal_alpha)\n",
        "Classifier.fit(Train_TFIDF, y_train)"
      ],
      "execution_count": 31,
      "outputs": [
        {
          "output_type": "execute_result",
          "data": {
            "text/plain": [
              "MultinomialNB(alpha=10.0, class_prior=None, fit_prior=True)"
            ]
          },
          "metadata": {
            "tags": []
          },
          "execution_count": 31
        }
      ]
    },
    {
      "cell_type": "code",
      "metadata": {
        "id": "iMjR-2NQUAh7",
        "colab_type": "code",
        "outputId": "90a62715-1955-4128-d564-d79c459eae89",
        "colab": {
          "base_uri": "https://localhost:8080/",
          "height": 50
        }
      },
      "source": [
        "auc_train_tfidf = roc_auc_score(y_train,Classifier.predict_proba(Train_TFIDF)[0:,], multi_class='ovr')\n",
        "print (\"AUC for Train set\", auc_train_tfidf)\n",
        "\n",
        "auc_test_tfidf = roc_auc_score(y_test,Classifier.predict_proba(Test_TFIDF)[0:,], multi_class='ovr')\n",
        "print (\"AUc for Test set\",auc_test_tfidf)"
      ],
      "execution_count": 0,
      "outputs": [
        {
          "output_type": "stream",
          "text": [
            "AUC for Train set 0.9949809457723076\n",
            "AUc for Test set 0.9874024925192089\n"
          ],
          "name": "stdout"
        }
      ]
    },
    {
      "cell_type": "code",
      "metadata": {
        "id": "3bCh1SJkUAfK",
        "colab_type": "code",
        "outputId": "c3f53172-d84c-40e0-a284-83d625f8d401",
        "colab": {
          "base_uri": "https://localhost:8080/",
          "height": 202
        }
      },
      "source": [
        "print('Confusion Matrix of Train Data')\n",
        "Train_mat=confusion_matrix(y_train,Classifier.predict(Train_TFIDF))\n",
        "print (Train_mat)"
      ],
      "execution_count": 0,
      "outputs": [
        {
          "output_type": "stream",
          "text": [
            "Confusion Matrix of Train Data\n",
            "[[699   0   4   0  25   8   6   1  10   1]\n",
            " [  3 526   1   0   1   2   1   1 208   1]\n",
            " [  1   0 729   0   4   1   0   2   2   9]\n",
            " [  5   1   3 620  17  15   1   4  12   1]\n",
            " [  0   0   0   0 744   3   1   0   0   0]\n",
            " [  1   0   0   0   7 772   0   1   1   1]\n",
            " [  6   1   0   0  10   6 650   0  15   2]\n",
            " [  0   0   5   0   0   0   0 724   2   4]\n",
            " [  1  18   0   1   4   6   0   2 763   4]\n",
            " [  0   1   4   1  19   2   1  10  12 668]]\n"
          ],
          "name": "stdout"
        }
      ]
    },
    {
      "cell_type": "code",
      "metadata": {
        "id": "3ZJEcuGV-sNd",
        "colab_type": "code",
        "outputId": "87f8ec73-061e-4b1e-fe70-fd73eaa76fc4",
        "colab": {
          "base_uri": "https://localhost:8080/",
          "height": 202
        }
      },
      "source": [
        "print('Confusion Matrix of Test Data')\n",
        "Test_mat=confusion_matrix(y_test,Classifier.predict(Test_TFIDF))\n",
        "print (Test_mat)"
      ],
      "execution_count": 0,
      "outputs": [
        {
          "output_type": "stream",
          "text": [
            "Confusion Matrix of Test Data\n",
            "[[169   2   2   2   9   5   0   3  13   5]\n",
            " [  1 108   0   1   0   3   1   0  89   3]\n",
            " [  0   0 199   0   3   2   0   1   1   2]\n",
            " [  0   1   1 166   7   5   0   3   5   0]\n",
            " [  1   0   0   0 205   1   0   0   1   0]\n",
            " [  0   0   2   0   4 207   0   2   2   1]\n",
            " [  4   0   1   1   3   1 181   1   0   0]\n",
            " [  0   1   3   0   0   0   0 197   1   2]\n",
            " [  1  44   3   3   0   3   3   1 161   3]\n",
            " [  0   1   2   0   6   1   1   4   7 177]]\n"
          ],
          "name": "stdout"
        }
      ]
    },
    {
      "cell_type": "code",
      "metadata": {
        "id": "yth6gACm-sKj",
        "colab_type": "code",
        "outputId": "b4364f2a-bc99-4867-b67c-025fe5ebb9bb",
        "colab": {
          "base_uri": "https://localhost:8080/",
          "height": 302
        }
      },
      "source": [
        "from sklearn import metrics\n",
        "print(metrics.classification_report(y_test,Classifier.predict(Test_TFIDF), target_names=df['category'].unique()))"
      ],
      "execution_count": 0,
      "outputs": [
        {
          "output_type": "stream",
          "text": [
            "              precision    recall  f1-score   support\n",
            "\n",
            "    tutorial       0.96      0.80      0.88       210\n",
            "     science       0.69      0.52      0.60       206\n",
            "        vlog       0.93      0.96      0.95       208\n",
            "        food       0.96      0.88      0.92       188\n",
            "     fashion       0.86      0.99      0.92       208\n",
            "      travel       0.91      0.95      0.93       218\n",
            "       music       0.97      0.94      0.96       192\n",
            "      movies       0.93      0.97      0.95       204\n",
            "     history       0.57      0.73      0.64       222\n",
            "         art       0.92      0.89      0.90       199\n",
            "\n",
            "    accuracy                           0.86      2055\n",
            "   macro avg       0.87      0.86      0.86      2055\n",
            "weighted avg       0.87      0.86      0.86      2055\n",
            "\n"
          ],
          "name": "stdout"
        }
      ]
    },
    {
      "cell_type": "code",
      "metadata": {
        "id": "Vd96XHZg-sHH",
        "colab_type": "code",
        "outputId": "5ded1f99-08d9-4ac2-fdf7-b4f18facc063",
        "colab": {
          "base_uri": "https://localhost:8080/",
          "height": 302
        }
      },
      "source": [
        "from sklearn import metrics\n",
        "print(metrics.classification_report(y_train,Classifier.predict(Train_TFIDF), target_names=df['category'].unique()))"
      ],
      "execution_count": 0,
      "outputs": [
        {
          "output_type": "stream",
          "text": [
            "              precision    recall  f1-score   support\n",
            "\n",
            "    tutorial       0.98      0.93      0.95       754\n",
            "     science       0.96      0.71      0.81       744\n",
            "        vlog       0.98      0.97      0.98       748\n",
            "        food       1.00      0.91      0.95       679\n",
            "     fashion       0.90      0.99      0.94       748\n",
            "      travel       0.95      0.99      0.97       783\n",
            "       music       0.98      0.94      0.96       690\n",
            "      movies       0.97      0.99      0.98       735\n",
            "     history       0.74      0.95      0.84       799\n",
            "         art       0.97      0.93      0.95       718\n",
            "\n",
            "    accuracy                           0.93      7398\n",
            "   macro avg       0.94      0.93      0.93      7398\n",
            "weighted avg       0.94      0.93      0.93      7398\n",
            "\n"
          ],
          "name": "stdout"
        }
      ]
    },
    {
      "cell_type": "code",
      "metadata": {
        "id": "P_cIfreh-sFO",
        "colab_type": "code",
        "colab": {
          "base_uri": "https://localhost:8080/",
          "height": 50
        },
        "outputId": "f16e1722-38a8-496b-bba5-e90abd8d32d8"
      },
      "source": [
        "from sklearn.metrics import accuracy_score, f1_score\n",
        "\n",
        "acc = accuracy_score(y_test,Classifier.predict(Test_TFIDF))\n",
        "\n",
        "f1 = f1_score(y_test,Classifier.predict(Test_TFIDF), average='macro')\n",
        "\n",
        "print ('Accuracy is : ', acc)\n",
        "print ('F1 Score is :', f1)"
      ],
      "execution_count": 33,
      "outputs": [
        {
          "output_type": "stream",
          "text": [
            "Accuracy is :  0.8613138686131386\n",
            "F1 Score is : 0.8634607017165232\n"
          ],
          "name": "stdout"
        }
      ]
    },
    {
      "cell_type": "markdown",
      "metadata": {
        "id": "IzwIUQRS1i5G",
        "colab_type": "text"
      },
      "source": [
        "**Classification Using Description on BOW vectorizer with SMOTE**"
      ]
    },
    {
      "cell_type": "code",
      "metadata": {
        "id": "STpLQ4tuUAUA",
        "colab_type": "code",
        "colab": {}
      },
      "source": [
        "X_des = df['description']"
      ],
      "execution_count": 0,
      "outputs": []
    },
    {
      "cell_type": "code",
      "metadata": {
        "id": "1UpaUw9QUASJ",
        "colab_type": "code",
        "outputId": "12996c28-6e77-4b5d-d048-bfe2f9d07a95",
        "colab": {
          "base_uri": "https://localhost:8080/",
          "height": 34
        }
      },
      "source": [
        "sss = StratifiedShuffleSplit(n_splits=10, test_size=0.2, random_state=0)\n",
        "sss.get_n_splits(X_des, y)"
      ],
      "execution_count": 35,
      "outputs": [
        {
          "output_type": "execute_result",
          "data": {
            "text/plain": [
              "10"
            ]
          },
          "metadata": {
            "tags": []
          },
          "execution_count": 35
        }
      ]
    },
    {
      "cell_type": "code",
      "metadata": {
        "id": "kr58e2MbUAPL",
        "colab_type": "code",
        "colab": {}
      },
      "source": [
        "for train_index, test_index in sss.split(X_des, y):\n",
        "#    print(\"TRAIN:\", train_index, \"TEST:\", test_index)\n",
        "    X_Train, X_test = X[train_index], X[test_index]\n",
        "    y_Train, y_test = y[train_index], y[test_index]  "
      ],
      "execution_count": 0,
      "outputs": []
    },
    {
      "cell_type": "code",
      "metadata": {
        "id": "un3eimm_UALZ",
        "colab_type": "code",
        "colab": {}
      },
      "source": [
        "X_train, X_cross, y_train, y_cross = train_test_split(X_Train, y_Train, random_state=0, stratify=y_Train, test_size=0.1)"
      ],
      "execution_count": 0,
      "outputs": []
    },
    {
      "cell_type": "code",
      "metadata": {
        "id": "VH-LhR4zCktb",
        "colab_type": "code",
        "colab": {}
      },
      "source": [
        "count_vect = CountVectorizer()\n",
        "count_vect.fit(X_train)\n",
        "X_train_counts = count_vect.transform(X_train)\n",
        "X_cross_counts = count_vect.transform(X_cross)\n",
        "X_test_counts = count_vect.transform(X_test)"
      ],
      "execution_count": 0,
      "outputs": []
    },
    {
      "cell_type": "code",
      "metadata": {
        "id": "cpTAWxZFCpuG",
        "colab_type": "code",
        "outputId": "54f38e5b-ef28-4cad-c0b1-7b99418a98e7",
        "colab": {
          "base_uri": "https://localhost:8080/",
          "height": 87
        }
      },
      "source": [
        "smote = SMOTE('minority')\n",
        "\n",
        "X_sm, y_sm = smote.fit_sample(X_train_counts,y_train)\n",
        "X_sm.shape, y_sm.shape"
      ],
      "execution_count": 39,
      "outputs": [
        {
          "output_type": "stream",
          "text": [
            "/usr/local/lib/python3.6/dist-packages/sklearn/utils/deprecation.py:87: FutureWarning: Function safe_indexing is deprecated; safe_indexing is deprecated in version 0.22 and will be removed in version 0.24.\n",
            "  warnings.warn(msg, category=FutureWarning)\n"
          ],
          "name": "stderr"
        },
        {
          "output_type": "execute_result",
          "data": {
            "text/plain": [
              "((7518, 11539), (7518,))"
            ]
          },
          "metadata": {
            "tags": []
          },
          "execution_count": 39
        }
      ]
    },
    {
      "cell_type": "code",
      "metadata": {
        "id": "PV1saMMoCq5z",
        "colab_type": "code",
        "outputId": "7c2b5ba5-b26e-4efa-d913-b5ba1af4d13f",
        "colab": {
          "base_uri": "https://localhost:8080/",
          "height": 87
        }
      },
      "source": [
        "smote = SMOTE('minority')\n",
        "\n",
        "X_test_sm, y_test_sm = smote.fit_sample(X_test_counts,y_test)\n",
        "X_test_sm.shape, y_test_sm.shape"
      ],
      "execution_count": 40,
      "outputs": [
        {
          "output_type": "stream",
          "text": [
            "/usr/local/lib/python3.6/dist-packages/sklearn/utils/deprecation.py:87: FutureWarning: Function safe_indexing is deprecated; safe_indexing is deprecated in version 0.22 and will be removed in version 0.24.\n",
            "  warnings.warn(msg, category=FutureWarning)\n"
          ],
          "name": "stderr"
        },
        {
          "output_type": "execute_result",
          "data": {
            "text/plain": [
              "((2089, 11539), (2089,))"
            ]
          },
          "metadata": {
            "tags": []
          },
          "execution_count": 40
        }
      ]
    },
    {
      "cell_type": "code",
      "metadata": {
        "id": "DIJAwMWLCq1n",
        "colab_type": "code",
        "colab": {}
      },
      "source": [
        "alpha_set=[0.00001,0.0001,0.001,0.01,0.1,1,10,100,1000,10000]\n",
        "Train_AUC_BOW = []\n",
        "CrossVal_AUC_BOW = []\n",
        "for i in alpha_set:\n",
        "  naive_b=MultinomialNB(alpha=i)\n",
        "  naive_b.fit(X_sm, y_sm)\n",
        "  Train_y_pred =  naive_b.predict_proba(X_sm)[0:,]\n",
        "  Train_AUC_BOW.append(roc_auc_score(y_sm,Train_y_pred, multi_class='ovr'))\n",
        "  CrossVal_y_pred =  naive_b.predict_proba(X_cross_counts)[0:,]\n",
        "  CrossVal_AUC_BOW.append(roc_auc_score(y_cross,CrossVal_y_pred, multi_class='ovr'))"
      ],
      "execution_count": 0,
      "outputs": []
    },
    {
      "cell_type": "code",
      "metadata": {
        "id": "b7XuugR9Cqzk",
        "colab_type": "code",
        "colab": {}
      },
      "source": [
        "from numpy import math\n",
        "Alpha_set=[]\n",
        "for i in range(len(alpha_set)):\n",
        "  Alpha_set.append(math.log(alpha_set[i]))"
      ],
      "execution_count": 0,
      "outputs": []
    },
    {
      "cell_type": "code",
      "metadata": {
        "id": "SRs9z2GyCqv-",
        "colab_type": "code",
        "outputId": "d67e01d9-585b-4021-ea2f-8c8ae3851d4f",
        "colab": {
          "base_uri": "https://localhost:8080/",
          "height": 295
        }
      },
      "source": [
        "plt.plot(Alpha_set, Train_AUC_BOW, label='Train AUC')\n",
        "plt.scatter(Alpha_set, Train_AUC_BOW)\n",
        "plt.plot(Alpha_set, CrossVal_AUC_BOW, label='CrossVal AUC')\n",
        "plt.scatter(Alpha_set, CrossVal_AUC_BOW)\n",
        "plt.legend()\n",
        "plt.xlabel(\"alpha : hyperparameter\")\n",
        "plt.ylabel(\"AUC\")\n",
        "plt.title(\"ERROR PLOTS\")\n",
        "plt.show()"
      ],
      "execution_count": 43,
      "outputs": [
        {
          "output_type": "display_data",
          "data": {
            "image/png": "[encoded data removed]",
            "text/plain": [
              "<Figure size 432x288 with 1 Axes>"
            ]
          },
          "metadata": {
            "tags": []
          }
        }
      ]
    },
    {
      "cell_type": "code",
      "metadata": {
        "id": "j9roIZexCqtp",
        "colab_type": "code",
        "outputId": "67153c6f-1628-477d-89a3-bbc888a7c99b",
        "colab": {
          "base_uri": "https://localhost:8080/",
          "height": 34
        }
      },
      "source": [
        "optimal_alpha=alpha_set[CrossVal_AUC_BOW.index(max(CrossVal_AUC_BOW))]\n",
        "print(optimal_alpha)"
      ],
      "execution_count": 44,
      "outputs": [
        {
          "output_type": "stream",
          "text": [
            "10\n"
          ],
          "name": "stdout"
        }
      ]
    },
    {
      "cell_type": "code",
      "metadata": {
        "id": "RhEodmVkCqqt",
        "colab_type": "code",
        "outputId": "874830c6-16ca-43c6-96a9-68e21566e603",
        "colab": {
          "base_uri": "https://localhost:8080/",
          "height": 34
        }
      },
      "source": [
        "Classifier=MultinomialNB(alpha=optimal_alpha)\n",
        "Classifier.fit(X_sm, y_sm)"
      ],
      "execution_count": 45,
      "outputs": [
        {
          "output_type": "execute_result",
          "data": {
            "text/plain": [
              "MultinomialNB(alpha=10, class_prior=None, fit_prior=True)"
            ]
          },
          "metadata": {
            "tags": []
          },
          "execution_count": 45
        }
      ]
    },
    {
      "cell_type": "code",
      "metadata": {
        "id": "dpWBwCT1Cqm1",
        "colab_type": "code",
        "outputId": "73030e74-ac3f-4c9a-98e8-dd842412df78",
        "colab": {
          "base_uri": "https://localhost:8080/",
          "height": 50
        }
      },
      "source": [
        "auc_train_bow = roc_auc_score(y_sm,Classifier.predict_proba(X_sm)[0:,], multi_class='ovr')\n",
        "print (\"AUC for Train set\", auc_train_bow)\n",
        "\n",
        "auc_test_bow = roc_auc_score(y_test_sm,Classifier.predict_proba(X_test_sm)[0:,], multi_class='ovr')\n",
        "print (\"AUc for Test set\",auc_test_bow)"
      ],
      "execution_count": 0,
      "outputs": [
        {
          "output_type": "stream",
          "text": [
            "AUC for Train set 0.9919454400189534\n",
            "AUc for Test set 0.9867591702229394\n"
          ],
          "name": "stdout"
        }
      ]
    },
    {
      "cell_type": "code",
      "metadata": {
        "id": "t3TL0ux_v_sX",
        "colab_type": "code",
        "outputId": "49a6adec-7518-487c-8f09-eb394317d74c",
        "colab": {
          "base_uri": "https://localhost:8080/",
          "height": 202
        }
      },
      "source": [
        "print('Confusion Matrix of Test Data')\n",
        "Test_mat=confusion_matrix(y_test_sm,Classifier.predict(X_test_sm))\n",
        "print (Test_mat)"
      ],
      "execution_count": 0,
      "outputs": [
        {
          "output_type": "stream",
          "text": [
            "Confusion Matrix of Test Data\n",
            "[[171   3   3   6   9   3   2   5   1   7]\n",
            " [  1 114   0   3   2   2   2   1  78   3]\n",
            " [  0   0 198   1   3   2   0   2   0   2]\n",
            " [  0   2   1 209   6   2   0   1   1   0]\n",
            " [  1   0   0   0 204   1   0   2   0   0]\n",
            " [  0   0   2   3   4 202   1   2   1   3]\n",
            " [  4   0   1   1   2   0 184   0   0   0]\n",
            " [  0   1   3   1   0   0   0 196   0   3]\n",
            " [  1  46   2   6   0   5   4   3 151   4]\n",
            " [  0   1   2   5   6   0   1   4   0 180]]\n"
          ],
          "name": "stdout"
        }
      ]
    },
    {
      "cell_type": "code",
      "metadata": {
        "id": "Lmu1V-Z2v_m9",
        "colab_type": "code",
        "colab": {}
      },
      "source": [
        "c = df['category'].unique()\n",
        "\n",
        "recall = np.diag(Test_mat) / np.sum(Test_mat, axis = 1)\n",
        "precision = np.diag(Test_mat) / np.sum(Test_mat, axis = 0)"
      ],
      "execution_count": 0,
      "outputs": []
    },
    {
      "cell_type": "code",
      "metadata": {
        "id": "lpn5utYov_hV",
        "colab_type": "code",
        "outputId": "e9e0ff85-32a8-49ef-af1f-3ac09b59c305",
        "colab": {
          "base_uri": "https://localhost:8080/",
          "height": 295
        }
      },
      "source": [
        "plt.plot(c,precision, label='precision')\n",
        "plt.scatter(c,precision)\n",
        "plt.plot(c,recall, label='recall')\n",
        "plt.scatter(c,recall)\n",
        "plt.plot(c,2*(precision * recall) / (precision + recall) , label='F1 score')\n",
        "plt.scatter(c,2*(precision * recall) / (precision + recall))\n",
        "plt.legend()\n",
        "plt.xlabel(\"Categories \")\n",
        "plt.ylabel(\"Scores\")\n",
        "plt.title(\"PLOTS\")\n",
        "\n",
        "plt.show()"
      ],
      "execution_count": 0,
      "outputs": [
        {
          "output_type": "display_data",
          "data": {
            "image/png": "[encoded data removed]",
            "text/plain": [
              "<Figure size 432x288 with 1 Axes>"
            ]
          },
          "metadata": {
            "tags": []
          }
        }
      ]
    },
    {
      "cell_type": "code",
      "metadata": {
        "id": "t3cFEJ4Kv_b_",
        "colab_type": "code",
        "colab": {
          "base_uri": "https://localhost:8080/",
          "height": 50
        },
        "outputId": "13434064-724b-4882-8cf0-52ca58dc6aec"
      },
      "source": [
        "acc = accuracy_score(y_test_sm,Classifier.predict(X_test_sm))\n",
        "\n",
        "f1 = f1_score(y_test_sm,Classifier.predict(X_test_sm), average='macro')\n",
        "\n",
        "print ('Accuracy is : ', acc)\n",
        "print ('F1 Score is :', f1)"
      ],
      "execution_count": 46,
      "outputs": [
        {
          "output_type": "stream",
          "text": [
            "Accuracy is :  0.8659645763523217\n",
            "F1 Score is : 0.8647041382007451\n"
          ],
          "name": "stdout"
        }
      ]
    },
    {
      "cell_type": "markdown",
      "metadata": {
        "id": "1ptpc7H52P37",
        "colab_type": "text"
      },
      "source": [
        "**TFIDF Vectorizer and Description**"
      ]
    },
    {
      "cell_type": "code",
      "metadata": {
        "id": "qYVFoBTp0GGk",
        "colab_type": "code",
        "colab": {}
      },
      "source": [
        "tf_idf.fit(X_train)\n",
        "Train_TFIDF = tf_idf.transform(X_train)\n",
        "CrossVal_TFIDF = tf_idf.transform(X_cross)\n",
        "Test_TFIDF= tf_idf.transform(X_test)"
      ],
      "execution_count": 0,
      "outputs": []
    },
    {
      "cell_type": "code",
      "metadata": {
        "id": "xJqC-X5j0GEM",
        "colab_type": "code",
        "colab": {
          "base_uri": "https://localhost:8080/",
          "height": 87
        },
        "outputId": "799e7748-101a-4386-b091-25cd66ad760d"
      },
      "source": [
        "smote = SMOTE('minority')\n",
        "\n",
        "X_sm, y_sm = smote.fit_sample(Train_TFIDF,y_train)\n",
        "X_sm.shape, y_sm.shape\n",
        "\n",
        "X_test_sm, y_test_sm = smote.fit_sample(Test_TFIDF,y_test)\n",
        "X_test_sm.shape, y_test_sm.shape"
      ],
      "execution_count": 48,
      "outputs": [
        {
          "output_type": "stream",
          "text": [
            "/usr/local/lib/python3.6/dist-packages/sklearn/utils/deprecation.py:87: FutureWarning: Function safe_indexing is deprecated; safe_indexing is deprecated in version 0.22 and will be removed in version 0.24.\n",
            "  warnings.warn(msg, category=FutureWarning)\n"
          ],
          "name": "stderr"
        },
        {
          "output_type": "execute_result",
          "data": {
            "text/plain": [
              "((2089, 40715), (2089,))"
            ]
          },
          "metadata": {
            "tags": []
          },
          "execution_count": 48
        }
      ]
    },
    {
      "cell_type": "code",
      "metadata": {
        "id": "DAbiLj9U2xUl",
        "colab_type": "code",
        "colab": {}
      },
      "source": [
        "alpha_set=[0.00001,0.0001,0.001,0.01,0.1,1,10,100,1000,10000]\n",
        "Train_AUC_BOW = []\n",
        "CrossVal_AUC_BOW = []\n",
        "for i in alpha_set:\n",
        "  naive_b=MultinomialNB(alpha=i)\n",
        "  naive_b.fit(X_sm, y_sm)\n",
        "  Train_y_pred =  naive_b.predict_proba(X_sm)[0:,]\n",
        "  Train_AUC_BOW.append(roc_auc_score(y_sm,Train_y_pred, multi_class='ovr'))\n",
        "  CrossVal_y_pred =  naive_b.predict_proba(CrossVal_TFIDF)[0:,]\n",
        "  CrossVal_AUC_BOW.append(roc_auc_score(y_cross,CrossVal_y_pred, multi_class='ovr'))"
      ],
      "execution_count": 0,
      "outputs": []
    },
    {
      "cell_type": "code",
      "metadata": {
        "id": "wPPAH21Y2xSF",
        "colab_type": "code",
        "colab": {}
      },
      "source": [
        "from numpy import math\n",
        "Alpha_set=[]\n",
        "for i in range(len(alpha_set)):\n",
        "  Alpha_set.append(math.log(alpha_set[i]))"
      ],
      "execution_count": 0,
      "outputs": []
    },
    {
      "cell_type": "code",
      "metadata": {
        "id": "LuMAHTjZ2xPZ",
        "colab_type": "code",
        "colab": {
          "base_uri": "https://localhost:8080/",
          "height": 295
        },
        "outputId": "cdcc8ef0-16dc-4e29-86bb-5cb6e2420368"
      },
      "source": [
        "plt.plot(Alpha_set, Train_AUC_BOW, label='Train AUC')\n",
        "plt.scatter(Alpha_set, Train_AUC_BOW)\n",
        "plt.plot(Alpha_set, CrossVal_AUC_BOW, label='CrossVal AUC')\n",
        "plt.scatter(Alpha_set, CrossVal_AUC_BOW)\n",
        "plt.legend()\n",
        "plt.xlabel(\"alpha : hyperparameter\")\n",
        "plt.ylabel(\"AUC\")\n",
        "plt.title(\"ERROR PLOTS\")\n",
        "plt.show()"
      ],
      "execution_count": 52,
      "outputs": [
        {
          "output_type": "display_data",
          "data": {
            "image/png": "[encoded data removed]",
            "text/plain": [
              "<Figure size 432x288 with 1 Axes>"
            ]
          },
          "metadata": {
            "tags": []
          }
        }
      ]
    },
    {
      "cell_type": "code",
      "metadata": {
        "id": "OQ_ZbIrM2xLZ",
        "colab_type": "code",
        "colab": {
          "base_uri": "https://localhost:8080/",
          "height": 34
        },
        "outputId": "8a5e1c93-8a93-4927-9af0-796fd3fce9c9"
      },
      "source": [
        "optimal_alpha=alpha_set[CrossVal_AUC_BOW.index(max(CrossVal_AUC_BOW))]\n",
        "print(optimal_alpha)"
      ],
      "execution_count": 53,
      "outputs": [
        {
          "output_type": "stream",
          "text": [
            "10\n"
          ],
          "name": "stdout"
        }
      ]
    },
    {
      "cell_type": "code",
      "metadata": {
        "id": "DHDDQS4H0GCW",
        "colab_type": "code",
        "colab": {
          "base_uri": "https://localhost:8080/",
          "height": 34
        },
        "outputId": "0a3d8124-b1a2-40a1-ec3e-cda447e54b49"
      },
      "source": [
        "Classifier=MultinomialNB(alpha=optimal_alpha)\n",
        "Classifier.fit(X_sm, y_sm)"
      ],
      "execution_count": 54,
      "outputs": [
        {
          "output_type": "execute_result",
          "data": {
            "text/plain": [
              "MultinomialNB(alpha=10, class_prior=None, fit_prior=True)"
            ]
          },
          "metadata": {
            "tags": []
          },
          "execution_count": 54
        }
      ]
    },
    {
      "cell_type": "code",
      "metadata": {
        "id": "srr-lZSI0F-r",
        "colab_type": "code",
        "colab": {
          "base_uri": "https://localhost:8080/",
          "height": 202
        },
        "outputId": "6acc9a32-9673-4759-c05a-ca156e89abb0"
      },
      "source": [
        "print('Confusion Matrix of Test Data')\n",
        "Test_mat=confusion_matrix(y_test_sm,Classifier.predict(X_test_sm))\n",
        "print (Test_mat)"
      ],
      "execution_count": 55,
      "outputs": [
        {
          "output_type": "stream",
          "text": [
            "Confusion Matrix of Test Data\n",
            "[[169   2   2  14   8   4   0   3   4   4]\n",
            " [  1 108   0   6   0   2   1   0  85   3]\n",
            " [  0   0 199   1   3   2   0   1   0   2]\n",
            " [  0   0   1 208   8   2   0   0   3   0]\n",
            " [  1   0   0   1 205   1   0   0   0   0]\n",
            " [  0   0   2   4   4 204   0   1   2   1]\n",
            " [  4   0   1   2   3   1 180   1   0   0]\n",
            " [  0   0   3   2   0   0   0 197   0   2]\n",
            " [  1  43   2   8   0   2   3   1 159   3]\n",
            " [  0   1   2   4   6   1   1   4   3 177]]\n"
          ],
          "name": "stdout"
        }
      ]
    },
    {
      "cell_type": "code",
      "metadata": {
        "id": "pvug8t_13lvR",
        "colab_type": "code",
        "colab": {
          "base_uri": "https://localhost:8080/",
          "height": 50
        },
        "outputId": "6fdc63ad-8d19-4354-eeed-75b1e2cf48a3"
      },
      "source": [
        "acc = accuracy_score(y_test_sm,Classifier.predict(X_test_sm))\n",
        "\n",
        "f1 = f1_score(y_test_sm,Classifier.predict(X_test_sm), average='macro')\n",
        "\n",
        "print ('Accuracy is : ', acc)\n",
        "print ('F1 Score is :', f1)"
      ],
      "execution_count": 56,
      "outputs": [
        {
          "output_type": "stream",
          "text": [
            "Accuracy is :  0.8645284825275251\n",
            "F1 Score is : 0.8641470058691219\n"
          ],
          "name": "stdout"
        }
      ]
    },
    {
      "cell_type": "code",
      "metadata": {
        "id": "PR6OX2Wb0F6T",
        "colab_type": "code",
        "colab": {}
      },
      "source": [
        ""
      ],
      "execution_count": 0,
      "outputs": []
    },
    {
      "cell_type": "code",
      "metadata": {
        "id": "ITujM5A8uwg0",
        "colab_type": "code",
        "colab": {}
      },
      "source": [
        "from prettytable import PrettyTable"
      ],
      "execution_count": 0,
      "outputs": []
    },
    {
      "cell_type": "code",
      "metadata": {
        "id": "_AWoin59xNdO",
        "colab_type": "code",
        "colab": {
          "base_uri": "https://localhost:8080/",
          "height": 202
        },
        "outputId": "cf886323-3a86-4033-fcba-faeb5efda9b6"
      },
      "source": [
        "x = PrettyTable()\n",
        "\n",
        "x.field_names = [\"VECTORIZER\", \"SAMPLING\", \"HYPER PARAMETER\", \"ACCURACY\", \"F1 SCORE\"]\n",
        "\n",
        "x.add_row([\"BOW\",\"NORMAL\",10,0.8647,0.8560])\n",
        "x.add_row([\"BOW\",\"SMOTE\",10,0.8632,0.8627])\n",
        "x.add_row([\"TFIDF\",\"NORMAL\",10,0.86131,0.86346])\n",
        "x.add_row([\"TFIDF\",\"SMOTE\",10,0.86587,0.87656])\n",
        "x.add_row([\"DESCRIPTION - BOW\",\"SMOTE\",10,0.86596,0.86470])\n",
        "x.add_row([\"DESCRIPTION- TFIDF\",\"SMOTE\",10,0.86453,0.86415])\n",
        "x.add_row([\"BOW+BERNOULLI-NB\",\"NORMAL\",1,0.85374,0.85812])\n",
        "\n",
        "print(x)"
      ],
      "execution_count": 60,
      "outputs": [
        {
          "output_type": "stream",
          "text": [
            "+--------------------+----------+-----------------+----------+----------+\n",
            "|     VECTORIZER     | SAMPLING | HYPER PARAMETER | ACCURACY | F1 SCORE |\n",
            "+--------------------+----------+-----------------+----------+----------+\n",
            "|        BOW         |  NORMAL  |        10       |  0.8647  |  0.856   |\n",
            "|        BOW         |  SMOTE   |        10       |  0.8632  |  0.8627  |\n",
            "|       TFIDF        |  NORMAL  |        10       | 0.86131  | 0.86346  |\n",
            "|       TFIDF        |  SMOTE   |        10       | 0.86587  | 0.87656  |\n",
            "| DESCRIPTION - BOW  |  SMOTE   |        10       | 0.86596  |  0.8647  |\n",
            "| DESCRIPTION- TFIDF |  SMOTE   |        10       | 0.86453  | 0.86415  |\n",
            "|  BOW+BERNOULLI-NB  |  NORMAL  |        1        | 0.85374  | 0.85812  |\n",
            "+--------------------+----------+-----------------+----------+----------+\n"
          ],
          "name": "stdout"
        }
      ]
    },
    {
      "cell_type": "markdown",
      "metadata": {
        "id": "UehVf1sx54WG",
        "colab_type": "text"
      },
      "source": [
        "\n",
        "\n",
        "1.   Prediction on Title using Tf-Idf with SMOTE gives the best accuracy, F1 score is also the best for the given model\n",
        "2.   Prediction on Description using BOW on SMOTE gives the best the accuracy and F1- Score.\n",
        "\n",
        "\n",
        "*   AUC curves, Confusion Matrices, Classification Reports and Categorical error-rate has been plotted for each of the models.\n",
        "\n",
        "\n",
        "\n",
        "\n"
      ]
    },
    {
      "cell_type": "code",
      "metadata": {
        "id": "DlugBUx25Lsp",
        "colab_type": "code",
        "colab": {}
      },
      "source": [
        ""
      ],
      "execution_count": 0,
      "outputs": []
    }
  ]
}