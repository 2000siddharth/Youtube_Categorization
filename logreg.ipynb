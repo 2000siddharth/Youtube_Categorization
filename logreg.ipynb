{
  "nbformat": 4,
  "nbformat_minor": 0,
  "metadata": {
    "colab": {
      "name": "logreg.ipynb",
      "provenance": [],
      "collapsed_sections": [],
      "authorship_tag": "ABX9TyOpDPNA8bI+Y5FfVK1WItAW",
      "include_colab_link": true
    },
    "kernelspec": {
      "name": "python3",
      "display_name": "Python 3"
    },
    "accelerator": "GPU"
  },
  "cells": [
    {
      "cell_type": "markdown",
      "metadata": {
        "id": "view-in-github",
        "colab_type": "text"
      },
      "source": [
        "<a href=\"https://colab.research.google.com/github/2000siddharth/web_scraping_classification/blob/master/logreg.ipynb\" target=\"_parent\"><img src=\"https://colab.research.google.com/assets/colab-badge.svg\" alt=\"Open In Colab\"/></a>"
      ]
    },
    {
      "cell_type": "code",
      "metadata": {
        "id": "XnGAjyWTM0-F",
        "colab_type": "code",
        "colab": {
          "base_uri": "https://localhost:8080/",
          "height": 70
        },
        "outputId": "6e435004-1bd5-4205-cb8d-abfe740cf0fc"
      },
      "source": [
        "import pandas as pd\n",
        "import numpy as np\n",
        "import matplotlib.pyplot as plt\n",
        "import seaborn as sns\n",
        "%matplotlib inline"
      ],
      "execution_count": 1,
      "outputs": [
        {
          "output_type": "stream",
          "text": [
            "/usr/local/lib/python3.6/dist-packages/statsmodels/tools/_testing.py:19: FutureWarning: pandas.util.testing is deprecated. Use the functions in the public API at pandas.testing instead.\n",
            "  import pandas.util.testing as tm\n"
          ],
          "name": "stderr"
        }
      ]
    },
    {
      "cell_type": "code",
      "metadata": {
        "id": "tdSJfF5zPh4C",
        "colab_type": "code",
        "outputId": "6955dfcf-42aa-48bf-934b-ee6cf9adea44",
        "colab": {
          "base_uri": "https://localhost:8080/",
          "height": 70
        }
      },
      "source": [
        "import numpy as np\n",
        "import pandas as pd\n",
        "import seaborn as sn\n",
        "from gensim.models import Word2Vec\n",
        "from gensim.models import KeyedVectors\n",
        "from tqdm import tqdm\n",
        "from sklearn.neighbors import KNeighborsClassifier\n",
        "from sklearn.preprocessing import StandardScaler\n",
        "import sqlite3\n",
        "from sklearn.feature_extraction.text import CountVectorizer\n",
        "from sklearn.feature_extraction.text import TfidfVectorizer\n",
        "from sklearn.externals import joblib\n",
        "from sklearn.metrics import roc_auc_score\n",
        "import matplotlib.pyplot as plt\n",
        "from sklearn.metrics import confusion_matrix\n",
        "from sklearn.metrics import roc_curve, auc\n",
        "from sklearn.metrics import classification_report\n",
        "from prettytable import PrettyTable"
      ],
      "execution_count": 2,
      "outputs": [
        {
          "output_type": "stream",
          "text": [
            "/usr/local/lib/python3.6/dist-packages/sklearn/externals/joblib/__init__.py:15: FutureWarning: sklearn.externals.joblib is deprecated in 0.21 and will be removed in 0.23. Please import this functionality directly from joblib, which can be installed with: pip install joblib. If this warning is raised when loading pickled models, you may need to re-serialize those models with scikit-learn 0.21+.\n",
            "  warnings.warn(msg, category=FutureWarning)\n"
          ],
          "name": "stderr"
        }
      ]
    },
    {
      "cell_type": "code",
      "metadata": {
        "id": "2h1DslL9NQ3Y",
        "colab_type": "code",
        "colab": {}
      },
      "source": [
        "df = pd.read_csv('combined_youtube4.csv')"
      ],
      "execution_count": 0,
      "outputs": []
    },
    {
      "cell_type": "code",
      "metadata": {
        "id": "gwe4m_ZfNRZY",
        "colab_type": "code",
        "colab": {}
      },
      "source": [
        "def cleaner(phrase):\n",
        "    phrase = re.sub(r\"won't\", \"will not\", phrase)\n",
        "    phrase = re.sub(r\"can't\", 'can not', phrase)\n",
        "  \n",
        "  # general\n",
        "    phrase = re.sub(r\"n\\'t\",\" not\", phrase)\n",
        "    phrase = re.sub(r\"\\'re'\",\" are\", phrase)\n",
        "    phrase = re.sub(r\"\\'s\",\" is\", phrase)\n",
        "    phrase = re.sub(r\"\\'ll\",\" will\", phrase)\n",
        "    phrase = re.sub(r\"\\'d\",\" would\", phrase)\n",
        "    phrase = re.sub(r\"\\'t\",\" not\", phrase)\n",
        "    phrase = re.sub(r\"\\'ve\",\" have\", phrase)\n",
        "    phrase = re.sub(r\"\\'m\",\" am\", phrase)\n",
        "    \n",
        "    return phrase"
      ],
      "execution_count": 0,
      "outputs": []
    },
    {
      "cell_type": "code",
      "metadata": {
        "id": "2Y63gcJjNRcp",
        "colab_type": "code",
        "outputId": "9e8ddca3-e0e9-4b66-e22f-ae18fbfbad43",
        "colab": {
          "base_uri": "https://localhost:8080/",
          "height": 50
        }
      },
      "source": [
        "from bs4 import BeautifulSoup\n",
        "from tqdm import tqdm\n",
        "import re\n",
        "\n",
        "import nltk\n",
        "nltk.download('stopwords')\n",
        "\n",
        "from nltk.corpus import stopwords"
      ],
      "execution_count": 5,
      "outputs": [
        {
          "output_type": "stream",
          "text": [
            "[nltk_data] Downloading package stopwords to /root/nltk_data...\n",
            "[nltk_data]   Unzipping corpora/stopwords.zip.\n"
          ],
          "name": "stdout"
        }
      ]
    },
    {
      "cell_type": "code",
      "metadata": {
        "id": "9UIiGvFoNRfx",
        "colab_type": "code",
        "outputId": "6926a691-12ff-4b87-e25e-e0810f76ce4f",
        "colab": {
          "base_uri": "https://localhost:8080/",
          "height": 34
        }
      },
      "source": [
        "stop = set(stopwords.words('english'))\n",
        "len(stop)"
      ],
      "execution_count": 6,
      "outputs": [
        {
          "output_type": "execute_result",
          "data": {
            "text/plain": [
              "179"
            ]
          },
          "metadata": {
            "tags": []
          },
          "execution_count": 6
        }
      ]
    },
    {
      "cell_type": "code",
      "metadata": {
        "id": "8JTurytMNRjE",
        "colab_type": "code",
        "outputId": "3b54f5f6-2895-47a3-b803-754baa2f4794",
        "colab": {
          "base_uri": "https://localhost:8080/",
          "height": 34
        }
      },
      "source": [
        "cleaned_title = []\n",
        "\n",
        "for sentance in tqdm(df['title'].values):\n",
        "    sentance = str(sentance)\n",
        "    sentance = re.sub(r\"http\\S+\", \"\", sentance)\n",
        "    sentance = BeautifulSoup(sentance, 'lxml').get_text()\n",
        "    sentance = cleaner(sentance)\n",
        "    sentance = re.sub(r'[?|!|\\'|\"|#|+]', r'', sentance)\n",
        "    sentance = re.sub(\"\\S*\\d\\S*\", \"\", sentance).strip()\n",
        "    sentance = re.sub('[^A-Za-z]+', ' ', sentance)\n",
        "    sentance = ' '.join(e.lower() for e in sentance.split() if e.lower() not in stop)\n",
        "    cleaned_title.append(sentance.strip())"
      ],
      "execution_count": 7,
      "outputs": [
        {
          "output_type": "stream",
          "text": [
            "100%|██████████| 10275/10275 [00:02<00:00, 4669.31it/s]\n"
          ],
          "name": "stderr"
        }
      ]
    },
    {
      "cell_type": "code",
      "metadata": {
        "id": "Ct-2ItU7PT6P",
        "colab_type": "code",
        "colab": {
          "base_uri": "https://localhost:8080/",
          "height": 87
        },
        "outputId": "553b0dec-684d-4023-f267-b6cfa24275aa"
      },
      "source": [
        "cleaned_description = []\n",
        "\n",
        "for sentance in tqdm(df['description'].values):\n",
        "    sentance = str(sentance)\n",
        "    sentance = re.sub(r\"http\\S+\", \"\", sentance)\n",
        "    sentance = BeautifulSoup(sentance, 'lxml').get_text()\n",
        "    sentance = cleaner(sentance)\n",
        "    sentance = re.sub(r'[?|!|\\'|\"|#|+]', r'', sentance)\n",
        "    sentance = re.sub(\"\\S*\\d\\S*\", \"\", sentance).strip()\n",
        "    sentance = re.sub('[^A-Za-z]+', ' ', sentance)\n",
        "    sentance = ' '.join(e.lower() for e in sentance.split() if e.lower() not in stop)\n",
        "    cleaned_description.append(sentance.strip())"
      ],
      "execution_count": 8,
      "outputs": [
        {
          "output_type": "stream",
          "text": [
            " 34%|███▎      | 3467/10275 [00:00<00:01, 4351.99it/s]/usr/local/lib/python3.6/dist-packages/bs4/__init__.py:273: UserWarning: \"b'.'\" looks like a filename, not markup. You should probably open this file and pass the filehandle into Beautiful Soup.\n",
            "  ' Beautiful Soup.' % markup)\n",
            "100%|██████████| 10275/10275 [00:02<00:00, 4255.82it/s]\n"
          ],
          "name": "stderr"
        }
      ]
    },
    {
      "cell_type": "code",
      "metadata": {
        "id": "U8213WoaNRmS",
        "colab_type": "code",
        "outputId": "6ad94bac-209d-48c3-93ff-009cb65e8ef7",
        "colab": {
          "base_uri": "https://localhost:8080/",
          "height": 195
        }
      },
      "source": [
        "df['title'] = cleaned_title\n",
        "df['description'] = cleaned_description\n",
        "df.head()"
      ],
      "execution_count": 9,
      "outputs": [
        {
          "output_type": "execute_result",
          "data": {
            "text/html": [
              "<div>\n",
              "<style scoped>\n",
              "    .dataframe tbody tr th:only-of-type {\n",
              "        vertical-align: middle;\n",
              "    }\n",
              "\n",
              "    .dataframe tbody tr th {\n",
              "        vertical-align: top;\n",
              "    }\n",
              "\n",
              "    .dataframe thead th {\n",
              "        text-align: right;\n",
              "    }\n",
              "</style>\n",
              "<table border=\"1\" class=\"dataframe\">\n",
              "  <thead>\n",
              "    <tr style=\"text-align: right;\">\n",
              "      <th></th>\n",
              "      <th>video_id</th>\n",
              "      <th>title</th>\n",
              "      <th>description</th>\n",
              "      <th>category</th>\n",
              "    </tr>\n",
              "  </thead>\n",
              "  <tbody>\n",
              "    <tr>\n",
              "      <th>0</th>\n",
              "      <td>https://www.youtube.com/watch?v=J8XJjkA5NuQ</td>\n",
              "      <td>dr p j abdul kalam lecture series iit bombay</td>\n",
              "      <td>techfest iit bombay presents dr p j abdul kala...</td>\n",
              "      <td>tutorial</td>\n",
              "    </tr>\n",
              "    <tr>\n",
              "      <th>1</th>\n",
              "      <td>https://www.youtube.com/watch?v=C31hcftHBIk</td>\n",
              "      <td>lecture laa ke nachhatar gill full video song ...</td>\n",
              "      <td>angel records presents new punjabi song lectur...</td>\n",
              "      <td>tutorial</td>\n",
              "    </tr>\n",
              "    <tr>\n",
              "      <th>2</th>\n",
              "      <td>https://www.youtube.com/watch?v=Xn7KWR9EOGQ</td>\n",
              "      <td>basics stock market beginners lecture ca racha...</td>\n",
              "      <td>get lectures new website opportunity learn con...</td>\n",
              "      <td>tutorial</td>\n",
              "    </tr>\n",
              "    <tr>\n",
              "      <th>3</th>\n",
              "      <td>https://www.youtube.com/watch?v=FPaByTt1Yws</td>\n",
              "      <td>musique classique pour la lecture de mozart ch...</td>\n",
              "      <td>musique classique pour la lecture de mozart ch...</td>\n",
              "      <td>tutorial</td>\n",
              "    </tr>\n",
              "    <tr>\n",
              "      <th>4</th>\n",
              "      <td>https://www.youtube.com/watch?v=ViyG77Bca4I</td>\n",
              "      <td>pte retell lecture january february predicted ...</td>\n",
              "      <td>practice session covers pte retell lecture rea...</td>\n",
              "      <td>tutorial</td>\n",
              "    </tr>\n",
              "  </tbody>\n",
              "</table>\n",
              "</div>"
            ],
            "text/plain": [
              "                                      video_id  ...  category\n",
              "0  https://www.youtube.com/watch?v=J8XJjkA5NuQ  ...  tutorial\n",
              "1  https://www.youtube.com/watch?v=C31hcftHBIk  ...  tutorial\n",
              "2  https://www.youtube.com/watch?v=Xn7KWR9EOGQ  ...  tutorial\n",
              "3  https://www.youtube.com/watch?v=FPaByTt1Yws  ...  tutorial\n",
              "4  https://www.youtube.com/watch?v=ViyG77Bca4I  ...  tutorial\n",
              "\n",
              "[5 rows x 4 columns]"
            ]
          },
          "metadata": {
            "tags": []
          },
          "execution_count": 9
        }
      ]
    },
    {
      "cell_type": "code",
      "metadata": {
        "id": "c63cMK7NNRpm",
        "colab_type": "code",
        "colab": {}
      },
      "source": [
        "from sklearn.preprocessing import LabelEncoder\n",
        "from sklearn.preprocessing import OneHotEncoder\n",
        "from sklearn import preprocessing\n",
        "\n",
        "labels = LabelEncoder()\n",
        "df['categoryid'] = labels.fit_transform(df['category'])\n",
        "\n",
        "X = df['title']\n",
        "y = df['categoryid']"
      ],
      "execution_count": 0,
      "outputs": []
    },
    {
      "cell_type": "code",
      "metadata": {
        "id": "O-tr3ricNRsb",
        "colab_type": "code",
        "outputId": "3e4618cd-893e-4c86-bb29-3fcc75050d2e",
        "colab": {
          "base_uri": "https://localhost:8080/",
          "height": 384
        }
      },
      "source": [
        "import matplotlib.pyplot as plt\n",
        "fig = plt.figure(figsize=(8,6))\n",
        "df.groupby('categoryid').title.count().plot.bar(ylim=0)\n",
        "plt.show()"
      ],
      "execution_count": 11,
      "outputs": [
        {
          "output_type": "display_data",
          "data": {
            "image/png": "[encoded data removed]",
            "text/plain": [
              "<Figure size 576x432 with 1 Axes>"
            ]
          },
          "metadata": {
            "tags": []
          }
        }
      ]
    },
    {
      "cell_type": "code",
      "metadata": {
        "id": "3AV-6Tg4NRvT",
        "colab_type": "code",
        "colab": {}
      },
      "source": [
        "from sklearn.model_selection import StratifiedShuffleSplit"
      ],
      "execution_count": 0,
      "outputs": []
    },
    {
      "cell_type": "code",
      "metadata": {
        "id": "rGEXzpKH1Udb",
        "colab_type": "code",
        "outputId": "2a8a3788-4b18-4d1c-bc56-769761cdc7cd",
        "colab": {
          "base_uri": "https://localhost:8080/",
          "height": 34
        }
      },
      "source": [
        "sss = StratifiedShuffleSplit(n_splits=10, test_size=0.2, random_state=0)\n",
        "sss.get_n_splits(X, y)"
      ],
      "execution_count": 13,
      "outputs": [
        {
          "output_type": "execute_result",
          "data": {
            "text/plain": [
              "10"
            ]
          },
          "metadata": {
            "tags": []
          },
          "execution_count": 13
        }
      ]
    },
    {
      "cell_type": "code",
      "metadata": {
        "id": "2qWaRk2M1UYu",
        "colab_type": "code",
        "colab": {}
      },
      "source": [
        "for train_index, test_index in sss.split(X, y):\n",
        "#    print(\"TRAIN:\", train_index, \"TEST:\", test_index)\n",
        "    X_Train, X_test = X[train_index], X[test_index]\n",
        "    y_Train, y_test = y[train_index], y[test_index]   "
      ],
      "execution_count": 0,
      "outputs": []
    },
    {
      "cell_type": "code",
      "metadata": {
        "id": "ZsjgYZXs1UVt",
        "colab_type": "code",
        "outputId": "9a589113-86d6-48bb-9162-dbe7e830c9e6",
        "colab": {
          "base_uri": "https://localhost:8080/",
          "height": 34
        }
      },
      "source": [
        "ssh = StratifiedShuffleSplit(n_splits=10, test_size=0.1, random_state=0)\n",
        "ssh.get_n_splits(X_Train, y_Train)"
      ],
      "execution_count": 15,
      "outputs": [
        {
          "output_type": "execute_result",
          "data": {
            "text/plain": [
              "10"
            ]
          },
          "metadata": {
            "tags": []
          },
          "execution_count": 15
        }
      ]
    },
    {
      "cell_type": "code",
      "metadata": {
        "id": "C90-D2Rj1UT0",
        "colab_type": "code",
        "colab": {}
      },
      "source": [
        "for train_index, test_index in ssh.split(X_Train, y_Train):\n",
        "    #print(\"TRAIN:\", train_index, \"TEST:\", test_index)\n",
        "    X_train, X_cross = X[train_index], X[test_index]\n",
        "    y_train, y_cross = y[train_index], y[test_index]  "
      ],
      "execution_count": 0,
      "outputs": []
    },
    {
      "cell_type": "code",
      "metadata": {
        "id": "lOG22K9WNRyo",
        "colab_type": "code",
        "colab": {}
      },
      "source": [
        "from sklearn.model_selection import train_test_split\n",
        "from sklearn.feature_extraction.text import CountVectorizer\n",
        "from sklearn.feature_extraction.text import TfidfTransformer\n",
        "from sklearn.naive_bayes import MultinomialNB"
      ],
      "execution_count": 0,
      "outputs": []
    },
    {
      "cell_type": "code",
      "metadata": {
        "id": "qU6Ek52pNR2I",
        "colab_type": "code",
        "colab": {}
      },
      "source": [
        "count_vect = CountVectorizer()\n",
        "count_vect.fit(X_train)\n",
        "X_train_counts = count_vect.transform(X_train)\n",
        "X_cross_counts = count_vect.transform(X_cross)\n",
        "X_test_counts = count_vect.transform(X_test)"
      ],
      "execution_count": 0,
      "outputs": []
    },
    {
      "cell_type": "code",
      "metadata": {
        "id": "zKFYTFvzNR6-",
        "colab_type": "code",
        "colab": {}
      },
      "source": [
        "from sklearn.linear_model import LogisticRegression"
      ],
      "execution_count": 0,
      "outputs": []
    },
    {
      "cell_type": "markdown",
      "metadata": {
        "id": "sDCSJ3puSYAZ",
        "colab_type": "text"
      },
      "source": [
        "**Simple Logistic BOW model L2**"
      ]
    },
    {
      "cell_type": "code",
      "metadata": {
        "id": "LdfAUnEkYnlk",
        "colab_type": "code",
        "colab": {}
      },
      "source": [
        "c=[0.001,0.01,0.1,1,10,100]\n",
        "Train_AUC_BOW = []\n",
        "CrossVal_AUC_BOW = []\n",
        "for i in c:\n",
        "  logreg = LogisticRegression(C=i)\n",
        "  logreg.fit(X_train_counts, y_train)\n",
        "  y_train_pred = logreg.predict_proba(X_train_counts)[0:,]\n",
        "  Train_AUC_BOW.append(roc_auc_score(y_train,y_train_pred, multi_class='ovr'))\n",
        "  CrossVal_y_pred = logreg.predict_proba(X_cross_counts)[0:,]\n",
        "  CrossVal_AUC_BOW.append(roc_auc_score(y_cross,CrossVal_y_pred,  multi_class='ovr'))"
      ],
      "execution_count": 0,
      "outputs": []
    },
    {
      "cell_type": "code",
      "metadata": {
        "id": "cmH5-Ttm56vr",
        "colab_type": "code",
        "outputId": "9d116d8b-9769-4d8e-b517-3a4eb045feb9",
        "colab": {
          "base_uri": "https://localhost:8080/",
          "height": 34
        }
      },
      "source": [
        "y_train.shape"
      ],
      "execution_count": 0,
      "outputs": [
        {
          "output_type": "execute_result",
          "data": {
            "text/plain": [
              "(7398,)"
            ]
          },
          "metadata": {
            "tags": []
          },
          "execution_count": 28
        }
      ]
    },
    {
      "cell_type": "code",
      "metadata": {
        "id": "oUxtCPJ96TQV",
        "colab_type": "code",
        "outputId": "32dfb48f-691b-4b93-efc5-33c80733d8de",
        "colab": {
          "base_uri": "https://localhost:8080/",
          "height": 34
        }
      },
      "source": [
        "y_train_pred.shape"
      ],
      "execution_count": 0,
      "outputs": [
        {
          "output_type": "execute_result",
          "data": {
            "text/plain": [
              "(7398, 10)"
            ]
          },
          "metadata": {
            "tags": []
          },
          "execution_count": 27
        }
      ]
    },
    {
      "cell_type": "code",
      "metadata": {
        "id": "62d-c7AhpCp2",
        "colab_type": "code",
        "colab": {}
      },
      "source": [
        "C=[]\n",
        "for i in range(len(c)):\n",
        "  C.append(math.log(c[i]))"
      ],
      "execution_count": 0,
      "outputs": []
    },
    {
      "cell_type": "code",
      "metadata": {
        "id": "N41Buc7WpCny",
        "colab_type": "code",
        "colab": {}
      },
      "source": [
        "from numpy import math"
      ],
      "execution_count": 0,
      "outputs": []
    },
    {
      "cell_type": "code",
      "metadata": {
        "id": "EU2hhr-tpCjs",
        "colab_type": "code",
        "outputId": "433f61c8-2010-401a-d661-dfc1afc4af13",
        "colab": {
          "base_uri": "https://localhost:8080/",
          "height": 295
        }
      },
      "source": [
        "plt.plot(C, Train_AUC_BOW, label='Train AUC')\n",
        "plt.scatter(C, Train_AUC_BOW)\n",
        "plt.plot(C, CrossVal_AUC_BOW, label='CrossVal AUC')\n",
        "plt.scatter(C, CrossVal_AUC_BOW)\n",
        "plt.legend()\n",
        "plt.xlabel(\"lambda : hyperparameter\")\n",
        "plt.ylabel(\"AUC\")\n",
        "plt.title(\"ERROR PLOTS\")\n",
        "plt.show()"
      ],
      "execution_count": 0,
      "outputs": [
        {
          "output_type": "display_data",
          "data": {
            "image/png": "[encoded data removed]",
            "text/plain": [
              "<Figure size 432x288 with 1 Axes>"
            ]
          },
          "metadata": {
            "tags": []
          }
        }
      ]
    },
    {
      "cell_type": "code",
      "metadata": {
        "id": "tF5TeJDUpChp",
        "colab_type": "code",
        "outputId": "5e526a12-d173-4bed-c75d-9a7ae0f71350",
        "colab": {
          "base_uri": "https://localhost:8080/",
          "height": 34
        }
      },
      "source": [
        "optimal_inverse_lambda=c[CrossVal_AUC_BOW.index(max(CrossVal_AUC_BOW))]\n",
        "print(pow(optimal_inverse_lambda,-1))"
      ],
      "execution_count": 0,
      "outputs": [
        {
          "output_type": "stream",
          "text": [
            "0.1\n"
          ],
          "name": "stdout"
        }
      ]
    },
    {
      "cell_type": "markdown",
      "metadata": {
        "id": "kGQYXmdKSvee",
        "colab_type": "text"
      },
      "source": [
        "The optimal value of lambda is 0.1"
      ]
    },
    {
      "cell_type": "code",
      "metadata": {
        "id": "AfbvMHj8pCd1",
        "colab_type": "code",
        "colab": {}
      },
      "source": [
        "Classifier=LogisticRegression(C=optimal_inverse_lambda)\n",
        "Classifier.fit(X_train_counts, y_train)"
      ],
      "execution_count": 0,
      "outputs": []
    },
    {
      "cell_type": "code",
      "metadata": {
        "id": "sD3Z9FozS3e9",
        "colab_type": "code",
        "outputId": "d1e5c3ed-e016-4220-9c18-b1bdfac95c35",
        "colab": {
          "base_uri": "https://localhost:8080/",
          "height": 50
        }
      },
      "source": [
        "auc_train_bow = roc_auc_score(y_train,Classifier.predict_proba(X_train_counts)[0:,], multi_class='ovr')\n",
        "print (\"AUC for Train set\", auc_train_bow)\n",
        "\n",
        "auc_test_bow = roc_auc_score(y_test,Classifier.predict_proba(X_test_counts)[0:,], multi_class='ovr')\n",
        "print (\"AUc for Test set\",auc_test_bow)"
      ],
      "execution_count": 0,
      "outputs": [
        {
          "output_type": "stream",
          "text": [
            "AUC for Train set 0.9985814449271404\n",
            "AUc for Test set 0.9939407150722662\n"
          ],
          "name": "stdout"
        }
      ]
    },
    {
      "cell_type": "code",
      "metadata": {
        "id": "Nj7yLSoapCbH",
        "colab_type": "code",
        "outputId": "6022cba8-562c-491d-bbe7-7cfaf5a9cf14",
        "colab": {
          "base_uri": "https://localhost:8080/",
          "height": 202
        }
      },
      "source": [
        "print('Confusion Matrix of Train Data')\n",
        "Train_mat=confusion_matrix(y_train,Classifier.predict(X_train_counts))\n",
        "print (Train_mat)"
      ],
      "execution_count": 0,
      "outputs": [
        {
          "output_type": "stream",
          "text": [
            "Confusion Matrix of Train Data\n",
            "[[351   0   0   0   1   0   0   0   0   0]\n",
            " [  0 782   0   3   0   0   0   0 147   1]\n",
            " [  0   0 810   0   0   0   0   1   0   2]\n",
            " [  0   0   0 839   0   0   0   0   1   0]\n",
            " [  0   0   0   0 369   0   1   0   0   0]\n",
            " [  0   0   0   0   1 603   0   0   0   0]\n",
            " [  0   1   0   0   0   1 870   0   0   0]\n",
            " [  0   0   2   1   0   0   0 915   0   5]\n",
            " [  0 130   0   3   0   0   0   0 657   1]\n",
            " [  0   0   0   0   0   0   0   3   0 897]]\n"
          ],
          "name": "stdout"
        }
      ]
    },
    {
      "cell_type": "code",
      "metadata": {
        "id": "4zvurMWl3ZAm",
        "colab_type": "code",
        "colab": {}
      },
      "source": [
        "ticks = df['category'].unique()"
      ],
      "execution_count": 0,
      "outputs": []
    },
    {
      "cell_type": "code",
      "metadata": {
        "id": "PvLnKsrk3Ji8",
        "colab_type": "code",
        "outputId": "f2157c58-7355-4a35-bf95-0422f8a4f03b",
        "colab": {
          "base_uri": "https://localhost:8080/",
          "height": 606
        }
      },
      "source": [
        "fig, ax = plt.subplots(figsize=(10,10))\n",
        "sns.heatmap(Train_mat, annot=True, fmt='d',cmap='Blues', xticklabels=ticks, yticklabels=ticks)\n",
        "plt.ylabel('Actual')\n",
        "plt.xlabel('Predicted')\n",
        "plt.show()"
      ],
      "execution_count": 0,
      "outputs": [
        {
          "output_type": "display_data",
          "data": {
            "image/png": "[encoded data removed]",
            "text/plain": [
              "<Figure size 720x720 with 2 Axes>"
            ]
          },
          "metadata": {
            "tags": []
          }
        }
      ]
    },
    {
      "cell_type": "code",
      "metadata": {
        "id": "0W4dgsHvZjrv",
        "colab_type": "code",
        "outputId": "8331eb16-842b-447a-9352-aaa78f8e2d66",
        "colab": {
          "base_uri": "https://localhost:8080/",
          "height": 302
        }
      },
      "source": [
        "from sklearn import metrics\n",
        "print(metrics.classification_report(y_train,Classifier.predict(X_train_counts), target_names=df['category'].unique()))"
      ],
      "execution_count": 0,
      "outputs": [
        {
          "output_type": "stream",
          "text": [
            "              precision    recall  f1-score   support\n",
            "\n",
            "    tutorial       1.00      1.00      1.00       352\n",
            "     science       0.86      0.84      0.85       933\n",
            "        vlog       1.00      1.00      1.00       813\n",
            "        food       0.99      1.00      1.00       840\n",
            "     fashion       0.99      1.00      1.00       370\n",
            "      travel       1.00      1.00      1.00       604\n",
            "       music       1.00      1.00      1.00       872\n",
            "      movies       1.00      0.99      0.99       923\n",
            "     history       0.82      0.83      0.82       791\n",
            "         art       0.99      1.00      0.99       900\n",
            "\n",
            "    accuracy                           0.96      7398\n",
            "   macro avg       0.96      0.96      0.96      7398\n",
            "weighted avg       0.96      0.96      0.96      7398\n",
            "\n"
          ],
          "name": "stdout"
        }
      ]
    },
    {
      "cell_type": "code",
      "metadata": {
        "id": "rtyA1E7JZjoz",
        "colab_type": "code",
        "outputId": "84a1d5a6-21da-48c7-88bd-fa866bf8509f",
        "colab": {
          "base_uri": "https://localhost:8080/",
          "height": 34
        }
      },
      "source": [
        "print('Confusion Matrix of Test Data')\n",
        "Test_mat=confusion_matrix(y_test,Classifier.predict(X_test_counts))"
      ],
      "execution_count": 0,
      "outputs": [
        {
          "output_type": "stream",
          "text": [
            "Confusion Matrix of Test Data\n"
          ],
          "name": "stdout"
        }
      ]
    },
    {
      "cell_type": "code",
      "metadata": {
        "id": "pfSCrpnhWZa-",
        "colab_type": "code",
        "outputId": "86b3e424-1d21-47e2-9e6f-ba697f11aaa4",
        "colab": {
          "base_uri": "https://localhost:8080/",
          "height": 185
        }
      },
      "source": [
        "print (Test_mat)\n"
      ],
      "execution_count": 0,
      "outputs": [
        {
          "output_type": "stream",
          "text": [
            "[[130   4  15   2   0   3  20   2   7  27]\n",
            " [  0 167   0   1   0   0   0   0  38   0]\n",
            " [  0   0 207   0   0   0   0   1   0   0]\n",
            " [  0   0   0 187   0   0   0   0   1   0]\n",
            " [  0   1   0   0 196   2   1   1   2   5]\n",
            " [  0   3   1   1   2 153   0   1  12  45]\n",
            " [  0   0   0   0   0   1 191   0   0   0]\n",
            " [  0   0   0   0   0   0   0 203   0   1]\n",
            " [  1  42   5   2   0   0   6   0 156  10]\n",
            " [  0   0   0   0   0   0   0   3   0 196]]\n"
          ],
          "name": "stdout"
        }
      ]
    },
    {
      "cell_type": "code",
      "metadata": {
        "id": "6WlEZ6NsXv5Y",
        "colab_type": "code",
        "outputId": "c3c1c2bf-c717-4193-f548-74340990cd58",
        "colab": {
          "base_uri": "https://localhost:8080/",
          "height": 302
        }
      },
      "source": [
        "from sklearn import metrics\n",
        "print(metrics.classification_report(y_test,Classifier.predict(X_test_counts), target_names=df['category'].unique()))"
      ],
      "execution_count": 0,
      "outputs": [
        {
          "output_type": "stream",
          "text": [
            "              precision    recall  f1-score   support\n",
            "\n",
            "    tutorial       0.99      0.62      0.76       210\n",
            "     science       0.77      0.81      0.79       206\n",
            "        vlog       0.91      1.00      0.95       208\n",
            "        food       0.97      0.99      0.98       188\n",
            "     fashion       0.99      0.94      0.97       208\n",
            "      travel       0.96      0.70      0.81       218\n",
            "       music       0.88      0.99      0.93       192\n",
            "      movies       0.96      1.00      0.98       204\n",
            "     history       0.72      0.70      0.71       222\n",
            "         art       0.69      0.98      0.81       199\n",
            "\n",
            "    accuracy                           0.87      2055\n",
            "   macro avg       0.88      0.87      0.87      2055\n",
            "weighted avg       0.88      0.87      0.87      2055\n",
            "\n"
          ],
          "name": "stdout"
        }
      ]
    },
    {
      "cell_type": "code",
      "metadata": {
        "id": "ydyKh-jnb2UO",
        "colab_type": "code",
        "outputId": "2f5d25a0-b4f4-4cba-867f-d1d61038b9cd",
        "colab": {
          "base_uri": "https://localhost:8080/",
          "height": 609
        }
      },
      "source": [
        "plt.figure(figsize=(10,10))\n",
        "sns.heatmap(Test_mat, annot=True, cbar=False, fmt='g',cmap='Blues', xticklabels=ticks, yticklabels=ticks)"
      ],
      "execution_count": 0,
      "outputs": [
        {
          "output_type": "execute_result",
          "data": {
            "text/plain": [
              "<matplotlib.axes._subplots.AxesSubplot at 0x7faf2ffe5d30>"
            ]
          },
          "metadata": {
            "tags": []
          },
          "execution_count": 90
        },
        {
          "output_type": "display_data",
          "data": {
            "image/png": "[encoded data removed]",
            "text/plain": [
              "<Figure size 720x720 with 1 Axes>"
            ]
          },
          "metadata": {
            "tags": []
          }
        }
      ]
    },
    {
      "cell_type": "code",
      "metadata": {
        "id": "GL5bU-3LkeIB",
        "colab_type": "code",
        "colab": {}
      },
      "source": [
        "recall = np.diag(Test_mat) / np.sum(Test_mat, axis = 1)\n",
        "precision = np.diag(Test_mat) / np.sum(Test_mat, axis = 0)"
      ],
      "execution_count": 0,
      "outputs": []
    },
    {
      "cell_type": "code",
      "metadata": {
        "id": "0NG2gfFYkqpS",
        "colab_type": "code",
        "outputId": "5b9f9817-5a69-46c9-e215-4d4e787cb816",
        "colab": {
          "base_uri": "https://localhost:8080/",
          "height": 104
        }
      },
      "source": [
        "feature_names = count_vect.get_feature_names()\n",
        "prob_sorted = sorted(zip(Classifier.coef_[7], feature_names))\n",
        "print(\"Top 10 negative class words\")\n",
        "print(prob_sorted[:10])\n",
        "print(\"Top 10 positive class words\")\n",
        "print(prob_sorted[:-(11):-1])"
      ],
      "execution_count": 0,
      "outputs": [
        {
          "output_type": "stream",
          "text": [
            "Top 10 negative class words\n",
            "[(-2.161420682081169, 'fiction'), (-1.8869989996572245, 'extra'), (-1.5656823898577115, 'movies'), (-1.3193986394645887, 'singapore'), (-1.1121887869541724, 'restaurant'), (-1.0493262934974106, 'vlogging'), (-1.0359628377741976, 'time'), (-1.0070505991908367, 'movie'), (-0.8966307079708055, 'trailers'), (-0.8864864229359545, 'made')]\n",
            "Top 10 positive class words\n",
            "[(6.786746738077416, 'travel'), (6.50977909882536, 'tourism'), (4.8779821768912806, 'tourist'), (3.598049028081689, 'bahamas'), (3.3328537926846478, 'traveling'), (2.7583107602337273, 'visit'), (2.7042142462406886, 'blog'), (2.6879613496703896, 'trip'), (2.2734658759559085, 'things'), (2.1800613418907635, 'travellers')]\n"
          ],
          "name": "stdout"
        }
      ]
    },
    {
      "cell_type": "code",
      "metadata": {
        "id": "sZ39yIZ4blM7",
        "colab_type": "code",
        "colab": {}
      },
      "source": [
        ""
      ],
      "execution_count": 0,
      "outputs": []
    },
    {
      "cell_type": "markdown",
      "metadata": {
        "id": "32B4vzmcT4vj",
        "colab_type": "text"
      },
      "source": [
        "**Logistic Regression with BOW model using L1 regularization**"
      ]
    },
    {
      "cell_type": "code",
      "metadata": {
        "id": "exK0pbaAdq61",
        "colab_type": "code",
        "colab": {}
      },
      "source": [
        "c=[0.001,0.01,0.1,1,10,100]\n",
        "Train_AUC_BOW = []\n",
        "CrossVal_AUC_BOW = []\n",
        "for i in c:\n",
        "  logreg = LogisticRegression(C=i, penalty='l1', solver='saga')\n",
        "  logreg.fit(X_train_counts, y_train)\n",
        "  y_train_pred = logreg.predict_proba(X_train_counts)[0:,]\n",
        "  Train_AUC_BOW.append(roc_auc_score(y_train,y_train_pred, multi_class='ovr'))\n",
        "  CrossVal_y_pred = logreg.predict_proba(X_cross_counts)[0:,]\n",
        "  CrossVal_AUC_BOW.append(roc_auc_score(y_cross,CrossVal_y_pred,  multi_class='ovr'))"
      ],
      "execution_count": 0,
      "outputs": []
    },
    {
      "cell_type": "code",
      "metadata": {
        "id": "dmLzyiZ0Uwtm",
        "colab_type": "code",
        "colab": {}
      },
      "source": [
        "C=[]\n",
        "for i in range(len(c)):\n",
        "  C.append(math.log(c[i]))"
      ],
      "execution_count": 0,
      "outputs": []
    },
    {
      "cell_type": "code",
      "metadata": {
        "id": "rwzf0gVVeFbO",
        "colab_type": "code",
        "outputId": "8dc707ec-92fd-49e0-9a49-333ce04660b5",
        "colab": {
          "base_uri": "https://localhost:8080/",
          "height": 295
        }
      },
      "source": [
        "plt.plot(C, Train_AUC_BOW, label='Train AUC')\n",
        "plt.scatter(C, Train_AUC_BOW)\n",
        "plt.plot(C, CrossVal_AUC_BOW, label='CrossVal AUC')\n",
        "plt.scatter(C, CrossVal_AUC_BOW)\n",
        "plt.legend()\n",
        "plt.xlabel(\"lambda : hyperparameter\")\n",
        "plt.ylabel(\"AUC\")\n",
        "plt.title(\"ERROR PLOTS\")\n",
        "plt.show()"
      ],
      "execution_count": 0,
      "outputs": [
        {
          "output_type": "display_data",
          "data": {
            "image/png": "[encoded data removed]",
            "text/plain": [
              "<Figure size 432x288 with 1 Axes>"
            ]
          },
          "metadata": {
            "tags": []
          }
        }
      ]
    },
    {
      "cell_type": "code",
      "metadata": {
        "id": "7vmjb0pEfQA6",
        "colab_type": "code",
        "outputId": "2813f8a7-4831-4a4a-e4cd-1eede81367a7",
        "colab": {
          "base_uri": "https://localhost:8080/",
          "height": 34
        }
      },
      "source": [
        "optimal_inverse_lambda=c[CrossVal_AUC_BOW.index(max(CrossVal_AUC_BOW))]\n",
        "print(pow(optimal_inverse_lambda,-1))"
      ],
      "execution_count": 0,
      "outputs": [
        {
          "output_type": "stream",
          "text": [
            "1.0\n"
          ],
          "name": "stdout"
        }
      ]
    },
    {
      "cell_type": "code",
      "metadata": {
        "id": "5xtce4Xxgc1R",
        "colab_type": "code",
        "colab": {}
      },
      "source": [
        "Classifier=LogisticRegression(C=optimal_inverse_lambda,penalty='l1', solver='saga')\n",
        "Classifier.fit(X_train_counts, y_train)\n",
        "\n",
        "auc_train_bow = roc_auc_score(y_train,Classifier.predict_proba(X_train_counts)[0:,], multi_class='ovr')\n",
        "print (\"AUC for Train set\", auc_train_bow)\n",
        "\n",
        "auc_test_bow = roc_auc_score(y_test,Classifier.predict_proba(X_test_counts)[0:,], multi_class='ovr')\n",
        "print (\"AUc for Test set\",auc_test_bow)"
      ],
      "execution_count": 0,
      "outputs": []
    },
    {
      "cell_type": "code",
      "metadata": {
        "id": "iRbH80iFhfot",
        "colab_type": "code",
        "outputId": "17a9d55e-ec14-4568-a81c-4cd02768fae3",
        "colab": {
          "base_uri": "https://localhost:8080/",
          "height": 202
        }
      },
      "source": [
        "print('Confusion Matrix of Test Data')\n",
        "Test_mat=confusion_matrix(y_test,Classifier.predict(X_test_counts))\n",
        "print (Test_mat)"
      ],
      "execution_count": 0,
      "outputs": [
        {
          "output_type": "stream",
          "text": [
            "Confusion Matrix of Test Data\n",
            "[[116   2  16   3   0  37  26   2   4   4]\n",
            " [  0 170   0   1   0   5   2   0  26   2]\n",
            " [  0   0 202   0   1   3   0   1   0   1]\n",
            " [  0   0   0 188   0   0   0   0   0   0]\n",
            " [  0   0   0   0 193   7   3   2   1   2]\n",
            " [  0   0   1   0   2 191   1   1  12  10]\n",
            " [  0   0   0   0   0   1 189   0   1   1]\n",
            " [  0   0   1   0   0   0   0 199   0   4]\n",
            " [  0  65   3   2   2  11   7   0 129   3]\n",
            " [  0   0   1   0   2   5   1   3   1 186]]\n"
          ],
          "name": "stdout"
        }
      ]
    },
    {
      "cell_type": "code",
      "metadata": {
        "id": "pK0Fq9Xnh_Gs",
        "colab_type": "code",
        "outputId": "2ad79c1a-1aed-4279-870b-0538bfd8dc39",
        "colab": {
          "base_uri": "https://localhost:8080/",
          "height": 302
        }
      },
      "source": [
        "from sklearn import metrics\n",
        "print(metrics.classification_report(y_test,Classifier.predict(X_test_counts), target_names=df['category'].unique()))"
      ],
      "execution_count": 0,
      "outputs": [
        {
          "output_type": "stream",
          "text": [
            "              precision    recall  f1-score   support\n",
            "\n",
            "    tutorial       1.00      0.55      0.71       210\n",
            "     science       0.72      0.83      0.77       206\n",
            "        vlog       0.90      0.97      0.94       208\n",
            "        food       0.97      1.00      0.98       188\n",
            "     fashion       0.96      0.93      0.95       208\n",
            "      travel       0.73      0.88      0.80       218\n",
            "       music       0.83      0.98      0.90       192\n",
            "      movies       0.96      0.98      0.97       204\n",
            "     history       0.74      0.58      0.65       222\n",
            "         art       0.87      0.93      0.90       199\n",
            "\n",
            "    accuracy                           0.86      2055\n",
            "   macro avg       0.87      0.86      0.86      2055\n",
            "weighted avg       0.87      0.86      0.85      2055\n",
            "\n"
          ],
          "name": "stdout"
        }
      ]
    },
    {
      "cell_type": "code",
      "metadata": {
        "id": "Ob_iIhDDiN5x",
        "colab_type": "code",
        "colab": {}
      },
      "source": [
        ""
      ],
      "execution_count": 0,
      "outputs": []
    },
    {
      "cell_type": "markdown",
      "metadata": {
        "id": "4WstFGh3V4Fp",
        "colab_type": "text"
      },
      "source": [
        "**TFIDF Vectorizer LOGREG Model L2**"
      ]
    },
    {
      "cell_type": "code",
      "metadata": {
        "id": "E6CwxV4Y-ygg",
        "colab_type": "code",
        "colab": {}
      },
      "source": [
        "tf_idf=TfidfVectorizer(ngram_range=(1,2))"
      ],
      "execution_count": 0,
      "outputs": []
    },
    {
      "cell_type": "code",
      "metadata": {
        "id": "zMX29Tl2-yml",
        "colab_type": "code",
        "colab": {}
      },
      "source": [
        "tf_idf.fit(X_train)\n",
        "Train_TFIDF = tf_idf.transform(X_train)\n",
        "CrossVal_TFIDF = tf_idf.transform(X_cross)\n",
        "Test_TFIDF= tf_idf.transform(X_test)"
      ],
      "execution_count": 0,
      "outputs": []
    },
    {
      "cell_type": "code",
      "metadata": {
        "id": "zKn65BHg-yyU",
        "colab_type": "code",
        "colab": {}
      },
      "source": [
        "c=[0.0001,0.001,0.01,0.1,1,10,100,1000]\n",
        "Train_AUC_TFIDF = []\n",
        "CrossVal_AUC_TFIDF = []\n",
        "for i in c:\n",
        "  logreg = LogisticRegression(C=i,penalty='l2')\n",
        "  logreg.fit(Train_TFIDF, y_train)\n",
        "  Train_y_pred =  logreg.predict_proba(Train_TFIDF)[0:,]\n",
        "  Train_AUC_TFIDF.append(roc_auc_score(y_train ,Train_y_pred, multi_class='ovr'))\n",
        "  CrossVal_y_pred =  logreg.predict_proba(CrossVal_TFIDF)[0:,]\n",
        "  CrossVal_AUC_TFIDF.append(roc_auc_score(y_cross,CrossVal_y_pred, multi_class='ovr'))"
      ],
      "execution_count": 0,
      "outputs": []
    },
    {
      "cell_type": "code",
      "metadata": {
        "id": "03Bb60NziRpl",
        "colab_type": "code",
        "colab": {}
      },
      "source": [
        "from sklearn.metrics import f1_score"
      ],
      "execution_count": 0,
      "outputs": []
    },
    {
      "cell_type": "code",
      "metadata": {
        "id": "1ROdLlBIh5sI",
        "colab_type": "code",
        "colab": {}
      },
      "source": [
        "c=[0.0001,0.001,0.01,0.1,1,10,100,1000]\n",
        "Train_F1_TFIDF = []\n",
        "CrossVal_F1_TFIDF = []\n",
        "for i in c:\n",
        "  logreg = LogisticRegression(C=i,penalty='l2',multi_class='ovr')\n",
        "  logreg.fit(Train_TFIDF, y_train)\n",
        "  Train_predict = logreg.predict(Train_TFIDF)\n",
        "  score1 = f1_score(y_train, Train_predict, average='micro')\n",
        "  Train_F1_TFIDF.append(score1)\n",
        "  Cross_predict = logreg.predict(CrossVal_TFIDF)\n",
        "  score2 = f1_score(y_cross,Cross_predict,average='micro')\n",
        "  CrossVal_F1_TFIDF.append(score2)"
      ],
      "execution_count": 0,
      "outputs": []
    },
    {
      "cell_type": "code",
      "metadata": {
        "id": "h4Y9D1JF7CUk",
        "colab_type": "code",
        "colab": {}
      },
      "source": [
        ""
      ],
      "execution_count": 0,
      "outputs": []
    },
    {
      "cell_type": "code",
      "metadata": {
        "id": "blTaYLgG-y4R",
        "colab_type": "code",
        "colab": {}
      },
      "source": [
        "from numpy import math\n",
        "C=[]\n",
        "for i in range(len(c)):\n",
        "  C.append(math.log(c[i]))"
      ],
      "execution_count": 0,
      "outputs": []
    },
    {
      "cell_type": "code",
      "metadata": {
        "id": "9rzI_KmNisHs",
        "colab_type": "code",
        "outputId": "77b0bb4e-c9e6-43e7-d722-3a64275a9d3e",
        "colab": {
          "base_uri": "https://localhost:8080/",
          "height": 295
        }
      },
      "source": [
        "plt.plot(C, Train_F1_TFIDF, label='Train F1',)\n",
        "plt.scatter(C, Train_F1_TFIDF)\n",
        "plt.plot(C, CrossVal_F1_TFIDF, label='CrossVal F1')\n",
        "plt.scatter(C, CrossVal_F1_TFIDF)\n",
        "plt.legend()\n",
        "plt.xlabel(\"alpha : hyperparameter\")\n",
        "plt.ylabel(\"F1 score\")\n",
        "plt.title(\"ERROR PLOTS\")\n",
        "plt.show()"
      ],
      "execution_count": 0,
      "outputs": [
        {
          "output_type": "display_data",
          "data": {
            "image/png": "[encoded data removed]",
            "text/plain": [
              "<Figure size 432x288 with 1 Axes>"
            ]
          },
          "metadata": {
            "tags": []
          }
        }
      ]
    },
    {
      "cell_type": "code",
      "metadata": {
        "id": "2jLC5A-Zizdx",
        "colab_type": "code",
        "outputId": "87b3017a-9c78-462b-ed1b-5f144e02867f",
        "colab": {
          "base_uri": "https://localhost:8080/",
          "height": 34
        }
      },
      "source": [
        "optimal_inverse_lambda=c[CrossVal_F1_TFIDF.index(max(CrossVal_F1_TFIDF))]\n",
        "print(pow(optimal_inverse_lambda,-1))"
      ],
      "execution_count": 0,
      "outputs": [
        {
          "output_type": "stream",
          "text": [
            "0.001\n"
          ],
          "name": "stdout"
        }
      ]
    },
    {
      "cell_type": "code",
      "metadata": {
        "id": "LF31uWDqizbi",
        "colab_type": "code",
        "colab": {}
      },
      "source": [
        "Classifier=LogisticRegression(C=optimal_inverse_lambda,penalty='l2',multi_class='ovr')\n",
        "Classifier.fit(Train_TFIDF, y_train)\n",
        "Y_Pred = Classifier.predict(Test_TFIDF)\n",
        "final_score = f1_score(y_test, Y_Pred, average='micro')"
      ],
      "execution_count": 0,
      "outputs": []
    },
    {
      "cell_type": "code",
      "metadata": {
        "id": "FfLQh6WYizY5",
        "colab_type": "code",
        "outputId": "90ad3c34-597e-4117-a755-0ade3615b207",
        "colab": {
          "base_uri": "https://localhost:8080/",
          "height": 34
        }
      },
      "source": [
        "final_score"
      ],
      "execution_count": 0,
      "outputs": [
        {
          "output_type": "execute_result",
          "data": {
            "text/plain": [
              "0.88661800486618"
            ]
          },
          "metadata": {
            "tags": []
          },
          "execution_count": 37
        }
      ]
    },
    {
      "cell_type": "code",
      "metadata": {
        "id": "4zpCjyFCizWb",
        "colab_type": "code",
        "colab": {}
      },
      "source": [
        "z=confusion_matrix(y_test, Y_Pred)"
      ],
      "execution_count": 0,
      "outputs": []
    },
    {
      "cell_type": "code",
      "metadata": {
        "id": "41ZHgIDIizR6",
        "colab_type": "code",
        "colab": {}
      },
      "source": [
        "recall = np.diag(z) / np.sum(z, axis = 1)\n",
        "precision = np.diag(z) / np.sum(z, axis = 0)"
      ],
      "execution_count": 0,
      "outputs": []
    },
    {
      "cell_type": "code",
      "metadata": {
        "id": "RnlIo_B1izOR",
        "colab_type": "code",
        "outputId": "1bab6aad-406c-4ae5-f476-7c156effbef9",
        "colab": {
          "base_uri": "https://localhost:8080/",
          "height": 295
        }
      },
      "source": [
        "plt.plot(c,precision, label='precision')\n",
        "plt.scatter(c,precision)\n",
        "plt.plot(c,recall, label='recall')\n",
        "plt.scatter(c,recall)\n",
        "plt.plot(c,2*(precision * recall) / (precision + recall) , label='F1 score')\n",
        "plt.scatter(c,2*(precision * recall) / (precision + recall))\n",
        "plt.legend()\n",
        "plt.xlabel(\"Categories \")\n",
        "plt.ylabel(\"Scores\")\n",
        "plt.title(\"PLOTS\")\n",
        "\n",
        "plt.show()"
      ],
      "execution_count": 0,
      "outputs": [
        {
          "output_type": "display_data",
          "data": {
            "image/png": "[encoded data removed]",
            "text/plain": [
              "<Figure size 432x288 with 1 Axes>"
            ]
          },
          "metadata": {
            "tags": []
          }
        }
      ]
    },
    {
      "cell_type": "code",
      "metadata": {
        "id": "nF-D_eqKizLd",
        "colab_type": "code",
        "colab": {}
      },
      "source": [
        "c = df['category'].unique()"
      ],
      "execution_count": 0,
      "outputs": []
    },
    {
      "cell_type": "code",
      "metadata": {
        "id": "EK0QXqsIizIS",
        "colab_type": "code",
        "colab": {}
      },
      "source": [
        ""
      ],
      "execution_count": 0,
      "outputs": []
    },
    {
      "cell_type": "code",
      "metadata": {
        "id": "VPzatmSC-zBu",
        "colab_type": "code",
        "outputId": "d872c04b-eaef-4d86-e2cb-d973df4f6491",
        "colab": {
          "base_uri": "https://localhost:8080/",
          "height": 295
        }
      },
      "source": [
        "plt.plot(C, Train_AUC_TFIDF, label='Train AUC')\n",
        "plt.scatter(C, Train_AUC_TFIDF)\n",
        "plt.plot(C, CrossVal_AUC_TFIDF, label='CrossVal AUC')\n",
        "plt.scatter(C, CrossVal_AUC_TFIDF)\n",
        "plt.legend()\n",
        "plt.xlabel(\"lambda : hyperparameter\")\n",
        "plt.ylabel(\"AUC\")\n",
        "plt.title(\"ERROR PLOTS\")\n",
        "plt.show()"
      ],
      "execution_count": 0,
      "outputs": [
        {
          "output_type": "display_data",
          "data": {
            "image/png": "[encoded data removed]",
            "text/plain": [
              "<Figure size 432x288 with 1 Axes>"
            ]
          },
          "metadata": {
            "tags": []
          }
        }
      ]
    },
    {
      "cell_type": "code",
      "metadata": {
        "id": "HMxu3PjE-y-x",
        "colab_type": "code",
        "outputId": "e0383193-79d3-40d2-d030-edee8fb514b0",
        "colab": {
          "base_uri": "https://localhost:8080/",
          "height": 34
        }
      },
      "source": [
        "optimal_inverse_lambda=c[CrossVal_AUC_TFIDF.index(max(CrossVal_AUC_TFIDF))]\n",
        "print(pow(optimal_inverse_lambda,-1))"
      ],
      "execution_count": 0,
      "outputs": [
        {
          "output_type": "stream",
          "text": [
            "1.0\n"
          ],
          "name": "stdout"
        }
      ]
    },
    {
      "cell_type": "code",
      "metadata": {
        "id": "lcTlSc1S-y8S",
        "colab_type": "code",
        "outputId": "240d46cc-9c58-4e79-d496-47d6a5cc2e28",
        "colab": {
          "base_uri": "https://localhost:8080/",
          "height": 50
        }
      },
      "source": [
        "Classifier=LogisticRegression(C=optimal_inverse_lambda,penalty='l2')\n",
        "Classifier.fit(Train_TFIDF, y_train)\n",
        "\n",
        "auc_train_tfidf = roc_auc_score(y_train,Classifier.predict_proba(Train_TFIDF)[0:,], multi_class='ovr')\n",
        "print (\"AUC for Train set\", auc_train_tfidf)\n",
        "\n",
        "auc_test_tfidf = roc_auc_score(y_test,Classifier.predict_proba(Test_TFIDF)[0:,], multi_class='ovr')\n",
        "print (\"AUc for Test set\",auc_test_tfidf)"
      ],
      "execution_count": 0,
      "outputs": [
        {
          "output_type": "stream",
          "text": [
            "AUC for Train set 0.9973731992701849\n",
            "AUc for Test set 0.9925867405034801\n"
          ],
          "name": "stdout"
        }
      ]
    },
    {
      "cell_type": "code",
      "metadata": {
        "id": "0vArFlLx-y2-",
        "colab_type": "code",
        "outputId": "3f397efe-809e-45bb-86a5-6bf75dd2ec98",
        "colab": {
          "base_uri": "https://localhost:8080/",
          "height": 202
        }
      },
      "source": [
        "print('Confusion Matrix of Test Data')\n",
        "Test_mat=confusion_matrix(y_test,Classifier.predict(Test_TFIDF))\n",
        "print (Test_mat)"
      ],
      "execution_count": 0,
      "outputs": [
        {
          "output_type": "stream",
          "text": [
            "Confusion Matrix of Test Data\n",
            "[[120  14  17   8   0   0  25   2  16   8]\n",
            " [  0 165   0   1   0   1   1   0  38   0]\n",
            " [  0   0 205   0   1   0   0   1   0   1]\n",
            " [  0   0   0 188   0   0   0   0   0   0]\n",
            " [  0   2   0   3 193   3   0   2   3   2]\n",
            " [  0   6   2  14   1 161   0   1  25   8]\n",
            " [  0   0   0   0   0   0 191   0   0   1]\n",
            " [  0   0   0   0   0   0   0 202   0   2]\n",
            " [  0  43   2   4   0   0   4   0 166   3]\n",
            " [  0   0   1   0   1   0   0   3   2 192]]\n"
          ],
          "name": "stdout"
        }
      ]
    },
    {
      "cell_type": "code",
      "metadata": {
        "id": "GrrQj-f1-yvw",
        "colab_type": "code",
        "outputId": "5dbc984f-b7d3-4a8c-9c31-f62c8676b2fa",
        "colab": {
          "base_uri": "https://localhost:8080/",
          "height": 302
        }
      },
      "source": [
        "from sklearn import metrics\n",
        "print(metrics.classification_report(y_test,Classifier.predict(Test_TFIDF), target_names=df['category'].unique()))"
      ],
      "execution_count": 0,
      "outputs": [
        {
          "output_type": "stream",
          "text": [
            "              precision    recall  f1-score   support\n",
            "\n",
            "    tutorial       1.00      0.57      0.73       210\n",
            "     science       0.72      0.80      0.76       206\n",
            "        vlog       0.90      0.99      0.94       208\n",
            "        food       0.86      1.00      0.93       188\n",
            "     fashion       0.98      0.93      0.96       208\n",
            "      travel       0.98      0.74      0.84       218\n",
            "       music       0.86      0.99      0.92       192\n",
            "      movies       0.96      0.99      0.97       204\n",
            "     history       0.66      0.75      0.70       222\n",
            "         art       0.88      0.96      0.92       199\n",
            "\n",
            "    accuracy                           0.87      2055\n",
            "   macro avg       0.88      0.87      0.87      2055\n",
            "weighted avg       0.88      0.87      0.86      2055\n",
            "\n"
          ],
          "name": "stdout"
        }
      ]
    },
    {
      "cell_type": "code",
      "metadata": {
        "id": "3qQ6vQbZ-ysy",
        "colab_type": "code",
        "outputId": "abf22d28-c2d1-4313-e2e8-27023ad5983c",
        "colab": {
          "base_uri": "https://localhost:8080/",
          "height": 202
        }
      },
      "source": [
        "print('Confusion Matrix of Train Data')\n",
        "Train_mat=confusion_matrix(y_train,Classifier.predict(Train_TFIDF))\n",
        "print (Train_mat)"
      ],
      "execution_count": 0,
      "outputs": [
        {
          "output_type": "stream",
          "text": [
            "Confusion Matrix of Train Data\n",
            "[[339   0   1   1   3   3   0   0   4   1]\n",
            " [  0 776   0   4   2   3   1   0 147   0]\n",
            " [  0   0 800   0   1   0   0   2   3   7]\n",
            " [  0   1   0 835   3   1   0   0   0   0]\n",
            " [  0   0   0   1 367   1   1   0   0   0]\n",
            " [  0   0   0   0   2 601   1   0   0   0]\n",
            " [  0   1   0   0   2   0 867   0   0   2]\n",
            " [  0   1   4   1   0   0   0 912   0   5]\n",
            " [  1 134   0   5   2   3   0   0 644   2]\n",
            " [  0   1   1   0   9   0   0  10   5 874]]\n"
          ],
          "name": "stdout"
        }
      ]
    },
    {
      "cell_type": "code",
      "metadata": {
        "id": "9bggGP38-yqv",
        "colab_type": "code",
        "outputId": "44f01fac-5491-47b3-c1b6-9d953b249b4a",
        "colab": {
          "base_uri": "https://localhost:8080/",
          "height": 302
        }
      },
      "source": [
        "from sklearn import metrics\n",
        "print(metrics.classification_report(y_train,Classifier.predict(Train_TFIDF), target_names=df['category'].unique()))"
      ],
      "execution_count": 0,
      "outputs": [
        {
          "output_type": "stream",
          "text": [
            "              precision    recall  f1-score   support\n",
            "\n",
            "    tutorial       1.00      0.96      0.98       352\n",
            "     science       0.85      0.83      0.84       933\n",
            "        vlog       0.99      0.98      0.99       813\n",
            "        food       0.99      0.99      0.99       840\n",
            "     fashion       0.94      0.99      0.96       370\n",
            "      travel       0.98      1.00      0.99       604\n",
            "       music       1.00      0.99      1.00       872\n",
            "      movies       0.99      0.99      0.99       923\n",
            "     history       0.80      0.81      0.81       791\n",
            "         art       0.98      0.97      0.98       900\n",
            "\n",
            "    accuracy                           0.95      7398\n",
            "   macro avg       0.95      0.95      0.95      7398\n",
            "weighted avg       0.95      0.95      0.95      7398\n",
            "\n"
          ],
          "name": "stdout"
        }
      ]
    },
    {
      "cell_type": "code",
      "metadata": {
        "id": "LGpiE67d-yks",
        "colab_type": "code",
        "colab": {}
      },
      "source": [
        ""
      ],
      "execution_count": 0,
      "outputs": []
    },
    {
      "cell_type": "markdown",
      "metadata": {
        "id": "R5-FX1IoWyvT",
        "colab_type": "text"
      },
      "source": [
        "**TFIDF Vectorizer LogReg Model L1**"
      ]
    },
    {
      "cell_type": "code",
      "metadata": {
        "id": "Cc9h10W7-ydY",
        "colab_type": "code",
        "outputId": "0e2cf5d8-0772-47d7-f3c7-02c4a6345345",
        "colab": {
          "base_uri": "https://localhost:8080/",
          "height": 171
        }
      },
      "source": [
        "c=[0.0001,0.001,0.01,0.1,1,10,100,1000]\n",
        "Train_AUC_TFIDF = []\n",
        "CrossVal_AUC_TFIDF = []\n",
        "for i in c:\n",
        "  logreg = LogisticRegression(C=i,penalty='l1', solver='saga')\n",
        "  logreg.fit(Train_TFIDF, y_train)\n",
        "  Train_y_pred =  logreg.predict_proba(Train_TFIDF)[0:,]\n",
        "  Train_AUC_TFIDF.append(roc_auc_score(y_train ,Train_y_pred, multi_class='ovr'))\n",
        "  CrossVal_y_pred =  logreg.predict_proba(CrossVal_TFIDF)[0:,]\n",
        "  CrossVal_AUC_TFIDF.append(roc_auc_score(y_cross,CrossVal_y_pred, multi_class='ovr'))"
      ],
      "execution_count": 0,
      "outputs": [
        {
          "output_type": "stream",
          "text": [
            "/usr/local/lib/python3.6/dist-packages/sklearn/linear_model/_sag.py:330: ConvergenceWarning: The max_iter was reached which means the coef_ did not converge\n",
            "  \"the coef_ did not converge\", ConvergenceWarning)\n",
            "/usr/local/lib/python3.6/dist-packages/sklearn/linear_model/_sag.py:330: ConvergenceWarning: The max_iter was reached which means the coef_ did not converge\n",
            "  \"the coef_ did not converge\", ConvergenceWarning)\n",
            "/usr/local/lib/python3.6/dist-packages/sklearn/linear_model/_sag.py:330: ConvergenceWarning: The max_iter was reached which means the coef_ did not converge\n",
            "  \"the coef_ did not converge\", ConvergenceWarning)\n",
            "/usr/local/lib/python3.6/dist-packages/sklearn/linear_model/_sag.py:330: ConvergenceWarning: The max_iter was reached which means the coef_ did not converge\n",
            "  \"the coef_ did not converge\", ConvergenceWarning)\n"
          ],
          "name": "stderr"
        }
      ]
    },
    {
      "cell_type": "code",
      "metadata": {
        "id": "aws0mweB7XeD",
        "colab_type": "code",
        "colab": {}
      },
      "source": [
        "c=[0.0001,0.001,0.01,0.1,1,10,100,1000]\n",
        "Train_F1_TFIDF = []\n",
        "CrossVal_F1_TFIDF = []\n",
        "for i in c:\n",
        "  logreg = LogisticRegression(C=i,penalty='l1',multi_class='ovr', solver='saga')\n",
        "  logreg.fit(Train_TFIDF, y_train)\n",
        "  Train_predict = logreg.predict(Train_TFIDF)\n",
        "  score1 = f1_score(y_train, Train_predict, average='micro')\n",
        "  Train_F1_TFIDF.append(score1)\n",
        "  Cross_predict = logreg.predict(CrossVal_TFIDF)\n",
        "  score2 = f1_score(y_cross,Cross_predict,average='micro')\n",
        "  CrossVal_F1_TFIDF.append(score2)"
      ],
      "execution_count": 0,
      "outputs": []
    },
    {
      "cell_type": "code",
      "metadata": {
        "id": "Us0HyJH-XF3e",
        "colab_type": "code",
        "colab": {}
      },
      "source": [
        "C=[]\n",
        "for i in range(len(c)):\n",
        "  C.append(math.log(c[i]))"
      ],
      "execution_count": 0,
      "outputs": []
    },
    {
      "cell_type": "code",
      "metadata": {
        "id": "cQv_bmPw-wR5",
        "colab_type": "code",
        "outputId": "61663ce7-9b98-4746-f5d7-7edafd118cde",
        "colab": {
          "base_uri": "https://localhost:8080/",
          "height": 295
        }
      },
      "source": [
        "plt.plot(C, Train_F1_TFIDF, label='Train F1',)\n",
        "plt.scatter(C, Train_F1_TFIDF)\n",
        "plt.plot(C, CrossVal_F1_TFIDF, label='CrossVal F1')\n",
        "plt.scatter(C, CrossVal_F1_TFIDF)\n",
        "plt.legend()\n",
        "plt.xlabel(\"alpha : hyperparameter\")\n",
        "plt.ylabel(\"F1 score\")\n",
        "plt.title(\"ERROR PLOTS\")\n",
        "plt.show()"
      ],
      "execution_count": 0,
      "outputs": [
        {
          "output_type": "display_data",
          "data": {
            "image/png": "[encoded data removed]",
            "text/plain": [
              "<Figure size 432x288 with 1 Axes>"
            ]
          },
          "metadata": {
            "tags": []
          }
        }
      ]
    },
    {
      "cell_type": "code",
      "metadata": {
        "id": "ZCwP9U2j-4T5",
        "colab_type": "code",
        "outputId": "172e1379-6296-4e33-f27b-a4d42df1955d",
        "colab": {
          "base_uri": "https://localhost:8080/",
          "height": 34
        }
      },
      "source": [
        "optimal_inverse_lambda=c[CrossVal_F1_TFIDF.index(max(CrossVal_F1_TFIDF))]\n",
        "print(pow(optimal_inverse_lambda,-1))"
      ],
      "execution_count": 0,
      "outputs": [
        {
          "output_type": "stream",
          "text": [
            "1.0\n"
          ],
          "name": "stdout"
        }
      ]
    },
    {
      "cell_type": "code",
      "metadata": {
        "id": "PJYa9t5b-4Qn",
        "colab_type": "code",
        "outputId": "bbbfb19f-ef9d-4822-c436-da7f0c1ff491",
        "colab": {
          "base_uri": "https://localhost:8080/",
          "height": 205
        }
      },
      "source": [
        "Classifier=LogisticRegression(C=optimal_inverse_lambda,penalty='l1',multi_class='ovr', solver='saga')\n",
        "Classifier.fit(Train_TFIDF, y_train)\n",
        "Y_Pred = Classifier.predict(Test_TFIDF)\n",
        "final_score = f1_score(y_test, Y_Pred, average='micro')"
      ],
      "execution_count": 0,
      "outputs": [
        {
          "output_type": "stream",
          "text": [
            "/usr/local/lib/python3.6/dist-packages/sklearn/linear_model/_sag.py:330: ConvergenceWarning: The max_iter was reached which means the coef_ did not converge\n",
            "  \"the coef_ did not converge\", ConvergenceWarning)\n",
            "/usr/local/lib/python3.6/dist-packages/sklearn/linear_model/_sag.py:330: ConvergenceWarning: The max_iter was reached which means the coef_ did not converge\n",
            "  \"the coef_ did not converge\", ConvergenceWarning)\n",
            "/usr/local/lib/python3.6/dist-packages/sklearn/linear_model/_sag.py:330: ConvergenceWarning: The max_iter was reached which means the coef_ did not converge\n",
            "  \"the coef_ did not converge\", ConvergenceWarning)\n",
            "/usr/local/lib/python3.6/dist-packages/sklearn/linear_model/_sag.py:330: ConvergenceWarning: The max_iter was reached which means the coef_ did not converge\n",
            "  \"the coef_ did not converge\", ConvergenceWarning)\n",
            "/usr/local/lib/python3.6/dist-packages/sklearn/linear_model/_sag.py:330: ConvergenceWarning: The max_iter was reached which means the coef_ did not converge\n",
            "  \"the coef_ did not converge\", ConvergenceWarning)\n"
          ],
          "name": "stderr"
        }
      ]
    },
    {
      "cell_type": "code",
      "metadata": {
        "id": "sDz8Ij5F-4N4",
        "colab_type": "code",
        "outputId": "30069694-6b06-42fa-86c4-13721541402e",
        "colab": {
          "base_uri": "https://localhost:8080/",
          "height": 34
        }
      },
      "source": [
        "z=confusion_matrix(y_test, Y_Pred)\n",
        "final_score"
      ],
      "execution_count": 0,
      "outputs": [
        {
          "output_type": "execute_result",
          "data": {
            "text/plain": [
              "0.8145985401459854"
            ]
          },
          "metadata": {
            "tags": []
          },
          "execution_count": 44
        }
      ]
    },
    {
      "cell_type": "code",
      "metadata": {
        "id": "Lm9VayEQ-4K5",
        "colab_type": "code",
        "colab": {}
      },
      "source": [
        "recall = np.diag(z) / np.sum(z, axis = 1)\n",
        "precision = np.diag(z) / np.sum(z, axis = 0)"
      ],
      "execution_count": 0,
      "outputs": []
    },
    {
      "cell_type": "code",
      "metadata": {
        "id": "5UMY5GF3-4Hh",
        "colab_type": "code",
        "outputId": "2c7642a0-0609-48e9-9582-8c4865aef923",
        "colab": {
          "base_uri": "https://localhost:8080/",
          "height": 295
        }
      },
      "source": [
        "c= df['category'].unique()\n",
        "\n",
        "plt.plot(c,precision, label='precision')\n",
        "plt.scatter(c,precision)\n",
        "plt.plot(c,recall, label='recall')\n",
        "plt.scatter(c,recall)\n",
        "plt.plot(c,2*(precision * recall) / (precision + recall) , label='F1 score')\n",
        "plt.scatter(c,2*(precision * recall) / (precision + recall))\n",
        "plt.legend()\n",
        "plt.xlabel(\"Categories \")\n",
        "plt.ylabel(\"Scores\")\n",
        "plt.title(\"PLOTS\")\n",
        "\n",
        "plt.show()"
      ],
      "execution_count": 0,
      "outputs": [
        {
          "output_type": "display_data",
          "data": {
            "image/png": "[encoded data removed]",
            "text/plain": [
              "<Figure size 432x288 with 1 Axes>"
            ]
          },
          "metadata": {
            "tags": []
          }
        }
      ]
    },
    {
      "cell_type": "code",
      "metadata": {
        "id": "WlYdNd98-4Ey",
        "colab_type": "code",
        "colab": {}
      },
      "source": [
        ""
      ],
      "execution_count": 0,
      "outputs": []
    },
    {
      "cell_type": "code",
      "metadata": {
        "id": "eArMBk_m-4Bt",
        "colab_type": "code",
        "colab": {}
      },
      "source": [
        ""
      ],
      "execution_count": 0,
      "outputs": []
    },
    {
      "cell_type": "code",
      "metadata": {
        "id": "eaAizQ5S-3-j",
        "colab_type": "code",
        "colab": {}
      },
      "source": [
        ""
      ],
      "execution_count": 0,
      "outputs": []
    },
    {
      "cell_type": "code",
      "metadata": {
        "id": "_BakG4V5-37L",
        "colab_type": "code",
        "colab": {}
      },
      "source": [
        ""
      ],
      "execution_count": 0,
      "outputs": []
    },
    {
      "cell_type": "code",
      "metadata": {
        "id": "B_FAUJgx-34R",
        "colab_type": "code",
        "colab": {}
      },
      "source": [
        ""
      ],
      "execution_count": 0,
      "outputs": []
    },
    {
      "cell_type": "code",
      "metadata": {
        "id": "5tzzFXhO-31V",
        "colab_type": "code",
        "colab": {}
      },
      "source": [
        ""
      ],
      "execution_count": 0,
      "outputs": []
    },
    {
      "cell_type": "code",
      "metadata": {
        "id": "ymLroXH7-3yI",
        "colab_type": "code",
        "colab": {}
      },
      "source": [
        ""
      ],
      "execution_count": 0,
      "outputs": []
    },
    {
      "cell_type": "code",
      "metadata": {
        "id": "j0ANUijiBChL",
        "colab_type": "code",
        "outputId": "c7dc5ff0-d8bf-4f42-cb07-2abf05889762",
        "colab": {
          "base_uri": "https://localhost:8080/",
          "height": 295
        }
      },
      "source": [
        "plt.plot(C, Train_AUC_TFIDF, label='Train AUC')\n",
        "plt.scatter(C, Train_AUC_TFIDF)\n",
        "plt.plot(C, CrossVal_AUC_TFIDF, label='CrossVal AUC')\n",
        "plt.scatter(C, CrossVal_AUC_TFIDF)\n",
        "plt.legend()\n",
        "plt.xlabel(\"lambda : hyperparameter\")\n",
        "plt.ylabel(\"AUC\")\n",
        "plt.title(\"ERROR PLOTS\")\n",
        "plt.show()"
      ],
      "execution_count": 0,
      "outputs": [
        {
          "output_type": "display_data",
          "data": {
            "image/png": "[encoded data removed]",
            "text/plain": [
              "<Figure size 432x288 with 1 Axes>"
            ]
          },
          "metadata": {
            "tags": []
          }
        }
      ]
    },
    {
      "cell_type": "code",
      "metadata": {
        "id": "JTeCoMGqBGYX",
        "colab_type": "code",
        "outputId": "ccf3bbe6-7e9b-4fb8-b3d1-879806e02ede",
        "colab": {
          "base_uri": "https://localhost:8080/",
          "height": 34
        }
      },
      "source": [
        "optimal_inverse_lambda=c[CrossVal_AUC_TFIDF.index(max(CrossVal_AUC_TFIDF))]\n",
        "print(pow(optimal_inverse_lambda,-1))"
      ],
      "execution_count": 0,
      "outputs": [
        {
          "output_type": "stream",
          "text": [
            "1.0\n"
          ],
          "name": "stdout"
        }
      ]
    },
    {
      "cell_type": "code",
      "metadata": {
        "id": "UG5IRkAGDRNj",
        "colab_type": "code",
        "outputId": "4474e9d7-6f28-497a-c8f5-963f07125852",
        "colab": {
          "base_uri": "https://localhost:8080/",
          "height": 289
        }
      },
      "source": [
        "Classifier=LogisticRegression(C=optimal_inverse_lambda,penalty='l1', solver='saga')\n",
        "Classifier.fit(Train_TFIDF, y_train)\n",
        "\n",
        "auc_train_tfidf = roc_auc_score(y_train,Classifier.predict_proba(Train_TFIDF)[0:,], multi_class='ovr')\n",
        "print (\"AUC for Train set\", auc_train_tfidf)\n",
        "\n",
        "auc_test_tfidf = roc_auc_score(y_test,Classifier.predict_proba(Test_TFIDF)[0:,], multi_class='ovr')\n",
        "print (\"AUc for Test set\",auc_test_tfidf)\n",
        "\n",
        "print('Confusion Matrix of Train Data')\n",
        "Test_mat=confusion_matrix(y_train,Classifier.predict(Train_TFIDF))\n",
        "print (Test_mat)"
      ],
      "execution_count": 0,
      "outputs": [
        {
          "output_type": "stream",
          "text": [
            "AUC for Train set 0.9921308438342276\n",
            "AUc for Test set 0.9809435963911511\n",
            "Confusion Matrix of Train Data\n",
            "[[330   0   2   1   4  12   1   0   2   0]\n",
            " [  0 609   0   6   2  36   6   0 272   2]\n",
            " [  1   0 758   0   1  31   0   4   2  16]\n",
            " [  2   0   3 800   7  22   1   2   2   1]\n",
            " [  1   0   0   1 348  10   0   4   0   6]\n",
            " [  0   0   0   0   5 593   1   0   1   4]\n",
            " [  2   0   1   0   3  30 833   0   0   3]\n",
            " [  0   0   6   2   0  23   0 880   0  12]\n",
            " [  3 122   1   7   3  44   4   1 597   9]\n",
            " [  0   3   3   0  14  31   1  17   6 825]]\n"
          ],
          "name": "stdout"
        },
        {
          "output_type": "stream",
          "text": [
            "/usr/local/lib/python3.6/dist-packages/sklearn/linear_model/_sag.py:330: ConvergenceWarning: The max_iter was reached which means the coef_ did not converge\n",
            "  \"the coef_ did not converge\", ConvergenceWarning)\n"
          ],
          "name": "stderr"
        }
      ]
    },
    {
      "cell_type": "code",
      "metadata": {
        "id": "fS2glmRHDnAU",
        "colab_type": "code",
        "outputId": "c5d8d7fa-f946-4152-a734-2e97bc13315f",
        "colab": {
          "base_uri": "https://localhost:8080/",
          "height": 302
        }
      },
      "source": [
        "from sklearn import metrics\n",
        "print(metrics.classification_report(y_train,Classifier.predict(Train_TFIDF), target_names=df['category'].unique()))"
      ],
      "execution_count": 0,
      "outputs": [
        {
          "output_type": "stream",
          "text": [
            "              precision    recall  f1-score   support\n",
            "\n",
            "    tutorial       0.97      0.94      0.96       352\n",
            "     science       0.83      0.65      0.73       933\n",
            "        vlog       0.98      0.93      0.96       813\n",
            "        food       0.98      0.95      0.97       840\n",
            "     fashion       0.90      0.94      0.92       370\n",
            "      travel       0.71      0.98      0.83       604\n",
            "       music       0.98      0.96      0.97       872\n",
            "      movies       0.97      0.95      0.96       923\n",
            "     history       0.68      0.75      0.71       791\n",
            "         art       0.94      0.92      0.93       900\n",
            "\n",
            "    accuracy                           0.89      7398\n",
            "   macro avg       0.89      0.90      0.89      7398\n",
            "weighted avg       0.90      0.89      0.89      7398\n",
            "\n"
          ],
          "name": "stdout"
        }
      ]
    },
    {
      "cell_type": "code",
      "metadata": {
        "id": "lLmBNc5qDrAi",
        "colab_type": "code",
        "outputId": "f4c6ce23-34d1-44c8-b1d6-acb54c1f0094",
        "colab": {
          "base_uri": "https://localhost:8080/",
          "height": 302
        }
      },
      "source": [
        "from sklearn import metrics\n",
        "print(metrics.classification_report(y_test,Classifier.predict(Test_TFIDF), target_names=df['category'].unique()))"
      ],
      "execution_count": 0,
      "outputs": [
        {
          "output_type": "stream",
          "text": [
            "              precision    recall  f1-score   support\n",
            "\n",
            "    tutorial       0.99      0.53      0.69       210\n",
            "     science       0.77      0.62      0.69       206\n",
            "        vlog       0.94      0.91      0.92       208\n",
            "        food       0.97      0.97      0.97       188\n",
            "     fashion       0.97      0.91      0.94       208\n",
            "      travel       0.57      0.95      0.71       218\n",
            "       music       0.91      0.98      0.94       192\n",
            "      movies       0.96      0.94      0.95       204\n",
            "     history       0.68      0.62      0.65       222\n",
            "         art       0.85      0.92      0.88       199\n",
            "\n",
            "    accuracy                           0.83      2055\n",
            "   macro avg       0.86      0.84      0.83      2055\n",
            "weighted avg       0.86      0.83      0.83      2055\n",
            "\n"
          ],
          "name": "stdout"
        }
      ]
    },
    {
      "cell_type": "code",
      "metadata": {
        "id": "GXrgHk-vEDL0",
        "colab_type": "code",
        "outputId": "3c6b7120-806c-4bd5-e167-127ef48577e5",
        "colab": {
          "base_uri": "https://localhost:8080/",
          "height": 202
        }
      },
      "source": [
        "print('Confusion Matrix of Test Data')\n",
        "Test_mat=confusion_matrix(y_test,Classifier.predict(Test_TFIDF))\n",
        "print (Test_mat)"
      ],
      "execution_count": 0,
      "outputs": [
        {
          "output_type": "stream",
          "text": [
            "Confusion Matrix of Test Data\n",
            "[[112   2  10   1   1  66  15   0   2   1]\n",
            " [  0 127   0   2   0  13   1   0  61   2]\n",
            " [  0   0 190   0   1  11   0   2   0   4]\n",
            " [  0   0   1 183   1   3   0   0   0   0]\n",
            " [  0   0   0   0 190  10   0   4   0   4]\n",
            " [  0   0   0   0   1 207   0   0   1   9]\n",
            " [  1   0   0   0   0   2 188   0   0   1]\n",
            " [  0   0   2   0   0   4   0 192   0   6]\n",
            " [  0  34   0   3   0  40   2   0 137   6]\n",
            " [  0   1   0   0   2   7   1   3   1 184]]\n"
          ],
          "name": "stdout"
        }
      ]
    },
    {
      "cell_type": "markdown",
      "metadata": {
        "id": "oDDT2NSYZGh0",
        "colab_type": "text"
      },
      "source": [
        "**AVG-W2V model LogReg Model L2**"
      ]
    },
    {
      "cell_type": "code",
      "metadata": {
        "id": "PpqS-excETdB",
        "colab_type": "code",
        "colab": {}
      },
      "source": [
        "i=0\n",
        "list_of_sentance_train=[]\n",
        "for sentance in X_train:\n",
        "    list_of_sentance_train.append(sentance.split())"
      ],
      "execution_count": 0,
      "outputs": []
    },
    {
      "cell_type": "code",
      "metadata": {
        "id": "p-cUO84SEpj3",
        "colab_type": "code",
        "colab": {}
      },
      "source": [
        "w2v_model=Word2Vec(list_of_sentance_train,min_count=5,size=50,workers=4)\n",
        "w2v_words = list(w2v_model.wv.vocab)"
      ],
      "execution_count": 0,
      "outputs": []
    },
    {
      "cell_type": "code",
      "metadata": {
        "id": "wsKan3IGEim7",
        "colab_type": "code",
        "outputId": "d0e139d3-7254-418a-e3bd-eb49b15ae59e",
        "colab": {
          "base_uri": "https://localhost:8080/",
          "height": 34
        }
      },
      "source": [
        "sent_vectors_train = []; \n",
        "for sent in tqdm(list_of_sentance_train): \n",
        "  sent_vec = np.zeros(50) \n",
        "  cnt_words =0; \n",
        "  for word in sent:\n",
        "    if word in w2v_words:\n",
        "      vec = w2v_model.wv[word]\n",
        "      sent_vec += vec\n",
        "      cnt_words += 1\n",
        "  if cnt_words != 0:\n",
        "    sent_vec /= cnt_words\n",
        "  sent_vectors_train.append(sent_vec)\n",
        "sent_vectors_train = np.array(sent_vectors_train)"
      ],
      "execution_count": 0,
      "outputs": [
        {
          "output_type": "stream",
          "text": [
            "100%|██████████| 7398/7398 [00:00<00:00, 11168.20it/s]\n"
          ],
          "name": "stderr"
        }
      ]
    },
    {
      "cell_type": "code",
      "metadata": {
        "id": "pLOFMuQfEl66",
        "colab_type": "code",
        "colab": {}
      },
      "source": [
        "i=0\n",
        "list_of_sentance_cv=[]\n",
        "for sentance in X_cross:\n",
        "    list_of_sentance_cv.append(sentance.split())"
      ],
      "execution_count": 0,
      "outputs": []
    },
    {
      "cell_type": "code",
      "metadata": {
        "id": "PY4ViwreEwll",
        "colab_type": "code",
        "outputId": "10a0f492-1b01-4c19-88cd-9fd7b562791d",
        "colab": {
          "base_uri": "https://localhost:8080/",
          "height": 34
        }
      },
      "source": [
        "sent_vectors_cv = []; \n",
        "for sent in tqdm(list_of_sentance_cv): \n",
        "  sent_vec = np.zeros(50) \n",
        "  cnt_words =0; \n",
        "  for word in sent:\n",
        "    if word in w2v_words:\n",
        "      vec = w2v_model.wv[word]\n",
        "      sent_vec += vec\n",
        "      cnt_words += 1\n",
        "  if cnt_words != 0:\n",
        "    sent_vec /= cnt_words\n",
        "  sent_vectors_cv.append(sent_vec)\n",
        "sent_vectors_cv = np.array(sent_vectors_cv)"
      ],
      "execution_count": 0,
      "outputs": [
        {
          "output_type": "stream",
          "text": [
            "100%|██████████| 822/822 [00:00<00:00, 10086.74it/s]\n"
          ],
          "name": "stderr"
        }
      ]
    },
    {
      "cell_type": "code",
      "metadata": {
        "id": "mgRNW4ZIEznb",
        "colab_type": "code",
        "colab": {}
      },
      "source": [
        "i=0\n",
        "list_of_sentance_test=[]\n",
        "for sentance in X_test:\n",
        "    list_of_sentance_test.append(sentance.split())"
      ],
      "execution_count": 0,
      "outputs": []
    },
    {
      "cell_type": "code",
      "metadata": {
        "id": "K109YKVuE69h",
        "colab_type": "code",
        "outputId": "aad13622-2ea3-4828-8202-05b9440d941c",
        "colab": {
          "base_uri": "https://localhost:8080/",
          "height": 34
        }
      },
      "source": [
        "\n",
        "sent_vectors_test = []; \n",
        "for sent in tqdm(list_of_sentance_test): \n",
        "  sent_vec = np.zeros(50) \n",
        "  cnt_words =0; \n",
        "  for word in sent:\n",
        "    if word in w2v_words:\n",
        "      vec = w2v_model.wv[word]\n",
        "      sent_vec += vec\n",
        "      cnt_words += 1\n",
        "  if cnt_words != 0:\n",
        "    sent_vec /= cnt_words\n",
        "  sent_vectors_test.append(sent_vec)\n",
        "sent_vectors_test = np.array(sent_vectors_test)"
      ],
      "execution_count": 0,
      "outputs": [
        {
          "output_type": "stream",
          "text": [
            "100%|██████████| 2055/2055 [00:00<00:00, 10626.53it/s]\n"
          ],
          "name": "stderr"
        }
      ]
    },
    {
      "cell_type": "markdown",
      "metadata": {
        "id": "Q_2hLqBqZ43P",
        "colab_type": "text"
      },
      "source": [
        "**Logreg model using L2**"
      ]
    },
    {
      "cell_type": "code",
      "metadata": {
        "id": "8hsagCuUDVIC",
        "colab_type": "code",
        "colab": {}
      },
      "source": [
        "c=[0.0001,0.001,0.01,0.1,1,10,100,1000]\n",
        "Train_AUC_W2V = []\n",
        "CrossVal_AUC_W2V = []\n",
        "\n",
        "for i in c:\n",
        "  logreg = LogisticRegression(C=i,penalty='l2',multi_class='ovr')\n",
        "  logreg.fit(sent_vectors_train, y_train)\n",
        "  Train_predict = logreg.predict(sent_vectors_train)\n",
        "  score1 = f1_score(y_train, Train_predict, average='micro')\n",
        "  Train_AUC_W2V.append(score1)\n",
        "  Cross_predict = logreg.predict(sent_vectors_cv)\n",
        "  score2 = f1_score(y_cross,Cross_predict,average='micro')\n",
        "  CrossVal_AUC_W2V.append(score2)"
      ],
      "execution_count": 0,
      "outputs": []
    },
    {
      "cell_type": "code",
      "metadata": {
        "id": "ezBDZrUfDulp",
        "colab_type": "code",
        "colab": {}
      },
      "source": [
        "C=[]\n",
        "for i in range(len(c)):\n",
        "  C.append(math.log(c[i]))"
      ],
      "execution_count": 0,
      "outputs": []
    },
    {
      "cell_type": "code",
      "metadata": {
        "id": "Up8AYRWLDujW",
        "colab_type": "code",
        "outputId": "3b4d1802-2c56-4b9e-bf7c-a326b307200c",
        "colab": {
          "base_uri": "https://localhost:8080/",
          "height": 295
        }
      },
      "source": [
        "plt.plot(C, Train_AUC_W2V, label='Train F1',)\n",
        "plt.scatter(C, Train_AUC_W2V)\n",
        "plt.plot(C, CrossVal_AUC_W2V, label='CrossVal F1')\n",
        "plt.scatter(C, CrossVal_AUC_W2V)\n",
        "plt.legend()\n",
        "plt.xlabel(\"alpha : hyperparameter\")\n",
        "plt.ylabel(\"F1 score\")\n",
        "plt.title(\"ERROR PLOTS\")\n",
        "plt.show()"
      ],
      "execution_count": 0,
      "outputs": [
        {
          "output_type": "display_data",
          "data": {
            "image/png": "[encoded data removed]",
            "text/plain": [
              "<Figure size 432x288 with 1 Axes>"
            ]
          },
          "metadata": {
            "tags": []
          }
        }
      ]
    },
    {
      "cell_type": "code",
      "metadata": {
        "id": "sw460TqMDug2",
        "colab_type": "code",
        "outputId": "9333c353-43e2-4e99-d8c4-fb5fb9dd2a9b",
        "colab": {
          "base_uri": "https://localhost:8080/",
          "height": 34
        }
      },
      "source": [
        "optimal_inverse_lambda=c[CrossVal_AUC_W2V.index(max(CrossVal_AUC_W2V))]\n",
        "print(pow(optimal_inverse_lambda,-1))"
      ],
      "execution_count": 0,
      "outputs": [
        {
          "output_type": "stream",
          "text": [
            "0.001\n"
          ],
          "name": "stdout"
        }
      ]
    },
    {
      "cell_type": "code",
      "metadata": {
        "id": "lzUQDXI3Ducf",
        "colab_type": "code",
        "colab": {}
      },
      "source": [
        "Classifier=LogisticRegression(C=optimal_inverse_lambda,penalty='l2',multi_class='ovr')\n",
        "Classifier.fit(sent_vectors_train, y_train)\n",
        "Y_Pred = Classifier.predict(sent_vectors_test)\n",
        "final_score = f1_score(y_test, Y_Pred, average='micro')"
      ],
      "execution_count": 0,
      "outputs": []
    },
    {
      "cell_type": "code",
      "metadata": {
        "id": "_Njt0AfLDuYm",
        "colab_type": "code",
        "colab": {}
      },
      "source": [
        "final_score\n",
        "\n",
        "z= confusion_matrix(y_test, Y_Pred)\n",
        "c = df['category'].unique()"
      ],
      "execution_count": 0,
      "outputs": []
    },
    {
      "cell_type": "code",
      "metadata": {
        "id": "wi-pG9vwDuVd",
        "colab_type": "code",
        "outputId": "6474ef3d-4ad6-4e5f-fffe-ffeb90ebbf72",
        "colab": {
          "base_uri": "https://localhost:8080/",
          "height": 310
        }
      },
      "source": [
        "\n",
        "Train_cm = pd.DataFrame(z,index = c,columns = c)\n",
        "sn.heatmap(Train_cm, annot=True,fmt=\"d\")"
      ],
      "execution_count": 0,
      "outputs": [
        {
          "output_type": "execute_result",
          "data": {
            "text/plain": [
              "<matplotlib.axes._subplots.AxesSubplot at 0x7fcd65e6aeb8>"
            ]
          },
          "metadata": {
            "tags": []
          },
          "execution_count": 64
        },
        {
          "output_type": "display_data",
          "data": {
            "image/png": "[encoded data removed]",
            "text/plain": [
              "<Figure size 432x288 with 2 Axes>"
            ]
          },
          "metadata": {
            "tags": []
          }
        }
      ]
    },
    {
      "cell_type": "code",
      "metadata": {
        "id": "qJUcSRJTDuSg",
        "colab_type": "code",
        "colab": {}
      },
      "source": [
        "\n",
        "recall = np.diag(z) / np.sum(z, axis = 1)\n",
        "precision = np.diag(z) / np.sum(z, axis = 0)"
      ],
      "execution_count": 0,
      "outputs": []
    },
    {
      "cell_type": "code",
      "metadata": {
        "id": "6mRNkgOnDuOy",
        "colab_type": "code",
        "outputId": "c904b2f9-ebc2-4b56-91b7-7ec89c018f98",
        "colab": {
          "base_uri": "https://localhost:8080/",
          "height": 295
        }
      },
      "source": [
        "\n",
        "plt.plot(c,precision, label='precision')\n",
        "plt.scatter(c,precision)\n",
        "plt.plot(c,recall, label='recall')\n",
        "plt.scatter(c,recall)\n",
        "plt.plot(c,2*(precision * recall) / (precision + recall) , label='F1 score')\n",
        "plt.scatter(c,2*(precision * recall) / (precision + recall))\n",
        "plt.legend()\n",
        "plt.xlabel(\"Categories \")\n",
        "plt.ylabel(\"Scores\")\n",
        "plt.title(\"PLOTS\")\n",
        "\n",
        "plt.show()"
      ],
      "execution_count": 0,
      "outputs": [
        {
          "output_type": "display_data",
          "data": {
            "image/png": "[encoded data removed]",
            "text/plain": [
              "<Figure size 432x288 with 1 Axes>"
            ]
          },
          "metadata": {
            "tags": []
          }
        }
      ]
    },
    {
      "cell_type": "code",
      "metadata": {
        "id": "0z0JzxMeFD6v",
        "colab_type": "code",
        "colab": {}
      },
      "source": [
        ""
      ],
      "execution_count": 0,
      "outputs": []
    },
    {
      "cell_type": "code",
      "metadata": {
        "id": "Bob7J6UOFD3r",
        "colab_type": "code",
        "colab": {}
      },
      "source": [
        ""
      ],
      "execution_count": 0,
      "outputs": []
    },
    {
      "cell_type": "code",
      "metadata": {
        "id": "eALxZUXOFD0Z",
        "colab_type": "code",
        "colab": {}
      },
      "source": [
        ""
      ],
      "execution_count": 0,
      "outputs": []
    },
    {
      "cell_type": "code",
      "metadata": {
        "id": "2k_M5yWzE9fH",
        "colab_type": "code",
        "colab": {}
      },
      "source": [
        "c=[0.0001,0.001,0.01,0.1,1,10,100,1000]\n",
        "Train_AUC_W2V = []\n",
        "CrossVal_AUC_W2V = []\n",
        "\n",
        "for i in c:\n",
        "  logreg = LogisticRegression(C=i,penalty='l2')\n",
        "  logreg.fit(sent_vectors_train, y_train)\n",
        "  Train_y_pred =  logreg.predict_proba(sent_vectors_train)[0:,]\n",
        "  Train_AUC_W2V.append(roc_auc_score(y_train,Train_y_pred, multi_class='ovr'))\n",
        "  CrossVal_y_pred =  logreg.predict_proba(sent_vectors_cv)[0:,]\n",
        "  CrossVal_AUC_W2V.append(roc_auc_score(y_cross,CrossVal_y_pred, multi_class='ovr'))"
      ],
      "execution_count": 0,
      "outputs": []
    },
    {
      "cell_type": "code",
      "metadata": {
        "id": "rczKNdMWFHFP",
        "colab_type": "code",
        "colab": {}
      },
      "source": [
        "from numpy import math\n",
        "C=[]\n",
        "for i in range(len(c)):\n",
        "  C.append(math.log(c[i]))"
      ],
      "execution_count": 0,
      "outputs": []
    },
    {
      "cell_type": "code",
      "metadata": {
        "id": "Vh_Izkw-FZ4C",
        "colab_type": "code",
        "outputId": "0585682a-2e85-4855-9686-217a7947bf92",
        "colab": {
          "base_uri": "https://localhost:8080/",
          "height": 295
        }
      },
      "source": [
        "\n",
        "plt.plot(C, Train_AUC_W2V, label='Train AUC AVG-W2VEC')\n",
        "plt.scatter(C, Train_AUC_W2V)\n",
        "plt.plot(C, CrossVal_AUC_W2V, label='CrossVal AUC AVG-W2VEC')\n",
        "plt.scatter(C, CrossVal_AUC_W2V)\n",
        "plt.legend()\n",
        "plt.xlabel(\"lambda : hyperparameter\")\n",
        "plt.ylabel(\"AUC\")\n",
        "plt.title(\"ERROR PLOTS\")\n",
        "plt.show()"
      ],
      "execution_count": 0,
      "outputs": [
        {
          "output_type": "display_data",
          "data": {
            "image/png": "[encoded data removed]",
            "text/plain": [
              "<Figure size 432x288 with 1 Axes>"
            ]
          },
          "metadata": {
            "tags": []
          }
        }
      ]
    },
    {
      "cell_type": "code",
      "metadata": {
        "id": "QbVSLLXEFfl9",
        "colab_type": "code",
        "outputId": "4232aad4-ace6-40ba-95dc-74183b81f4ca",
        "colab": {
          "base_uri": "https://localhost:8080/",
          "height": 34
        }
      },
      "source": [
        "optimal_inverse_lambda=c[CrossVal_AUC_W2V.index(max(CrossVal_AUC_W2V))]\n",
        "print(pow(optimal_inverse_lambda,-1))"
      ],
      "execution_count": 0,
      "outputs": [
        {
          "output_type": "stream",
          "text": [
            "0.01\n"
          ],
          "name": "stdout"
        }
      ]
    },
    {
      "cell_type": "code",
      "metadata": {
        "id": "bK3FpzADFjUt",
        "colab_type": "code",
        "outputId": "b7171244-ee2e-4b1c-8d80-a83f72a497dd",
        "colab": {
          "base_uri": "https://localhost:8080/",
          "height": 185
        }
      },
      "source": [
        "Classifier=LogisticRegression(C=optimal_inverse_lambda,penalty='l2')\n",
        "Classifier.fit(sent_vectors_train, y_train)\n",
        "\n",
        "auc_train_w2v = roc_auc_score(y_train,Classifier.predict_proba(sent_vectors_train)[0:,], multi_class='ovr')\n",
        "print (\"AUC for Train set\", auc_train_w2v)\n",
        "\n",
        "auc_test_w2v = roc_auc_score(y_test,Classifier.predict_proba(sent_vectors_test)[0:,], multi_class='ovr')\n",
        "print (\"AUc for Test set\",auc_test_w2v)"
      ],
      "execution_count": 0,
      "outputs": [
        {
          "output_type": "stream",
          "text": [
            "AUC for Train set 0.9503398031106638\n",
            "AUc for Test set 0.9224613394633409\n"
          ],
          "name": "stdout"
        },
        {
          "output_type": "stream",
          "text": [
            "/usr/local/lib/python3.6/dist-packages/sklearn/linear_model/_logistic.py:940: ConvergenceWarning: lbfgs failed to converge (status=1):\n",
            "STOP: TOTAL NO. of ITERATIONS REACHED LIMIT.\n",
            "\n",
            "Increase the number of iterations (max_iter) or scale the data as shown in:\n",
            "    https://scikit-learn.org/stable/modules/preprocessing.html\n",
            "Please also refer to the documentation for alternative solver options:\n",
            "    https://scikit-learn.org/stable/modules/linear_model.html#logistic-regression\n",
            "  extra_warning_msg=_LOGISTIC_SOLVER_CONVERGENCE_MSG)\n"
          ],
          "name": "stderr"
        }
      ]
    },
    {
      "cell_type": "code",
      "metadata": {
        "id": "IpsNWfzBFjSV",
        "colab_type": "code",
        "outputId": "e1aeb2b3-3c4a-4b8a-a33a-23b14d4abb15",
        "colab": {
          "base_uri": "https://localhost:8080/",
          "height": 202
        }
      },
      "source": [
        "print('Confusion Matrix of Train Data')\n",
        "Train_mat=confusion_matrix(y_train,Classifier.predict(sent_vectors_train))\n",
        "print (Train_mat)"
      ],
      "execution_count": 0,
      "outputs": [
        {
          "output_type": "stream",
          "text": [
            "Confusion Matrix of Train Data\n",
            "[[103  19  22  61  25  26  23  10  39  24]\n",
            " [  0 491   3  53   3  27  13   5 327  11]\n",
            " [  0  20 635  51   4  24   8  18  28  25]\n",
            " [  0  15  15 718   8  33  11   8  12  20]\n",
            " [  1  24   1  10 251  65   3   6   0   9]\n",
            " [  0  10   6  40  34 470  18   6   2  18]\n",
            " [  1  17   1  37   8  11 780   3   6   8]\n",
            " [  0   3  20   9   0  13   0 854   4  20]\n",
            " [  8  49  12  80   3  45  14   5 547  28]\n",
            " [  6  15  28 108  24  51   5  22  27 614]]\n"
          ],
          "name": "stdout"
        }
      ]
    },
    {
      "cell_type": "code",
      "metadata": {
        "id": "rvaxBI1fFjN_",
        "colab_type": "code",
        "outputId": "7ed4d795-e390-4934-e49b-08a21fcfafd2",
        "colab": {
          "base_uri": "https://localhost:8080/",
          "height": 302
        }
      },
      "source": [
        "from sklearn import metrics\n",
        "print(metrics.classification_report(y_train,Classifier.predict(sent_vectors_train), target_names=df['category'].unique()))"
      ],
      "execution_count": 0,
      "outputs": [
        {
          "output_type": "stream",
          "text": [
            "              precision    recall  f1-score   support\n",
            "\n",
            "    tutorial       0.87      0.29      0.44       352\n",
            "     science       0.74      0.53      0.62       933\n",
            "        vlog       0.85      0.78      0.82       813\n",
            "        food       0.62      0.85      0.72       840\n",
            "     fashion       0.70      0.68      0.69       370\n",
            "      travel       0.61      0.78      0.69       604\n",
            "       music       0.89      0.89      0.89       872\n",
            "      movies       0.91      0.93      0.92       923\n",
            "     history       0.55      0.69      0.61       791\n",
            "         art       0.79      0.68      0.73       900\n",
            "\n",
            "    accuracy                           0.74      7398\n",
            "   macro avg       0.75      0.71      0.71      7398\n",
            "weighted avg       0.76      0.74      0.73      7398\n",
            "\n"
          ],
          "name": "stdout"
        }
      ]
    },
    {
      "cell_type": "code",
      "metadata": {
        "id": "eXWe23hdFjKt",
        "colab_type": "code",
        "outputId": "cb42f3ac-031e-4cdf-8fcb-2b34e551de31",
        "colab": {
          "base_uri": "https://localhost:8080/",
          "height": 202
        }
      },
      "source": [
        "print('Confusion Matrix of Test Data')\n",
        "Test_mat=confusion_matrix(y_test,Classifier.predict(sent_vectors_test))\n",
        "print (Test_mat)"
      ],
      "execution_count": 0,
      "outputs": [
        {
          "output_type": "stream",
          "text": [
            "Confusion Matrix of Test Data\n",
            "[[ 27  15   5  35   5  33  48   9  24   9]\n",
            " [  0 106   1  12   1   7   5   0  71   3]\n",
            " [  0   4 172   8   2   7   1   2   5   7]\n",
            " [  0   5   3 163   2   6   2   3   2   2]\n",
            " [  1  21   2   4 116  57   0   4   0   3]\n",
            " [  0   2  11  21  12 152   2  10   3   5]\n",
            " [  0   4   0   9   1   2 172   0   2   2]\n",
            " [  0   1   2   4   0   2   0 191   0   4]\n",
            " [  2  11   4  27   5  24  11   3 127   8]\n",
            " [  1   2   8  29   5  16   2   3   5 128]]\n"
          ],
          "name": "stdout"
        }
      ]
    },
    {
      "cell_type": "code",
      "metadata": {
        "id": "fe77jW_5FjIx",
        "colab_type": "code",
        "outputId": "a19dc103-01cf-4256-8ead-15ad273f5da3",
        "colab": {
          "base_uri": "https://localhost:8080/",
          "height": 302
        }
      },
      "source": [
        "from sklearn import metrics\n",
        "print(metrics.classification_report(y_test,Classifier.predict(sent_vectors_test), target_names=df['category'].unique()))"
      ],
      "execution_count": 0,
      "outputs": [
        {
          "output_type": "stream",
          "text": [
            "              precision    recall  f1-score   support\n",
            "\n",
            "    tutorial       0.87      0.13      0.22       210\n",
            "     science       0.62      0.51      0.56       206\n",
            "        vlog       0.83      0.83      0.83       208\n",
            "        food       0.52      0.87      0.65       188\n",
            "     fashion       0.78      0.56      0.65       208\n",
            "      travel       0.50      0.70      0.58       218\n",
            "       music       0.71      0.90      0.79       192\n",
            "      movies       0.85      0.94      0.89       204\n",
            "     history       0.53      0.57      0.55       222\n",
            "         art       0.75      0.64      0.69       199\n",
            "\n",
            "    accuracy                           0.66      2055\n",
            "   macro avg       0.70      0.66      0.64      2055\n",
            "weighted avg       0.69      0.66      0.64      2055\n",
            "\n"
          ],
          "name": "stdout"
        }
      ]
    },
    {
      "cell_type": "code",
      "metadata": {
        "id": "8ei76e9wFjET",
        "colab_type": "code",
        "colab": {}
      },
      "source": [
        ""
      ],
      "execution_count": 0,
      "outputs": []
    },
    {
      "cell_type": "markdown",
      "metadata": {
        "id": "gxk5s4CWaqTN",
        "colab_type": "text"
      },
      "source": [
        "**W2V model using L1 penalty**"
      ]
    },
    {
      "cell_type": "code",
      "metadata": {
        "id": "3spOGWNCFjCp",
        "colab_type": "code",
        "outputId": "2ff828b0-0bb8-4061-ced5-227791a0d3e4",
        "colab": {
          "base_uri": "https://localhost:8080/",
          "height": 205
        }
      },
      "source": [
        "c=[0.0001,0.001,0.01,0.1,1,10,100,1000]\n",
        "Train_AUC_W2V = []\n",
        "CrossVal_AUC_W2V = []\n",
        "for i in c:\n",
        "  logreg = LogisticRegression(C=i,penalty='l1', solver='saga')\n",
        "  logreg.fit(sent_vectors_train, y_train)\n",
        "  Train_y_pred =  logreg.predict_proba(sent_vectors_train)[0:,]\n",
        "  Train_AUC_W2V.append(roc_auc_score(y_train,Train_y_pred, multi_class='ovr'))\n",
        "  CrossVal_y_pred =  logreg.predict_proba(sent_vectors_cv)[0:,]\n",
        "  CrossVal_AUC_W2V.append(roc_auc_score(y_cross,CrossVal_y_pred, multi_class='ovr'))"
      ],
      "execution_count": 0,
      "outputs": [
        {
          "output_type": "stream",
          "text": [
            "/usr/local/lib/python3.6/dist-packages/sklearn/linear_model/_sag.py:330: ConvergenceWarning: The max_iter was reached which means the coef_ did not converge\n",
            "  \"the coef_ did not converge\", ConvergenceWarning)\n",
            "/usr/local/lib/python3.6/dist-packages/sklearn/linear_model/_sag.py:330: ConvergenceWarning: The max_iter was reached which means the coef_ did not converge\n",
            "  \"the coef_ did not converge\", ConvergenceWarning)\n",
            "/usr/local/lib/python3.6/dist-packages/sklearn/linear_model/_sag.py:330: ConvergenceWarning: The max_iter was reached which means the coef_ did not converge\n",
            "  \"the coef_ did not converge\", ConvergenceWarning)\n",
            "/usr/local/lib/python3.6/dist-packages/sklearn/linear_model/_sag.py:330: ConvergenceWarning: The max_iter was reached which means the coef_ did not converge\n",
            "  \"the coef_ did not converge\", ConvergenceWarning)\n",
            "/usr/local/lib/python3.6/dist-packages/sklearn/linear_model/_sag.py:330: ConvergenceWarning: The max_iter was reached which means the coef_ did not converge\n",
            "  \"the coef_ did not converge\", ConvergenceWarning)\n"
          ],
          "name": "stderr"
        }
      ]
    },
    {
      "cell_type": "code",
      "metadata": {
        "id": "KxsPXeJza0ZV",
        "colab_type": "code",
        "colab": {}
      },
      "source": [
        "C=[]\n",
        "for i in range(len(c)):\n",
        "  C.append(math.log(c[i]))"
      ],
      "execution_count": 0,
      "outputs": []
    },
    {
      "cell_type": "code",
      "metadata": {
        "id": "6BbzKwr8Fi9k",
        "colab_type": "code",
        "outputId": "97ffc4d7-e11e-4a7c-c3cd-d53d8936f7eb",
        "colab": {
          "base_uri": "https://localhost:8080/",
          "height": 295
        }
      },
      "source": [
        "plt.plot(C, Train_AUC_W2V, label='Train AUC AVG-W2VEC')\n",
        "plt.scatter(C, Train_AUC_W2V)\n",
        "plt.plot(C, CrossVal_AUC_W2V, label='CrossVal AUC AVG-W2VEC')\n",
        "plt.scatter(C, CrossVal_AUC_W2V)\n",
        "plt.legend()\n",
        "plt.xlabel(\"lambda : hyperparameter\")\n",
        "plt.ylabel(\"AUC\")\n",
        "plt.title(\"ERROR PLOTS\")\n",
        "plt.show()"
      ],
      "execution_count": 0,
      "outputs": [
        {
          "output_type": "display_data",
          "data": {
            "image/png": "[encoded data removed]",
            "text/plain": [
              "<Figure size 432x288 with 1 Axes>"
            ]
          },
          "metadata": {
            "tags": []
          }
        }
      ]
    },
    {
      "cell_type": "code",
      "metadata": {
        "id": "msnkI87yFi6n",
        "colab_type": "code",
        "outputId": "cce0e18b-2e8e-475b-c78b-ed222dd0a3fa",
        "colab": {
          "base_uri": "https://localhost:8080/",
          "height": 34
        }
      },
      "source": [
        "optimal_inverse_lambda=c[CrossVal_AUC_W2V.index(max(CrossVal_AUC_W2V))]\n",
        "print(pow(optimal_inverse_lambda,-1))"
      ],
      "execution_count": 0,
      "outputs": [
        {
          "output_type": "stream",
          "text": [
            "0.001\n"
          ],
          "name": "stdout"
        }
      ]
    },
    {
      "cell_type": "code",
      "metadata": {
        "id": "KaexHjr1Fi27",
        "colab_type": "code",
        "outputId": "47c5a90f-b341-42b3-9f57-d5dafddb041d",
        "colab": {
          "base_uri": "https://localhost:8080/",
          "height": 104
        }
      },
      "source": [
        "Classifier=LogisticRegression(C=optimal_inverse_lambda,penalty='l1', solver='saga')\n",
        "Classifier.fit(sent_vectors_train, y_train)\n",
        "\n",
        "auc_train_w2v = roc_auc_score(y_train,Classifier.predict_proba(sent_vectors_train)[0:,], multi_class='ovr')\n",
        "print (\"AUC for Train set\", auc_train_w2v)\n",
        "\n",
        "auc_test_w2v = roc_auc_score(y_test,Classifier.predict_proba(sent_vectors_test)[0:,], multi_class='ovr')\n",
        "print (\"AUc for Test set\",auc_test_w2v)"
      ],
      "execution_count": 0,
      "outputs": [
        {
          "output_type": "stream",
          "text": [
            "AUC for Train set 0.9523870632501221\n",
            "AUc for Test set 0.9293590770164826\n"
          ],
          "name": "stdout"
        },
        {
          "output_type": "stream",
          "text": [
            "/usr/local/lib/python3.6/dist-packages/sklearn/linear_model/_sag.py:330: ConvergenceWarning: The max_iter was reached which means the coef_ did not converge\n",
            "  \"the coef_ did not converge\", ConvergenceWarning)\n"
          ],
          "name": "stderr"
        }
      ]
    },
    {
      "cell_type": "code",
      "metadata": {
        "id": "MCcd1_9BFis7",
        "colab_type": "code",
        "outputId": "c2559da9-95c4-4e9a-b7c5-e1adc23bf01f",
        "colab": {
          "base_uri": "https://localhost:8080/",
          "height": 202
        }
      },
      "source": [
        "print('Confusion Matrix of Train Data')\n",
        "Train_mat=confusion_matrix(y_train,Classifier.predict(sent_vectors_train))\n",
        "print (Train_mat)"
      ],
      "execution_count": 0,
      "outputs": [
        {
          "output_type": "stream",
          "text": [
            "Confusion Matrix of Train Data\n",
            "[[  0  64  30  55  25   8  31  11  76  52]\n",
            " [  0 529   5  37   3  15  11   1 315  17]\n",
            " [  0  24 645  28   3   7   9  20  42  35]\n",
            " [  0  13  13 711   8  15  10   6  32  32]\n",
            " [  0  37   1  15 219  73   3   4  10   8]\n",
            " [  0  18  10  36  21 438  19   0  24  38]\n",
            " [  0  11   2  25   9   8 779   1  19  18]\n",
            " [  0   0  18   8   0   6   2 857  12  20]\n",
            " [  0  60  14  57   3  27  14   3 577  36]\n",
            " [  0  13  31 100  24  28  14  24  42 624]]\n"
          ],
          "name": "stdout"
        }
      ]
    },
    {
      "cell_type": "code",
      "metadata": {
        "id": "ruwYDePzKpWG",
        "colab_type": "code",
        "outputId": "8382b2fe-3985-48cb-bb9b-7b15a6dbbd3c",
        "colab": {
          "base_uri": "https://localhost:8080/",
          "height": 202
        }
      },
      "source": [
        "print('Confusion Matrix of Train Data')\n",
        "Test_mat=confusion_matrix(y_test,Classifier.predict(sent_vectors_test))\n",
        "print (Test_mat)"
      ],
      "execution_count": 0,
      "outputs": [
        {
          "output_type": "stream",
          "text": [
            "Confusion Matrix of Train Data\n",
            "[[  0  25  10  24   5   9  68   3  47  19]\n",
            " [  0 114   2  10   1   5   5   1  65   3]\n",
            " [  0   4 175   6   1   1   3   3   7   8]\n",
            " [  0   5   3 161   2   4   3   2   5   3]\n",
            " [  0  23   2   6 103  62   1   3   4   4]\n",
            " [  0   2  21  14   8 121  15   4  17  16]\n",
            " [  0   4   0   4   1   1 172   0   4   6]\n",
            " [  0   0   3   3   0   1   1 189   1   6]\n",
            " [  0  19   5  24   4  12  15   2 131  10]\n",
            " [  0   2   5  28   5   7   6   4   6 136]]\n"
          ],
          "name": "stdout"
        }
      ]
    },
    {
      "cell_type": "markdown",
      "metadata": {
        "id": "x7qI2Ld1bN1w",
        "colab_type": "text"
      },
      "source": [
        "***TFIDF AVG W2V model*** "
      ]
    },
    {
      "cell_type": "code",
      "metadata": {
        "id": "KWy7ejuPLJu4",
        "colab_type": "code",
        "colab": {}
      },
      "source": [
        "i=0\n",
        "list_of_sentance_train=[]\n",
        "for sentance in X_train:\n",
        "    list_of_sentance_train.append(sentance.split())"
      ],
      "execution_count": 0,
      "outputs": []
    },
    {
      "cell_type": "code",
      "metadata": {
        "id": "WaWP2T2BLaQU",
        "colab_type": "code",
        "colab": {}
      },
      "source": [
        "tfidf_feat = tf_idf.get_feature_names()\n",
        "AVG_TFIDF = []\n",
        "row=0;\n",
        "for sent in tqdm(list_of_sentance_train): \n",
        "    sent_vec = np.zeros(50)  \n",
        "    weight_sum =0; \n",
        "    for word in sent: \n",
        "        if((word in w2v_words)&(word in tfidf_feat)):\n",
        "            vec = w2v_model.wv[word]\n",
        "            TF_IDF = Train_TFIDF[row , tfidf_feat.index(word)]\n",
        "            sent_vec += (vec * TF_IDF)\n",
        "            weight_sum += TF_IDF\n",
        "    if weight_sum != 0:\n",
        "        sent_vec /= weight_sum\n",
        "    AVG_TFIDF.append(sent_vec)\n",
        "    row+=1;"
      ],
      "execution_count": 0,
      "outputs": []
    },
    {
      "cell_type": "code",
      "metadata": {
        "id": "wRwRO1_2LaNB",
        "colab_type": "code",
        "colab": {}
      },
      "source": [
        "i=0\n",
        "list_of_sentance_cv=[]\n",
        "for sentance in X_cross:\n",
        "    list_of_sentance_cv.append(sentance.split())"
      ],
      "execution_count": 0,
      "outputs": []
    },
    {
      "cell_type": "code",
      "metadata": {
        "id": "rteQC2caLaJ0",
        "colab_type": "code",
        "colab": {}
      },
      "source": [
        "tfidf_feat = tf_idf.get_feature_names()\n",
        "AVG_TFIDF_cv = []\n",
        "row=0;\n",
        "for sent in tqdm(list_of_sentance_cv): \n",
        "    sent_vec = np.zeros(50)  \n",
        "    weight_sum =0; \n",
        "    for word in sent: \n",
        "        if((word in w2v_words)&(word in tfidf_feat)):\n",
        "            vec = w2v_model.wv[word]\n",
        "            TF_IDF = Train_TFIDF[row , tfidf_feat.index(word)]\n",
        "            sent_vec += (vec * TF_IDF)\n",
        "            weight_sum += TF_IDF\n",
        "    if weight_sum != 0:\n",
        "        sent_vec /= weight_sum\n",
        "    AVG_TFIDF_cv.append(sent_vec)\n",
        "    row+=1;"
      ],
      "execution_count": 0,
      "outputs": []
    },
    {
      "cell_type": "code",
      "metadata": {
        "id": "J-gdgp5CLaIE",
        "colab_type": "code",
        "colab": {}
      },
      "source": [
        "i=0\n",
        "list_of_sentance_test=[]\n",
        "for sentance in X_test:\n",
        "    list_of_sentance_test.append(sentance.split())"
      ],
      "execution_count": 0,
      "outputs": []
    },
    {
      "cell_type": "code",
      "metadata": {
        "id": "wNiAp_kSLaGB",
        "colab_type": "code",
        "colab": {}
      },
      "source": [
        "\n",
        "tfidf_feat = tf_idf.get_feature_names()\n",
        "AVG_TFIDF_test = []\n",
        "row=0;\n",
        "for sent in tqdm(list_of_sentance_test): \n",
        "    sent_vec = np.zeros(50)  \n",
        "    weight_sum =0; \n",
        "    for word in sent: \n",
        "        if((word in w2v_words)&(word in tfidf_feat)):\n",
        "            vec = w2v_model.wv[word]\n",
        "            TF_IDF = Train_TFIDF[row , tfidf_feat.index(word)]\n",
        "            sent_vec += (vec * TF_IDF)\n",
        "            weight_sum += TF_IDF\n",
        "    if weight_sum != 0:\n",
        "        sent_vec /= weight_sum\n",
        "    AVG_TFIDF_test.append(sent_vec)\n",
        "    row+=1;"
      ],
      "execution_count": 0,
      "outputs": []
    },
    {
      "cell_type": "markdown",
      "metadata": {
        "id": "D557Ca0xbbxu",
        "colab_type": "text"
      },
      "source": [
        "**TFIDF AVG W2V LogReg model using L2 penalty** "
      ]
    },
    {
      "cell_type": "code",
      "metadata": {
        "id": "YGK4lSOULaCT",
        "colab_type": "code",
        "colab": {}
      },
      "source": [
        "c=[0.0001,0.001,0.01,0.1,1,10,100,1000]\n",
        "Train_AUC_AVGTFIDF = []\n",
        "CrossVal_AUC_AVGTFIDF = []\n",
        "\n",
        "for i in c:\n",
        "  logreg = LogisticRegression(C=i,penalty='l2')\n",
        "  logreg.fit(AVG_TFIDF, y_train)\n",
        "  Train_y_pred =  logreg.predict_proba(AVG_TFIDF)[0:,]\n",
        "  Train_AUC_AVGTFIDF.append(roc_auc_score(y_train,Train_y_pred, multi_class='ovr'))\n",
        "  CrossVal_y_pred =  logreg.predict_proba(AVG_TFIDF_cv)[0:,]\n",
        "  CrossVal_AUC_AVGTFIDF.append(roc_auc_score(y_cross,CrossVal_y_pred, multi_class='ovr'))"
      ],
      "execution_count": 0,
      "outputs": []
    },
    {
      "cell_type": "code",
      "metadata": {
        "id": "CF-g5Rj2LZ8n",
        "colab_type": "code",
        "outputId": "f9235fac-0f3a-406a-b88a-27888928f162",
        "colab": {
          "base_uri": "https://localhost:8080/",
          "height": 295
        }
      },
      "source": [
        "plt.plot(C, Train_AUC_AVGTFIDF, label='Train AUC AVG-W2VEC')\n",
        "plt.scatter(C, Train_AUC_AVGTFIDF)\n",
        "plt.plot(C, CrossVal_AUC_AVGTFIDF, label='CrossVal AUC AVG-W2VEC')\n",
        "plt.scatter(C, CrossVal_AUC_AVGTFIDF)\n",
        "plt.legend()\n",
        "plt.xlabel(\"lambda : hyperparameter\")\n",
        "plt.ylabel(\"AUC\")\n",
        "plt.title(\"ERROR PLOTS\")\n",
        "plt.show()"
      ],
      "execution_count": 0,
      "outputs": [
        {
          "output_type": "display_data",
          "data": {
            "image/png": "[encoded data removed]",
            "text/plain": [
              "<Figure size 432x288 with 1 Axes>"
            ]
          },
          "metadata": {
            "tags": []
          }
        }
      ]
    },
    {
      "cell_type": "code",
      "metadata": {
        "id": "Bi_AGtq7LZ5g",
        "colab_type": "code",
        "outputId": "aa930150-93e3-4da0-b905-74b77352b52e",
        "colab": {
          "base_uri": "https://localhost:8080/",
          "height": 34
        }
      },
      "source": [
        "optimal_inverse_lambda=c[CrossVal_AUC_AVGTFIDF.index(max(CrossVal_AUC_AVGTFIDF))]\n",
        "print(pow(optimal_inverse_lambda,-1))"
      ],
      "execution_count": 0,
      "outputs": [
        {
          "output_type": "stream",
          "text": [
            "0.001\n"
          ],
          "name": "stdout"
        }
      ]
    },
    {
      "cell_type": "code",
      "metadata": {
        "id": "1-srdotLPSbX",
        "colab_type": "code",
        "outputId": "3e5c6063-d6e2-45ca-ce1e-b75ac410b3a8",
        "colab": {
          "base_uri": "https://localhost:8080/",
          "height": 185
        }
      },
      "source": [
        "Classifier=LogisticRegression(C=optimal_inverse_lambda,penalty='l2')\n",
        "Classifier.fit(AVG_TFIDF, y_train)\n",
        "\n",
        "auc_train_tfidf_avg = roc_auc_score(y_train,Classifier.predict_proba(AVG_TFIDF)[0:,], multi_class='ovr')\n",
        "print (auc_train_tfidf_avg)\n",
        "\n",
        "auc_test_tfidf_avg = roc_auc_score(y_test,Classifier.predict_proba(AVG_TFIDF_test)[0:,], multi_class='ovr')\n",
        "print (auc_test_tfidf_avg)"
      ],
      "execution_count": 0,
      "outputs": [
        {
          "output_type": "stream",
          "text": [
            "0.9419334017431975\n",
            "0.5604952654942104\n"
          ],
          "name": "stdout"
        },
        {
          "output_type": "stream",
          "text": [
            "/usr/local/lib/python3.6/dist-packages/sklearn/linear_model/_logistic.py:940: ConvergenceWarning: lbfgs failed to converge (status=1):\n",
            "STOP: TOTAL NO. of ITERATIONS REACHED LIMIT.\n",
            "\n",
            "Increase the number of iterations (max_iter) or scale the data as shown in:\n",
            "    https://scikit-learn.org/stable/modules/preprocessing.html\n",
            "Please also refer to the documentation for alternative solver options:\n",
            "    https://scikit-learn.org/stable/modules/linear_model.html#logistic-regression\n",
            "  extra_warning_msg=_LOGISTIC_SOLVER_CONVERGENCE_MSG)\n"
          ],
          "name": "stderr"
        }
      ]
    },
    {
      "cell_type": "markdown",
      "metadata": {
        "id": "4DsGb5nlcCcR",
        "colab_type": "text"
      },
      "source": [
        "**TFIDF AVG W2V L1 penalty**"
      ]
    },
    {
      "cell_type": "code",
      "metadata": {
        "id": "VVsRYmK0QoSe",
        "colab_type": "code",
        "outputId": "c2fb76aa-9a88-491d-c169-87164489cafd",
        "colab": {
          "base_uri": "https://localhost:8080/",
          "height": 205
        }
      },
      "source": [
        "c=[0.0001,0.001,0.01,0.1,1,10,100,1000]\n",
        "Train_AUC_AVGTFIDF = []\n",
        "CrossVal_AUC_AVGTFIDF = []\n",
        "\n",
        "for i in c:\n",
        "  logreg = LogisticRegression(C=i,penalty='l1', solver='saga')\n",
        "  logreg.fit(AVG_TFIDF, y_train)\n",
        "  Train_y_pred =  logreg.predict_proba(AVG_TFIDF)[0:,]\n",
        "  Train_AUC_AVGTFIDF.append(roc_auc_score(y_train,Train_y_pred, multi_class='ovr'))\n",
        "  CrossVal_y_pred =  logreg.predict_proba(AVG_TFIDF_cv)[0:,]\n",
        "  CrossVal_AUC_AVGTFIDF.append(roc_auc_score(y_cross,CrossVal_y_pred, multi_class='ovr'))"
      ],
      "execution_count": 0,
      "outputs": [
        {
          "output_type": "stream",
          "text": [
            "/usr/local/lib/python3.6/dist-packages/sklearn/linear_model/_sag.py:330: ConvergenceWarning: The max_iter was reached which means the coef_ did not converge\n",
            "  \"the coef_ did not converge\", ConvergenceWarning)\n",
            "/usr/local/lib/python3.6/dist-packages/sklearn/linear_model/_sag.py:330: ConvergenceWarning: The max_iter was reached which means the coef_ did not converge\n",
            "  \"the coef_ did not converge\", ConvergenceWarning)\n",
            "/usr/local/lib/python3.6/dist-packages/sklearn/linear_model/_sag.py:330: ConvergenceWarning: The max_iter was reached which means the coef_ did not converge\n",
            "  \"the coef_ did not converge\", ConvergenceWarning)\n",
            "/usr/local/lib/python3.6/dist-packages/sklearn/linear_model/_sag.py:330: ConvergenceWarning: The max_iter was reached which means the coef_ did not converge\n",
            "  \"the coef_ did not converge\", ConvergenceWarning)\n",
            "/usr/local/lib/python3.6/dist-packages/sklearn/linear_model/_sag.py:330: ConvergenceWarning: The max_iter was reached which means the coef_ did not converge\n",
            "  \"the coef_ did not converge\", ConvergenceWarning)\n"
          ],
          "name": "stderr"
        }
      ]
    },
    {
      "cell_type": "code",
      "metadata": {
        "id": "Ud7Qj5uSQ0PR",
        "colab_type": "code",
        "outputId": "9daed177-b45f-481f-8bfd-5403469ad93a",
        "colab": {
          "base_uri": "https://localhost:8080/",
          "height": 295
        }
      },
      "source": [
        "plt.plot(C, Train_AUC_AVGTFIDF, label='Train AUC AVG-W2VEC')\n",
        "plt.scatter(C, Train_AUC_AVGTFIDF)\n",
        "plt.plot(C, CrossVal_AUC_AVGTFIDF, label='CrossVal AUC AVG-W2VEC')\n",
        "plt.scatter(C, CrossVal_AUC_AVGTFIDF)\n",
        "plt.legend()\n",
        "plt.xlabel(\"lambda : hyperparameter\")\n",
        "plt.ylabel(\"AUC\")\n",
        "plt.title(\"ERROR PLOTS\")\n",
        "plt.show()"
      ],
      "execution_count": 0,
      "outputs": [
        {
          "output_type": "display_data",
          "data": {
            "image/png": "[encoded data removed]",
            "text/plain": [
              "<Figure size 432x288 with 1 Axes>"
            ]
          },
          "metadata": {
            "tags": []
          }
        }
      ]
    },
    {
      "cell_type": "code",
      "metadata": {
        "id": "tWtvM-wgRX_H",
        "colab_type": "code",
        "outputId": "cfc86df8-0623-4ec4-eb89-64c4d3618cc3",
        "colab": {
          "base_uri": "https://localhost:8080/",
          "height": 34
        }
      },
      "source": [
        "optimal_inverse_lambda=c[CrossVal_AUC_AVGTFIDF.index(max(CrossVal_AUC_AVGTFIDF))]\n",
        "print(pow(optimal_inverse_lambda,-1))"
      ],
      "execution_count": 0,
      "outputs": [
        {
          "output_type": "stream",
          "text": [
            "0.01\n"
          ],
          "name": "stdout"
        }
      ]
    },
    {
      "cell_type": "code",
      "metadata": {
        "id": "B4hpXwVDReru",
        "colab_type": "code",
        "outputId": "7ea4e7bf-9efc-41ba-c952-ae6fd3c58aa7",
        "colab": {
          "base_uri": "https://localhost:8080/",
          "height": 185
        }
      },
      "source": [
        "Classifier=LogisticRegression(C=optimal_inverse_lambda,penalty='l2')\n",
        "Classifier.fit(AVG_TFIDF, y_train)\n",
        "\n",
        "auc_train_tfidf_avg = roc_auc_score(y_train,Classifier.predict_proba(AVG_TFIDF)[0:,], multi_class='ovr')\n",
        "print (auc_train_tfidf_avg)\n",
        "\n",
        "auc_test_tfidf_avg = roc_auc_score(y_test,Classifier.predict_proba(AVG_TFIDF_test)[0:,], multi_class='ovr')\n",
        "print (auc_test_tfidf_avg)"
      ],
      "execution_count": 0,
      "outputs": [
        {
          "output_type": "stream",
          "text": [
            "0.9398652233305246\n",
            "0.5612249882110449\n"
          ],
          "name": "stdout"
        },
        {
          "output_type": "stream",
          "text": [
            "/usr/local/lib/python3.6/dist-packages/sklearn/linear_model/_logistic.py:940: ConvergenceWarning: lbfgs failed to converge (status=1):\n",
            "STOP: TOTAL NO. of ITERATIONS REACHED LIMIT.\n",
            "\n",
            "Increase the number of iterations (max_iter) or scale the data as shown in:\n",
            "    https://scikit-learn.org/stable/modules/preprocessing.html\n",
            "Please also refer to the documentation for alternative solver options:\n",
            "    https://scikit-learn.org/stable/modules/linear_model.html#logistic-regression\n",
            "  extra_warning_msg=_LOGISTIC_SOLVER_CONVERGENCE_MSG)\n"
          ],
          "name": "stderr"
        }
      ]
    },
    {
      "cell_type": "code",
      "metadata": {
        "id": "sQgbYyFkRhu9",
        "colab_type": "code",
        "outputId": "cf101e26-8ca6-470a-9e16-90512f1d11ba",
        "colab": {
          "base_uri": "https://localhost:8080/",
          "height": 218
        }
      },
      "source": [
        "x = PrettyTable()\n",
        "\n",
        "x.field_names = [\"VECTORIZER\", \"REGULARIZATION\", \"HYPER PARAMETER\", \"AREA UNDER CURVE\"]\n",
        "\n",
        "x.add_row([\"BOW\",\"L2\",0.1,0.99848])\n",
        "x.add_row([\"BOW\",\"L1\",1,0.99008])\n",
        "x.add_row([\"TFIDF\",\"L2\",0.001,0.99251])\n",
        "x.add_row([\"TFIDF\",\"L1\",1,0.98032])\n",
        "x.add_row([\"AVG-W2VEC\",\"L2\",0.01,0.92241])\n",
        "x.add_row([\"AVG-W2VEC\",\"L1\",0.001,0.92935])\n",
        "x.add_row([\"TFIDF-AVG W2VEC\",\"L2\",0.001,0.56042])\n",
        "x.add_row([\"TFIDF-AVG W2VEC\",\"L1\",0.01,0.56122])\n",
        "print(x)"
      ],
      "execution_count": 20,
      "outputs": [
        {
          "output_type": "stream",
          "text": [
            "+-----------------+----------------+-----------------+------------------+\n",
            "|    VECTORIZER   | REGULARIZATION | HYPER PARAMETER | AREA UNDER CURVE |\n",
            "+-----------------+----------------+-----------------+------------------+\n",
            "|       BOW       |       L2       |       0.1       |     0.99848      |\n",
            "|       BOW       |       L1       |        1        |     0.99008      |\n",
            "|      TFIDF      |       L2       |      0.001      |     0.99251      |\n",
            "|      TFIDF      |       L1       |        1        |     0.98032      |\n",
            "|    AVG-W2VEC    |       L2       |       0.01      |     0.92241      |\n",
            "|    AVG-W2VEC    |       L1       |      0.001      |     0.92935      |\n",
            "| TFIDF-AVG W2VEC |       L2       |      0.001      |     0.56042      |\n",
            "| TFIDF-AVG W2VEC |       L1       |       0.01      |     0.56122      |\n",
            "+-----------------+----------------+-----------------+------------------+\n"
          ],
          "name": "stdout"
        }
      ]
    },
    {
      "cell_type": "code",
      "metadata": {
        "id": "W4BJuk5icVD5",
        "colab_type": "code",
        "colab": {}
      },
      "source": [
        ""
      ],
      "execution_count": 0,
      "outputs": []
    }
  ]
}