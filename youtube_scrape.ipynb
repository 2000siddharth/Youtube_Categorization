{
 "cells": [
  {
   "cell_type": "code",
   "execution_count": 1,
   "metadata": {},
   "outputs": [],
   "source": [
    "from selenium import webdriver \n",
    "import pandas as pd \n",
    "from selenium.webdriver.common.by import By \n",
    "from selenium.webdriver.support.ui import WebDriverWait \n",
    "from selenium.webdriver.support import expected_conditions as EC"
   ]
  },
  {
   "cell_type": "code",
   "execution_count": 2,
   "metadata": {},
   "outputs": [],
   "source": [
    "from bs4 import BeautifulSoup\n",
    "from requests import get"
   ]
  },
  {
   "cell_type": "code",
   "execution_count": 3,
   "metadata": {},
   "outputs": [],
   "source": [
    "from time import sleep\n",
    "#from googlesearch.googlesearch import search\n",
    "from urllib.request import urlopen"
   ]
  },
  {
   "cell_type": "code",
   "execution_count": 15,
   "metadata": {},
   "outputs": [],
   "source": [
    "driver = webdriver.Chrome(\"C:/Users/SIDDHARTH/Downloads/chromedriver_win32/chromedriver.exe\")"
   ]
  },
  {
   "cell_type": "code",
   "execution_count": 16,
   "metadata": {},
   "outputs": [],
   "source": [
    "def load_complete_page(driver, clicks):\n",
    "    for i in range(clicks):\n",
    "        driver.execute_script(\"window.scrollBy(0,2500)\")\n",
    "        sleep(2)"
   ]
  },
  {
   "cell_type": "code",
   "execution_count": 17,
   "metadata": {},
   "outputs": [],
   "source": [
    "url = 'https://www.youtube.com/'\n",
    "youtube_list = []"
   ]
  },
  {
   "cell_type": "code",
   "execution_count": 18,
   "metadata": {},
   "outputs": [
    {
     "name": "stdout",
     "output_type": "stream",
     "text": [
      "0 {'video_id': 'https://www.youtube.com/watch?v=2eOSG4qgZuE', 'title': 'Highway Dhaba Chicken Curry | Desi Style Simple Masala Chicken Gravy - Indian Street Food', 'description': 'Like This Video!! Do Subscribe Us: https://goo.gl/SKv5yy * Disclaimer: This video is not Sponsored by anyone. Watch making of ...', 'category': 'food'}\n",
      "1 {'video_id': 'https://www.youtube.com/watch?v=ypoRYXy4VxA', 'title': 'CHEAPEST DHABA FOOD | Sabji for Rs 30, Roti for Rs 5 | Indian Street Food', 'description': 'Gurdaspuria Dhaba is a small shop in Sion, Mumbai serving authentic Punjabi Dhaba style street food. This place is known for ...', 'category': 'food'}\n",
      "2 {'video_id': 'https://www.youtube.com/watch?v=R0DI_9rqUOc', 'title': 'Best Street Foods in Delhi | Satisfying Video | Best Indian Street Food', 'description': 'Indian Street Food Making Videos from Delhi, India. Indian Food is very well known in the entire world for its making process ...', 'category': 'food'}\n",
      "3 {'video_id': 'https://www.youtube.com/watch?v=88s4VlRu0PE', 'title': 'Famous Dal Pakwan of Ulhasnagar | Sindhi Breakfast | Indian Street Food', 'description': 'Yet again, we are back in Ulhasnagar. This time we have covered the best sindhi street food place in Ulhasnagar called Doli ...', 'category': 'food'}\n",
      "4 {'video_id': 'https://www.youtube.com/watch?v=Q3nbADof0Nk', 'title': 'Indian Street Food Bamboo Chicken In HINDI - How to Make Bamboo Chicken', 'description': 'Bamboo Chicken In HINDI - How to Make Bamboo Chicken Bamboo Chicken is a popular dish of ARAKU Valley (AP). This is ...', 'category': 'food'}\n",
      "5 {'video_id': 'https://www.youtube.com/watch?v=6n2lIL7iM-E', 'title': 'DESHI MAGUR MASALA CURRY !!! Prepared by our Grandmother in Indian Village Style', 'description': 'DESHI MAGUR MASALA CURRY !!! Prepared by our Grandmother in Indian Village Style http://www.youtube.com/villfood ...', 'category': 'food'}\n",
      "6 {'video_id': 'https://www.youtube.com/watch?v=275w4NGumhY', 'title': 'VILLAGE BREAKFAST MORNING ROUTINE | INDIAN MORNING ROUTINE 2018 | DAILY INDIAN KITCHEN ROUTINE', 'description': 'VILLAGE BREAKFAST MORNING ROUTINE | INDIAN MORNING ROUTINE 2018 | DAILY INDIAN KITCHEN ROUTINE ...', 'category': 'food'}\n",
      "7 {'video_id': 'https://www.youtube.com/watch?v=15qhpFo34QY', 'title': 'Best Puri Subzi Breakfast In Haridwar | Indian Street Food | Street Food of Haridwar', 'description': 'Best Puri Subzi Breakfast In Haridwar | Indian Street Food | Street Food of Haridwar | mathura walo ki dukan in haridwar Googl ...', 'category': 'food'}\n",
      "8 {'video_id': 'https://www.youtube.com/watch?v=IaN7MCR89HM', 'title': 'AMAZING STREET FOODS IN NORTH INDIA | COMPILATION', 'description': 'So guys in this video i am covering all the videos of street food which are good. Like thali with shahi paneer , dal makhani , roti ...', 'category': 'food'}\n",
      "9 {'video_id': 'https://www.youtube.com/watch?v=zvccFcXawvQ', 'title': 'DESI Chaat Thali for Rs 199 Only in Agra || Indian Food with Veggiepaaji', 'description': 'In the 5th Episode of Agra Food Tour ( Land of Taj Mahal), we will go on a thali HUNT. We will go to very popular restaurant in ...', 'category': 'food'}\n",
      "10 {'video_id': 'https://www.youtube.com/watch?v=Io6s4XncrQA', 'title': 'Desi Food Hub At East Of Kailash Community Centre', 'description': '', 'category': 'food'}\n",
      "11 {'video_id': 'https://www.youtube.com/watch?v=_usmvhJjzWU', 'title': 'Thali Recipes | Indian Village Cooking | Amazing Food Making', 'description': 'https://www.patreon.com/crazyindianfood Indian Village Food Recipes will blow your mind. #Villagecooking #Villagefood ...', 'category': 'food'}\n",
      "12 {'video_id': 'https://www.youtube.com/watch?v=-lM819xlPKc', 'title': 'Indian People Enjoying Famous Lucknowi Biryani & Chicken Kebab - Street Food Lucknow India', 'description': 'Address : Wahid Biryani , Aminabad , lucknow , UP , India. Indian People Enjoying Famous Lucknowi Biryani & Chicken Kebab ...', 'category': 'food'}\n",
      "13 {'video_id': 'https://www.youtube.com/watch?v=NygB9L2v3ls', 'title': 'Vada Pav Street Food in Mumbai | Desi Indian Food | Indian Street Food', 'description': 'Address: C/o, Ramakrishna Mission Hospital, Ramkrishan Mission Marg, 12th Khar Road, Khar West, Mumbai - 400052, Opposite ...', 'category': 'food'}\n",
      "14 {'video_id': 'https://www.youtube.com/watch?v=7ZCjCPEbZ3w', 'title': \"Grandma's Special Mushroom Paturi Recipe | Indian Food Recipe | Village Food\", 'description': \"Grandma's Special Mushroom Paturi Recipe | Indian Food Recipe | Village Food Subscribe 'villfood' https://goo.gl/vF4TKr ...\", 'category': 'food'}\n",
      "15 {'video_id': 'https://www.youtube.com/watch?v=QjMj38ZdFEw', 'title': 'Spicy Indian Street Food at Punjabi Dhaba|| Chole, Panner and Butter Naan||', 'description': 'Veggiepaaji will show you a typically Punjabi Dhaba Dinner consisting of Chole Masala, Kadhai Paneer, Butter Naan and Butter ...', 'category': 'food'}\n",
      "16 {'video_id': 'https://www.youtube.com/watch?v=KLufdBvYEQA', 'title': \"Exploring Antwerp - YUST Hostel, Locals, Shopping & Indian Food- Traveling Desi's Belgium - EP 7\", 'description': 'Rs. 2200 Airbnb Voucher Link: https://goo.gl/QpZcGv Help me by subscribing to my channel:-) https://goo.gl/69iSWt Follow me for ...', 'category': 'food'}\n",
      "17 {'video_id': 'https://www.youtube.com/watch?v=Io2kRw74ANw', 'title': 'Desi Ambala Breakfast 😍 | Indian Street Food 2020 Special | Veggiepaaji', 'description': 'In the First Episode of Ambala Food Tour, We explore Chole Bhature, Amritsari Kulche, Soot ke Laddu and more in Ambala City.', 'category': 'food'}\n",
      "18 {'video_id': 'https://www.youtube.com/watch?v=5X9GB_-CGrs', 'title': 'Punjab ka Khana aur Punjabi PYAAR with Veggiepaaji | EP 10', 'description': 'In the 10th Episode of Ludhiana Food Series, we will explore Famous Street food in Ludhiana. We will have Nutri Kulche, Veg ...', 'category': 'food'}\n",
      "19 {'video_id': 'https://www.youtube.com/watch?v=pGiFN0Se0C8', 'title': 'Mouth-Watering Indian Food Recipes • Tasty', 'description': 'Indian food recipes pack a punch of tasty flavor! Subscribe to Tasty: https://bzfd.it/2ri82Z1 About Tasty: The official YouTube ...', 'category': 'food'}\n",
      "20 {'video_id': 'https://www.youtube.com/watch?v=W4Xt49P4kYA', 'title': 'CHICKEN CURRY IN DESI INDIAN STYLE', 'description': 'Hello everyone this is our first video on youtube... for more videos SUBSCRIBE OUR CHANNEL Traditional method of cooking ...', 'category': 'food'}\n",
      "21 {'video_id': 'https://www.youtube.com/watch?v=Heg_UDZh7pw', 'title': 'Desi Fruit Ninja at Kolkata Street - Indian Street Food - Fruit Cutting skills', 'description': 'kolkata street food,indian street food #streetfood #desifoods.', 'category': 'food'}\n",
      "22 {'video_id': 'https://www.youtube.com/watch?v=5fbKJ7pHsVo', 'title': 'Desi Haryanvi Breakfast In Ambala Cantt | Veggiepaaji | Indian Street Food', 'description': 'In the 5th Episode of Ambala Food Tour, We explore Desi Haryanvi Breakfast In Ambala Cantt. We eat the very famous Garg Poori ...', 'category': 'food'}\n",
      "23 {'video_id': 'https://www.youtube.com/watch?v=iTKAFlTMAjA', 'title': 'Eating Desi Chicken Curry With Rice | Spicy Indian Food |', 'description': 'for more delicious mukbung video please like ,share,comment & subscribe.', 'category': 'food'}\n",
      "24 {'video_id': 'https://www.youtube.com/watch?v=HyBQCsP3img', 'title': 'Rural Women Cooking ll Delicious Desi Chicken Curry ll Indian Village Food', 'description': 'Rural Women Cooking ll Delicious Desi Chicken Curry ll Indian Village Food This Video shoot From Byaspur Village Dist. of ...', 'category': 'food'}\n",
      "25 {'video_id': 'https://www.youtube.com/watch?v=HTjaCHBBNGQ', 'title': 'How To Cook Snail - Desi Food Spicy Snail Recipe - Super tasty Snail Recipe Cooking', 'description': 'Snail Cooking - Spicy Snail Recipe - Super tasty Snail Recipe Cooking In this Video I will Show you how To Cook Snail with ...', 'category': 'food'}\n",
      "26 {'video_id': 'https://www.youtube.com/watch?v=2ADASF5Di6k', 'title': 'Desi Chaat Special Karela Chaat, Pani ki Tikki & More | Indian Street Food', 'description': 'In the Third Episode of Gwalior Street Food Tour, We explore desi Chaat in Gwalior. We eat Kanji Vada, Karela Chaat, Paneer ...', 'category': 'food'}\n",
      "27 {'video_id': 'https://www.youtube.com/watch?v=DbUsM4YGHrE', 'title': 'Village Food- Cooking 2 Big Desi Chicken Curry Recipe | Masala Chicken Curry | Dhaba Style Chicken', 'description': 'Village Food- Cooking 2 Big Desi Chicken Curry Recipe | Masala Chicken Curry | Dhaba Style Chicken Join with US: ...', 'category': 'food'}\n",
      "28 {'video_id': 'https://www.youtube.com/watch?v=b3puiiPi3NY', 'title': 'Street Food | Uttar Pradesh', 'description': \"KFC style Homemade Chicken Drumstick | Recipe Hindi https://youtu.be/orp_-lmggpg how to make KFC and mcdonald's french ...\", 'category': 'food'}\n"
     ]
    },
    {
     "name": "stdout",
     "output_type": "stream",
     "text": [
      "29 {'video_id': 'https://www.youtube.com/watch?v=1IL0jHHVMq0', 'title': \"'Streets Of India' In Canada Serves Authentic Indian Food | Curly Tales\", 'description': 'Get authentic golgappas from a cart, with ragda & pani. Dig into a soft Masala Dosa filled with potatos & onions. If you prefer ...', 'category': 'food'}\n",
      "30 {'video_id': 'https://www.youtube.com/watch?v=FQmH_QhIA6M', 'title': 'mutton masala - goat meat recipe by dadi | traditional Indian cooking | desi food recipes', 'description': 'muttonmasala #muttoncurry #mutton mutton warhadi - goat meat recipe by dadi mutton masala check the recipe.. like this video if ...', 'category': 'food'}\n",
      "31 {'video_id': 'https://www.youtube.com/watch?v=RwX7rYRvqOo', 'title': 'Desi Indian Burger | Special Paneer Tikka Burger | Indian Street Food', 'description': 'Have you ever tried Paneer Tikka Burger? This place in Ulhasnagar is quiet popular for their sandwiches, burgers and pizzas.', 'category': 'food'}\n",
      "32 {'video_id': 'https://www.youtube.com/watch?v=mXrcL4z0X9Q', 'title': 'Mutton Curry | Mutton Rice | Punjabi Khana | Azad Market', 'description': 'Today we tried this hidden gem at azad market by the name of Punjabi khana. The shop owner said that we are serving here from ...', 'category': 'food'}\n",
      "33 {'video_id': 'https://www.youtube.com/watch?v=EAaOj93reKk', 'title': 'Bacha Party Special Delhi Food Tour | Indian Street Food | Veggiepaaji | Krishna Nagar', 'description': 'In the 10th Episode of Dilli Ki Sardi, Veggiepaaji explores East Delhi Krishna Nagar Food with Bacha party. We Explore samosa ...', 'category': 'food'}\n",
      "34 {'video_id': 'https://www.youtube.com/watch?v=ARBGdUkqNcY', 'title': \"granny's tasty vegetable pulao recipe - vegetable masala rice | desi food recipes\", 'description': \"Like Share & Subscribe: Desi Food Recipe Link of Best Recipes by our channel : DFC- Dadi's Fried Chicken | Crispy Chicken ...\", 'category': 'food'}\n",
      "35 {'video_id': 'https://www.youtube.com/watch?v=A_lQGVUdFU4', 'title': 'Delicious Omelette Alfiya With Desi Angara And 3 Gravy | Egg Street Food | Indian Street Food', 'description': 'Address : Madar Omelette Center, Ayurvedic Tran Rasta, Outside Pani Gate, Vadodara, Gujarat, India Contact No : 09998561736 ...', 'category': 'food'}\n",
      "36 {'video_id': 'https://www.youtube.com/watch?v=tu5Ht6rsfQs', 'title': 'Pure Desi Style Cooking Food | Natural Food Recipe | Indian Village Food Recipes', 'description': \"Pure Desi Style Cooking Food | Natural Food Recipe | Indian Village Food Recipes Subscribe 'villfood' https://goo.gl/vF4TKr ...\", 'category': 'food'}\n",
      "37 {'video_id': 'https://www.youtube.com/watch?v=2gJqRIeeTow', 'title': 'FISH BIRYANI AND DESI CHICKEN CURRY EATING | INDIAN FUNNY FOOD EATING CHALLENGE |', 'description': 'HI EVERYONE HERE WE TAKE FOOD CHALLENGES, THIS IS AN ENTERTAINING PURPOSE IF YOU WANT MORE PLEASE ...', 'category': 'food'}\n",
      "38 {'video_id': 'https://www.youtube.com/watch?v=xIHU_DeLBaM', 'title': 'INDIAN BIGGEST DESI FOOD THALI EATING CHALLENGE | Desi Food Eating Competition | Food Challenge', 'description': 'Indian Desi Style food Biggest thali Eating Challenge | cooked and non cooked food challenge with bhukkad no 1 My Vloging ...', 'category': 'food'}\n",
      "39 {'video_id': 'https://www.youtube.com/watch?v=BFD5XRDN8uI', 'title': 'Village Food Shapla Cooking - Desi Food Recipe', 'description': 'In this video you will see a very Unique vegetable of village called shapla recipe. A girl from village showing how to cook this ...', 'category': 'food'}\n",
      "40 {'video_id': 'https://www.youtube.com/watch?v=H96fNb6g9mo', 'title': 'INDIAN MAN SELLING BURGER | Desi Burger | Indian Street Food', 'description': 'Burgers is a Biggest selling street food in the world and it is cooked in almost all the parts of the world.', 'category': 'food'}\n",
      "41 {'video_id': 'https://www.youtube.com/watch?v=712INXn7-0k', 'title': 'Rajasthani food with YouTube ke pandit ji | Vaishno Dhaba | ft Indian Desi Tadakaa', 'description': 'YouTube ke pandit j explains to us why there is only one temple of Lord Brahma. We then went to Vaishno Dhabha for amazing ...', 'category': 'food'}\n",
      "42 {'video_id': 'https://www.youtube.com/watch?v=mxZIFRWej7E', 'title': 'Indian Desi Beer | Delhi Street Food | Subhash Nagar | Indian Beverages | Punjabi Drink Carrot Juice', 'description': 'Indian Desi Beer | Delhi Street Food | Subhash Nagar | Indian Beverages | Punjabi Drink Google Location ...', 'category': 'food'}\n",
      "43 {'video_id': 'https://www.youtube.com/watch?v=9-TG96t-TME', 'title': 'chicken curry and crunchy chicken eating with puri Indian desi food', 'description': 'chicken curry and crunchy chicken eating with puri Indian desi food . Hello Friends aj ka food bahat awesome hain . itna delicious ...', 'category': 'food'}\n",
      "44 {'video_id': 'https://www.youtube.com/watch?v=p9LiqPIGWh8', 'title': 'Village Food in India - SUPER SPICY Curry in Rural Punjab, India! Eating NORTH INDIAN Food!!', 'description': '🎥 Pakistani Food in India : https://youtu.be/TuqUzmvsdFM 📹 GAURAV’S CHANNEL: https://bit.ly/2RELwGv 👉 For food tours in ...', 'category': 'food'}\n",
      "45 {'video_id': 'https://www.youtube.com/watch?v=JRQXZEj5Rsg', 'title': 'Organic Food At Roadside Dhaba / Desi Style', 'description': 'MYFITNESS Peanut Butter Crunchy 1250g - http://amzn.to/2QkP9Uh For Latest Updates ...', 'category': 'food'}\n",
      "46 {'video_id': 'https://www.youtube.com/watch?v=tqVMB1ZefKE', 'title': 'Indian Sabzi Recipes - Part 1 | Indian Curry Recipes Compilation', 'description': 'Quick and easy Indian Sabzi Recipes Product Used : Ninja chopper : https://goo.gl/Dy8thn Oster blender : https://goo.gl/YDzbKx ...', 'category': 'food'}\n",
      "47 {'video_id': 'https://www.youtube.com/watch?v=syQMLP0CDSI', 'title': 'Lachha Paratha Recipe In Hindi Urdu Breakfast Pakistani Indian Desi Food by (HUMA IN THE KITCHEN)', 'description': 'Healthy, Crispy, Flakey Lachha Paratha Recipe. Lachha paratha is commonly found as a street food. A paratha is a flatbread ...', 'category': 'food'}\n",
      "48 {'video_id': 'https://www.youtube.com/watch?v=Du_wx4wtIt4', 'title': \"Home-Cooked Indian Food in Delhi, India!! MOM'S RAJMA + LOVELY Family Food in India!\", 'description': '🎥 All NIGHT DHABA FOOD TOUR in India: https://youtu.be/yJz-BS3pZr4 📹 GAURAV’S CHANNEL: https://bit.ly/2RELwGv 👉 For food ...', 'category': 'food'}\n",
      "49 {'video_id': 'https://www.youtube.com/watch?v=TY2yyest-Zo', 'title': 'Mumbai Style Matka Gravy Dosa Making | Road Side Veg Meal | Indian Street Food', 'description': 'Address : 100 + Fancy Dosa Hub, Next To Sharmaji Punjabi Khana , Opp. Marvadi Biryani, Ratri Bazaar, Vadodara, Gujarat, India ...', 'category': 'food'}\n",
      "50 {'video_id': 'https://www.youtube.com/watch?v=nYJO_g3Cdkc', 'title': 'Price of Indian Food In Canada at Walmart and Freshco. – Vlog # 4 An Indian in Canada on a budget.', 'description': 'Subscribe to my channel: https://goo.gl/69iSWt My Instagram: http://instagram.com/thetravelingdesi Facebook Page: ...', 'category': 'food'}\n",
      "51 {'video_id': 'https://www.youtube.com/watch?v=88uvIbvFY8g', 'title': 'Famous Ulta Pizza of Mumbai | Reverse Pizza | Indian Street Food', 'description': \"This Ulta Pizza is a must try for those who love to experiment with Mumbai street food. It's basically a desi Indian pizza with ...\", 'category': 'food'}\n",
      "52 {'video_id': 'https://www.youtube.com/watch?v=n_USQ1wAPyc', 'title': 'ASMR:Eating Rajma chawal,Paneer,Paapad,Desi Ghee(comfort food) Indian food', 'description': 'Hi guys its Rajma chawal today hope you guys enjoy #Rajmachawal #vegetarianfoodeating #spicyfood #asmr #spiceasmr ...', 'category': 'food'}\n",
      "53 {'video_id': 'https://www.youtube.com/watch?v=FxMsr72gZWs', 'title': 'Indian Street food Recipe | Indian Food video in 4k | Deep Inside The Indian Village', 'description': 'https://www.patreon.com/crazyindianfood Making of Delicious Indian Street Food Recipes in an Indian village. Outdoor cooking ...', 'category': 'food'}\n",
      "54 {'video_id': 'https://www.youtube.com/watch?v=vIxp1RrW3tg', 'title': 'Crowd going crazy for Momos | Dolma Aunty Momos | Indian Street Food', 'description': 'Domla Aunty momos is the most popular momo place in Delhi and is located in Lajpat Nagar. The momos are so popular that the ...', 'category': 'food'}\n",
      "55 {'video_id': 'https://www.youtube.com/watch?v=yHVj_7RjX5Q', 'title': 'Desi Dhaba Foods In Village | Afternoon Lunch In Desi Dhaba | Indian Street Food |', 'description': 'Afternoon Lunch In Desi Dhaba Menu Tandor Roti Chana Masala Mater Paneer Sabpuri . Eat best food in desi dhaba Follow On My ...', 'category': 'food'}\n",
      "56 {'video_id': 'https://www.youtube.com/watch?v=kmEO_KGTEy4', 'title': 'Desi Food: the underground Indian food network in New York City', 'description': 'Harpreet Sohal is part of a small underground network of Indian women from Queens, who cook and deliver homemade meals to ...', 'category': 'food'}\n"
     ]
    },
    {
     "name": "stdout",
     "output_type": "stream",
     "text": [
      "57 {'video_id': 'https://www.youtube.com/watch?v=kpcqDptaH6c', 'title': 'Desi Indian Food in Malaysia with Veggiepaaji', 'description': 'In this epsiode of Malaysia Food Series, Veggiepaaji will explore the Indian Food in Malaysia Check out my Travelling Channel ...', 'category': 'food'}\n",
      "58 {'video_id': 'https://www.youtube.com/watch?v=h6TRYSlTeUo', 'title': 'South Indian Sambar | Desi Khana | Traditional South Indian Food | 4K VIDEOS street food', 'description': 'South Indian Sambar | Desi Khana | Traditional South Indian Food | 4K VIDEOS street food #Sambar watch more videos on ...', 'category': 'food'}\n",
      "59 {'video_id': 'https://www.youtube.com/watch?v=F4YWPTXYV-0', 'title': '100 Sweets and Desserts IN India | PART 2 | Desi Sweets | Indian Sweet Recipes | STREET FOODS', 'description': '100 Sweets and Desserts IN India | PART 2 | Desi Sweets | Indian Sweet Recipes | STREET FOODS #IndianSweetsMaking ...', 'category': 'food'}\n",
      "60 {'video_id': 'https://www.youtube.com/watch?v=stWnGwn8-9A', 'title': '8 Desi Dessert Recipes By Food Fusion', 'description': 'Here is our collection of 8 desi desserts. #HappyCookingToYou #FoodFusion Written Recipes: Balushahi: https://bit.ly/2JQiDWd ...', 'category': 'food'}\n",
      "61 {'video_id': 'https://www.youtube.com/watch?v=wLFNAIY5qZs', 'title': 'Too Much Cheese Desi PINEAPPLE PIZZA 😋😋😋|| Indian Street Food Series|| Veggiepaaji', 'description': 'In this video, Veggiepaaji will show you one of the most debatable pizza ever- PINEAPPLE Pizza and Cheesy pasta. This is from ...', 'category': 'food'}\n",
      "62 {'video_id': 'https://www.youtube.com/watch?v=wMyxe-lr7qs', 'title': 'INDIAN FOOD VS WESTERN FOOD CHALLENGE | Desi vs Videshi Food Challenge | Funny Food Challenge', 'description': 'Hello friends in this video we are going to do Indian vs western Food Challenge.If you like our video than hit that like button and ...', 'category': 'food'}\n",
      "63 {'video_id': 'https://www.youtube.com/watch?v=VE8hfQTYa60', 'title': 'easy chicken masala | chicken curry | recipe masala | desi village, village food', 'description': 'اس چینل کو ابھی سبسکرائب کرلی نیکس اچھی اچھی ویڈیوز دیکھنے کے لیے یعنی کہ village food Punjab ===Bajre ke Biscuit, ...', 'category': 'food'}\n",
      "64 {'video_id': 'https://www.youtube.com/watch?v=upfu5nQB2ks', 'title': 'Gordon Ramsay’s Top 5 Indian Dishes', 'description': 'We found 5 of the best and most interesting Indian recipes from the channel, including some footage from Gordon’s time spent ...', 'category': 'food'}\n",
      "65 {'video_id': 'https://www.youtube.com/watch?v=fhLLZGI2q28', 'title': 'South Delhi Walo ka Desi Adda! | Indian Street Food | Veggiepaaji', 'description': 'In the 11th Episode of Dilli Ki Sardi, Veggiepaaji explores best street food in South Delhi and we explore Tandoori Momos from ...', 'category': 'food'}\n",
      "66 {'video_id': 'https://www.youtube.com/watch?v=LS_92NzvJRk', 'title': 'DHABA STYLE CHICKEN CURRY | INDIAN DESI CHICKEN RECIPE | SIMPLE CHICKEN CURRY RECIPE | LETSCOOKEAT', 'description': \"DHABA'S STYLE CHICKEN CURRY / DHABHA'S STYLE CHICKEN CURRY Lets look over the ingredients chicken - 1 kg Ginger ...\", 'category': 'food'}\n",
      "67 {'video_id': 'https://www.youtube.com/watch?v=n-e7TMt-Brw', 'title': '6 Desi Breakfast Recipes By Food Fusion (Ramzan Sehri Recipes)', 'description': 'A must have collection of our top 6 quick and easy desi breakfast recipes in one place. #HappyCookingToYou Full Written ...', 'category': 'food'}\n",
      "68 {'video_id': 'https://www.youtube.com/watch?v=q0EkCJ2IbFA', 'title': 'Batata wada - aloo bonda |simple recipe by dadi Indian food | desi food recipes', 'description': 'music-NO COPYRIGHT MUSIC : India Bensound (Royalty Free Music)https://youtu.be/CoLyUyOp6eU Check out My Production ...', 'category': 'food'}\n",
      "69 {'video_id': 'https://www.youtube.com/watch?v=aBqFgyTod4U', 'title': \"Sushma's Spicy Kitchen | Spicy Recipes | Indian Food | Desi Food | Recipe in Hindi | with subtitles\", 'description': 'Eat healthy Live Longer! #healthyfood #indianfood #sushmasSpicyKitchen #desifoodrecipe You can also check my recipes on ...', 'category': 'food'}\n",
      "70 {'video_id': 'https://www.youtube.com/watch?v=w2QrToYZeb0', 'title': 'Delicious Indian Food | Indian Cooking at a Farm in India | Deshi Food', 'description': 'https://www.patreon.com/crazyindianfood Fresh Vegetables and its taste you will never going to get in any cities of the world ...', 'category': 'food'}\n",
      "71 {'video_id': 'https://www.youtube.com/watch?v=6sCYgZNuwD4', 'title': 'DESI CHOLE TIKKI BURGER | Indian Street Food', 'description': 'DESI CHOLE TIKKI BURGER | Indian Street Food #streetfood #burger #cookingskills.', 'category': 'food'}\n",
      "72 {'video_id': 'https://www.youtube.com/watch?v=udVOHxzJ4EM', 'title': 'PASTA MAKING CHALLENGE | Desi vs Videshi | #Chef #Food #MyMissAnand #CookWithNisha', 'description': 'Pasta is a type of Italian food typically made from an unleavened dough of durum wheat flour mixed with water or eggs and formed ...', 'category': 'food'}\n",
      "73 {'video_id': 'https://www.youtube.com/watch?v=uzJRXzWg_5c', 'title': 'Housewarming Party | Indian Food Menu for 20 |Indian party Menu|Desi khana', 'description': 'See how we planned, organized housewarming party for 20 people starting from menu preparation, shopping ingredients and ...', 'category': 'food'}\n",
      "74 {'video_id': 'https://www.youtube.com/watch?v=GStMSkhmYEs', 'title': 'INDIAN STREET FOOD Tour DEEP in PUNJAB, INDIA | BEST STREET FOOD in INDIA and BEST CURRY HEAVEN!', 'description': 'Check out https://ExpressVPN.com/thefoodranger for 3 months free w/ 1 year pack and 49% OFF! AMAZING Indian Street Food TOUR ...', 'category': 'food'}\n",
      "75 {'video_id': 'https://www.youtube.com/watch?v=aH84PgHJbno', 'title': 'Traditional Desi Chicken Curry Recipe Cooking by Rural Women Indian Village Food', 'description': 'Spicy Desi Chicken Curry Recipe Cooking by Rural Women, Traditional chicken curry, Indian Village Food ...', 'category': 'food'}\n",
      "76 {'video_id': 'https://www.youtube.com/watch?v=s9MVITgeECo', 'title': 'Rangeen Street Food Tour of Ludhiana With Veggiepaaji | EP11', 'description': 'In the 11th Episode of Ludhiana Food Series, we will explore UNIQUE Street food in Ludhiana. We will have Pizza Kulcha from ...', 'category': 'food'}\n",
      "77 {'video_id': 'https://www.youtube.com/watch?v=07qB56fgD-4', 'title': 'Best kathiyawadi Thali in Rajkot At ₹.170 | Traditional Kathiyawadi Food | Indian Food | Desi Dhamal', 'description': 'Address:- Desi Dhamal Pal road, Mavadi bypass, Opp. Krishna Party Plote, Rajkot. ( Gujarat ) Kathiyawadi thali impresses from ...', 'category': 'food'}\n",
      "78 {'video_id': 'https://www.youtube.com/watch?v=gFwlsdJMebI', 'title': '100 Sweets and Desserts IN India | PART 1 | Desi Sweets | Indian Sweet Recipes | STREET FOODS', 'description': '100 Sweets and Desserts IN India | PART 1 | Desi Sweets | Indian Sweet Recipes | STREET FOODS #Desi Sweets watch more ...', 'category': 'food'}\n",
      "79 {'video_id': 'https://www.youtube.com/watch?v=7LNGSDV16J0', 'title': 'खाने जाना है, तो बस Indian Desi Tadakaa चेक कर लो Food In Pushkar | Indian Street Food | Food Shows', 'description': 'खाने जाना है, तो बस Indian Desi Tadakaa चेक कर लो Food In Pushkar | Indian Street Food | Food Shows A platform ...', 'category': 'food'}\n",
      "80 {'video_id': 'https://www.youtube.com/watch?v=EGi3VZ0sBsw', 'title': \"INDIA'S BEST YUMMY DESI KULFI - ICE CREAM - AT ROADSIDE | INDIAN STREET FOOD\", 'description': '', 'category': 'food'}\n",
      "81 {'video_id': 'https://www.youtube.com/watch?v=m-CRY9fHn7o', 'title': 'DHABA CHICKEN CURRY RECIPE | DESI STYLE CHICKEN CURRY RECIPE', 'description': 'Dhaba Chicken Curry | Dhaba Chicken Curry Recipe | Desi Style Chicken Curry Recipe | Dhaba Style Chicken Curry Recipe ...', 'category': 'food'}\n",
      "82 {'video_id': 'https://www.youtube.com/watch?v=SuBgYZHtRKo', 'title': 'SPICY ALOO CHAWAL/DESI FOOD RECIPES/PAKISTANI FOOD RECIPES/URDU RECIPES', 'description': 'this video is about spicy aloo chawal recipe for more PAKISTAN FOOD RECIPES IN URDU MOROVER YOU WILL FIND THERE ...', 'category': 'food'}\n",
      "83 {'video_id': 'https://www.youtube.com/watch?v=vQXJ0eNtooo', 'title': 'Kadhi Pakora Recipe | Best Pakoda Karhi | Indian kadhi Pakora | Flavour of Desi Food - EP 06', 'description': 'Today I will show you how to cook a very tasty Pakistani style curry pakora. Curry pakora (Kadhi Pakoda or Karhi Pakora) is one of ...', 'category': 'food'}\n"
     ]
    },
    {
     "name": "stdout",
     "output_type": "stream",
     "text": [
      "84 {'video_id': 'https://www.youtube.com/watch?v=sBPz8wH5AGs', 'title': 'Paris For Rs. 30,000 - Hostel, Parties, Indian Food, Sim, Museums, Boats, Palaces - Indian Vlogger', 'description': 'Subscribe to my channel: https://goo.gl/69iSWt My Instagram: http://instagram.com/thetravelingdesi Facebook Page: ...', 'category': 'food'}\n",
      "85 {'video_id': 'https://www.youtube.com/watch?v=YgXXroSIDJ0', 'title': 'Lau Patay Desi Magur Mach Bhapa | Unseen and Rare Fish Cooking | Indian Village Food', 'description': 'Lau Patay Desi Magur Mach Bhapa | Unseen and Rare Fish Cooking | Indian Village Food Subscribe villfood goo.gl/vF4TKr Follow ...', 'category': 'food'}\n",
      "86 {'video_id': 'https://www.youtube.com/watch?v=HCBXHYZoa_Y', 'title': '#Indian Desi Masala Stuffed Lobster BBQ | BBQ Lobster on the Grill Reciepe | How to Make street food', 'description': 'Indian Desi Masala Stuffed Lobster BBQ | BBQ Lobster on the Grill Reciepe | How to Make street food #CrabCurryMaking ...', 'category': 'food'}\n",
      "87 {'video_id': 'https://www.youtube.com/watch?v=kwkWYCFif2U', 'title': 'Cream Chicken In Desi Style | Indian Kitchen | Food Fatafat', 'description': 'Watch how to make world famous delicious Cream Chicken from India.', 'category': 'food'}\n",
      "88 {'video_id': 'https://www.youtube.com/watch?v=mev_tBUOtt0', 'title': 'Desi Food At Pahalwan Vaishno Dhaba', 'description': 'So we tried this morethan 40years dhaba - Pahalwan Vaishno Dhaba. Tried there dal makhani, palak paneer and shahi paneer .', 'category': 'food'}\n",
      "89 {'video_id': 'https://www.youtube.com/watch?v=F4YWPTXYV-0', 'title': '100 Sweets and Desserts IN India | PART 2 | Desi Sweets | Indian Sweet Recipes | STREET FOODS', 'description': '100 Sweets and Desserts IN India | PART 2 | Desi Sweets | Indian Sweet Recipes | STREET FOODS #IndianSweetsMaking ...', 'category': 'food'}\n",
      "90 {'video_id': 'https://www.youtube.com/watch?v=VE8hfQTYa60', 'title': 'easy chicken masala | chicken curry | recipe masala | desi village, village food', 'description': 'اس چینل کو ابھی سبسکرائب کرلی نیکس اچھی اچھی ویڈیوز دیکھنے کے لیے یعنی کہ village food Punjab ===Bajre ke Biscuit, ...', 'category': 'food'}\n",
      "91 {'video_id': 'https://www.youtube.com/watch?v=xwb3UlX55ho', 'title': 'Lucknow Street Food || Indian Desi Village Food || Best Indian Street Food', 'description': 'Lucknow Street Food || Indian Desi Village Food || Best Indian Street Food Copyright Music Link...https://youtu.be/0YLhwrbW1Uo ...', 'category': 'food'}\n",
      "92 {'video_id': 'https://www.youtube.com/watch?v=M9C1bJU0CcU', 'title': 'Best Food For Health | जगल | कान्या | TEST OF WORLD | Indian Desi Food', 'description': 'Please watch: \"मटन देसी | The Test of Rajasthan | मटन दो आलू | मटन बनाने का जंगली तरीका ...', 'category': 'food'}\n",
      "93 {'video_id': 'https://www.youtube.com/watch?v=SqHCkMXG9LY', 'title': \"Grandma's Fish Fry || How To Cook Traditional Fish Fry || Desi Kitchen\", 'description': \"Grandma's Fish Fry || How To Cook Traditional Fish Fry || Desi Kitchen Fruit salad in custard Mixed https://youtu.be/fEgw8FNPL1A ...\", 'category': 'food'}\n",
      "94 {'video_id': 'https://www.youtube.com/watch?v=kor6mPFmGBU', 'title': \"Enter CURRY HEAVEN - Mumbai's BIGGEST Thali (38 Items) + BEST Indian Street Food in Mumbai, India!\", 'description': 'Today we are trying a TON of delicious Indian Street Food in Mumbai, Check out https://ExpressVPN.com/thefoodranger for 3 ...', 'category': 'food'}\n",
      "95 {'video_id': 'https://www.youtube.com/watch?v=uXLpEEEIxMs', 'title': 'Desi Dhaba Ka Khana Butter aur Cream Bhar ke Street Food Of India in Delhi', 'description': \"In this Video, I eat the most creamy and buttery food I there can be. Can't believe how much butter and cream a dhaba can put to ...\", 'category': 'food'}\n",
      "96 {'video_id': 'https://www.youtube.com/watch?v=WmUUowD-tn4', 'title': 'DESI Chinese में Number ONE | KULWANT SINGH JI | Street Food Stories with Harry Uppal', 'description': 'Desi Chinese Cuisine Or Sino-Indian Cuisine Is The Adaptation Of Chinese Seasoning And Cooking Techniques To Indian Tastes ...', 'category': 'food'}\n",
      "97 {'video_id': 'https://www.youtube.com/watch?v=_rta_hIkB6w', 'title': 'The Little India or Paris - 400 Rupay Plate! The budget-friendly Indian neighbourhood of Paris', 'description': 'Rs. 2200 Airbnb Voucher Link: https://goo.gl/QpZcGv Help me by subscribing to my channel:-) https://goo.gl/69iSWt Follow me for ...', 'category': 'food'}\n",
      "98 {'video_id': 'https://www.youtube.com/watch?v=JRQXZEj5Rsg', 'title': 'Organic Food At Roadside Dhaba / Desi Style', 'description': 'MYFITNESS Peanut Butter Crunchy 1250g - http://amzn.to/2QkP9Uh For Latest Updates ...', 'category': 'food'}\n",
      "99 {'video_id': 'https://www.youtube.com/watch?v=j2XJLmNzd-o', 'title': 'BEST Shahi Paneer Salan Dhaba Restaurant Style Cooking Pakistani Indian Desi Food ( Recipe In Urdu )', 'description': 'INGREDIENTS Oil (for cooking) 1 to 2 Tablespoon Oil (for frying) 1 Cup Onions 1 Cup Cumin Seeds 1/2 Tablespoon Tomato ...', 'category': 'food'}\n",
      "100 {'video_id': 'https://www.youtube.com/watch?v=nYJO_g3Cdkc', 'title': 'Price of Indian Food In Canada at Walmart and Freshco. – Vlog # 4 An Indian in Canada on a budget.', 'description': 'Subscribe to my channel: https://goo.gl/69iSWt My Instagram: http://instagram.com/thetravelingdesi Facebook Page: ...', 'category': 'food'}\n",
      "101 {'video_id': 'https://www.youtube.com/watch?v=t5nYOUNmyLw', 'title': 'Restaurant Style Tikka Butter Chicken Recipe | टिक्का बटर चिकन | Desi Food | Indian Food |', 'description': 'Delicious Restaurant Style Tikka Butter Chicken Recipe. For queries mail- rubinahakim75@gmail.com.', 'category': 'food'}\n",
      "102 {'video_id': 'https://www.youtube.com/watch?v=OII1QgwW-qs', 'title': 'भई एक बार चख के तो देखो Indian Desi Food...', 'description': 'Hi Guys, Welcome to my channel. Hope you all are doing well. Checkout more makeup Videos - • Lakme Rose Powder Review ...', 'category': 'food'}\n",
      "103 {'video_id': 'https://www.youtube.com/watch?v=h7yTIWd7ssw', 'title': 'Coffee at Out Of The Blue | Pushkar Food Market | Indian Desi Tadakaa | Food In Pushkar', 'description': 'Coffee at Out Of The Blue | Pushkar Food Market | Indian Desi Tadakaa google Location ...', 'category': 'food'}\n",
      "104 {'video_id': 'https://www.youtube.com/watch?v=1IL0jHHVMq0', 'title': \"'Streets Of India' In Canada Serves Authentic Indian Food | Curly Tales\", 'description': 'Get authentic golgappas from a cart, with ragda & pani. Dig into a soft Masala Dosa filled with potatos & onions. If you prefer ...', 'category': 'food'}\n",
      "105 {'video_id': 'https://www.youtube.com/watch?v=IkoTkZH08Ig', 'title': \"Chicago's Best Indian Street Food: Hakka Bakka\", 'description': 'Elliott Bambrough is in Lincoln Park for a taste of Indian street food right here in Chicago.', 'category': 'food'}\n",
      "106 {'video_id': 'https://www.youtube.com/watch?v=GckSqe1KmTA', 'title': 'Chole Kulcha Pizza for Rs 20 | Unique Desi version of Pizza | Indian Street Food', 'description': \"This tiny stall in Ludhiana serves a very unique and desi version of Pizza. It's basically a fusion of pizza and chole kulche.\", 'category': 'food'}\n",
      "107 {'video_id': 'https://www.youtube.com/watch?v=ofwvrPSSU6Y', 'title': '10 Dawat Recipes by Food Fusion', 'description': 'Here are top 10 dawat recipes for you. Let us know which one you like the most. #HappyCookingToYou Download iOS & Android ...', 'category': 'food'}\n",
      "108 {'video_id': 'https://www.youtube.com/watch?v=P7I1P4xZlBI', 'title': 'Indian food Sonpapri।Taste foods। Desi food। Banglai foods', 'description': 'Indian food #Sonpapri।#Taste foods। #Desi food। #Banglai foods.', 'category': 'food'}\n",
      "109 {'video_id': 'https://www.youtube.com/watch?v=ycAP0FCNonE', 'title': 'ASMR INDIAN FOOD FEAST (Eating Sounds) | Biryani Rice Pani Puri Samosa Butter Chicken | ASMR Phan', 'description': \"Hi my Phan Club! So today I'm eating the highly anticipated Indian Food Feast! This was one of my favorite meals! Indian food is ...\", 'category': 'food'}\n",
      "110 {'video_id': 'https://www.youtube.com/watch?v=n-e7TMt-Brw', 'title': '6 Desi Breakfast Recipes By Food Fusion (Ramzan Sehri Recipes)', 'description': 'A must have collection of our top 6 quick and easy desi breakfast recipes in one place. #HappyCookingToYou Full Written ...', 'category': 'food'}\n"
     ]
    },
    {
     "name": "stdout",
     "output_type": "stream",
     "text": [
      "111 {'video_id': 'https://www.youtube.com/watch?v=276ZG3Lv3JY', 'title': 'Desi Paratha Ka Taste | People are Eating Paratha In Roadside Food Center | Street Food India', 'description': 'Desi Paratha Ka Taste | People are Eating Paratha In Roadside Food Center | Street Food India(Kolkata). Free Subscribe us for ...', 'category': 'food'}\n",
      "112 {'video_id': 'https://www.youtube.com/watch?v=8AutMzukoVk', 'title': 'original Pav Bhaji Recipe |indian Streetfood | full Recipe | Streetfood india | desi food recipes', 'description': 'pavbhaji #streetfoodindia #streetfood Pavbhaji ( पाव भाजी) is a fast food dish from Maharashtra, India, consisting of a thick ...', 'category': 'food'}\n",
      "113 {'video_id': 'https://www.youtube.com/watch?v=vIxp1RrW3tg', 'title': 'Crowd going crazy for Momos | Dolma Aunty Momos | Indian Street Food', 'description': 'Domla Aunty momos is the most popular momo place in Delhi and is located in Lajpat Nagar. The momos are so popular that the ...', 'category': 'food'}\n",
      "114 {'video_id': 'https://www.youtube.com/watch?v=P3WQZcyT1-E', 'title': 'Indian desi foods - Hogenakkal street food', 'description': 'Indian desi foods Hogenakkal street food desi chicken curry desi mutton curry desi fish fry desi fish masala desi chicken kebab ...', 'category': 'food'}\n",
      "115 {'video_id': 'https://www.youtube.com/watch?v=jlxcChgahdk', 'title': 'Kolkata Street Food - Street Food in India | Desi Paratha with Soyabean Curry Super Taste', 'description': 'Kolkata Street Food - Street Food in India | Desi Paratha with Soyabean Curry Super Taste. Free Subscribe us for more videos ...', 'category': 'food'}\n",
      "116 {'video_id': 'https://www.youtube.com/watch?v=Kmqr9ZNMmCo', 'title': 'CHEESE LOADED PATTICE PAV | Desi Indian Burger | Indian Street Food', 'description': 'Mumbai as we know is pretty popular for its scrumptious food and eateries. Be it a restaurant or some street food joint, every place ...', 'category': 'food'}\n",
      "117 {'video_id': 'https://www.youtube.com/watch?v=lfIzOmRKRF4', 'title': 'Desi Murgh Karahi | Desi Chicken Recipe | Village Style Cooking | Village Food Secrets', 'description': 'Desi Murgh Karahi | Desi Chicken Recipe | Village Style Cooking | Village Food Secrets Thanks For Watching... Subscribe for ...', 'category': 'food'}\n",
      "118 {'video_id': 'https://www.youtube.com/watch?v=5SYtZPRhAQk', 'title': 'Indian Street Food | Desi Food', 'description': 'Indian Street Food is a true reflection of Desi Food and street food prepared in a Dhaba captures the true essence of Indian Food !', 'category': 'food'}\n",
      "119 {'video_id': 'https://www.youtube.com/watch?v=_baVrhdEVUg', 'title': 'SHUDDH DESI BURGER KING | Indian Style Burger | Mumbai Street Food', 'description': 'SHUDDH DESI BURGER | Indian Style Burger | Mumbai Street Food Burger is one of the popular street food in the world. Try this ...', 'category': 'food'}\n",
      "120 {'video_id': 'https://www.youtube.com/watch?v=Rl-rl0UQ2I0', 'title': 'Indian Desi omelette | bread omelette | food truck | street food video', 'description': 'This Food truck is loacted in heart market of Faridabad , sector 15 . Name of this food truck is Sardarji ande wale. Sardarji has ...', 'category': 'food'}\n",
      "121 {'video_id': 'https://www.youtube.com/watch?v=9pXLSjDkcEE', 'title': 'L.A.’s Best Indian Food Is in This Gas Station', 'description': \"The best things come from the most unexpected places. At least, that's the case with the Bombay Frankie Company. They're ...\", 'category': 'food'}\n",
      "122 {'video_id': 'https://www.youtube.com/watch?v=2wT-krXje-I', 'title': 'Meal at Mountains Of Uttarakhand | Desi Thali | Uttrakhand Traditional थाली Food from Haldwani', 'description': 'Meal at Mountains Of Uttarakhand | Desi Thali | Uttrakhand Traditional थाली Food from Haldwani It was a great tour of Haldwani ...', 'category': 'food'}\n",
      "123 {'video_id': 'https://www.youtube.com/watch?v=0Pfw7Jd7AOk', 'title': 'Shadi Ka Khana🤗 || Desi Shadi Ka khana Crazy Peoples Asian Street Food Pakistan', 'description': 'ShadiKaKhana#DesiShadiKakhanaAmazing Food Asian Street Food Pakistan.', 'category': 'food'}\n",
      "124 {'video_id': 'https://www.youtube.com/watch?v=zEsKVIsnBow', 'title': 'Chicken food masala and indian Desi style recipes', 'description': 'Chicken recipe Chicken food masala Indian food factory and crispy chicken Chicken biryani.', 'category': 'food'}\n",
      "125 {'video_id': 'https://www.youtube.com/watch?v=TqLuYItPlms', 'title': 'Most Hygienic 3 Layer Omelette Dishes | Egg Street Food | Indian Street Food', 'description': 'Address : Montu Omelette Center, Jalaram Chamber, Nr. Geetanjali, Karelibaug, Vadodara, Gujarat, India Contact No ...', 'category': 'food'}\n",
      "126 {'video_id': 'https://www.youtube.com/watch?v=ub_3UUt1Izo', 'title': 'Fishing In Village/and Cooking Desi Food Fish Recipe. Ur Indian Village Guy', 'description': 'Thanks For Watching.Stay With Us.Please Subscribe Our Channel.Keep Support. Your indian village guy ° channel is only ...', 'category': 'food'}\n",
      "127 {'video_id': 'https://www.youtube.com/watch?v=3ENpjCtTkb8', 'title': 'Awesome Recipe || Snails | Indian Live Snails Masala Curry | Cooking & Cleaning Snails Village Style', 'description': 'Awesome Recipe || Snails | Indian Live Snails Masala Curry | Cooking & Cleaning Snails Village Style Please Share & Subscribe ...', 'category': 'food'}\n",
      "128 {'video_id': 'https://www.youtube.com/watch?v=HMYh5KUzoWw', 'title': 'North Indian THALI in Mumbai | Indian Street Food, Biryani with Organic Ingredients', 'description': 'A massive Indian food experience that includes a full Indian Thali along with Indian street food like chaats and kebabs, biryani, ...', 'category': 'food'}\n",
      "129 {'video_id': 'https://www.youtube.com/watch?v=88uvIbvFY8g', 'title': 'Famous Ulta Pizza of Mumbai | Reverse Pizza | Indian Street Food', 'description': \"This Ulta Pizza is a must try for those who love to experiment with Mumbai street food. It's basically a desi Indian pizza with ...\", 'category': 'food'}\n",
      "130 {'video_id': 'https://www.youtube.com/watch?v=tk2Wpcf3DUg', 'title': 'Dhaba Style Mutton Curry - Swarn Dhaba Chandigarh - Spicy Desi Indian Food', 'description': 'Like This Video!! Do Subscribe Us : https://goo.gl/SKv5yy *Disclaimer : This video is not Sponsored by anyone. Watch full ...', 'category': 'food'}\n",
      "131 {'video_id': 'https://www.youtube.com/watch?v=F4YWPTXYV-0', 'title': '100 Sweets and Desserts IN India | PART 2 | Desi Sweets | Indian Sweet Recipes | STREET FOODS', 'description': '100 Sweets and Desserts IN India | PART 2 | Desi Sweets | Indian Sweet Recipes | STREET FOODS #IndianSweetsMaking ...', 'category': 'food'}\n",
      "132 {'video_id': 'https://www.youtube.com/watch?v=VGJKxvyXJSk', 'title': 'Chicken Pasta Recipes Chicken And Vegetable Pasta Recipe | Flavour of Desi Food - Ep 66', 'description': 'Quick & easy creamy red sauce pasta chicken recipe in Hindi and Urdu. I will show you how to make very special chicken pasta ...', 'category': 'food'}\n",
      "133 {'video_id': 'https://www.youtube.com/watch?v=zjHI6dNlvKM', 'title': 'WHAT I EAT ON DIET - DESI (PAKISTANI OR INDIAN) FOOD- WEIGHTLOSS', 'description': 'HI welcome to my 3rd WHAT I EAT IN A DAY video. CHECK OUT MY FIRST ONE HERE ...', 'category': 'food'}\n",
      "134 {'video_id': 'https://www.youtube.com/watch?v=BtF35Ge57qc', 'title': 'Aloo Shimla ki recipe aise banaen! Indian desi food!', 'description': 'Indian desi food#desi Indian food# Indian food village style recipe#aloo Shimla desi food recipe#', 'category': 'food'}\n",
      "135 {'video_id': 'https://www.youtube.com/watch?v=KLufdBvYEQA', 'title': \"Exploring Antwerp - YUST Hostel, Locals, Shopping & Indian Food- Traveling Desi's Belgium - EP 7\", 'description': 'Rs. 2200 Airbnb Voucher Link: https://goo.gl/QpZcGv Help me by subscribing to my channel:-) https://goo.gl/69iSWt Follow me for ...', 'category': 'food'}\n",
      "136 {'video_id': 'https://www.youtube.com/watch?v=4P5m4n4HmRQ', 'title': 'Eating All the Food from THELA Challenge | Indian Street Food | Veggiepaaji', 'description': 'In the 5th Episode of Pune Food Tour, We take a food challenge of eating everything from a thela in rasta peth. This video has a ...', 'category': 'food'}\n",
      "137 {'video_id': 'https://www.youtube.com/watch?v=uW1blc6zJgU', 'title': 'Gobi Manchurian recipe | Indian Chinese fusion food | Easy & Homemade | desi food stuffs |', 'description': 'This is Gobi Manchurian tasty recipe. For Complete Recipe detail Please visit your website http://desifoodstuffs.com/ For more ...', 'category': 'food'}\n",
      "138 {'video_id': 'https://www.youtube.com/watch?v=wDPyC_CZyMw', 'title': 'ONLY ONE IN INDIA | Indian Street Food | Veggiepaaji Pune', 'description': 'In the 4th Episode of Pune Food Tour, We explore Kayani Bakery, Yevle Chai and unique street food of pune in rasta peth.', 'category': 'food'}\n"
     ]
    },
    {
     "name": "stdout",
     "output_type": "stream",
     "text": [
      "139 {'video_id': 'https://www.youtube.com/watch?v=IkoTkZH08Ig', 'title': \"Chicago's Best Indian Street Food: Hakka Bakka\", 'description': 'Elliott Bambrough is in Lincoln Park for a taste of Indian street food right here in Chicago.', 'category': 'food'}\n",
      "140 {'video_id': 'https://www.youtube.com/watch?v=zLR9wC6S1es', 'title': 'Hardworking Aunty Selling Pasta on Street | Desi Style Pasta | Indian Street Food', 'description': 'This small street food stall just outside Karol Bagh metro staion in Delhi serves delicious desi style pastas. This stall is run by a ...', 'category': 'food'}\n",
      "141 {'video_id': 'https://www.youtube.com/watch?v=u_RjT9Q4YKw', 'title': \"Indian Desi Style Dinner |Village Style Desi Khana| Indian Mom's Routine 2019\", 'description': \"INDIAN DESI STYLE DINNER| Village Style Desi Khana| Indian Mom's Routine 2019| Ganv Ka Famous Desi Khana| Simple and ...\", 'category': 'food'}\n",
      "142 {'video_id': 'https://www.youtube.com/watch?v=NqwOpb7CSAI', 'title': 'Trendy INDIAN RESTAURANT review in PARIS / MG Road / Almost POSH!', 'description': 'MG Road restaurant ( MG stands for Mahatma Gandhi ), we tried out this restaurant and it was a different experience from the ...', 'category': 'food'}\n",
      "143 {'video_id': 'https://www.youtube.com/watch?v=PZ8qvRzlEzM', 'title': 'TASTY POHA CHIVDA || INDIAN DESI SNACKS || DESI FOOD || INDIAN RECIPE || HOME MADE RECIPE ||', 'description': 'One of the most famous Indian Desi snacks and tasty delicious and easy to make \"POHE KE CHIVDE\" at home Every one like ...', 'category': 'food'}\n",
      "144 {'video_id': 'https://www.youtube.com/watch?v=jNDYJQ2PZ0s', 'title': 'Hidden Gems in Chandni Chowk | Unexplored Indian Street Food | Veggiepaaji Delhi', 'description': \"In the 13th Episode of Dilli Ki Sardi, Veggiepaaji revisits Chandni Chowk only to explore the hidden street food people don't know ...\", 'category': 'food'}\n",
      "145 {'video_id': 'https://www.youtube.com/watch?v=o9-bTrr3qbY', 'title': 'Indian Street Food Tour in Old Delhi, India | BEST Street Food in India!', 'description': 'Check out https://ExpressVPN.com/thefoodranger for 3 months free w/ 1 year pack and 49% OFF! FOOD RANGER MERCH NOW ...', 'category': 'food'}\n",
      "146 {'video_id': 'https://www.youtube.com/watch?v=Azgm71ASnMs', 'title': 'Old Delhi Street Food | Indian Street Food', 'description': 'Old Delhi Street Food has its own charm ! My Chandni Chowk Street Food tour showcases the best and legendary street food of ...', 'category': 'food'}\n",
      "147 {'video_id': 'https://www.youtube.com/watch?v=oZOpImq5Lf4', 'title': 'Indian-Pakistani Desi Food in Malaysia', 'description': \"Malaysian food is nice, and one can also easily find Pakistani and Indian food in Kuala Lumpur. and it's not expensive at all.\", 'category': 'food'}\n",
      "148 {'video_id': 'https://www.youtube.com/watch?v=4X7F8IVLc0Q', 'title': 'Best Indian Desi Food in Chandigarh | Dil Desi | CHANDIGARH BYTES', 'description': 'DIL DESI Address: Bay Shop 407, Sector 32D, Sector 32, Chandigarh, 160032 Hours: Open12PM ⋅ Closes 4PM ⋅ Reopens 6PM ...', 'category': 'food'}\n",
      "149 {'video_id': 'https://www.youtube.com/watch?v=2gJqRIeeTow', 'title': 'FISH BIRYANI AND DESI CHICKEN CURRY EATING | INDIAN FUNNY FOOD EATING CHALLENGE |', 'description': 'HI EVERYONE HERE WE TAKE FOOD CHALLENGES, THIS IS AN ENTERTAINING PURPOSE IF YOU WANT MORE PLEASE ...', 'category': 'food'}\n",
      "150 {'video_id': 'https://www.youtube.com/watch?v=CCgjJAbJfjo', 'title': 'Every Dish At 99 Rupees At Too Indian, Rajouri Garden | 2500 Rupees Vouchers', 'description': '', 'category': 'food'}\n",
      "151 {'video_id': 'https://www.youtube.com/watch?v=zsispmdvkh0', 'title': 'Indian Desi food, lifestyle food style', 'description': 'Video Maker.', 'category': 'food'}\n",
      "152 {'video_id': 'https://www.youtube.com/watch?v=ZZ_V24D-gPo', 'title': 'Delicious \"Desi\" Indian Street Food in London: Pani Puri, Dabeli and Vada Pav.......', 'description': '', 'category': 'food'}\n",
      "153 {'video_id': 'https://www.youtube.com/watch?v=ey4ACKNyxJo', 'title': 'Desi Food - Mulosaaker Ghonto Village Style Food - Preparing traditional village style Desi Food', 'description': '', 'category': 'food'}\n",
      "154 {'video_id': 'https://www.youtube.com/watch?v=fvVSsJNomfU', 'title': 'Curd Fish ! Desi Food ! Non Veg Food ! Indian Food 2017 ! Taste Of India', 'description': 'Please watch: \"मटन देसी | The Test of Rajasthan | मटन दो आलू | मटन बनाने का जंगली तरीका ...', 'category': 'food'}\n",
      "155 {'video_id': 'https://www.youtube.com/watch?v=WIeLHD0q8AM', 'title': 'Cooking 3 Whole Chicken and Eating in my Village | Amazing Masala Chicken Curry | Food Money Food', 'description': 'Ingredients : @ 01:39 Oil / @ 01:52 Aniseed and Cinnamon / @ 01:59 Small Onion / @ 02:13 Dry Red Chili / @ 02:23 Sliced Big ...', 'category': 'food'}\n",
      "156 {'video_id': 'https://www.youtube.com/watch?v=3MuPIZHxF2c', 'title': 'Village Food India - UNSEEN INDIAN FOOD + Queen of Chutney in Kerala!!', 'description': '🎥Street Food in Kerala: https://youtu.be/WYk5yyHvpvE 📺Ebbin’s Channel: https://www.youtube.com/channel/UC ...', 'category': 'food'}\n",
      "157 {'video_id': 'https://www.youtube.com/watch?v=Et1wfWyeTK4', 'title': 'DABELI with CHAKNA for just Rs 25 | Desi Tawa Pizza | Indian Street Food', 'description': 'This small stall located outside Mangaldas Market in Mumbai serves the most desi street food. The most popular item they have is ...', 'category': 'food'}\n",
      "158 {'video_id': 'https://www.youtube.com/watch?v=Atii8FGebiQ', 'title': 'SHOCKING INDIAN FOOD!!! Did NOT Expect to See This in India!', 'description': 'INDIAN STREET FOOD CHALLENGE! » https://youtu.be/6SU7jn0z2ys GET YOUR BEST EVER MERCH!', 'category': 'food'}\n",
      "159 {'video_id': 'https://www.youtube.com/watch?v=aWArcqFI9ag', 'title': '२ मिनट वाली वेज फ्राइड राइस - 2 Min Veg Fried Rice Street Style Recipe - CookingShooking', 'description': 'Dosto, aaj ke video me banaenge Veg Fried Rice, indo-chinese style me, ye vegetable fried rice sirf 2 min me ban jaega. Aur taste ...', 'category': 'food'}\n",
      "160 {'video_id': 'https://www.youtube.com/watch?v=LITuKdtJ0XE', 'title': 'DAL BHAFLA THALI ( UNLIMITED SERVING ) FOR Rs 220 only | Desi Ghee | Indian Food', 'description': 'Dal Bhafle has been developed from Batii from Rajasthan. In MP they add corn as well which gives it a nice sweet flavour.', 'category': 'food'}\n",
      "161 {'video_id': 'https://www.youtube.com/watch?v=U2LqaAbVEFQ', 'title': 'Dongargan Bhel | Indian Desi Bhel | Street Food India | Chat Center In India', 'description': 'Here is a special look at famous bhel center in ahmednagar city. This popular bhel center is founded by two real brothers ten ...', 'category': 'food'}\n",
      "162 {'video_id': 'https://www.youtube.com/watch?v=1r5u3a-NIMc', 'title': 'Navratri 2019 Celebration 🎉| Garba Dance & Indian Food| Desi Couple On The Go | Indians In Holland', 'description': \"Festive season has kicked off and during navratri, garba or dandiya is gripping people in it's dance wave across the globe. In ...\", 'category': 'food'}\n",
      "163 {'video_id': 'https://www.youtube.com/watch?v=oI8hYUvzTXU', 'title': 'Gwalior Street food Tour | Famous Gazak | Desi Couple On The Go | Indian Food Vlog', 'description': 'Street food is just special in india and in this video, I am visiting a city, Gwalior which is a historic city from center ...', 'category': 'food'}\n",
      "164 {'video_id': 'https://www.youtube.com/watch?v=z82GRdqPx4Q', 'title': 'Chicken Masala | Desi Chicken Masala Recipe | Indian Desi Style Food | Fareeha ka Kitchen', 'description': 'Watch more videos and updates Subscribe my Channel.', 'category': 'food'}\n",
      "165 {'video_id': 'https://www.youtube.com/watch?v=zhaggYtzjIU', 'title': 'Tawa Burger Recipe | Indian Street Food / Indian Style Burger Recipes', 'description': 'Tawa Burger, or premium tawa burger is a dish Hyderabad has seen getting famous in the recent months. This burger is easy on ...', 'category': 'food'}\n"
     ]
    }
   ],
   "source": [
    "try:\n",
    "    #driver = webdriver.Chrome(executable_path='/usr/share/safaridriver', chrome_options=chromeOptions)\n",
    "    driver.get(url)\n",
    "    html = driver.page_source\n",
    "    soup = BeautifulSoup(html, 'html.parser')\n",
    "    search = driver.find_element_by_css_selector('input#search')\n",
    "    search.send_keys(\"indian desi food\")\n",
    "    driver.find_element_by_css_selector('#search-icon-legacy').click()\n",
    "    sleep(5)\n",
    "    load_complete_page(driver, 150)\n",
    "\n",
    "    container = driver.find_elements_by_tag_name('ytd-video-renderer')\n",
    "    for i, each in enumerate(container):\n",
    "        video_id = each.find_element_by_tag_name('a').get_attribute('href')\n",
    "        title = each.find_element_by_css_selector('#video-title').text \n",
    "        description = each.find_element_by_css_selector('#description-text').text \n",
    "        category = 'food'\n",
    "\n",
    "        content = {\n",
    "            'video_id': video_id,\n",
    "            'title': title,\n",
    "            'description': description,\n",
    "            'category': category\n",
    "        }\n",
    "\n",
    "        youtube_list.append(content)\n",
    "        print (i, content)\n",
    "\n",
    "except Exception as e:\n",
    "    print ('Some error occured: ', e)\n",
    "finally:\n",
    "    driver.close()\n",
    "    # display.stop()\n",
    "    df = pd.DataFrame(youtube_list)\n",
    "    df = df[['video_id', 'title', 'description', 'category']]\n",
    "    df.to_csv('youtube_desi.csv', index=False)"
   ]
  },
  {
   "cell_type": "code",
   "execution_count": 19,
   "metadata": {},
   "outputs": [
    {
     "data": {
      "text/plain": [
       "166"
      ]
     },
     "execution_count": 19,
     "metadata": {},
     "output_type": "execute_result"
    }
   ],
   "source": [
    "len(df)"
   ]
  },
  {
   "cell_type": "code",
   "execution_count": null,
   "metadata": {},
   "outputs": [],
   "source": []
  },
  {
   "cell_type": "code",
   "execution_count": null,
   "metadata": {},
   "outputs": [],
   "source": []
  },
  {
   "cell_type": "code",
   "execution_count": null,
   "metadata": {},
   "outputs": [],
   "source": []
  },
  {
   "cell_type": "code",
   "execution_count": null,
   "metadata": {},
   "outputs": [],
   "source": []
  },
  {
   "cell_type": "code",
   "execution_count": null,
   "metadata": {},
   "outputs": [],
   "source": []
  },
  {
   "cell_type": "code",
   "execution_count": null,
   "metadata": {},
   "outputs": [],
   "source": []
  },
  {
   "cell_type": "code",
   "execution_count": null,
   "metadata": {},
   "outputs": [],
   "source": []
  },
  {
   "cell_type": "code",
   "execution_count": null,
   "metadata": {},
   "outputs": [],
   "source": []
  },
  {
   "cell_type": "code",
   "execution_count": null,
   "metadata": {},
   "outputs": [],
   "source": []
  },
  {
   "cell_type": "code",
   "execution_count": null,
   "metadata": {},
   "outputs": [],
   "source": []
  },
  {
   "cell_type": "code",
   "execution_count": null,
   "metadata": {},
   "outputs": [],
   "source": []
  },
  {
   "cell_type": "code",
   "execution_count": null,
   "metadata": {},
   "outputs": [],
   "source": []
  },
  {
   "cell_type": "code",
   "execution_count": null,
   "metadata": {},
   "outputs": [],
   "source": []
  }
 ],
 "metadata": {
  "kernelspec": {
   "display_name": "Python 3",
   "language": "python",
   "name": "python3"
  },
  "language_info": {
   "codemirror_mode": {
    "name": "ipython",
    "version": 3
   },
   "file_extension": ".py",
   "mimetype": "text/x-python",
   "name": "python",
   "nbconvert_exporter": "python",
   "pygments_lexer": "ipython3",
   "version": "3.7.3"
  }
 },
 "nbformat": 4,
 "nbformat_minor": 2
}
