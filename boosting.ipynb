{
  "nbformat": 4,
  "nbformat_minor": 0,
  "metadata": {
    "colab": {
      "name": "boosting.ipynb",
      "provenance": [],
      "collapsed_sections": [],
      "authorship_tag": "ABX9TyPU1AT1JmOwkCZVLXjW2YGB",
      "include_colab_link": true
    },
    "kernelspec": {
      "name": "python3",
      "display_name": "Python 3"
    },
    "accelerator": "GPU"
  },
  "cells": [
    {
      "cell_type": "markdown",
      "metadata": {
        "id": "view-in-github",
        "colab_type": "text"
      },
      "source": [
        "<a href=\"https://colab.research.google.com/github/2000siddharth/web_scraping_classification/blob/master/boosting.ipynb\" target=\"_parent\"><img src=\"https://colab.research.google.com/assets/colab-badge.svg\" alt=\"Open In Colab\"/></a>"
      ]
    },
    {
      "cell_type": "code",
      "metadata": {
        "id": "PIAML_YakzAu",
        "colab_type": "code",
        "colab": {}
      },
      "source": [
        "import numpy as np\n",
        "import pandas as pd\n",
        "import seaborn as sns\n",
        "from gensim.models import Word2Vec\n",
        "from gensim.models import KeyedVectors\n",
        "from tqdm import tqdm\n",
        "from sklearn.preprocessing import StandardScaler\n",
        "import sqlite3\n",
        "from sklearn.feature_extraction.text import CountVectorizer\n",
        "from sklearn.feature_extraction.text import TfidfVectorizer\n",
        "from sklearn.externals import joblib\n",
        "from sklearn.metrics import roc_auc_score\n",
        "import matplotlib.pyplot as plt\n",
        "from sklearn.metrics import confusion_matrix\n",
        "from sklearn.metrics import roc_curve, auc\n",
        "from sklearn.metrics import classification_report\n",
        "from prettytable import PrettyTable\n",
        "%matplotlib inline"
      ],
      "execution_count": 0,
      "outputs": []
    },
    {
      "cell_type": "code",
      "metadata": {
        "id": "Zr0pAw72lBfb",
        "colab_type": "code",
        "colab": {}
      },
      "source": [
        "df = pd.read_csv('combined_youtube4.csv')"
      ],
      "execution_count": 0,
      "outputs": []
    },
    {
      "cell_type": "code",
      "metadata": {
        "id": "ycwdy67ClHBG",
        "colab_type": "code",
        "colab": {}
      },
      "source": [
        "def cleaner(phrase):\n",
        "    phrase = re.sub(r\"won't\", \"will not\", phrase)\n",
        "    phrase = re.sub(r\"can't\", 'can not', phrase)\n",
        "  \n",
        "  # general\n",
        "    phrase = re.sub(r\"n\\'t\",\" not\", phrase)\n",
        "    phrase = re.sub(r\"\\'re'\",\" are\", phrase)\n",
        "    phrase = re.sub(r\"\\'s\",\" is\", phrase)\n",
        "    phrase = re.sub(r\"\\'ll\",\" will\", phrase)\n",
        "    phrase = re.sub(r\"\\'d\",\" would\", phrase)\n",
        "    phrase = re.sub(r\"\\'t\",\" not\", phrase)\n",
        "    phrase = re.sub(r\"\\'ve\",\" have\", phrase)\n",
        "    phrase = re.sub(r\"\\'m\",\" am\", phrase)\n",
        "    \n",
        "    return phrase"
      ],
      "execution_count": 0,
      "outputs": []
    },
    {
      "cell_type": "code",
      "metadata": {
        "id": "Le6YEV0BlIBt",
        "colab_type": "code",
        "outputId": "00185127-accf-420a-93af-c3dcaea9b4b5",
        "colab": {
          "base_uri": "https://localhost:8080/",
          "height": 67
        }
      },
      "source": [
        "from bs4 import BeautifulSoup\n",
        "from tqdm import tqdm\n",
        "import re\n",
        "\n",
        "import nltk\n",
        "nltk.download('stopwords')\n",
        "\n",
        "from nltk.corpus import stopwords\n",
        "stop = set(stopwords.words('english'))\n",
        "len(stop)"
      ],
      "execution_count": 0,
      "outputs": [
        {
          "output_type": "stream",
          "text": [
            "[nltk_data] Downloading package stopwords to /root/nltk_data...\n",
            "[nltk_data]   Unzipping corpora/stopwords.zip.\n"
          ],
          "name": "stdout"
        },
        {
          "output_type": "execute_result",
          "data": {
            "text/plain": [
              "179"
            ]
          },
          "metadata": {
            "tags": []
          },
          "execution_count": 4
        }
      ]
    },
    {
      "cell_type": "code",
      "metadata": {
        "id": "OsEDFqnGlH-U",
        "colab_type": "code",
        "outputId": "1be1f8d0-d5bd-4001-a22f-b86d43fca4d4",
        "colab": {
          "base_uri": "https://localhost:8080/",
          "height": 87
        }
      },
      "source": [
        "cleaned_description = []\n",
        "\n",
        "for sentance in tqdm(df['description'].values):\n",
        "    sentance = str(sentance)\n",
        "    sentance = re.sub(r\"http\\S+\", \"\", sentance)\n",
        "    sentance = BeautifulSoup(sentance, 'lxml').get_text()\n",
        "    sentance = cleaner(sentance)\n",
        "    sentance = re.sub(r'[?|!|\\'|\"|#|+]', r'', sentance)\n",
        "    sentance = re.sub(\"\\S*\\d\\S*\", \"\", sentance).strip()\n",
        "    sentance = re.sub('[^A-Za-z]+', ' ', sentance)\n",
        "    sentance = ' '.join(e.lower() for e in sentance.split() if e.lower() not in stop)\n",
        "    cleaned_description.append(sentance.strip())"
      ],
      "execution_count": 0,
      "outputs": [
        {
          "output_type": "stream",
          "text": [
            " 34%|███▎      | 3466/10275 [00:01<00:02, 2754.48it/s]/usr/local/lib/python3.6/dist-packages/bs4/__init__.py:273: UserWarning: \"b'.'\" looks like a filename, not markup. You should probably open this file and pass the filehandle into Beautiful Soup.\n",
            "  ' Beautiful Soup.' % markup)\n",
            "100%|██████████| 10275/10275 [00:03<00:00, 3092.75it/s]\n"
          ],
          "name": "stderr"
        }
      ]
    },
    {
      "cell_type": "code",
      "metadata": {
        "id": "RubhwGDGlH7a",
        "colab_type": "code",
        "outputId": "69567f1e-49a1-463c-92ab-fb9318cbb0cc",
        "colab": {
          "base_uri": "https://localhost:8080/",
          "height": 34
        }
      },
      "source": [
        "cleaned_title = []\n",
        "\n",
        "for sentance in tqdm(df['title'].values):\n",
        "    sentance = str(sentance)\n",
        "    sentance = re.sub(r\"http\\S+\", \"\", sentance)\n",
        "    sentance = BeautifulSoup(sentance, 'lxml').get_text()\n",
        "    sentance = cleaner(sentance)\n",
        "    sentance = re.sub(r'[?|!|\\'|\"|#|+]', r'', sentance)\n",
        "    sentance = re.sub(\"\\S*\\d\\S*\", \"\", sentance).strip()\n",
        "    sentance = re.sub('[^A-Za-z]+', ' ', sentance)\n",
        "    sentance = ' '.join(e.lower() for e in sentance.split() if e.lower() not in stop)\n",
        "    cleaned_title.append(sentance.strip())"
      ],
      "execution_count": 0,
      "outputs": [
        {
          "output_type": "stream",
          "text": [
            "100%|██████████| 10275/10275 [00:03<00:00, 3351.40it/s]\n"
          ],
          "name": "stderr"
        }
      ]
    },
    {
      "cell_type": "code",
      "metadata": {
        "id": "yszZWsx1lH4i",
        "colab_type": "code",
        "outputId": "e96bed89-e9ec-4040-99cc-0f341f4d2300",
        "colab": {
          "base_uri": "https://localhost:8080/",
          "height": 195
        }
      },
      "source": [
        "df['title'] = cleaned_title\n",
        "\n",
        "df['description'] = cleaned_description\n",
        "df.head()"
      ],
      "execution_count": 0,
      "outputs": [
        {
          "output_type": "execute_result",
          "data": {
            "text/html": [
              "<div>\n",
              "<style scoped>\n",
              "    .dataframe tbody tr th:only-of-type {\n",
              "        vertical-align: middle;\n",
              "    }\n",
              "\n",
              "    .dataframe tbody tr th {\n",
              "        vertical-align: top;\n",
              "    }\n",
              "\n",
              "    .dataframe thead th {\n",
              "        text-align: right;\n",
              "    }\n",
              "</style>\n",
              "<table border=\"1\" class=\"dataframe\">\n",
              "  <thead>\n",
              "    <tr style=\"text-align: right;\">\n",
              "      <th></th>\n",
              "      <th>video_id</th>\n",
              "      <th>title</th>\n",
              "      <th>description</th>\n",
              "      <th>category</th>\n",
              "    </tr>\n",
              "  </thead>\n",
              "  <tbody>\n",
              "    <tr>\n",
              "      <th>0</th>\n",
              "      <td>https://www.youtube.com/watch?v=J8XJjkA5NuQ</td>\n",
              "      <td>dr p j abdul kalam lecture series iit bombay</td>\n",
              "      <td>techfest iit bombay presents dr p j abdul kala...</td>\n",
              "      <td>tutorial</td>\n",
              "    </tr>\n",
              "    <tr>\n",
              "      <th>1</th>\n",
              "      <td>https://www.youtube.com/watch?v=C31hcftHBIk</td>\n",
              "      <td>lecture laa ke nachhatar gill full video song ...</td>\n",
              "      <td>angel records presents new punjabi song lectur...</td>\n",
              "      <td>tutorial</td>\n",
              "    </tr>\n",
              "    <tr>\n",
              "      <th>2</th>\n",
              "      <td>https://www.youtube.com/watch?v=Xn7KWR9EOGQ</td>\n",
              "      <td>basics stock market beginners lecture ca racha...</td>\n",
              "      <td>get lectures new website opportunity learn con...</td>\n",
              "      <td>tutorial</td>\n",
              "    </tr>\n",
              "    <tr>\n",
              "      <th>3</th>\n",
              "      <td>https://www.youtube.com/watch?v=FPaByTt1Yws</td>\n",
              "      <td>musique classique pour la lecture de mozart ch...</td>\n",
              "      <td>musique classique pour la lecture de mozart ch...</td>\n",
              "      <td>tutorial</td>\n",
              "    </tr>\n",
              "    <tr>\n",
              "      <th>4</th>\n",
              "      <td>https://www.youtube.com/watch?v=ViyG77Bca4I</td>\n",
              "      <td>pte retell lecture january february predicted ...</td>\n",
              "      <td>practice session covers pte retell lecture rea...</td>\n",
              "      <td>tutorial</td>\n",
              "    </tr>\n",
              "  </tbody>\n",
              "</table>\n",
              "</div>"
            ],
            "text/plain": [
              "                                      video_id  ...  category\n",
              "0  https://www.youtube.com/watch?v=J8XJjkA5NuQ  ...  tutorial\n",
              "1  https://www.youtube.com/watch?v=C31hcftHBIk  ...  tutorial\n",
              "2  https://www.youtube.com/watch?v=Xn7KWR9EOGQ  ...  tutorial\n",
              "3  https://www.youtube.com/watch?v=FPaByTt1Yws  ...  tutorial\n",
              "4  https://www.youtube.com/watch?v=ViyG77Bca4I  ...  tutorial\n",
              "\n",
              "[5 rows x 4 columns]"
            ]
          },
          "metadata": {
            "tags": []
          },
          "execution_count": 7
        }
      ]
    },
    {
      "cell_type": "code",
      "metadata": {
        "id": "vkC8yPpXlH1x",
        "colab_type": "code",
        "colab": {}
      },
      "source": [
        "from sklearn.preprocessing import LabelEncoder\n",
        "from sklearn.preprocessing import OneHotEncoder\n",
        "from sklearn import preprocessing\n",
        "\n",
        "labels = LabelEncoder()\n",
        "df['categoryid'] = labels.fit_transform(df['category'])\n",
        "\n",
        "X = df['title']\n",
        "y = df['categoryid']"
      ],
      "execution_count": 0,
      "outputs": []
    },
    {
      "cell_type": "code",
      "metadata": {
        "id": "wzYz_WhmlHzF",
        "colab_type": "code",
        "colab": {}
      },
      "source": [
        "from sklearn.model_selection import StratifiedShuffleSplit\n",
        "\n",
        "sss = StratifiedShuffleSplit(n_splits=10, test_size=0.2, random_state=0)\n",
        "sss.get_n_splits(X, y)\n",
        "\n",
        "for train_index, test_index in sss.split(X, y):\n",
        "#    print(\"TRAIN:\", train_index, \"TEST:\", test_index)\n",
        "    X_Train, X_test = X[train_index], X[test_index]\n",
        "    y_Train, y_test = y[train_index], y[test_index] \n",
        "\n",
        "from sklearn.model_selection import train_test_split\n",
        "X_train, X_cross, y_train, y_cross = train_test_split(X_Train, y_Train, random_state=0, stratify=y_Train, test_size=0.1)"
      ],
      "execution_count": 0,
      "outputs": []
    },
    {
      "cell_type": "code",
      "metadata": {
        "id": "5HnxQVm9lHwB",
        "colab_type": "code",
        "colab": {}
      },
      "source": [
        "from sklearn.model_selection import train_test_split\n",
        "from sklearn.feature_extraction.text import CountVectorizer\n",
        "from sklearn.feature_extraction.text import TfidfTransformer\n",
        "from sklearn.naive_bayes import MultinomialNB\n",
        "\n",
        "count_vect = CountVectorizer()\n",
        "count_vect.fit(X_train)\n",
        "X_train_counts = count_vect.transform(X_train)\n",
        "X_cross_counts = count_vect.transform(X_cross)\n",
        "X_test_counts = count_vect.transform(X_test)"
      ],
      "execution_count": 0,
      "outputs": []
    },
    {
      "cell_type": "code",
      "metadata": {
        "id": "4bn5UEkglHs5",
        "colab_type": "code",
        "colab": {}
      },
      "source": [
        "from pprint import pprint"
      ],
      "execution_count": 0,
      "outputs": []
    },
    {
      "cell_type": "markdown",
      "metadata": {
        "id": "DQI0EIgsphUO",
        "colab_type": "text"
      },
      "source": [
        "**Ada Boost Classifier**"
      ]
    },
    {
      "cell_type": "code",
      "metadata": {
        "id": "mMtVBa1rlHpu",
        "colab_type": "code",
        "colab": {}
      },
      "source": [
        "from sklearn.ensemble import AdaBoostClassifier"
      ],
      "execution_count": 0,
      "outputs": []
    },
    {
      "cell_type": "code",
      "metadata": {
        "id": "2ctF_EAOpt4D",
        "colab_type": "code",
        "outputId": "0a17dd4f-029d-47cd-e545-106020f24217",
        "colab": {
          "base_uri": "https://localhost:8080/",
          "height": 134
        }
      },
      "source": [
        "abc_0 = AdaBoostClassifier(random_state = 8)\n",
        "\n",
        "print('Parameters currently in use:\\n')\n",
        "pprint(abc_0.get_params())"
      ],
      "execution_count": 0,
      "outputs": [
        {
          "output_type": "stream",
          "text": [
            "Parameters currently in use:\n",
            "\n",
            "{'algorithm': 'SAMME.R',\n",
            " 'base_estimator': None,\n",
            " 'learning_rate': 1.0,\n",
            " 'n_estimators': 50,\n",
            " 'random_state': 8}\n"
          ],
          "name": "stdout"
        }
      ]
    },
    {
      "cell_type": "code",
      "metadata": {
        "id": "Xlo1hPfjpvWf",
        "colab_type": "code",
        "outputId": "65a438c2-f265-4001-c858-1cb116a202d9",
        "colab": {
          "base_uri": "https://localhost:8080/",
          "height": 337
        }
      },
      "source": [
        "from sklearn.model_selection import RandomizedSearchCV\n",
        "\n",
        "param_dist = {\n",
        " 'n_estimators': [50, 100],\n",
        " 'learning_rate' : [0.01,0.05,0.1,0.3,1]\n",
        " }\n",
        "\n",
        "pre_gs_inst = RandomizedSearchCV(AdaBoostClassifier(), param_distributions = param_dist,\n",
        " cv=3,\n",
        " n_iter = 10,\n",
        " n_jobs=-1)\n",
        "\n",
        "pre_gs_inst.fit(X_train_counts, y_train)"
      ],
      "execution_count": 0,
      "outputs": [
        {
          "output_type": "error",
          "ename": "KeyboardInterrupt",
          "evalue": "ignored",
          "traceback": [
            "\u001b[0;31m---------------------------------------------------------------------------\u001b[0m",
            "\u001b[0;31mKeyboardInterrupt\u001b[0m                         Traceback (most recent call last)",
            "\u001b[0;32m<ipython-input-53-f12baa205366>\u001b[0m in \u001b[0;36m<module>\u001b[0;34m()\u001b[0m\n\u001b[1;32m     11\u001b[0m  n_jobs=-1)\n\u001b[1;32m     12\u001b[0m \u001b[0;34m\u001b[0m\u001b[0m\n\u001b[0;32m---> 13\u001b[0;31m \u001b[0mpre_gs_inst\u001b[0m\u001b[0;34m.\u001b[0m\u001b[0mfit\u001b[0m\u001b[0;34m(\u001b[0m\u001b[0mX_train_counts\u001b[0m\u001b[0;34m,\u001b[0m \u001b[0my_train\u001b[0m\u001b[0;34m)\u001b[0m\u001b[0;34m\u001b[0m\u001b[0;34m\u001b[0m\u001b[0m\n\u001b[0m",
            "\u001b[0;32m/usr/local/lib/python3.6/dist-packages/sklearn/model_selection/_search.py\u001b[0m in \u001b[0;36mfit\u001b[0;34m(self, X, y, groups, **fit_params)\u001b[0m\n\u001b[1;32m    708\u001b[0m                 \u001b[0;32mreturn\u001b[0m \u001b[0mresults\u001b[0m\u001b[0;34m\u001b[0m\u001b[0;34m\u001b[0m\u001b[0m\n\u001b[1;32m    709\u001b[0m \u001b[0;34m\u001b[0m\u001b[0m\n\u001b[0;32m--> 710\u001b[0;31m             \u001b[0mself\u001b[0m\u001b[0;34m.\u001b[0m\u001b[0m_run_search\u001b[0m\u001b[0;34m(\u001b[0m\u001b[0mevaluate_candidates\u001b[0m\u001b[0;34m)\u001b[0m\u001b[0;34m\u001b[0m\u001b[0;34m\u001b[0m\u001b[0m\n\u001b[0m\u001b[1;32m    711\u001b[0m \u001b[0;34m\u001b[0m\u001b[0m\n\u001b[1;32m    712\u001b[0m         \u001b[0;31m# For multi-metric evaluation, store the best_index_, best_params_ and\u001b[0m\u001b[0;34m\u001b[0m\u001b[0;34m\u001b[0m\u001b[0;34m\u001b[0m\u001b[0m\n",
            "\u001b[0;32m/usr/local/lib/python3.6/dist-packages/sklearn/model_selection/_search.py\u001b[0m in \u001b[0;36m_run_search\u001b[0;34m(self, evaluate_candidates)\u001b[0m\n\u001b[1;32m   1482\u001b[0m         evaluate_candidates(ParameterSampler(\n\u001b[1;32m   1483\u001b[0m             \u001b[0mself\u001b[0m\u001b[0;34m.\u001b[0m\u001b[0mparam_distributions\u001b[0m\u001b[0;34m,\u001b[0m \u001b[0mself\u001b[0m\u001b[0;34m.\u001b[0m\u001b[0mn_iter\u001b[0m\u001b[0;34m,\u001b[0m\u001b[0;34m\u001b[0m\u001b[0;34m\u001b[0m\u001b[0m\n\u001b[0;32m-> 1484\u001b[0;31m             random_state=self.random_state))\n\u001b[0m",
            "\u001b[0;32m/usr/local/lib/python3.6/dist-packages/sklearn/model_selection/_search.py\u001b[0m in \u001b[0;36mevaluate_candidates\u001b[0;34m(candidate_params)\u001b[0m\n\u001b[1;32m    687\u001b[0m                                \u001b[0;32mfor\u001b[0m \u001b[0mparameters\u001b[0m\u001b[0;34m,\u001b[0m \u001b[0;34m(\u001b[0m\u001b[0mtrain\u001b[0m\u001b[0;34m,\u001b[0m \u001b[0mtest\u001b[0m\u001b[0;34m)\u001b[0m\u001b[0;34m\u001b[0m\u001b[0;34m\u001b[0m\u001b[0m\n\u001b[1;32m    688\u001b[0m                                in product(candidate_params,\n\u001b[0;32m--> 689\u001b[0;31m                                           cv.split(X, y, groups)))\n\u001b[0m\u001b[1;32m    690\u001b[0m \u001b[0;34m\u001b[0m\u001b[0m\n\u001b[1;32m    691\u001b[0m                 \u001b[0;32mif\u001b[0m \u001b[0mlen\u001b[0m\u001b[0;34m(\u001b[0m\u001b[0mout\u001b[0m\u001b[0;34m)\u001b[0m \u001b[0;34m<\u001b[0m \u001b[0;36m1\u001b[0m\u001b[0;34m:\u001b[0m\u001b[0;34m\u001b[0m\u001b[0;34m\u001b[0m\u001b[0m\n",
            "\u001b[0;32m/usr/local/lib/python3.6/dist-packages/joblib/parallel.py\u001b[0m in \u001b[0;36m__call__\u001b[0;34m(self, iterable)\u001b[0m\n\u001b[1;32m   1015\u001b[0m \u001b[0;34m\u001b[0m\u001b[0m\n\u001b[1;32m   1016\u001b[0m             \u001b[0;32mwith\u001b[0m \u001b[0mself\u001b[0m\u001b[0;34m.\u001b[0m\u001b[0m_backend\u001b[0m\u001b[0;34m.\u001b[0m\u001b[0mretrieval_context\u001b[0m\u001b[0;34m(\u001b[0m\u001b[0;34m)\u001b[0m\u001b[0;34m:\u001b[0m\u001b[0;34m\u001b[0m\u001b[0;34m\u001b[0m\u001b[0m\n\u001b[0;32m-> 1017\u001b[0;31m                 \u001b[0mself\u001b[0m\u001b[0;34m.\u001b[0m\u001b[0mretrieve\u001b[0m\u001b[0;34m(\u001b[0m\u001b[0;34m)\u001b[0m\u001b[0;34m\u001b[0m\u001b[0;34m\u001b[0m\u001b[0m\n\u001b[0m\u001b[1;32m   1018\u001b[0m             \u001b[0;31m# Make sure that we get a last message telling us we are done\u001b[0m\u001b[0;34m\u001b[0m\u001b[0;34m\u001b[0m\u001b[0;34m\u001b[0m\u001b[0m\n\u001b[1;32m   1019\u001b[0m             \u001b[0melapsed_time\u001b[0m \u001b[0;34m=\u001b[0m \u001b[0mtime\u001b[0m\u001b[0;34m.\u001b[0m\u001b[0mtime\u001b[0m\u001b[0;34m(\u001b[0m\u001b[0;34m)\u001b[0m \u001b[0;34m-\u001b[0m \u001b[0mself\u001b[0m\u001b[0;34m.\u001b[0m\u001b[0m_start_time\u001b[0m\u001b[0;34m\u001b[0m\u001b[0;34m\u001b[0m\u001b[0m\n",
            "\u001b[0;32m/usr/local/lib/python3.6/dist-packages/joblib/parallel.py\u001b[0m in \u001b[0;36mretrieve\u001b[0;34m(self)\u001b[0m\n\u001b[1;32m    907\u001b[0m             \u001b[0;32mtry\u001b[0m\u001b[0;34m:\u001b[0m\u001b[0;34m\u001b[0m\u001b[0;34m\u001b[0m\u001b[0m\n\u001b[1;32m    908\u001b[0m                 \u001b[0;32mif\u001b[0m \u001b[0mgetattr\u001b[0m\u001b[0;34m(\u001b[0m\u001b[0mself\u001b[0m\u001b[0;34m.\u001b[0m\u001b[0m_backend\u001b[0m\u001b[0;34m,\u001b[0m \u001b[0;34m'supports_timeout'\u001b[0m\u001b[0;34m,\u001b[0m \u001b[0;32mFalse\u001b[0m\u001b[0;34m)\u001b[0m\u001b[0;34m:\u001b[0m\u001b[0;34m\u001b[0m\u001b[0;34m\u001b[0m\u001b[0m\n\u001b[0;32m--> 909\u001b[0;31m                     \u001b[0mself\u001b[0m\u001b[0;34m.\u001b[0m\u001b[0m_output\u001b[0m\u001b[0;34m.\u001b[0m\u001b[0mextend\u001b[0m\u001b[0;34m(\u001b[0m\u001b[0mjob\u001b[0m\u001b[0;34m.\u001b[0m\u001b[0mget\u001b[0m\u001b[0;34m(\u001b[0m\u001b[0mtimeout\u001b[0m\u001b[0;34m=\u001b[0m\u001b[0mself\u001b[0m\u001b[0;34m.\u001b[0m\u001b[0mtimeout\u001b[0m\u001b[0;34m)\u001b[0m\u001b[0;34m)\u001b[0m\u001b[0;34m\u001b[0m\u001b[0;34m\u001b[0m\u001b[0m\n\u001b[0m\u001b[1;32m    910\u001b[0m                 \u001b[0;32melse\u001b[0m\u001b[0;34m:\u001b[0m\u001b[0;34m\u001b[0m\u001b[0;34m\u001b[0m\u001b[0m\n\u001b[1;32m    911\u001b[0m                     \u001b[0mself\u001b[0m\u001b[0;34m.\u001b[0m\u001b[0m_output\u001b[0m\u001b[0;34m.\u001b[0m\u001b[0mextend\u001b[0m\u001b[0;34m(\u001b[0m\u001b[0mjob\u001b[0m\u001b[0;34m.\u001b[0m\u001b[0mget\u001b[0m\u001b[0;34m(\u001b[0m\u001b[0;34m)\u001b[0m\u001b[0;34m)\u001b[0m\u001b[0;34m\u001b[0m\u001b[0;34m\u001b[0m\u001b[0m\n",
            "\u001b[0;32m/usr/local/lib/python3.6/dist-packages/joblib/_parallel_backends.py\u001b[0m in \u001b[0;36mwrap_future_result\u001b[0;34m(future, timeout)\u001b[0m\n\u001b[1;32m    560\u001b[0m         AsyncResults.get from multiprocessing.\"\"\"\n\u001b[1;32m    561\u001b[0m         \u001b[0;32mtry\u001b[0m\u001b[0;34m:\u001b[0m\u001b[0;34m\u001b[0m\u001b[0;34m\u001b[0m\u001b[0m\n\u001b[0;32m--> 562\u001b[0;31m             \u001b[0;32mreturn\u001b[0m \u001b[0mfuture\u001b[0m\u001b[0;34m.\u001b[0m\u001b[0mresult\u001b[0m\u001b[0;34m(\u001b[0m\u001b[0mtimeout\u001b[0m\u001b[0;34m=\u001b[0m\u001b[0mtimeout\u001b[0m\u001b[0;34m)\u001b[0m\u001b[0;34m\u001b[0m\u001b[0;34m\u001b[0m\u001b[0m\n\u001b[0m\u001b[1;32m    563\u001b[0m         \u001b[0;32mexcept\u001b[0m \u001b[0mLokyTimeoutError\u001b[0m\u001b[0;34m:\u001b[0m\u001b[0;34m\u001b[0m\u001b[0;34m\u001b[0m\u001b[0m\n\u001b[1;32m    564\u001b[0m             \u001b[0;32mraise\u001b[0m \u001b[0mTimeoutError\u001b[0m\u001b[0;34m(\u001b[0m\u001b[0;34m)\u001b[0m\u001b[0;34m\u001b[0m\u001b[0;34m\u001b[0m\u001b[0m\n",
            "\u001b[0;32m/usr/lib/python3.6/concurrent/futures/_base.py\u001b[0m in \u001b[0;36mresult\u001b[0;34m(self, timeout)\u001b[0m\n\u001b[1;32m    425\u001b[0m                 \u001b[0;32mreturn\u001b[0m \u001b[0mself\u001b[0m\u001b[0;34m.\u001b[0m\u001b[0m__get_result\u001b[0m\u001b[0;34m(\u001b[0m\u001b[0;34m)\u001b[0m\u001b[0;34m\u001b[0m\u001b[0;34m\u001b[0m\u001b[0m\n\u001b[1;32m    426\u001b[0m \u001b[0;34m\u001b[0m\u001b[0m\n\u001b[0;32m--> 427\u001b[0;31m             \u001b[0mself\u001b[0m\u001b[0;34m.\u001b[0m\u001b[0m_condition\u001b[0m\u001b[0;34m.\u001b[0m\u001b[0mwait\u001b[0m\u001b[0;34m(\u001b[0m\u001b[0mtimeout\u001b[0m\u001b[0;34m)\u001b[0m\u001b[0;34m\u001b[0m\u001b[0;34m\u001b[0m\u001b[0m\n\u001b[0m\u001b[1;32m    428\u001b[0m \u001b[0;34m\u001b[0m\u001b[0m\n\u001b[1;32m    429\u001b[0m             \u001b[0;32mif\u001b[0m \u001b[0mself\u001b[0m\u001b[0;34m.\u001b[0m\u001b[0m_state\u001b[0m \u001b[0;32min\u001b[0m \u001b[0;34m[\u001b[0m\u001b[0mCANCELLED\u001b[0m\u001b[0;34m,\u001b[0m \u001b[0mCANCELLED_AND_NOTIFIED\u001b[0m\u001b[0;34m]\u001b[0m\u001b[0;34m:\u001b[0m\u001b[0;34m\u001b[0m\u001b[0;34m\u001b[0m\u001b[0m\n",
            "\u001b[0;32m/usr/lib/python3.6/threading.py\u001b[0m in \u001b[0;36mwait\u001b[0;34m(self, timeout)\u001b[0m\n\u001b[1;32m    293\u001b[0m         \u001b[0;32mtry\u001b[0m\u001b[0;34m:\u001b[0m    \u001b[0;31m# restore state no matter what (e.g., KeyboardInterrupt)\u001b[0m\u001b[0;34m\u001b[0m\u001b[0;34m\u001b[0m\u001b[0m\n\u001b[1;32m    294\u001b[0m             \u001b[0;32mif\u001b[0m \u001b[0mtimeout\u001b[0m \u001b[0;32mis\u001b[0m \u001b[0;32mNone\u001b[0m\u001b[0;34m:\u001b[0m\u001b[0;34m\u001b[0m\u001b[0;34m\u001b[0m\u001b[0m\n\u001b[0;32m--> 295\u001b[0;31m                 \u001b[0mwaiter\u001b[0m\u001b[0;34m.\u001b[0m\u001b[0macquire\u001b[0m\u001b[0;34m(\u001b[0m\u001b[0;34m)\u001b[0m\u001b[0;34m\u001b[0m\u001b[0;34m\u001b[0m\u001b[0m\n\u001b[0m\u001b[1;32m    296\u001b[0m                 \u001b[0mgotit\u001b[0m \u001b[0;34m=\u001b[0m \u001b[0;32mTrue\u001b[0m\u001b[0;34m\u001b[0m\u001b[0;34m\u001b[0m\u001b[0m\n\u001b[1;32m    297\u001b[0m             \u001b[0;32melse\u001b[0m\u001b[0;34m:\u001b[0m\u001b[0;34m\u001b[0m\u001b[0;34m\u001b[0m\u001b[0m\n",
            "\u001b[0;31mKeyboardInterrupt\u001b[0m: "
          ]
        }
      ]
    },
    {
      "cell_type": "code",
      "metadata": {
        "id": "aa3NlxLcpvS4",
        "colab_type": "code",
        "colab": {}
      },
      "source": [
        "pre_gs_inst.best_params_"
      ],
      "execution_count": 0,
      "outputs": []
    },
    {
      "cell_type": "code",
      "metadata": {
        "id": "go26u3hQpvQB",
        "colab_type": "code",
        "outputId": "33594e98-d965-4485-f395-3d4c41f978f4",
        "colab": {
          "base_uri": "https://localhost:8080/",
          "height": 50
        }
      },
      "source": [
        "best_ada = AdaBoostClassifier(n_estimators=50, learning_rate=1.0)\n",
        "best_ada.fit(X_train_counts, y_train)"
      ],
      "execution_count": 0,
      "outputs": [
        {
          "output_type": "execute_result",
          "data": {
            "text/plain": [
              "AdaBoostClassifier(algorithm='SAMME.R', base_estimator=None, learning_rate=1.0,\n",
              "                   n_estimators=50, random_state=None)"
            ]
          },
          "metadata": {
            "tags": []
          },
          "execution_count": 39
        }
      ]
    },
    {
      "cell_type": "code",
      "metadata": {
        "id": "QzEQwW4_pvNM",
        "colab_type": "code",
        "colab": {}
      },
      "source": [
        "ada_pred = best_ada.predict(X_test_counts)"
      ],
      "execution_count": 0,
      "outputs": []
    },
    {
      "cell_type": "code",
      "metadata": {
        "id": "pX1Erxxmspv4",
        "colab_type": "code",
        "colab": {}
      },
      "source": [
        "from sklearn.metrics import classification_report, confusion_matrix, accuracy_score"
      ],
      "execution_count": 0,
      "outputs": []
    },
    {
      "cell_type": "code",
      "metadata": {
        "id": "4NensOfCpvJv",
        "colab_type": "code",
        "outputId": "e598172d-1250-4e28-cf4a-6ef95d2799a2",
        "colab": {
          "base_uri": "https://localhost:8080/",
          "height": 50
        }
      },
      "source": [
        "# Training accuracy\n",
        "print(\"The training accuracy is: \")\n",
        "print(accuracy_score(y_train, best_ada.predict(X_train_counts)))"
      ],
      "execution_count": 0,
      "outputs": [
        {
          "output_type": "stream",
          "text": [
            "The training accuracy is: \n",
            "0.8549608002162746\n"
          ],
          "name": "stdout"
        }
      ]
    },
    {
      "cell_type": "code",
      "metadata": {
        "id": "r0rwUeYypvGW",
        "colab_type": "code",
        "outputId": "49149a67-50dd-4f44-f3e4-ec2ec2fa78e1",
        "colab": {
          "base_uri": "https://localhost:8080/",
          "height": 50
        }
      },
      "source": [
        "# Test accuracy\n",
        "print(\"The test accuracy is: \")\n",
        "print(accuracy_score(y_test, ada_pred))"
      ],
      "execution_count": 0,
      "outputs": [
        {
          "output_type": "stream",
          "text": [
            "The test accuracy is: \n",
            "0.8579075425790754\n"
          ],
          "name": "stdout"
        }
      ]
    },
    {
      "cell_type": "code",
      "metadata": {
        "id": "IJCZlXFTpvDd",
        "colab_type": "code",
        "colab": {}
      },
      "source": [
        "# Classification report\n",
        "print(\"Classification report\")\n",
        "print(classification_report(y_test, ada_pred, target_names=df['category'].unique()))"
      ],
      "execution_count": 0,
      "outputs": []
    },
    {
      "cell_type": "code",
      "metadata": {
        "id": "Waspdoh9pvAU",
        "colab_type": "code",
        "colab": {}
      },
      "source": [
        "# Confusion Matrix\n",
        "print(\"Confusion Matrix\")\n",
        "print(confusion_matrix(y_test, ada_pred))"
      ],
      "execution_count": 0,
      "outputs": []
    },
    {
      "cell_type": "markdown",
      "metadata": {
        "id": "Nz309Ks7uFKt",
        "colab_type": "text"
      },
      "source": [
        "**XG BOOST CLASSIFIER**"
      ]
    },
    {
      "cell_type": "code",
      "metadata": {
        "id": "ZKf2d1rSumNa",
        "colab_type": "code",
        "colab": {}
      },
      "source": [
        "from sklearn.model_selection import RandomizedSearchCV, GridSearchCV\n",
        "from sklearn.metrics import roc_auc_score\n",
        "from sklearn.model_selection import StratifiedKFold\n",
        "from xgboost import XGBClassifier"
      ],
      "execution_count": 0,
      "outputs": []
    },
    {
      "cell_type": "code",
      "metadata": {
        "id": "Cx2H_3h0pu9W",
        "colab_type": "code",
        "colab": {}
      },
      "source": [
        "params = {\n",
        "        'min_child_weight': [1, 5, 10],\n",
        "        'gamma': [0.5, 1, 1.5, 2, 5],\n",
        "        'subsample': [0.6, 0.8, 1.0],\n",
        "        'colsample_bytree': [0.6, 0.8, 1.0],\n",
        "        'max_depth': [3, 4, 5]\n",
        "        }"
      ],
      "execution_count": 0,
      "outputs": []
    },
    {
      "cell_type": "code",
      "metadata": {
        "id": "Bz5JEIFWum4a",
        "colab_type": "code",
        "colab": {}
      },
      "source": [
        "def modelfit(alg, dtrain, predictors,useTrainCV=True, cv_folds=5, early_stopping_rounds=50):\n",
        "    \n",
        "    if useTrainCV:\n",
        "        xgb_param = alg.get_xgb_params()\n",
        "        xgtrain = xgb.DMatrix(dtrain[predictors].values, label=dtrain[target].values)\n",
        "        cvresult = xgb.cv(xgb_param, xgtrain, num_boost_round=alg.get_params()['n_estimators'], nfold=cv_folds,\n",
        "            metrics='auc', early_stopping_rounds=early_stopping_rounds, show_progress=False)\n",
        "        alg.set_params(n_estimators=cvresult.shape[0])\n",
        "    \n",
        "    #Fit the algorithm on the data\n",
        "    alg.fit(dtrain[predictors], dtrain['Disbursed'],eval_metric='auc')\n",
        "        \n",
        "    #Predict training set:\n",
        "    dtrain_predictions = alg.predict(dtrain[predictors])\n",
        "    dtrain_predprob = alg.predict_proba(dtrain[predictors])[:,1]\n",
        "        \n",
        "    #Print model report:\n",
        "    print (\"\\nModel Report\")\n",
        "    print (\"Accuracy : %.4g\" % metrics.accuracy_score(dtrain['Disbursed'].values, dtrain_predictions))\n",
        "    print( \"AUC Score (Train): %f\" % metrics.roc_auc_score(dtrain['Disbursed'], dtrain_predprob))\n",
        "                    \n",
        "    "
      ],
      "execution_count": 0,
      "outputs": []
    },
    {
      "cell_type": "code",
      "metadata": {
        "id": "zU2Oh5V6u7jc",
        "colab_type": "code",
        "colab": {}
      },
      "source": [
        "xgb1 = XGBClassifier(learning_rate =0.1, n_estimators=1000, max_depth=5, min_child_weight=1,\n",
        " gamma=0, subsample=0.8, colsample_bytree=0.8, objective= 'multi:softmax', nthread=4, scale_pos_weight=1, seed=27)"
      ],
      "execution_count": 0,
      "outputs": []
    },
    {
      "cell_type": "code",
      "metadata": {
        "id": "EdBSH0dww1zf",
        "colab_type": "code",
        "colab": {}
      },
      "source": [
        "xgb1.fit(X_train_counts, y_train)\n",
        "xgb1_pred = xgb1.predict(X_test_counts)\n",
        "\n",
        "# Classification report\n",
        "print(\"Classification report\")\n",
        "print(classification_report(y_test, xgb1_pred, target_names=df['category'].unique()))\n",
        "\n",
        "print(\"accuracy score\")\n",
        "print(accuracy_score(y_test, xgb1_pred))"
      ],
      "execution_count": 0,
      "outputs": []
    },
    {
      "cell_type": "code",
      "metadata": {
        "id": "0HbErVYBQWan",
        "colab_type": "code",
        "colab": {}
      },
      "source": [
        "print(\"accuracy score\")\n",
        "print(accuracy_score(y_test, xgb1_pred))"
      ],
      "execution_count": 0,
      "outputs": []
    },
    {
      "cell_type": "code",
      "metadata": {
        "id": "fjX-OA0oxLJU",
        "colab_type": "code",
        "colab": {}
      },
      "source": [
        "param_test1 = {\n",
        " 'max_depth':range(3,10,2),\n",
        " 'min_child_weight':range(1,6,2)\n",
        "}\n",
        "gsearch1 = GridSearchCV(estimator = XGBClassifier( learning_rate =0.1, n_estimators=140, max_depth=5,\n",
        " min_child_weight=1, gamma=0, subsample=0.8, colsample_bytree=0.8,\n",
        " objective= 'multi:softmax', nthread=4, scale_pos_weight=1, seed=27), \n",
        " param_grid = param_test1, scoring='accuracy',n_jobs=-1,iid=False, cv=3)\n",
        "gsearch1.fit(X_train_counts, y_train)\n",
        "gsearch1.grid_scores_, gsearch1.best_params_, gsearch1.best_score_"
      ],
      "execution_count": 0,
      "outputs": []
    },
    {
      "cell_type": "code",
      "metadata": {
        "id": "2x1jcqq7yejn",
        "colab_type": "code",
        "colab": {}
      },
      "source": [
        "gsearch1.best_params_\n"
      ],
      "execution_count": 0,
      "outputs": []
    },
    {
      "cell_type": "code",
      "metadata": {
        "id": "bPymb4FqNEX8",
        "colab_type": "code",
        "colab": {}
      },
      "source": [
        "gsearch1.best_score_"
      ],
      "execution_count": 0,
      "outputs": []
    },
    {
      "cell_type": "code",
      "metadata": {
        "id": "ZAAIf6GlNULo",
        "colab_type": "code",
        "colab": {}
      },
      "source": [
        ""
      ],
      "execution_count": 0,
      "outputs": []
    },
    {
      "cell_type": "code",
      "metadata": {
        "id": "NCLMoR7LOPp4",
        "colab_type": "code",
        "colab": {}
      },
      "source": [
        "param_test3 = {\n",
        " 'gamma':[i/10.0 for i in range(4,7)]\n",
        "}\n",
        "gsearch1 = GridSearchCV(estimator = XGBClassifier( learning_rate =0.1, n_estimators=140, max_depth=3,\n",
        " min_child_weight=1, gamma=0, subsample=0.8, colsample_bytree=0.8,\n",
        " objective= 'multi:softmax', nthread=4, scale_pos_weight=1, seed=27), \n",
        " param_grid = param_test3, scoring='accuracy',n_jobs=-1,iid=False, cv=2)\n",
        "gsearch1.fit(X_train_counts, y_train)\n",
        "gsearch1.best_params_, gsearch1.best_score_"
      ],
      "execution_count": 0,
      "outputs": []
    },
    {
      "cell_type": "code",
      "metadata": {
        "id": "obnCoAVWOQZP",
        "colab_type": "code",
        "colab": {}
      },
      "source": [
        "xgb2 = XGBClassifier(learning_rate =0.1, n_estimators=1000, max_depth=3, min_child_weight=1,\n",
        " gamma=0.5, subsample=0.8, colsample_bytree=0.8, objective= 'multi:softmax', nthread=4,n_jobs=-1, scale_pos_weight=1, seed=27)"
      ],
      "execution_count": 0,
      "outputs": []
    },
    {
      "cell_type": "code",
      "metadata": {
        "id": "-ZlpZ-xIQ3LH",
        "colab_type": "code",
        "colab": {}
      },
      "source": [
        "xgb2.fit(X_train_counts, y_train)\n",
        "xgb2_pred = xgb2.predict(X_test_counts)\n",
        "\n",
        "# Classification report\n",
        "print(\"Classification report\")\n",
        "print(classification_report(y_test, xgb2_pred, target_names=df['category'].unique()))\n",
        "\n",
        "print(\"accuracy score\")\n",
        "print(accuracy_score(y_test, xgb2_pred))"
      ],
      "execution_count": 0,
      "outputs": []
    },
    {
      "cell_type": "code",
      "metadata": {
        "id": "Tp_WyRu6RPMY",
        "colab_type": "code",
        "colab": {}
      },
      "source": [
        "param_test4 = {\n",
        "  'reg_alpha':[1e-5, 1e-2, 0.1, 1, 100]\n",
        "}\n",
        "gsearch1 = GridSearchCV(estimator = XGBClassifier( learning_rate =0.1, n_estimators=140, max_depth=3,\n",
        " min_child_weight=1, gamma=0, subsample=0.8, colsample_bytree=0.8,\n",
        " objective= 'multi:softmax', nthread=4, scale_pos_weight=1, seed=27), \n",
        " param_grid = param_test4, scoring='accuracy',n_jobs=-1,iid=False, cv=2)\n",
        "gsearch1.fit(X_train_counts, y_train)\n",
        "gsearch1.best_params_, gsearch1.best_score_"
      ],
      "execution_count": 0,
      "outputs": []
    },
    {
      "cell_type": "code",
      "metadata": {
        "id": "SJ9zcDF9SNcC",
        "colab_type": "code",
        "colab": {}
      },
      "source": [
        "param_test7 = {\n",
        " 'reg_alpha':[0, 0.005, 0.01, 0.05]\n",
        "}\n",
        "gsearch1 = GridSearchCV(estimator = XGBClassifier( learning_rate =0.1, n_estimators=140, max_depth=3,\n",
        " min_child_weight=1, gamma=0, subsample=0.8, colsample_bytree=0.8,\n",
        " objective= 'multi:softmax', nthread=4, scale_pos_weight=1, seed=27), \n",
        " param_grid = param_test7, scoring='accuracy',n_jobs=-1,iid=False, cv=3)\n",
        "gsearch1.fit(X_train_counts, y_train)\n",
        "gsearch1.best_params_, gsearch1.best_score_"
      ],
      "execution_count": 0,
      "outputs": []
    },
    {
      "cell_type": "code",
      "metadata": {
        "id": "r80tW2U5TL2y",
        "colab_type": "code",
        "colab": {}
      },
      "source": [
        "xgb3 = XGBClassifier(learning_rate =0.1, n_estimators=1000, max_depth=3, min_child_weight=1, reg_alpha=0.01, \n",
        " gamma=0.5, subsample=0.8, colsample_bytree=0.8, objective= 'multi:softmax', nthread=4,n_jobs=-1, scale_pos_weight=1, seed=27)"
      ],
      "execution_count": 0,
      "outputs": []
    },
    {
      "cell_type": "code",
      "metadata": {
        "id": "zb_2tfc-UJ2d",
        "colab_type": "code",
        "colab": {}
      },
      "source": [
        "xgb3.fit(X_train_counts, y_train)\n",
        "xgb3_pred = xgb3.predict(X_test_counts)\n",
        "\n",
        "# Classification report\n",
        "print(\"Classification report\")\n",
        "print(classification_report(y_test, xgb3_pred, target_names=df['category'].unique()))\n",
        "\n",
        "print(\"accuracy score\")\n",
        "print(accuracy_score(y_test, xgb3_pred))"
      ],
      "execution_count": 0,
      "outputs": []
    },
    {
      "cell_type": "code",
      "metadata": {
        "id": "gtHZq-dJUOfY",
        "colab_type": "code",
        "colab": {}
      },
      "source": [
        "param_test7 = {\n",
        " 'learning_rate':[0.01, 0.1, 0.05, 0.3, 0.5]\n",
        "}\n",
        "gsearch1 = GridSearchCV(estimator = XGBClassifier( learning_rate =0.1, n_estimators=140, max_depth=3, \n",
        " min_child_weight=1, gamma=0, subsample=0.8, colsample_bytree=0.8,\n",
        " objective= 'multi:softmax', nthread=4, scale_pos_weight=1, seed=27), \n",
        " param_grid = param_test7, scoring='accuracy',n_jobs=-1,iid=False, cv=3)\n",
        "gsearch1.fit(X_train_counts, y_train)\n",
        "gsearch1.best_params_, gsearch1.best_score_"
      ],
      "execution_count": 0,
      "outputs": []
    },
    {
      "cell_type": "code",
      "metadata": {
        "id": "-Ql-hlMzWTi1",
        "colab_type": "code",
        "colab": {}
      },
      "source": [
        "xgb4 = XGBClassifier(learning_rate =0.1, n_estimators=1000, max_depth=3, min_child_weight=1, reg_alpha=0.01, \n",
        " gamma=0.5, subsample=0.8, colsample_bytree=0.8, objective= 'multi:softmax', nthread=4,n_jobs=-1, scale_pos_weight=1, seed=27)"
      ],
      "execution_count": 0,
      "outputs": []
    },
    {
      "cell_type": "code",
      "metadata": {
        "id": "8N_aOTgDWagO",
        "colab_type": "code",
        "colab": {}
      },
      "source": [
        "xgb4.fit(X_train_counts, y_train)\n",
        "xgb4_pred = xgb4.predict(X_test_counts)\n",
        "\n",
        "# Classification report\n",
        "print(\"Classification report\")\n",
        "print(classification_report(y_test, xgb4_pred, target_names=df['category'].unique()))\n",
        "\n",
        "print(\"accuracy score\")\n",
        "print(accuracy_score(y_test, xgb4_pred))"
      ],
      "execution_count": 0,
      "outputs": []
    },
    {
      "cell_type": "code",
      "metadata": {
        "id": "UHcGQK8bY95Z",
        "colab_type": "code",
        "outputId": "c57a414e-59ca-49e2-e3e5-d294ec3ab8d4",
        "colab": {
          "base_uri": "https://localhost:8080/",
          "height": 50
        }
      },
      "source": [
        "print(\"accuracy score\")\n",
        "print(accuracy_score(y_test, xgb4_pred))"
      ],
      "execution_count": 0,
      "outputs": [
        {
          "output_type": "stream",
          "text": [
            "accuracy score\n",
            "0.883698296836983\n"
          ],
          "name": "stdout"
        }
      ]
    },
    {
      "cell_type": "code",
      "metadata": {
        "id": "eERoVJPPXQkL",
        "colab_type": "code",
        "outputId": "3f453ee2-5c07-48c3-a563-72b34b608798",
        "colab": {
          "base_uri": "https://localhost:8080/",
          "height": 353
        }
      },
      "source": [
        "# Classification report\n",
        "print(\"Classification report\")\n",
        "print(classification_report(y_train, xgb4.predict(X_train_counts), target_names=df['category'].unique()))\n",
        "\n",
        "print(\"accuracy score\")\n",
        "print(accuracy_score(y_train, xgb4.predict(X_train_counts)))"
      ],
      "execution_count": 0,
      "outputs": [
        {
          "output_type": "stream",
          "text": [
            "Classification report\n",
            "              precision    recall  f1-score   support\n",
            "\n",
            "    tutorial       0.86      0.98      0.92       754\n",
            "     science       0.81      0.85      0.83       744\n",
            "        vlog       0.99      0.96      0.98       748\n",
            "        food       0.99      0.98      0.98       679\n",
            "     fashion       0.98      0.98      0.98       748\n",
            "      travel       0.98      0.96      0.97       783\n",
            "       music       0.99      0.96      0.97       690\n",
            "      movies       0.97      0.96      0.97       735\n",
            "     history       0.84      0.78      0.81       799\n",
            "         art       0.97      0.94      0.95       718\n",
            "\n",
            "    accuracy                           0.93      7398\n",
            "   macro avg       0.94      0.94      0.94      7398\n",
            "weighted avg       0.94      0.93      0.93      7398\n",
            "\n",
            "accuracy score\n",
            "0.9344417410110841\n"
          ],
          "name": "stdout"
        }
      ]
    },
    {
      "cell_type": "markdown",
      "metadata": {
        "id": "NPvI5_IUdsn7",
        "colab_type": "text"
      },
      "source": [
        "**Performance Training**"
      ]
    },
    {
      "cell_type": "code",
      "metadata": {
        "id": "2wmWKotDYOiy",
        "colab_type": "code",
        "colab": {}
      },
      "source": [
        "# plot learning curve\n",
        "from numpy import loadtxt\n",
        "from xgboost import XGBClassifier\n",
        "from sklearn.model_selection import train_test_split\n",
        "from sklearn.metrics import accuracy_score\n",
        "from matplotlib import pyplot\n",
        "\n",
        "# fit model no training data\n",
        "model = XGBClassifier(learning_rate =0.1, n_estimators=500, max_depth=3, min_child_weight=1, reg_alpha=0.01, \n",
        " gamma=0.5, subsample=0.8, colsample_bytree=0.8, objective= 'multi:softmax', nthread=4,n_jobs=-1, scale_pos_weight=1, seed=27)\n",
        "eval_set = [(X_train_counts, y_train), (X_test_counts, y_test)]\n",
        "model.fit(X_train_counts, y_train, eval_metric=[\"merror\", \"mlogloss\"], eval_set=eval_set, verbose=True)\n",
        "# make predictions for test data\n",
        "y_pred = model.predict(X_test_counts)\n",
        "\n",
        "# evaluate predictions\n",
        "accuracy = accuracy_score(y_test, y_pred)\n",
        "print(\"Accuracy: %.2f%%\" % (accuracy * 100.0))\n",
        "# retrieve performance metrics\n",
        "results = model.evals_result()\n",
        "epochs = len(results['validation_0']['merror'])\n",
        "x_axis = range(0, epochs)\n",
        "# plot log loss\n",
        "fig, ax = pyplot.subplots()\n",
        "ax.plot(x_axis, results['validation_0']['mlogloss'], label='Train')\n",
        "ax.plot(x_axis, results['validation_1']['mlogloss'], label='Test')\n",
        "ax.legend()\n",
        "pyplot.ylabel('Log Loss')\n",
        "pyplot.title('XGBoost Log Loss')\n",
        "pyplot.show()\n",
        "# plot classification error\n",
        "fig, ax = pyplot.subplots()\n",
        "ax.plot(x_axis, results['validation_0']['merror'], label='Train')\n",
        "ax.plot(x_axis, results['validation_1']['merror'], label='Test')\n",
        "ax.legend()\n",
        "pyplot.ylabel('Classification Error')\n",
        "pyplot.title('XGBoost Classification Error')\n",
        "pyplot.show()"
      ],
      "execution_count": 0,
      "outputs": []
    },
    {
      "cell_type": "code",
      "metadata": {
        "id": "q7x2wdV1eDDD",
        "colab_type": "code",
        "colab": {}
      },
      "source": [
        "# early stopping\n",
        "from numpy import loadtxt\n",
        "from xgboost import XGBClassifier\n",
        "from sklearn.model_selection import train_test_split\n",
        "from sklearn.metrics import accuracy_score\n",
        "\n",
        "# fit model no training data\n",
        "model = XGBClassifier(learning_rate =0.1, n_estimators=300, max_depth=3, min_child_weight=1, reg_alpha=0.01, \n",
        " gamma=0.5, subsample=0.8, colsample_bytree=0.8, objective= 'multi:softmax', nthread=4,n_jobs=-1, scale_pos_weight=1, seed=27)\n",
        "eval_set = [(X_test_counts, y_test)]\n",
        "model.fit(X_train_counts, y_train, early_stopping_rounds=10, eval_metric=\"merror\", eval_set=eval_set, verbose=True)\n",
        "# make predictions for test data\n",
        "y_pred = model.predict(X_test_counts)\n",
        "\n",
        "# evaluate predictions\n",
        "accuracy = accuracy_score(y_test, y_pred)\n",
        "print(\"Accuracy: %.2f%%\" % (accuracy * 100.0))"
      ],
      "execution_count": 0,
      "outputs": []
    },
    {
      "cell_type": "code",
      "metadata": {
        "id": "wa7bsfbmgtA5",
        "colab_type": "code",
        "outputId": "44b34adb-dd2c-44f0-811d-9a26bcfaf31f",
        "colab": {
          "base_uri": "https://localhost:8080/",
          "height": 353
        }
      },
      "source": [
        "# Classification report\n",
        "print(\"Classification report\")\n",
        "print(classification_report(y_train, model.predict(X_train_counts), target_names=df['category'].unique()))\n",
        "\n",
        "print(\"accuracy score\")\n",
        "print(accuracy_score(y_train, model.predict(X_train_counts)))"
      ],
      "execution_count": 0,
      "outputs": [
        {
          "output_type": "stream",
          "text": [
            "Classification report\n",
            "              precision    recall  f1-score   support\n",
            "\n",
            "    tutorial       0.84      0.97      0.90       754\n",
            "     science       0.78      0.87      0.82       744\n",
            "        vlog       0.99      0.96      0.97       748\n",
            "        food       0.99      0.97      0.98       679\n",
            "     fashion       0.97      0.98      0.98       748\n",
            "      travel       0.98      0.95      0.97       783\n",
            "       music       0.99      0.96      0.97       690\n",
            "      movies       0.97      0.96      0.97       735\n",
            "     history       0.85      0.72      0.78       799\n",
            "         art       0.96      0.94      0.95       718\n",
            "\n",
            "    accuracy                           0.93      7398\n",
            "   macro avg       0.93      0.93      0.93      7398\n",
            "weighted avg       0.93      0.93      0.93      7398\n",
            "\n",
            "accuracy score\n",
            "0.9271424709380913\n"
          ],
          "name": "stdout"
        }
      ]
    },
    {
      "cell_type": "code",
      "metadata": {
        "id": "qYfVqB3facfj",
        "colab_type": "code",
        "outputId": "0d399f9f-2f77-447b-e555-24794b4530c6",
        "colab": {
          "base_uri": "https://localhost:8080/",
          "height": 353
        }
      },
      "source": [
        "# Classification report\n",
        "print(\"Classification report\")\n",
        "print(classification_report(y_test,y_pred, target_names=df['category'].unique()))\n",
        "\n",
        "print(\"accuracy score\")\n",
        "print(accuracy_score(y_test,y_pred))"
      ],
      "execution_count": 0,
      "outputs": [
        {
          "output_type": "stream",
          "text": [
            "Classification report\n",
            "              precision    recall  f1-score   support\n",
            "\n",
            "    tutorial       0.78      0.95      0.86       210\n",
            "     science       0.66      0.72      0.69       206\n",
            "        vlog       0.98      0.93      0.96       208\n",
            "        food       0.98      0.97      0.97       188\n",
            "     fashion       0.97      0.97      0.97       208\n",
            "      travel       0.98      0.93      0.95       218\n",
            "       music       0.95      0.97      0.96       192\n",
            "      movies       0.97      0.95      0.96       204\n",
            "     history       0.72      0.59      0.65       222\n",
            "         art       0.92      0.92      0.92       199\n",
            "\n",
            "    accuracy                           0.89      2055\n",
            "   macro avg       0.89      0.89      0.89      2055\n",
            "weighted avg       0.89      0.89      0.89      2055\n",
            "\n",
            "accuracy score\n",
            "0.8871046228710462\n"
          ],
          "name": "stdout"
        }
      ]
    },
    {
      "cell_type": "code",
      "metadata": {
        "id": "YoBDx8ocnOGt",
        "colab_type": "code",
        "colab": {}
      },
      "source": [
        "from nltk.stem import PorterStemmer\n",
        "from nltk.tokenize import RegexpTokenizer\n",
        "tokenizer = RegexpTokenizer(r'\\w+')"
      ],
      "execution_count": 0,
      "outputs": []
    },
    {
      "cell_type": "code",
      "metadata": {
        "id": "tgmIuaIWp1Cv",
        "colab_type": "code",
        "colab": {}
      },
      "source": [
        "stemmer = PorterStemmer()\n",
        "\n",
        "def porter_stem(sentence):\n",
        "    # Porter stemming \n",
        "    stemmed_sequence = [stemmer.stem(word) for word in tokenizer.tokenize(sentence)\n",
        "                        if word not in stopwords.words('english')]\n",
        "    return ' '.join(stemmed_sequence)\n",
        "\n",
        "stemmed_train = [porter_stem(post) for post in X_train]\n",
        "stemmed_test = [porter_stem(post) for post in X_test]"
      ],
      "execution_count": 0,
      "outputs": []
    },
    {
      "cell_type": "code",
      "metadata": {
        "id": "RNBCeJYPVghe",
        "colab_type": "code",
        "colab": {}
      },
      "source": [
        "count_vect.fit(stemmed_train)\n",
        "X_train_stem = count_vect.transform(stemmed_train)\n",
        "\n",
        "X_test_stem = count_vect.transform(stemmed_test)"
      ],
      "execution_count": 0,
      "outputs": []
    },
    {
      "cell_type": "code",
      "metadata": {
        "id": "6q-ES4fLWLqE",
        "colab_type": "code",
        "colab": {}
      },
      "source": [
        "from time import time\n",
        "\n",
        "# Read training and test data (from baseline code)\n",
        "def read_data(name):\n",
        "    text, targets = [], []\n",
        "\n",
        "    with open(''.join([IN_FOLDER, '{}.csv']).format(name)) as f:\n",
        "        for item in DictReader(f):\n",
        "            text.append(item['text'])\n",
        "            targets.append(item['category'])\n",
        "\n",
        "    return text, targets\n"
      ],
      "execution_count": 0,
      "outputs": []
    },
    {
      "cell_type": "code",
      "metadata": {
        "id": "zWyG5g4uXOSZ",
        "colab_type": "code",
        "colab": {}
      },
      "source": [
        "from sklearn.metrics import f1_score"
      ],
      "execution_count": 0,
      "outputs": []
    },
    {
      "cell_type": "code",
      "metadata": {
        "id": "nTQ7wf9DWXrj",
        "colab_type": "code",
        "outputId": "62e3acb3-2a10-45e3-8295-1894eb554251",
        "colab": {
          "base_uri": "https://localhost:8080/",
          "height": 353
        }
      },
      "source": [
        "t0 = time()\n",
        "\n",
        "model = XGBClassifier(learning_rate =0.1, n_estimators=300, max_depth=3, min_child_weight=1, reg_alpha=0.01, \n",
        " gamma=0.5, subsample=0.8, colsample_bytree=0.8, objective= 'multi:softmax', nthread=4,n_jobs=-1, scale_pos_weight=1, seed=27) \n",
        "model.fit(X_train_stem, y_train)\n",
        "stem_xgb_prediction = model.predict(X_test_stem)\n",
        "\n",
        "stem_xgb_macro_f1 = f1_score(y_test, stem_xgb_prediction, average='macro')\n",
        "\n",
        "print('training score:', f1_score(y_train, model.predict(X_train_stem), average='macro'))\n",
        "\n",
        "print('testing score:', stem_xgb_macro_f1)\n",
        "\n",
        "print(\"done in %0.3fs.\" % (time() - t0))\n",
        "print(classification_report(y_test, stem_xgb_prediction))"
      ],
      "execution_count": 0,
      "outputs": [
        {
          "output_type": "stream",
          "text": [
            "training score: 0.933008403845245\n",
            "testing score: 0.8917699866598628\n",
            "done in 34.080s.\n",
            "              precision    recall  f1-score   support\n",
            "\n",
            "           0       0.84      0.94      0.89       210\n",
            "           1       0.65      0.72      0.69       206\n",
            "           2       0.98      0.96      0.97       208\n",
            "           3       0.95      0.97      0.96       188\n",
            "           4       0.97      0.97      0.97       208\n",
            "           5       0.98      0.93      0.95       218\n",
            "           6       0.97      0.96      0.96       192\n",
            "           7       0.96      0.96      0.96       204\n",
            "           8       0.69      0.59      0.64       222\n",
            "           9       0.93      0.92      0.93       199\n",
            "\n",
            "    accuracy                           0.89      2055\n",
            "   macro avg       0.89      0.89      0.89      2055\n",
            "weighted avg       0.89      0.89      0.89      2055\n",
            "\n"
          ],
          "name": "stdout"
        }
      ]
    },
    {
      "cell_type": "code",
      "metadata": {
        "id": "AzqgE2DHW5LV",
        "colab_type": "code",
        "outputId": "06aa19dd-9535-4e19-fa15-c81a39d57b05",
        "colab": {
          "base_uri": "https://localhost:8080/",
          "height": 34
        }
      },
      "source": [
        "print ('Accuracy score:', accuracy_score(y_test, stem_xgb_prediction))"
      ],
      "execution_count": 0,
      "outputs": [
        {
          "output_type": "stream",
          "text": [
            "Accuracy score: 0.8895377128953771\n"
          ],
          "name": "stdout"
        }
      ]
    },
    {
      "cell_type": "code",
      "metadata": {
        "id": "n6Ib2RKRZMhN",
        "colab_type": "code",
        "outputId": "84ebfff9-56cf-40cc-bbc3-a1b50bf05b86",
        "colab": {
          "base_uri": "https://localhost:8080/",
          "height": 134
        }
      },
      "source": [
        "model"
      ],
      "execution_count": 0,
      "outputs": [
        {
          "output_type": "execute_result",
          "data": {
            "text/plain": [
              "XGBClassifier(base_score=0.5, booster='gbtree', colsample_bylevel=1,\n",
              "              colsample_bynode=1, colsample_bytree=0.8, gamma=0.5,\n",
              "              learning_rate=0.1, max_delta_step=0, max_depth=3,\n",
              "              min_child_weight=1, missing=None, n_estimators=300, n_jobs=-1,\n",
              "              nthread=4, objective='multi:softprob', random_state=0,\n",
              "              reg_alpha=0.01, reg_lambda=1, scale_pos_weight=1, seed=27,\n",
              "              silent=None, subsample=0.8, verbosity=1)"
            ]
          },
          "metadata": {
            "tags": []
          },
          "execution_count": 43
        }
      ]
    },
    {
      "cell_type": "code",
      "metadata": {
        "id": "VPq5FrNkiDhZ",
        "colab_type": "code",
        "outputId": "fc69cc68-8bdb-4649-c57e-c315ac8516a3",
        "colab": {
          "base_uri": "https://localhost:8080/",
          "height": 50
        }
      },
      "source": [
        "category = df['category'].unique()\n",
        "category"
      ],
      "execution_count": 0,
      "outputs": [
        {
          "output_type": "execute_result",
          "data": {
            "text/plain": [
              "array(['tutorial', 'science', 'vlog', 'food', 'fashion', 'travel',\n",
              "       'music', 'movies', 'history', 'art'], dtype=object)"
            ]
          },
          "metadata": {
            "tags": []
          },
          "execution_count": 49
        }
      ]
    },
    {
      "cell_type": "code",
      "metadata": {
        "id": "A41rHXeuiLIl",
        "colab_type": "code",
        "colab": {}
      },
      "source": [
        "category_names = {\n",
        "    0: 'tutorial',\n",
        "    1: 'science',\n",
        "    2: 'vlog',\n",
        "    3: 'food',\n",
        "    4: 'fashion',\n",
        "    5: 'travel',\n",
        "    6: 'music',\n",
        "    7: 'movies',\n",
        "    8: 'history',\n",
        "    9: 'art'\n",
        "}"
      ],
      "execution_count": 0,
      "outputs": []
    },
    {
      "cell_type": "code",
      "metadata": {
        "id": "eoRCRIwfiLEr",
        "colab_type": "code",
        "outputId": "392e0ad0-dcc0-467f-91d8-2e87f904ad29",
        "colab": {
          "base_uri": "https://localhost:8080/",
          "height": 34
        }
      },
      "source": [
        "category_code = df['categoryid'].unique()\n",
        "category_code"
      ],
      "execution_count": 0,
      "outputs": [
        {
          "output_type": "execute_result",
          "data": {
            "text/plain": [
              "array([8, 6, 9, 2, 1, 7, 5, 4, 3, 0])"
            ]
          },
          "metadata": {
            "tags": []
          },
          "execution_count": 32
        }
      ]
    },
    {
      "cell_type": "code",
      "metadata": {
        "id": "Rkn1SnhChXga",
        "colab_type": "code",
        "colab": {}
      },
      "source": [
        "# Indexes of the test set\n",
        "index_X_test = X_test.index\n",
        "\n",
        "# We get them from the original df\n",
        "df_test = df.loc[index_X_test]\n",
        "\n",
        "# Add the predictions\n",
        "df_test['Prediction'] = stem_xgb_prediction\n",
        "\n",
        "# Clean columns\n",
        "df_test = df_test[['title', 'category', 'categoryid', 'Prediction']]\n",
        "\n",
        "# Decode\n",
        "df_test['Category_Predicted'] = df_test['Prediction']\n",
        "df_test = df_test.replace({'Category_Predicted':category_names})\n",
        "\n",
        "# Clean columns again\n",
        "df_test = df_test[['title', 'category', 'Category_Predicted']]"
      ],
      "execution_count": 0,
      "outputs": []
    },
    {
      "cell_type": "code",
      "metadata": {
        "id": "5c2zySSdjO9g",
        "colab_type": "code",
        "outputId": "162348c6-f8a1-4aab-fdd1-b3971aa95364",
        "colab": {
          "base_uri": "https://localhost:8080/",
          "height": 195
        }
      },
      "source": [
        "df_test.head()"
      ],
      "execution_count": 0,
      "outputs": [
        {
          "output_type": "execute_result",
          "data": {
            "text/html": [
              "<div>\n",
              "<style scoped>\n",
              "    .dataframe tbody tr th:only-of-type {\n",
              "        vertical-align: middle;\n",
              "    }\n",
              "\n",
              "    .dataframe tbody tr th {\n",
              "        vertical-align: top;\n",
              "    }\n",
              "\n",
              "    .dataframe thead th {\n",
              "        text-align: right;\n",
              "    }\n",
              "</style>\n",
              "<table border=\"1\" class=\"dataframe\">\n",
              "  <thead>\n",
              "    <tr style=\"text-align: right;\">\n",
              "      <th></th>\n",
              "      <th>title</th>\n",
              "      <th>category</th>\n",
              "      <th>Category_Predicted</th>\n",
              "    </tr>\n",
              "  </thead>\n",
              "  <tbody>\n",
              "    <tr>\n",
              "      <th>4394</th>\n",
              "      <td>bad hair cast talks making horror movie killer...</td>\n",
              "      <td>movies</td>\n",
              "      <td>fashion</td>\n",
              "    </tr>\n",
              "    <tr>\n",
              "      <th>5746</th>\n",
              "      <td>china west meets east metropolitan museum art</td>\n",
              "      <td>art</td>\n",
              "      <td>tutorial</td>\n",
              "    </tr>\n",
              "    <tr>\n",
              "      <th>2056</th>\n",
              "      <td>top wearable fashion trends style</td>\n",
              "      <td>fashion</td>\n",
              "      <td>science</td>\n",
              "    </tr>\n",
              "    <tr>\n",
              "      <th>7239</th>\n",
              "      <td>day life famous food blogger</td>\n",
              "      <td>food</td>\n",
              "      <td>vlog</td>\n",
              "    </tr>\n",
              "    <tr>\n",
              "      <th>7217</th>\n",
              "      <td>bengena pitika assam india best indian food blog</td>\n",
              "      <td>food</td>\n",
              "      <td>vlog</td>\n",
              "    </tr>\n",
              "  </tbody>\n",
              "</table>\n",
              "</div>"
            ],
            "text/plain": [
              "                                                  title  ... Category_Predicted\n",
              "4394  bad hair cast talks making horror movie killer...  ...            fashion\n",
              "5746      china west meets east metropolitan museum art  ...           tutorial\n",
              "2056                  top wearable fashion trends style  ...            science\n",
              "7239                       day life famous food blogger  ...               vlog\n",
              "7217   bengena pitika assam india best indian food blog  ...               vlog\n",
              "\n",
              "[5 rows x 3 columns]"
            ]
          },
          "metadata": {
            "tags": []
          },
          "execution_count": 68
        }
      ]
    },
    {
      "cell_type": "code",
      "metadata": {
        "id": "N6esZlpojwmf",
        "colab_type": "code",
        "outputId": "cf8debf8-84d8-4885-e03d-4e724fd61dc4",
        "colab": {
          "base_uri": "https://localhost:8080/",
          "height": 195
        }
      },
      "source": [
        "condition = (df_test['category'] != df_test['Category_Predicted'])\n",
        "\n",
        "df_misclassified = df_test[condition]\n",
        "\n",
        "df_misclassified.head()"
      ],
      "execution_count": 0,
      "outputs": [
        {
          "output_type": "execute_result",
          "data": {
            "text/html": [
              "<div>\n",
              "<style scoped>\n",
              "    .dataframe tbody tr th:only-of-type {\n",
              "        vertical-align: middle;\n",
              "    }\n",
              "\n",
              "    .dataframe tbody tr th {\n",
              "        vertical-align: top;\n",
              "    }\n",
              "\n",
              "    .dataframe thead th {\n",
              "        text-align: right;\n",
              "    }\n",
              "</style>\n",
              "<table border=\"1\" class=\"dataframe\">\n",
              "  <thead>\n",
              "    <tr style=\"text-align: right;\">\n",
              "      <th></th>\n",
              "      <th>title</th>\n",
              "      <th>category</th>\n",
              "      <th>Category_Predicted</th>\n",
              "    </tr>\n",
              "  </thead>\n",
              "  <tbody>\n",
              "    <tr>\n",
              "      <th>4394</th>\n",
              "      <td>bad hair cast talks making horror movie killer...</td>\n",
              "      <td>movies</td>\n",
              "      <td>fashion</td>\n",
              "    </tr>\n",
              "    <tr>\n",
              "      <th>5746</th>\n",
              "      <td>china west meets east metropolitan museum art</td>\n",
              "      <td>art</td>\n",
              "      <td>tutorial</td>\n",
              "    </tr>\n",
              "    <tr>\n",
              "      <th>2056</th>\n",
              "      <td>top wearable fashion trends style</td>\n",
              "      <td>fashion</td>\n",
              "      <td>science</td>\n",
              "    </tr>\n",
              "    <tr>\n",
              "      <th>7239</th>\n",
              "      <td>day life famous food blogger</td>\n",
              "      <td>food</td>\n",
              "      <td>vlog</td>\n",
              "    </tr>\n",
              "    <tr>\n",
              "      <th>7217</th>\n",
              "      <td>bengena pitika assam india best indian food blog</td>\n",
              "      <td>food</td>\n",
              "      <td>vlog</td>\n",
              "    </tr>\n",
              "  </tbody>\n",
              "</table>\n",
              "</div>"
            ],
            "text/plain": [
              "                                                  title  ... Category_Predicted\n",
              "4394  bad hair cast talks making horror movie killer...  ...            fashion\n",
              "5746      china west meets east metropolitan museum art  ...           tutorial\n",
              "2056                  top wearable fashion trends style  ...            science\n",
              "7239                       day life famous food blogger  ...               vlog\n",
              "7217   bengena pitika assam india best indian food blog  ...               vlog\n",
              "\n",
              "[5 rows x 3 columns]"
            ]
          },
          "metadata": {
            "tags": []
          },
          "execution_count": 70
        }
      ]
    },
    {
      "cell_type": "code",
      "metadata": {
        "id": "hCQBgc7mkZDu",
        "colab_type": "code",
        "colab": {}
      },
      "source": [
        "def output_article(row_article):\n",
        "    print('Actual Category: %s' %(row_article['category']))\n",
        "    print('Predicted Category: %s' %(row_article['Category_Predicted']))\n",
        "    print('-------------------------------------------')\n",
        "    print('Text: ')\n",
        "    print('%s' %(row_article['title']))"
      ],
      "execution_count": 0,
      "outputs": []
    },
    {
      "cell_type": "code",
      "metadata": {
        "id": "Qcp2WCgXkblu",
        "colab_type": "code",
        "outputId": "53d6fc0a-2e40-4686-d3b9-f016b3824290",
        "colab": {
          "base_uri": "https://localhost:8080/",
          "height": 34
        }
      },
      "source": [
        "import random\n",
        "random.seed(18)\n",
        "list_samples = random.sample(list(df_misclassified.index), 3)\n",
        "list_samples"
      ],
      "execution_count": 0,
      "outputs": [
        {
          "output_type": "execute_result",
          "data": {
            "text/plain": [
              "[1056, 9019, 3433]"
            ]
          },
          "metadata": {
            "tags": []
          },
          "execution_count": 81
        }
      ]
    },
    {
      "cell_type": "code",
      "metadata": {
        "id": "P_z9BF1mlw6b",
        "colab_type": "code",
        "outputId": "dc63b04e-a615-47d0-c57b-ed0f455d8585",
        "colab": {
          "base_uri": "https://localhost:8080/",
          "height": 101
        }
      },
      "source": [
        "output_article(df_misclassified.loc[list_samples[0]])"
      ],
      "execution_count": 0,
      "outputs": [
        {
          "output_type": "stream",
          "text": [
            "Actual Category: vlog\n",
            "Predicted Category: art\n",
            "-------------------------------------------\n",
            "Text: \n",
            "video blogging gear\n"
          ],
          "name": "stdout"
        }
      ]
    },
    {
      "cell_type": "code",
      "metadata": {
        "id": "AdkWok9lmaeC",
        "colab_type": "code",
        "outputId": "c1b97751-29a6-4031-d08f-5a6880f6c118",
        "colab": {
          "base_uri": "https://localhost:8080/",
          "height": 101
        }
      },
      "source": [
        "output_article(df_misclassified.loc[list_samples[1]])"
      ],
      "execution_count": 0,
      "outputs": [
        {
          "output_type": "stream",
          "text": [
            "Actual Category: music\n",
            "Predicted Category: travel\n",
            "-------------------------------------------\n",
            "Text: \n",
            "ghost fighter ost intrumental lyrics karaoke\n"
          ],
          "name": "stdout"
        }
      ]
    },
    {
      "cell_type": "code",
      "metadata": {
        "id": "fInHBDjHmgNh",
        "colab_type": "code",
        "outputId": "7054cc64-c398-477d-ec78-db71f62fc89b",
        "colab": {
          "base_uri": "https://localhost:8080/",
          "height": 101
        }
      },
      "source": [
        "output_article(df_misclassified.loc[list_samples[2]])"
      ],
      "execution_count": 0,
      "outputs": [
        {
          "output_type": "stream",
          "text": [
            "Actual Category: travel\n",
            "Predicted Category: movies\n",
            "-------------------------------------------\n",
            "Text: \n",
            "travel tourism stocks dive virus woes hk resumes trading\n"
          ],
          "name": "stdout"
        }
      ]
    },
    {
      "cell_type": "code",
      "metadata": {
        "id": "hFamQyAmmjfQ",
        "colab_type": "code",
        "colab": {}
      },
      "source": [
        ""
      ],
      "execution_count": 0,
      "outputs": []
    },
    {
      "cell_type": "code",
      "metadata": {
        "id": "yqF5TlYIM_5I",
        "colab_type": "code",
        "colab": {}
      },
      "source": [
        ""
      ],
      "execution_count": 0,
      "outputs": []
    },
    {
      "cell_type": "code",
      "metadata": {
        "id": "LlMhWxPvM_1K",
        "colab_type": "code",
        "colab": {}
      },
      "source": [
        ""
      ],
      "execution_count": 0,
      "outputs": []
    },
    {
      "cell_type": "code",
      "metadata": {
        "id": "vLla39K0M_ys",
        "colab_type": "code",
        "colab": {}
      },
      "source": [
        "from sklearn.linear_model import LogisticRegression\n",
        "from xgboost import XGBClassifier\n",
        "from sklearn.svm import SVC"
      ],
      "execution_count": 0,
      "outputs": []
    },
    {
      "cell_type": "code",
      "metadata": {
        "id": "lgi0LtryM_wm",
        "colab_type": "code",
        "colab": {}
      },
      "source": [
        "from sklearn.ensemble import VotingClassifier\n",
        "from sklearn.ensemble import BaggingClassifier"
      ],
      "execution_count": 0,
      "outputs": []
    },
    {
      "cell_type": "code",
      "metadata": {
        "id": "lva2fYotM_r6",
        "colab_type": "code",
        "colab": {}
      },
      "source": [
        "log_reg = LogisticRegression(penalty='l2', C=0.1, n_jobs=-1, multi_class='ovr')\n",
        "xgb_clf = XGBClassifier(base_score=0.5, booster='gbtree', colsample_bylevel=1,\n",
        "              colsample_bynode=1, colsample_bytree=0.8, gamma=0.5,\n",
        "              learning_rate=0.1, max_delta_step=0, max_depth=3,\n",
        "              min_child_weight=1, missing=None, n_estimators=300, n_jobs=-1,\n",
        "              nthread=4, objective='multi:softprob', random_state=0,\n",
        "              reg_alpha=0.01, reg_lambda=1, scale_pos_weight=1, seed=27,\n",
        "              silent=None, subsample=0.8, verbosity=1)\n",
        "svc_clf = SVC(C=100, break_ties=False, cache_size=200, class_weight=None, coef0=0.0,\n",
        "    decision_function_shape='ovr', degree=3, gamma=0.01, kernel='rbf',\n",
        "    max_iter=-1, probability=False, random_state=None, shrinking=True,\n",
        "    tol=0.001, verbose=False)"
      ],
      "execution_count": 0,
      "outputs": []
    },
    {
      "cell_type": "code",
      "metadata": {
        "id": "h7JAEJqUM_p0",
        "colab_type": "code",
        "colab": {}
      },
      "source": [
        "voting_clf = VotingClassifier(estimators=[('SVC', svc_clf), ('XGBoost', xgb_clf), ('LogReg', log_reg)], voting='hard')"
      ],
      "execution_count": 0,
      "outputs": []
    },
    {
      "cell_type": "code",
      "metadata": {
        "id": "o8XMM1JnM_n6",
        "colab_type": "code",
        "colab": {}
      },
      "source": [
        "voting_clf.fit(X_train_stem, y_train)"
      ],
      "execution_count": 0,
      "outputs": []
    },
    {
      "cell_type": "code",
      "metadata": {
        "id": "je4UD2wWM_iy",
        "colab_type": "code",
        "outputId": "2d4b6e63-5fea-42cf-b02d-e964c3ec99f1",
        "colab": {
          "base_uri": "https://localhost:8080/",
          "height": 50
        }
      },
      "source": [
        "preds = voting_clf.predict(X_test_stem)\n",
        "acc = accuracy_score(y_test, preds)\n",
        "\n",
        "f1 = f1_score(y_test, preds, average='macro')\n",
        "\n",
        "print ('Accuracy is : ', acc)\n",
        "print ('F1 Score is :', f1)"
      ],
      "execution_count": 0,
      "outputs": [
        {
          "output_type": "stream",
          "text": [
            "Accuracy is :  0.8875912408759125\n",
            "F1 Score is : 0.8904645724578641\n"
          ],
          "name": "stdout"
        }
      ]
    },
    {
      "cell_type": "code",
      "metadata": {
        "id": "fHw79tpWM_fg",
        "colab_type": "code",
        "colab": {}
      },
      "source": [
        "from sklearn.metrics import accuracy_score, log_loss, f1_score"
      ],
      "execution_count": 0,
      "outputs": []
    },
    {
      "cell_type": "code",
      "metadata": {
        "id": "z1bO-F5sPSiW",
        "colab_type": "code",
        "outputId": "7095d120-8e5f-4224-86b0-84199dfbcb31",
        "colab": {
          "base_uri": "https://localhost:8080/",
          "height": 185
        }
      },
      "source": [
        "print (confusion_matrix(y_test, preds))"
      ],
      "execution_count": 0,
      "outputs": [
        {
          "output_type": "stream",
          "text": [
            "[[202   1   1   1   2   0   0   0   3   0]\n",
            " [  4 140   0   2   0   1   1   0  58   0]\n",
            " [  6   0 198   0   1   0   0   1   0   2]\n",
            " [  1   1   0 182   2   0   0   1   1   0]\n",
            " [  3   0   0   1 201   0   0   0   0   3]\n",
            " [  5   1   1   0   1 207   0   0   2   1]\n",
            " [  5   0   0   0   0   0 184   0   2   1]\n",
            " [  4   1   0   0   0   0   0 196   0   3]\n",
            " [  9  80   0   1   0   1   2   0 129   0]\n",
            " [  5   0   0   0   2   0   1   4   2 185]]\n"
          ],
          "name": "stdout"
        }
      ]
    },
    {
      "cell_type": "code",
      "metadata": {
        "id": "xbHhXZfYQA-o",
        "colab_type": "code",
        "outputId": "aba204bd-f126-41c0-c5a5-b7416a3559e3",
        "colab": {
          "base_uri": "https://localhost:8080/",
          "height": 302
        }
      },
      "source": [
        "print (classification_report(y_test, preds, target_names=df['category'].unique()))"
      ],
      "execution_count": 0,
      "outputs": [
        {
          "output_type": "stream",
          "text": [
            "              precision    recall  f1-score   support\n",
            "\n",
            "    tutorial       0.83      0.96      0.89       210\n",
            "     science       0.62      0.68      0.65       206\n",
            "        vlog       0.99      0.95      0.97       208\n",
            "        food       0.97      0.97      0.97       188\n",
            "     fashion       0.96      0.97      0.96       208\n",
            "      travel       0.99      0.95      0.97       218\n",
            "       music       0.98      0.96      0.97       192\n",
            "      movies       0.97      0.96      0.97       204\n",
            "     history       0.65      0.58      0.62       222\n",
            "         art       0.95      0.93      0.94       199\n",
            "\n",
            "    accuracy                           0.89      2055\n",
            "   macro avg       0.89      0.89      0.89      2055\n",
            "weighted avg       0.89      0.89      0.89      2055\n",
            "\n"
          ],
          "name": "stdout"
        }
      ]
    },
    {
      "cell_type": "code",
      "metadata": {
        "id": "wVYFHXHoQJXE",
        "colab_type": "code",
        "colab": {}
      },
      "source": [
        "# Indexes of the test set\n",
        "index_X_test = X_test.index\n",
        "\n",
        "# We get them from the original df\n",
        "df_test = df.loc[index_X_test]\n",
        "\n",
        "# Add the predictions\n",
        "df_test['Prediction'] = preds\n",
        "\n",
        "# Clean columns\n",
        "df_test = df_test[['title', 'category', 'categoryid', 'Prediction']]\n",
        "\n",
        "# Decode\n",
        "df_test['Category_Predicted'] = df_test['Prediction']\n",
        "df_test = df_test.replace({'Category_Predicted':category_names})\n",
        "\n",
        "# Clean columns again\n",
        "df_test = df_test[['title', 'category', 'Category_Predicted']]"
      ],
      "execution_count": 0,
      "outputs": []
    },
    {
      "cell_type": "code",
      "metadata": {
        "id": "zPj8NchGQQwV",
        "colab_type": "code",
        "outputId": "ee14ad33-f59f-4fe4-8ca1-bb041c9c0a02",
        "colab": {
          "base_uri": "https://localhost:8080/",
          "height": 195
        }
      },
      "source": [
        "condition = (df_test['category'] != df_test['Category_Predicted'])\n",
        "\n",
        "df_misclassified = df_test[condition]\n",
        "\n",
        "df_misclassified.head()"
      ],
      "execution_count": 0,
      "outputs": [
        {
          "output_type": "execute_result",
          "data": {
            "text/html": [
              "<div>\n",
              "<style scoped>\n",
              "    .dataframe tbody tr th:only-of-type {\n",
              "        vertical-align: middle;\n",
              "    }\n",
              "\n",
              "    .dataframe tbody tr th {\n",
              "        vertical-align: top;\n",
              "    }\n",
              "\n",
              "    .dataframe thead th {\n",
              "        text-align: right;\n",
              "    }\n",
              "</style>\n",
              "<table border=\"1\" class=\"dataframe\">\n",
              "  <thead>\n",
              "    <tr style=\"text-align: right;\">\n",
              "      <th></th>\n",
              "      <th>title</th>\n",
              "      <th>category</th>\n",
              "      <th>Category_Predicted</th>\n",
              "    </tr>\n",
              "  </thead>\n",
              "  <tbody>\n",
              "    <tr>\n",
              "      <th>4394</th>\n",
              "      <td>bad hair cast talks making horror movie killer...</td>\n",
              "      <td>movies</td>\n",
              "      <td>fashion</td>\n",
              "    </tr>\n",
              "    <tr>\n",
              "      <th>5746</th>\n",
              "      <td>china west meets east metropolitan museum art</td>\n",
              "      <td>art</td>\n",
              "      <td>tutorial</td>\n",
              "    </tr>\n",
              "    <tr>\n",
              "      <th>2056</th>\n",
              "      <td>top wearable fashion trends style</td>\n",
              "      <td>fashion</td>\n",
              "      <td>science</td>\n",
              "    </tr>\n",
              "    <tr>\n",
              "      <th>7239</th>\n",
              "      <td>day life famous food blogger</td>\n",
              "      <td>food</td>\n",
              "      <td>vlog</td>\n",
              "    </tr>\n",
              "    <tr>\n",
              "      <th>7217</th>\n",
              "      <td>bengena pitika assam india best indian food blog</td>\n",
              "      <td>food</td>\n",
              "      <td>vlog</td>\n",
              "    </tr>\n",
              "  </tbody>\n",
              "</table>\n",
              "</div>"
            ],
            "text/plain": [
              "                                                  title  ... Category_Predicted\n",
              "4394  bad hair cast talks making horror movie killer...  ...            fashion\n",
              "5746      china west meets east metropolitan museum art  ...           tutorial\n",
              "2056                  top wearable fashion trends style  ...            science\n",
              "7239                       day life famous food blogger  ...               vlog\n",
              "7217   bengena pitika assam india best indian food blog  ...               vlog\n",
              "\n",
              "[5 rows x 3 columns]"
            ]
          },
          "metadata": {
            "tags": []
          },
          "execution_count": 34
        }
      ]
    },
    {
      "cell_type": "code",
      "metadata": {
        "id": "B6mBqpB_Rq7S",
        "colab_type": "code",
        "colab": {}
      },
      "source": [
        "def output_article(row_article):\n",
        "    print('Actual Category: %s' %(row_article['category']))\n",
        "    print('Predicted Category: %s' %(row_article['Category_Predicted']))\n",
        "    print('-------------------------------------------')\n",
        "    print('Text: ')\n",
        "    print('%s' %(row_article['title']))"
      ],
      "execution_count": 0,
      "outputs": []
    },
    {
      "cell_type": "code",
      "metadata": {
        "id": "JObo-0GeRvfN",
        "colab_type": "code",
        "outputId": "ee6267c7-b579-4aa8-8fed-00f39dc98d94",
        "colab": {
          "base_uri": "https://localhost:8080/",
          "height": 34
        }
      },
      "source": [
        "import random\n",
        "random.seed(18)\n",
        "list_samples = random.sample(list(df_misclassified.index), 3)\n",
        "list_samples"
      ],
      "execution_count": 0,
      "outputs": [
        {
          "output_type": "execute_result",
          "data": {
            "text/plain": [
              "[9617, 5808, 5540]"
            ]
          },
          "metadata": {
            "tags": []
          },
          "execution_count": 36
        }
      ]
    },
    {
      "cell_type": "code",
      "metadata": {
        "id": "46INlIMMRzZP",
        "colab_type": "code",
        "outputId": "67de2290-5991-440d-e21e-b65ec66853a3",
        "colab": {
          "base_uri": "https://localhost:8080/",
          "height": 101
        }
      },
      "source": [
        "output_article(df_misclassified.loc[list_samples[0]])"
      ],
      "execution_count": 0,
      "outputs": [
        {
          "output_type": "stream",
          "text": [
            "Actual Category: art\n",
            "Predicted Category: tutorial\n",
            "-------------------------------------------\n",
            "Text: \n",
            "fun diy projects valentine day\n"
          ],
          "name": "stdout"
        }
      ]
    },
    {
      "cell_type": "code",
      "metadata": {
        "id": "0j0lyLwKR6j9",
        "colab_type": "code",
        "outputId": "e7d42458-2144-483a-fe42-0101734087a0",
        "colab": {
          "base_uri": "https://localhost:8080/",
          "height": 101
        }
      },
      "source": [
        "output_article(df_misclassified.loc[list_samples[1]])"
      ],
      "execution_count": 0,
      "outputs": [
        {
          "output_type": "stream",
          "text": [
            "Actual Category: art\n",
            "Predicted Category: tutorial\n",
            "-------------------------------------------\n",
            "Text: \n",
            "rage master full martial arts movie\n"
          ],
          "name": "stdout"
        }
      ]
    },
    {
      "cell_type": "code",
      "metadata": {
        "id": "kiFrN5RFSAxI",
        "colab_type": "code",
        "outputId": "9e5a8001-fc4e-4747-8c9f-ba2d3b919d64",
        "colab": {
          "base_uri": "https://localhost:8080/",
          "height": 34
        }
      },
      "source": [
        "1056, 9019, 3433"
      ],
      "execution_count": 0,
      "outputs": [
        {
          "output_type": "execute_result",
          "data": {
            "text/plain": [
              "(1056, 9019, 3433)"
            ]
          },
          "metadata": {
            "tags": []
          },
          "execution_count": 39
        }
      ]
    },
    {
      "cell_type": "code",
      "metadata": {
        "id": "sqT4pyjhSIGC",
        "colab_type": "code",
        "outputId": "db18b52b-7a9f-46f1-8bbf-a68b3831dd55",
        "colab": {
          "base_uri": "https://localhost:8080/",
          "height": 101
        }
      },
      "source": [
        "output_article(df_misclassified.loc[3433])"
      ],
      "execution_count": 0,
      "outputs": [
        {
          "output_type": "stream",
          "text": [
            "Actual Category: travel\n",
            "Predicted Category: movies\n",
            "-------------------------------------------\n",
            "Text: \n",
            "travel tourism stocks dive virus woes hk resumes trading\n"
          ],
          "name": "stdout"
        }
      ]
    },
    {
      "cell_type": "code",
      "metadata": {
        "id": "0d4IsxQLSLx2",
        "colab_type": "code",
        "colab": {}
      },
      "source": [
        "def show_most_informative_features(vectorizer, clf, n=20):\n",
        "    feature_names = vectorizer.get_feature_names()\n",
        "    coefs_with_fns = sorted(zip(clf.coef_[0], feature_names))\n",
        "    top = zip(coefs_with_fns[:n], coefs_with_fns[:-(n + 1):-1])\n",
        "    for (coef_1, fn_1), (coef_2, fn_2) in top:\n",
        "        print (\"\\t%.4f\\t%-15s\\t\\t%.4f\\t%-15s\" % (coef_1, fn_1, coef_2, fn_2))"
      ],
      "execution_count": 0,
      "outputs": []
    },
    {
      "cell_type": "code",
      "metadata": {
        "id": "azk6abFJYS1s",
        "colab_type": "code",
        "colab": {}
      },
      "source": [
        ""
      ],
      "execution_count": 0,
      "outputs": []
    },
    {
      "cell_type": "code",
      "metadata": {
        "id": "HpxWTtqmUmWm",
        "colab_type": "code",
        "outputId": "f79d4525-2fbd-4595-8f75-bda0555a65f8",
        "colab": {
          "base_uri": "https://localhost:8080/",
          "height": 229
        }
      },
      "source": [
        "N = 2\n",
        "for category, categoryid in sorted(category_names):\n",
        "  indices = np.argsort(model.coef_[categoryid])\n",
        "  feature_names = np.array(count_vect.get_feature_names())[indices]\n",
        "  unigrams = [v for v in reversed(feature_names) if len(v.split(' ')) == 1][:N]\n",
        "  bigrams = [v for v in reversed(feature_names) if len(v.split(' ')) == 2][:N]\n",
        "  print(\"# '{}':\".format(Product))\n",
        "  print(\"  . Top unigrams:\\n       . {}\".format('\\n       . '.join(unigrams)))\n",
        "  print(\"  . Top bigrams:\\n       . {}\".format('\\n       . '.join(bigrams)))"
      ],
      "execution_count": 0,
      "outputs": [
        {
          "output_type": "error",
          "ename": "TypeError",
          "evalue": "ignored",
          "traceback": [
            "\u001b[0;31m---------------------------------------------------------------------------\u001b[0m",
            "\u001b[0;31mTypeError\u001b[0m                                 Traceback (most recent call last)",
            "\u001b[0;32m<ipython-input-53-de0d1c06fc64>\u001b[0m in \u001b[0;36m<module>\u001b[0;34m()\u001b[0m\n\u001b[1;32m      1\u001b[0m \u001b[0mN\u001b[0m \u001b[0;34m=\u001b[0m \u001b[0;36m2\u001b[0m\u001b[0;34m\u001b[0m\u001b[0;34m\u001b[0m\u001b[0m\n\u001b[0;32m----> 2\u001b[0;31m \u001b[0;32mfor\u001b[0m \u001b[0mcategory\u001b[0m\u001b[0;34m,\u001b[0m \u001b[0mcategoryid\u001b[0m \u001b[0;32min\u001b[0m \u001b[0msorted\u001b[0m\u001b[0;34m(\u001b[0m\u001b[0mcategory_names\u001b[0m\u001b[0;34m)\u001b[0m\u001b[0;34m:\u001b[0m\u001b[0;34m\u001b[0m\u001b[0;34m\u001b[0m\u001b[0m\n\u001b[0m\u001b[1;32m      3\u001b[0m   \u001b[0mindices\u001b[0m \u001b[0;34m=\u001b[0m \u001b[0mnp\u001b[0m\u001b[0;34m.\u001b[0m\u001b[0margsort\u001b[0m\u001b[0;34m(\u001b[0m\u001b[0mmodel\u001b[0m\u001b[0;34m.\u001b[0m\u001b[0mcoef_\u001b[0m\u001b[0;34m[\u001b[0m\u001b[0mcategoryid\u001b[0m\u001b[0;34m]\u001b[0m\u001b[0;34m)\u001b[0m\u001b[0;34m\u001b[0m\u001b[0;34m\u001b[0m\u001b[0m\n\u001b[1;32m      4\u001b[0m   \u001b[0mfeature_names\u001b[0m \u001b[0;34m=\u001b[0m \u001b[0mnp\u001b[0m\u001b[0;34m.\u001b[0m\u001b[0marray\u001b[0m\u001b[0;34m(\u001b[0m\u001b[0mcount_vect\u001b[0m\u001b[0;34m.\u001b[0m\u001b[0mget_feature_names\u001b[0m\u001b[0;34m(\u001b[0m\u001b[0;34m)\u001b[0m\u001b[0;34m)\u001b[0m\u001b[0;34m[\u001b[0m\u001b[0mindices\u001b[0m\u001b[0;34m]\u001b[0m\u001b[0;34m\u001b[0m\u001b[0;34m\u001b[0m\u001b[0m\n\u001b[1;32m      5\u001b[0m   \u001b[0munigrams\u001b[0m \u001b[0;34m=\u001b[0m \u001b[0;34m[\u001b[0m\u001b[0mv\u001b[0m \u001b[0;32mfor\u001b[0m \u001b[0mv\u001b[0m \u001b[0;32min\u001b[0m \u001b[0mreversed\u001b[0m\u001b[0;34m(\u001b[0m\u001b[0mfeature_names\u001b[0m\u001b[0;34m)\u001b[0m \u001b[0;32mif\u001b[0m \u001b[0mlen\u001b[0m\u001b[0;34m(\u001b[0m\u001b[0mv\u001b[0m\u001b[0;34m.\u001b[0m\u001b[0msplit\u001b[0m\u001b[0;34m(\u001b[0m\u001b[0;34m' '\u001b[0m\u001b[0;34m)\u001b[0m\u001b[0;34m)\u001b[0m \u001b[0;34m==\u001b[0m \u001b[0;36m1\u001b[0m\u001b[0;34m]\u001b[0m\u001b[0;34m[\u001b[0m\u001b[0;34m:\u001b[0m\u001b[0mN\u001b[0m\u001b[0;34m]\u001b[0m\u001b[0;34m\u001b[0m\u001b[0;34m\u001b[0m\u001b[0m\n",
            "\u001b[0;31mTypeError\u001b[0m: 'int' object is not iterable"
          ]
        }
      ]
    },
    {
      "cell_type": "code",
      "metadata": {
        "id": "1b0xAEqIU0yB",
        "colab_type": "code",
        "outputId": "6095844d-11d6-44ee-be1e-83237a2d6f72",
        "colab": {
          "base_uri": "https://localhost:8080/",
          "height": 262
        }
      },
      "source": [
        "df.head()"
      ],
      "execution_count": 0,
      "outputs": [
        {
          "output_type": "execute_result",
          "data": {
            "text/html": [
              "<div>\n",
              "<style scoped>\n",
              "    .dataframe tbody tr th:only-of-type {\n",
              "        vertical-align: middle;\n",
              "    }\n",
              "\n",
              "    .dataframe tbody tr th {\n",
              "        vertical-align: top;\n",
              "    }\n",
              "\n",
              "    .dataframe thead th {\n",
              "        text-align: right;\n",
              "    }\n",
              "</style>\n",
              "<table border=\"1\" class=\"dataframe\">\n",
              "  <thead>\n",
              "    <tr style=\"text-align: right;\">\n",
              "      <th></th>\n",
              "      <th>video_id</th>\n",
              "      <th>title</th>\n",
              "      <th>description</th>\n",
              "      <th>category</th>\n",
              "      <th>categoryid</th>\n",
              "    </tr>\n",
              "  </thead>\n",
              "  <tbody>\n",
              "    <tr>\n",
              "      <th>0</th>\n",
              "      <td>https://www.youtube.com/watch?v=J8XJjkA5NuQ</td>\n",
              "      <td>dr p j abdul kalam lecture series iit bombay</td>\n",
              "      <td>techfest iit bombay presents dr p j abdul kala...</td>\n",
              "      <td>tutorial</td>\n",
              "      <td>8</td>\n",
              "    </tr>\n",
              "    <tr>\n",
              "      <th>1</th>\n",
              "      <td>https://www.youtube.com/watch?v=C31hcftHBIk</td>\n",
              "      <td>lecture laa ke nachhatar gill full video song ...</td>\n",
              "      <td>angel records presents new punjabi song lectur...</td>\n",
              "      <td>tutorial</td>\n",
              "      <td>8</td>\n",
              "    </tr>\n",
              "    <tr>\n",
              "      <th>2</th>\n",
              "      <td>https://www.youtube.com/watch?v=Xn7KWR9EOGQ</td>\n",
              "      <td>basics stock market beginners lecture ca racha...</td>\n",
              "      <td>get lectures new website opportunity learn con...</td>\n",
              "      <td>tutorial</td>\n",
              "      <td>8</td>\n",
              "    </tr>\n",
              "    <tr>\n",
              "      <th>3</th>\n",
              "      <td>https://www.youtube.com/watch?v=FPaByTt1Yws</td>\n",
              "      <td>musique classique pour la lecture de mozart ch...</td>\n",
              "      <td>musique classique pour la lecture de mozart ch...</td>\n",
              "      <td>tutorial</td>\n",
              "      <td>8</td>\n",
              "    </tr>\n",
              "    <tr>\n",
              "      <th>4</th>\n",
              "      <td>https://www.youtube.com/watch?v=ViyG77Bca4I</td>\n",
              "      <td>pte retell lecture january february predicted ...</td>\n",
              "      <td>practice session covers pte retell lecture rea...</td>\n",
              "      <td>tutorial</td>\n",
              "      <td>8</td>\n",
              "    </tr>\n",
              "  </tbody>\n",
              "</table>\n",
              "</div>"
            ],
            "text/plain": [
              "                                      video_id  ... categoryid\n",
              "0  https://www.youtube.com/watch?v=J8XJjkA5NuQ  ...          8\n",
              "1  https://www.youtube.com/watch?v=C31hcftHBIk  ...          8\n",
              "2  https://www.youtube.com/watch?v=Xn7KWR9EOGQ  ...          8\n",
              "3  https://www.youtube.com/watch?v=FPaByTt1Yws  ...          8\n",
              "4  https://www.youtube.com/watch?v=ViyG77Bca4I  ...          8\n",
              "\n",
              "[5 rows x 5 columns]"
            ]
          },
          "metadata": {
            "tags": []
          },
          "execution_count": 46
        }
      ]
    },
    {
      "cell_type": "code",
      "metadata": {
        "id": "N00FXTo7Webt",
        "colab_type": "code",
        "outputId": "c6ac5aa2-f16a-4020-b804-11fbdc4574be",
        "colab": {
          "base_uri": "https://localhost:8080/",
          "height": 34
        }
      },
      "source": [
        "category_code"
      ],
      "execution_count": 0,
      "outputs": [
        {
          "output_type": "execute_result",
          "data": {
            "text/plain": [
              "array([8, 6, 9, 2, 1, 7, 5, 4, 3, 0])"
            ]
          },
          "metadata": {
            "tags": []
          },
          "execution_count": 49
        }
      ]
    },
    {
      "cell_type": "code",
      "metadata": {
        "id": "Nbb5vOlDWsAM",
        "colab_type": "code",
        "colab": {}
      },
      "source": [
        ""
      ],
      "execution_count": 0,
      "outputs": []
    }
  ]
}